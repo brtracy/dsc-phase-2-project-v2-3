{
 "cells": [
  {
   "cell_type": "markdown",
   "id": "02649626",
   "metadata": {
    "heading_collapsed": true
   },
   "source": [
    "# Import and clean nulls"
   ]
  },
  {
   "cell_type": "code",
   "execution_count": 1,
   "id": "dfe48b76",
   "metadata": {
    "hidden": true
   },
   "outputs": [
    {
     "name": "stdout",
     "output_type": "stream",
     "text": [
      "<class 'pandas.core.frame.DataFrame'>\n",
      "RangeIndex: 21597 entries, 0 to 21596\n",
      "Data columns (total 21 columns):\n",
      " #   Column         Non-Null Count  Dtype  \n",
      "---  ------         --------------  -----  \n",
      " 0   id             21597 non-null  int64  \n",
      " 1   date           21597 non-null  object \n",
      " 2   price          21597 non-null  float64\n",
      " 3   bedrooms       21597 non-null  int64  \n",
      " 4   bathrooms      21597 non-null  float64\n",
      " 5   sqft_living    21597 non-null  int64  \n",
      " 6   sqft_lot       21597 non-null  int64  \n",
      " 7   floors         21597 non-null  float64\n",
      " 8   waterfront     19221 non-null  object \n",
      " 9   view           21534 non-null  object \n",
      " 10  condition      21597 non-null  object \n",
      " 11  grade          21597 non-null  object \n",
      " 12  sqft_above     21597 non-null  int64  \n",
      " 13  sqft_basement  21597 non-null  object \n",
      " 14  yr_built       21597 non-null  int64  \n",
      " 15  yr_renovated   17755 non-null  float64\n",
      " 16  zipcode        21597 non-null  int64  \n",
      " 17  lat            21597 non-null  float64\n",
      " 18  long           21597 non-null  float64\n",
      " 19  sqft_living15  21597 non-null  int64  \n",
      " 20  sqft_lot15     21597 non-null  int64  \n",
      "dtypes: float64(6), int64(9), object(6)\n",
      "memory usage: 3.5+ MB\n"
     ]
    }
   ],
   "source": [
    "import pandas as pd\n",
    "import numpy as np\n",
    "import seaborn as sns\n",
    "import matplotlib.pyplot as plt\n",
    "%matplotlib inline\n",
    "\n",
    "from sklearn.linear_model import LinearRegression\n",
    "from sklearn.model_selection import train_test_split\n",
    "\n",
    "raw_data = pd.read_csv('data\\kc_house_data.csv')\n",
    "raw_data.info()"
   ]
  },
  {
   "cell_type": "code",
   "execution_count": 2,
   "id": "7654f6bf",
   "metadata": {
    "hidden": true
   },
   "outputs": [],
   "source": [
    "df = raw_data.copy()\n",
    "df['yr_renovated'].fillna(0.0, inplace=True)\n",
    "df['view'].fillna('NONE', inplace=True)\n",
    "df['waterfront'].fillna('NO', inplace=True)"
   ]
  },
  {
   "cell_type": "code",
   "execution_count": 3,
   "id": "9452df93",
   "metadata": {
    "hidden": true
   },
   "outputs": [
    {
     "name": "stdout",
     "output_type": "stream",
     "text": [
      "<class 'pandas.core.frame.DataFrame'>\n",
      "RangeIndex: 21597 entries, 0 to 21596\n",
      "Data columns (total 21 columns):\n",
      " #   Column         Non-Null Count  Dtype  \n",
      "---  ------         --------------  -----  \n",
      " 0   id             21597 non-null  int64  \n",
      " 1   date           21597 non-null  object \n",
      " 2   price          21597 non-null  float64\n",
      " 3   bedrooms       21597 non-null  int64  \n",
      " 4   bathrooms      21597 non-null  float64\n",
      " 5   sqft_living    21597 non-null  int64  \n",
      " 6   sqft_lot       21597 non-null  int64  \n",
      " 7   floors         21597 non-null  float64\n",
      " 8   waterfront     21597 non-null  object \n",
      " 9   view           21597 non-null  object \n",
      " 10  condition      21597 non-null  object \n",
      " 11  grade          21597 non-null  object \n",
      " 12  sqft_above     21597 non-null  int64  \n",
      " 13  sqft_basement  21597 non-null  object \n",
      " 14  yr_built       21597 non-null  int64  \n",
      " 15  yr_renovated   21597 non-null  float64\n",
      " 16  zipcode        21597 non-null  int64  \n",
      " 17  lat            21597 non-null  float64\n",
      " 18  long           21597 non-null  float64\n",
      " 19  sqft_living15  21597 non-null  int64  \n",
      " 20  sqft_lot15     21597 non-null  int64  \n",
      "dtypes: float64(6), int64(9), object(6)\n",
      "memory usage: 3.5+ MB\n"
     ]
    }
   ],
   "source": [
    "df.info()"
   ]
  },
  {
   "cell_type": "markdown",
   "id": "916dcdd4",
   "metadata": {},
   "source": [
    "# Investigating each feature"
   ]
  },
  {
   "cell_type": "code",
   "execution_count": 4,
   "id": "822ccd8e",
   "metadata": {},
   "outputs": [
    {
     "name": "stdout",
     "output_type": "stream",
     "text": [
      "<class 'pandas.core.frame.DataFrame'>\n",
      "RangeIndex: 21597 entries, 0 to 21596\n",
      "Data columns (total 21 columns):\n",
      " #   Column         Non-Null Count  Dtype  \n",
      "---  ------         --------------  -----  \n",
      " 0   id             21597 non-null  int64  \n",
      " 1   date           21597 non-null  object \n",
      " 2   price          21597 non-null  float64\n",
      " 3   bedrooms       21597 non-null  int64  \n",
      " 4   bathrooms      21597 non-null  float64\n",
      " 5   sqft_living    21597 non-null  int64  \n",
      " 6   sqft_lot       21597 non-null  int64  \n",
      " 7   floors         21597 non-null  float64\n",
      " 8   waterfront     21597 non-null  object \n",
      " 9   view           21597 non-null  object \n",
      " 10  condition      21597 non-null  object \n",
      " 11  grade          21597 non-null  object \n",
      " 12  sqft_above     21597 non-null  int64  \n",
      " 13  sqft_basement  21597 non-null  object \n",
      " 14  yr_built       21597 non-null  int64  \n",
      " 15  yr_renovated   21597 non-null  float64\n",
      " 16  zipcode        21597 non-null  int64  \n",
      " 17  lat            21597 non-null  float64\n",
      " 18  long           21597 non-null  float64\n",
      " 19  sqft_living15  21597 non-null  int64  \n",
      " 20  sqft_lot15     21597 non-null  int64  \n",
      "dtypes: float64(6), int64(9), object(6)\n",
      "memory usage: 3.5+ MB\n"
     ]
    }
   ],
   "source": [
    "df.info()"
   ]
  },
  {
   "cell_type": "markdown",
   "id": "73323054",
   "metadata": {},
   "source": [
    "## 'id'"
   ]
  },
  {
   "cell_type": "markdown",
   "id": "c4ec76c0",
   "metadata": {},
   "source": [
    "Dropping the 'id' column, this is a unique identifier that we will not be using in any analysis/modeling."
   ]
  },
  {
   "cell_type": "code",
   "execution_count": 5,
   "id": "50513068",
   "metadata": {},
   "outputs": [],
   "source": [
    "df.drop(['id'], axis=1, inplace=True)"
   ]
  },
  {
   "cell_type": "markdown",
   "id": "69fb90c8",
   "metadata": {
    "heading_collapsed": true
   },
   "source": [
    "## 'date'"
   ]
  },
  {
   "cell_type": "markdown",
   "id": "a6f51dd9",
   "metadata": {
    "hidden": true
   },
   "source": [
    "First we will convert the column to a datetime object"
   ]
  },
  {
   "cell_type": "code",
   "execution_count": 6,
   "id": "7875f841",
   "metadata": {
    "hidden": true
   },
   "outputs": [],
   "source": [
    "df.date = pd.to_datetime(df.date)"
   ]
  },
  {
   "cell_type": "code",
   "execution_count": 25,
   "id": "dff44e78",
   "metadata": {
    "hidden": true
   },
   "outputs": [
    {
     "data": {
      "text/plain": [
       "count                            21597\n",
       "mean     2014-10-29 04:20:38.171968512\n",
       "min                2014-05-02 00:00:00\n",
       "25%                2014-07-22 00:00:00\n",
       "50%                2014-10-16 00:00:00\n",
       "75%                2015-02-17 00:00:00\n",
       "max                2015-05-27 00:00:00\n",
       "Name: date, dtype: object"
      ]
     },
     "execution_count": 25,
     "metadata": {},
     "output_type": "execute_result"
    }
   ],
   "source": [
    "df.date.describe(datetime_is_numeric=True)"
   ]
  },
  {
   "cell_type": "markdown",
   "id": "bb1d1ab3",
   "metadata": {
    "hidden": true
   },
   "source": [
    "The sale dates range from 5/2/2014 to 5/27/2015.\n",
    "\n",
    "Having this feature as a datetime object will allow for additional feature engineering later on."
   ]
  },
  {
   "cell_type": "markdown",
   "id": "fb67ceae",
   "metadata": {
    "heading_collapsed": true
   },
   "source": [
    "## 'price'"
   ]
  },
  {
   "cell_type": "code",
   "execution_count": 26,
   "id": "cc008481",
   "metadata": {
    "hidden": true,
    "scrolled": false
   },
   "outputs": [
    {
     "data": {
      "text/plain": [
       "count      21597.0\n",
       "mean      540297.0\n",
       "std       367368.0\n",
       "min        78000.0\n",
       "25%       322000.0\n",
       "50%       450000.0\n",
       "75%       645000.0\n",
       "max      7700000.0\n",
       "Name: price, dtype: float64"
      ]
     },
     "execution_count": 26,
     "metadata": {},
     "output_type": "execute_result"
    }
   ],
   "source": [
    "df.price.describe().round()"
   ]
  },
  {
   "cell_type": "code",
   "execution_count": 66,
   "id": "ba881ad4",
   "metadata": {
    "hidden": true
   },
   "outputs": [
    {
     "data": {
      "image/png": "[encoded data removed]",
      "text/plain": [
       "<Figure size 432x288 with 1 Axes>"
      ]
     },
     "metadata": {
      "needs_background": "light"
     },
     "output_type": "display_data"
    }
   ],
   "source": [
    "sns.histplot(data=df, x='price', bins=50);"
   ]
  },
  {
   "cell_type": "code",
   "execution_count": 65,
   "id": "fef656c9",
   "metadata": {
    "hidden": true
   },
   "outputs": [
    {
     "data": {
      "image/png": "[encoded data removed]",
      "text/plain": [
       "<Figure size 432x288 with 1 Axes>"
      ]
     },
     "metadata": {
      "needs_background": "light"
     },
     "output_type": "display_data"
    }
   ],
   "source": [
    "sns.boxplot(data=df, x='price');"
   ]
  },
  {
   "cell_type": "markdown",
   "id": "03671f25",
   "metadata": {
    "hidden": true
   },
   "source": [
    "The price data is heavily right skewed. Our average home price is \\\\$540k, it looks like lots of homes sell for under \\\\$100k. But there are enough homes that sell for over \\\\$500k to push the average up.\n",
    "\n",
    "> We may need to consider scaling and normalizing later?"
   ]
  },
  {
   "cell_type": "markdown",
   "id": "6308eca2",
   "metadata": {
    "heading_collapsed": true
   },
   "source": [
    "## 'bedrooms'"
   ]
  },
  {
   "cell_type": "code",
   "execution_count": 29,
   "id": "ce2646be",
   "metadata": {
    "hidden": true
   },
   "outputs": [
    {
     "data": {
      "text/plain": [
       "count    21597.000000\n",
       "mean         3.373200\n",
       "std          0.926299\n",
       "min          1.000000\n",
       "25%          3.000000\n",
       "50%          3.000000\n",
       "75%          4.000000\n",
       "max         33.000000\n",
       "Name: bedrooms, dtype: float64"
      ]
     },
     "execution_count": 29,
     "metadata": {},
     "output_type": "execute_result"
    }
   ],
   "source": [
    "df.bedrooms.describe()"
   ]
  },
  {
   "cell_type": "code",
   "execution_count": 31,
   "id": "5b0f403c",
   "metadata": {
    "hidden": true
   },
   "outputs": [
    {
     "data": {
      "text/plain": [
       "<AxesSubplot:xlabel='bedrooms', ylabel='price'>"
      ]
     },
     "execution_count": 31,
     "metadata": {},
     "output_type": "execute_result"
    },
    {
     "data": {
      "image/png": "[encoded data removed]",
      "text/plain": [
       "<Figure size 432x288 with 1 Axes>"
      ]
     },
     "metadata": {
      "needs_background": "light"
     },
     "output_type": "display_data"
    }
   ],
   "source": [
    "sns.scatterplot(data=df, x='bedrooms', y='price')"
   ]
  },
  {
   "cell_type": "code",
   "execution_count": 32,
   "id": "3026f5c3",
   "metadata": {
    "hidden": true
   },
   "outputs": [
    {
     "data": {
      "text/plain": [
       "3     9824\n",
       "4     6882\n",
       "2     2760\n",
       "5     1601\n",
       "6      272\n",
       "1      196\n",
       "7       38\n",
       "8       13\n",
       "9        6\n",
       "10       3\n",
       "33       1\n",
       "11       1\n",
       "Name: bedrooms, dtype: int64"
      ]
     },
     "execution_count": 32,
     "metadata": {},
     "output_type": "execute_result"
    }
   ],
   "source": [
    "df.bedrooms.value_counts()"
   ]
  },
  {
   "cell_type": "markdown",
   "id": "690d2bbf",
   "metadata": {
    "hidden": true
   },
   "source": [
    "The vast majority of homes are 5 bedrooms and under. We have one outlier, some mansion that has 33 rooms, that we may consider removing later on. We will leave the feature alone for now but investigate how to adjust it for modeling later."
   ]
  },
  {
   "cell_type": "markdown",
   "id": "2dcf9415",
   "metadata": {
    "heading_collapsed": true
   },
   "source": [
    "## 'bathrooms'"
   ]
  },
  {
   "cell_type": "code",
   "execution_count": 33,
   "id": "c996f84e",
   "metadata": {
    "hidden": true,
    "scrolled": true
   },
   "outputs": [
    {
     "data": {
      "text/plain": [
       "count    21597.000000\n",
       "mean         2.115826\n",
       "std          0.768984\n",
       "min          0.500000\n",
       "25%          1.750000\n",
       "50%          2.250000\n",
       "75%          2.500000\n",
       "max          8.000000\n",
       "Name: bathrooms, dtype: float64"
      ]
     },
     "execution_count": 33,
     "metadata": {},
     "output_type": "execute_result"
    }
   ],
   "source": [
    "df.bathrooms.describe()"
   ]
  },
  {
   "cell_type": "code",
   "execution_count": 35,
   "id": "3f097d08",
   "metadata": {
    "hidden": true
   },
   "outputs": [
    {
     "data": {
      "image/png": "[encoded data removed]",
      "text/plain": [
       "<Figure size 432x288 with 1 Axes>"
      ]
     },
     "metadata": {
      "needs_background": "light"
     },
     "output_type": "display_data"
    }
   ],
   "source": [
    "sns.scatterplot(data=df, x='bathrooms', y='price');"
   ]
  },
  {
   "cell_type": "code",
   "execution_count": 42,
   "id": "c4945b2a",
   "metadata": {
    "hidden": true
   },
   "outputs": [],
   "source": [
    "bathroom_values = df.bathrooms.index"
   ]
  },
  {
   "cell_type": "code",
   "execution_count": 47,
   "id": "acedb431",
   "metadata": {
    "hidden": true
   },
   "outputs": [
    {
     "data": {
      "text/plain": [
       "2.50    5377\n",
       "1.00    3851\n",
       "1.75    3048\n",
       "2.25    2047\n",
       "2.00    1930\n",
       "1.50    1445\n",
       "2.75    1185\n",
       "3.00     753\n",
       "3.50     731\n",
       "3.25     589\n",
       "3.75     155\n",
       "4.00     136\n",
       "4.50     100\n",
       "4.25      79\n",
       "0.75      71\n",
       "4.75      23\n",
       "5.00      21\n",
       "5.25      13\n",
       "5.50      10\n",
       "1.25       9\n",
       "6.00       6\n",
       "5.75       4\n",
       "0.50       4\n",
       "6.25       2\n",
       "8.00       2\n",
       "6.75       2\n",
       "6.50       2\n",
       "7.75       1\n",
       "7.50       1\n",
       "Name: bathrooms, dtype: int64"
      ]
     },
     "execution_count": 47,
     "metadata": {},
     "output_type": "execute_result"
    }
   ],
   "source": [
    "df.bathrooms.value_counts(ascending=False)"
   ]
  },
  {
   "cell_type": "markdown",
   "id": "2ad50b53",
   "metadata": {
    "hidden": true
   },
   "source": [
    "This was very unexpected. \n",
    "\n",
    "After some research, learned that a bathroom is considered 'full' with 4 parts, each worth a quarter:\n",
    "- sink\n",
    "- toilet\n",
    "- shower\n",
    "- bathtub\n",
    "\n",
    "For now we will leave the column alone, but it may be worthwhile to look at binning this feature. What we cannot account for is what type of bathroom combination makes up the value for the home."
   ]
  },
  {
   "cell_type": "markdown",
   "id": "7d5849e7",
   "metadata": {
    "heading_collapsed": true
   },
   "source": [
    "## 'sqft_living'"
   ]
  },
  {
   "cell_type": "code",
   "execution_count": 49,
   "id": "34a1ded3",
   "metadata": {
    "hidden": true
   },
   "outputs": [
    {
     "data": {
      "text/plain": [
       "count    21597.000000\n",
       "mean      2080.321850\n",
       "std        918.106125\n",
       "min        370.000000\n",
       "25%       1430.000000\n",
       "50%       1910.000000\n",
       "75%       2550.000000\n",
       "max      13540.000000\n",
       "Name: sqft_living, dtype: float64"
      ]
     },
     "execution_count": 49,
     "metadata": {},
     "output_type": "execute_result"
    }
   ],
   "source": [
    "df.sqft_living.describe()"
   ]
  },
  {
   "cell_type": "code",
   "execution_count": 63,
   "id": "94c78db2",
   "metadata": {
    "hidden": true
   },
   "outputs": [
    {
     "data": {
      "image/png": "[encoded data removed]",
      "text/plain": [
       "<Figure size 432x288 with 1 Axes>"
      ]
     },
     "metadata": {
      "needs_background": "light"
     },
     "output_type": "display_data"
    }
   ],
   "source": [
    "sns.scatterplot(data=df, x='sqft_living', y='price', size=1, alpha=0.2);"
   ]
  },
  {
   "cell_type": "code",
   "execution_count": 58,
   "id": "b3f210ed",
   "metadata": {
    "hidden": true
   },
   "outputs": [
    {
     "data": {
      "image/png": "[encoded data removed]",
      "text/plain": [
       "<Figure size 432x288 with 1 Axes>"
      ]
     },
     "metadata": {
      "needs_background": "light"
     },
     "output_type": "display_data"
    }
   ],
   "source": [
    "sns.histplot(data=df, x='sqft_living', bins=30);"
   ]
  },
  {
   "cell_type": "code",
   "execution_count": 67,
   "id": "d3b0a681",
   "metadata": {
    "hidden": true
   },
   "outputs": [
    {
     "data": {
      "image/png": "[encoded data removed]",
      "text/plain": [
       "<Figure size 432x288 with 1 Axes>"
      ]
     },
     "metadata": {
      "needs_background": "light"
     },
     "output_type": "display_data"
    }
   ],
   "source": [
    "sns.boxplot(data=df, x='sqft_living');"
   ]
  },
  {
   "cell_type": "code",
   "execution_count": 96,
   "id": "88ff1e82",
   "metadata": {
    "hidden": true
   },
   "outputs": [
    {
     "data": {
      "text/plain": [
       "0.9637912673056444"
      ]
     },
     "execution_count": 96,
     "metadata": {},
     "output_type": "execute_result"
    }
   ],
   "source": [
    "len(df[df.sqft_living <= 4000])/len(df)"
   ]
  },
  {
   "cell_type": "markdown",
   "id": "46ab8e02",
   "metadata": {
    "hidden": true
   },
   "source": [
    "57% of homes are have below the average of 2,080 ft$^{2}$.\n",
    "\n",
    "96% of home have below 4,000 ft$^{2}$.\n",
    "\n",
    "The vast majority of our sqft_living data is grouped under 4,000 ft$^{2}$. There are some large homes out there, but our mean and median are pretty close (2,080 vs 1,910). The data looks normal except for the right skewedness.\n",
    "\n",
    "\n",
    "Again, suspect that we have a handful of mansions in our dataset. Initial modeling we will leave them in, but we may consider removing those larger homes as they may affect the model."
   ]
  },
  {
   "cell_type": "markdown",
   "id": "16140cff",
   "metadata": {
    "heading_collapsed": true
   },
   "source": [
    "## 'sqft_lot'"
   ]
  },
  {
   "cell_type": "code",
   "execution_count": 75,
   "id": "5059a1da",
   "metadata": {
    "hidden": true
   },
   "outputs": [
    {
     "data": {
      "text/plain": [
       "count      21597.0\n",
       "mean       15099.0\n",
       "std        41413.0\n",
       "min          520.0\n",
       "25%         5040.0\n",
       "50%         7618.0\n",
       "75%        10685.0\n",
       "max      1651359.0\n",
       "Name: sqft_lot, dtype: float64"
      ]
     },
     "execution_count": 75,
     "metadata": {},
     "output_type": "execute_result"
    }
   ],
   "source": [
    "df.sqft_lot.describe().round()"
   ]
  },
  {
   "cell_type": "code",
   "execution_count": 83,
   "id": "90ecfbf9",
   "metadata": {
    "hidden": true,
    "scrolled": true
   },
   "outputs": [
    {
     "data": {
      "image/png": "[encoded data removed]",
      "text/plain": [
       "<Figure size 432x288 with 1 Axes>"
      ]
     },
     "metadata": {
      "needs_background": "light"
     },
     "output_type": "display_data"
    }
   ],
   "source": [
    "sns.scatterplot(data=df, x='sqft_lot', y='price', size=1, alpha=0.2)\n",
    "\n",
    "plt.axvline(x=df.sqft_lot.mean(), color='red', ls='--', lw=3)\n",
    "\n",
    "plt.ticklabel_format(style='plain', axis='x',useOffset=False);"
   ]
  },
  {
   "cell_type": "markdown",
   "id": "06c7bd12",
   "metadata": {
    "hidden": true
   },
   "source": [
    "Three quarters of our data on sqft_lot is under 10,000 ft$^{2}$, the average lot is only about 15,000 ft$^{2}$.\n",
    "\n",
    "The large lot sizes are enormously large in comparison, and that may be fouling up our model later. This is another feature we may need to scale/normalize later on."
   ]
  },
  {
   "cell_type": "code",
   "execution_count": 85,
   "id": "d38cb1c6",
   "metadata": {
    "hidden": true,
    "scrolled": true
   },
   "outputs": [
    {
     "data": {
      "text/plain": [
       "0.3466253443526171"
      ]
     },
     "execution_count": 85,
     "metadata": {},
     "output_type": "execute_result"
    }
   ],
   "source": [
    "# sqft is easy to estimate for inside home size, but more difficult to get a\n",
    "# sense for. If we later want to conver to acres, divide sqft by 43560\n",
    "15099 / 43560\n",
    "\n",
    "# our average lot size is 15,099 sqft, which is .35 acres"
   ]
  },
  {
   "cell_type": "code",
   "execution_count": 95,
   "id": "8cb2f2e9",
   "metadata": {
    "hidden": true
   },
   "outputs": [
    {
     "data": {
      "text/plain": [
       "0.8519238783164328"
      ]
     },
     "execution_count": 95,
     "metadata": {},
     "output_type": "execute_result"
    }
   ],
   "source": [
    "len(df[df.sqft_lot < 15099])/len(df)"
   ]
  },
  {
   "cell_type": "markdown",
   "id": "98588343",
   "metadata": {
    "hidden": true
   },
   "source": [
    "85% of homes have a lot less than the average of 15,099 sqft. \n",
    "\n",
    "For now we are leaving everything in the baseline model, but this is a feature where we may want to cut out higher lots to more accurately predict the average home in King County."
   ]
  },
  {
   "cell_type": "markdown",
   "id": "e2ae50e1",
   "metadata": {
    "heading_collapsed": true
   },
   "source": [
    "## 'floors'"
   ]
  },
  {
   "cell_type": "code",
   "execution_count": 97,
   "id": "286fb42d",
   "metadata": {
    "hidden": true
   },
   "outputs": [
    {
     "data": {
      "text/plain": [
       "count    21597.000000\n",
       "mean         1.494096\n",
       "std          0.539683\n",
       "min          1.000000\n",
       "25%          1.000000\n",
       "50%          1.500000\n",
       "75%          2.000000\n",
       "max          3.500000\n",
       "Name: floors, dtype: float64"
      ]
     },
     "execution_count": 97,
     "metadata": {},
     "output_type": "execute_result"
    }
   ],
   "source": [
    "df.floors.describe()"
   ]
  },
  {
   "cell_type": "code",
   "execution_count": 98,
   "id": "c8e63d7e",
   "metadata": {
    "hidden": true
   },
   "outputs": [
    {
     "data": {
      "text/plain": [
       "<AxesSubplot:xlabel='floors', ylabel='Count'>"
      ]
     },
     "execution_count": 98,
     "metadata": {},
     "output_type": "execute_result"
    },
    {
     "data": {
      "image/png": "[encoded data removed]",
      "text/plain": [
       "<Figure size 432x288 with 1 Axes>"
      ]
     },
     "metadata": {
      "needs_background": "light"
     },
     "output_type": "display_data"
    }
   ],
   "source": [
    "sns.histplot(data=df, x='floors')"
   ]
  },
  {
   "cell_type": "markdown",
   "id": "3b5c38ad",
   "metadata": {
    "hidden": true
   },
   "source": [
    "A 1.5-storey house is a detached home that has a second floor that is about half the size of the main floor, but is off to one side.\n",
    "\n",
    "Most of our data is 1 or 2 floor homes, but we have some 1.5, 2.5, 3 and 3.5 in there too.\n",
    "\n",
    "This feature may experience multicollinearity with sqft_living, so we will check for that before a baseline model."
   ]
  },
  {
   "cell_type": "markdown",
   "id": "17cc1403",
   "metadata": {
    "heading_collapsed": true
   },
   "source": [
    "## 'waterfront'"
   ]
  },
  {
   "cell_type": "code",
   "execution_count": 100,
   "id": "ebf10c26",
   "metadata": {
    "hidden": true
   },
   "outputs": [
    {
     "data": {
      "text/plain": [
       "NO     21451\n",
       "YES      146\n",
       "Name: waterfront, dtype: int64"
      ]
     },
     "execution_count": 100,
     "metadata": {},
     "output_type": "execute_result"
    }
   ],
   "source": [
    "df.waterfront.value_counts()"
   ]
  },
  {
   "cell_type": "markdown",
   "id": "97ffcdee",
   "metadata": {
    "hidden": true
   },
   "source": [
    "This is a simple categorical, if the home is considered waterfront or not. We will have to convert this to a boolean feature to include it."
   ]
  },
  {
   "cell_type": "markdown",
   "id": "3681798a",
   "metadata": {
    "heading_collapsed": true
   },
   "source": [
    "## 'view'"
   ]
  },
  {
   "cell_type": "code",
   "execution_count": 102,
   "id": "d418639c",
   "metadata": {
    "hidden": true
   },
   "outputs": [
    {
     "data": {
      "text/plain": [
       "NONE         19485\n",
       "AVERAGE        957\n",
       "GOOD           508\n",
       "FAIR           330\n",
       "EXCELLENT      317\n",
       "Name: view, dtype: int64"
      ]
     },
     "execution_count": 102,
     "metadata": {},
     "output_type": "execute_result"
    }
   ],
   "source": [
    "df.view.value_counts()"
   ]
  },
  {
   "cell_type": "code",
   "execution_count": 103,
   "id": "956023fa",
   "metadata": {
    "hidden": true
   },
   "outputs": [
    {
     "data": {
      "text/plain": [
       "0.9022086400889012"
      ]
     },
     "execution_count": 103,
     "metadata": {},
     "output_type": "execute_result"
    }
   ],
   "source": [
    "len(df[df.view == 'NONE'])/len(df)"
   ]
  },
  {
   "cell_type": "markdown",
   "id": "d78e56ab",
   "metadata": {
    "hidden": true
   },
   "source": [
    "This is another categorical feature of the home.\n",
    "\n",
    "One option is onehotencoding this feature later, but 90% of this feature is 'NONE' so we may instead convert this to a boolean feature"
   ]
  },
  {
   "cell_type": "markdown",
   "id": "6ed35aeb",
   "metadata": {},
   "source": [
    "## 'condition'"
   ]
  },
  {
   "cell_type": "markdown",
   "id": "b5eec761",
   "metadata": {},
   "source": [
    "Documentation with the dataset explains this feature is the overall condition of the home relative to ongoing maintenance."
   ]
  },
  {
   "cell_type": "code",
   "execution_count": 104,
   "id": "2d502681",
   "metadata": {},
   "outputs": [
    {
     "data": {
      "text/plain": [
       "Average      14020\n",
       "Good          5677\n",
       "Very Good     1701\n",
       "Fair           170\n",
       "Poor            29\n",
       "Name: condition, dtype: int64"
      ]
     },
     "execution_count": 104,
     "metadata": {},
     "output_type": "execute_result"
    }
   ],
   "source": [
    "df.condition.value_counts()"
   ]
  },
  {
   "cell_type": "code",
   "execution_count": null,
   "id": "817fd5fc",
   "metadata": {},
   "outputs": [],
   "source": []
  },
  {
   "cell_type": "code",
   "execution_count": null,
   "id": "fb6aadc0",
   "metadata": {},
   "outputs": [],
   "source": []
  },
  {
   "cell_type": "code",
   "execution_count": null,
   "id": "50a02ae4",
   "metadata": {},
   "outputs": [],
   "source": []
  },
  {
   "cell_type": "code",
   "execution_count": null,
   "id": "eb41608a",
   "metadata": {},
   "outputs": [],
   "source": []
  },
  {
   "cell_type": "code",
   "execution_count": null,
   "id": "a76ada33",
   "metadata": {},
   "outputs": [],
   "source": []
  },
  {
   "cell_type": "markdown",
   "id": "f13b36f9",
   "metadata": {
    "heading_collapsed": true
   },
   "source": [
    "# Log scaling 'price' feature"
   ]
  },
  {
   "cell_type": "code",
   "execution_count": 7,
   "id": "85ff6e51",
   "metadata": {
    "hidden": true,
    "scrolled": true
   },
   "outputs": [
    {
     "data": {
      "text/plain": [
       "<AxesSubplot:xlabel='price', ylabel='Count'>"
      ]
     },
     "execution_count": 7,
     "metadata": {},
     "output_type": "execute_result"
    },
    {
     "data": {
      "image/png": "[encoded data removed]",
      "text/plain": [
       "<Figure size 432x288 with 1 Axes>"
      ]
     },
     "metadata": {
      "needs_background": "light"
     },
     "output_type": "display_data"
    }
   ],
   "source": []
  },
  {
   "cell_type": "code",
   "execution_count": 8,
   "id": "033b451c",
   "metadata": {
    "hidden": true
   },
   "outputs": [],
   "source": [
    "log_price = np.log(df.price)"
   ]
  },
  {
   "cell_type": "code",
   "execution_count": 9,
   "id": "bf941977",
   "metadata": {
    "hidden": true
   },
   "outputs": [
    {
     "data": {
      "text/plain": [
       "0        12.309982\n",
       "1        13.195614\n",
       "2        12.100712\n",
       "3        13.311329\n",
       "4        13.142166\n",
       "           ...    \n",
       "21592    12.793859\n",
       "21593    12.899220\n",
       "21594    12.904459\n",
       "21595    12.899220\n",
       "21596    12.691580\n",
       "Name: price, Length: 21597, dtype: float64"
      ]
     },
     "execution_count": 9,
     "metadata": {},
     "output_type": "execute_result"
    }
   ],
   "source": [
    "log_price"
   ]
  },
  {
   "cell_type": "code",
   "execution_count": 10,
   "id": "7b790ce8",
   "metadata": {
    "hidden": true
   },
   "outputs": [],
   "source": [
    "df_log = pd.DataFrame([])"
   ]
  },
  {
   "cell_type": "code",
   "execution_count": 11,
   "id": "ef4903bc",
   "metadata": {
    "hidden": true
   },
   "outputs": [],
   "source": [
    "df_log['log_price'] = np.log(df.price)"
   ]
  },
  {
   "cell_type": "code",
   "execution_count": 12,
   "id": "358b2eab",
   "metadata": {
    "hidden": true
   },
   "outputs": [
    {
     "data": {
      "text/html": [
       "<div>\n",
       "<style scoped>\n",
       "    .dataframe tbody tr th:only-of-type {\n",
       "        vertical-align: middle;\n",
       "    }\n",
       "\n",
       "    .dataframe tbody tr th {\n",
       "        vertical-align: top;\n",
       "    }\n",
       "\n",
       "    .dataframe thead th {\n",
       "        text-align: right;\n",
       "    }\n",
       "</style>\n",
       "<table border=\"1\" class=\"dataframe\">\n",
       "  <thead>\n",
       "    <tr style=\"text-align: right;\">\n",
       "      <th></th>\n",
       "      <th>log_price</th>\n",
       "    </tr>\n",
       "  </thead>\n",
       "  <tbody>\n",
       "    <tr>\n",
       "      <th>0</th>\n",
       "      <td>12.309982</td>\n",
       "    </tr>\n",
       "    <tr>\n",
       "      <th>1</th>\n",
       "      <td>13.195614</td>\n",
       "    </tr>\n",
       "    <tr>\n",
       "      <th>2</th>\n",
       "      <td>12.100712</td>\n",
       "    </tr>\n",
       "    <tr>\n",
       "      <th>3</th>\n",
       "      <td>13.311329</td>\n",
       "    </tr>\n",
       "    <tr>\n",
       "      <th>4</th>\n",
       "      <td>13.142166</td>\n",
       "    </tr>\n",
       "    <tr>\n",
       "      <th>...</th>\n",
       "      <td>...</td>\n",
       "    </tr>\n",
       "    <tr>\n",
       "      <th>21592</th>\n",
       "      <td>12.793859</td>\n",
       "    </tr>\n",
       "    <tr>\n",
       "      <th>21593</th>\n",
       "      <td>12.899220</td>\n",
       "    </tr>\n",
       "    <tr>\n",
       "      <th>21594</th>\n",
       "      <td>12.904459</td>\n",
       "    </tr>\n",
       "    <tr>\n",
       "      <th>21595</th>\n",
       "      <td>12.899220</td>\n",
       "    </tr>\n",
       "    <tr>\n",
       "      <th>21596</th>\n",
       "      <td>12.691580</td>\n",
       "    </tr>\n",
       "  </tbody>\n",
       "</table>\n",
       "<p>21597 rows × 1 columns</p>\n",
       "</div>"
      ],
      "text/plain": [
       "       log_price\n",
       "0      12.309982\n",
       "1      13.195614\n",
       "2      12.100712\n",
       "3      13.311329\n",
       "4      13.142166\n",
       "...          ...\n",
       "21592  12.793859\n",
       "21593  12.899220\n",
       "21594  12.904459\n",
       "21595  12.899220\n",
       "21596  12.691580\n",
       "\n",
       "[21597 rows x 1 columns]"
      ]
     },
     "execution_count": 12,
     "metadata": {},
     "output_type": "execute_result"
    }
   ],
   "source": [
    "df_log"
   ]
  },
  {
   "cell_type": "code",
   "execution_count": 13,
   "id": "41c0fbcc",
   "metadata": {
    "hidden": true
   },
   "outputs": [
    {
     "data": {
      "image/png": "[encoded data removed]",
      "text/plain": [
       "<Figure size 432x288 with 1 Axes>"
      ]
     },
     "metadata": {
      "needs_background": "light"
     },
     "output_type": "display_data"
    }
   ],
   "source": [
    "sns.histplot(data=df_log, x='log_price', bins=30);"
   ]
  },
  {
   "cell_type": "code",
   "execution_count": 14,
   "id": "4f88f97c",
   "metadata": {
    "hidden": true
   },
   "outputs": [],
   "source": [
    "def normalize(feature):\n",
    "    return (feature - feature.mean()) / feature.std()\n",
    "\n",
    "df_final = df_log.apply(normalize)"
   ]
  },
  {
   "cell_type": "code",
   "execution_count": 15,
   "id": "73b9a784",
   "metadata": {
    "hidden": true
   },
   "outputs": [
    {
     "data": {
      "image/png": "[encoded data removed]",
      "text/plain": [
       "<Figure size 432x288 with 1 Axes>"
      ]
     },
     "metadata": {
      "needs_background": "light"
     },
     "output_type": "display_data"
    }
   ],
   "source": [
    "sns.histplot(data=df_final, x='log_price', bins=30);"
   ]
  },
  {
   "cell_type": "markdown",
   "id": "79aadaec",
   "metadata": {
    "hidden": true
   },
   "source": [
    "Results from correlated numerical data, focus on exploring how to transform/normalize these 4 (and price)\n",
    "\n",
    "- sqft_living    0.701917\n",
    "- bathrooms      0.525906\n",
    "- bedrooms       0.308787\n",
    "- floors         0.256804"
   ]
  },
  {
   "cell_type": "code",
   "execution_count": 16,
   "id": "4644edfc",
   "metadata": {
    "hidden": true
   },
   "outputs": [
    {
     "data": {
      "text/plain": [
       "count    21597.000000\n",
       "mean      2080.321850\n",
       "std        918.106125\n",
       "min        370.000000\n",
       "25%       1430.000000\n",
       "50%       1910.000000\n",
       "75%       2550.000000\n",
       "max      13540.000000\n",
       "Name: sqft_living, dtype: float64"
      ]
     },
     "execution_count": 16,
     "metadata": {},
     "output_type": "execute_result"
    }
   ],
   "source": [
    "df.sqft_living.describe()"
   ]
  },
  {
   "cell_type": "code",
   "execution_count": null,
   "id": "3978cf7c",
   "metadata": {
    "hidden": true
   },
   "outputs": [],
   "source": []
  }
 ],
 "metadata": {
  "kernelspec": {
   "display_name": "Python (learn-env)",
   "language": "python",
   "name": "learn-env"
  },
  "language_info": {
   "codemirror_mode": {
    "name": "ipython",
    "version": 3
   },
   "file_extension": ".py",
   "mimetype": "text/x-python",
   "name": "python",
   "nbconvert_exporter": "python",
   "pygments_lexer": "ipython3",
   "version": "3.8.8"
  },
  "toc": {
   "base_numbering": 1,
   "nav_menu": {},
   "number_sections": true,
   "sideBar": true,
   "skip_h1_title": false,
   "title_cell": "Table of Contents",
   "title_sidebar": "Contents",
   "toc_cell": false,
   "toc_position": {},
   "toc_section_display": true,
   "toc_window_display": true
  }
 },
 "nbformat": 4,
 "nbformat_minor": 5
}
