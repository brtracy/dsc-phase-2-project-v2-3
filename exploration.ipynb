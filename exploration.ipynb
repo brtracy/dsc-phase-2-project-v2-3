{
 "cells": [
  {
   "cell_type": "markdown",
   "id": "5b038909",
   "metadata": {},
   "source": [
    "# Business Problem"
   ]
  },
  {
   "cell_type": "markdown",
   "id": "325f06c9",
   "metadata": {},
   "source": [
    "A new bitcoin millionaire wants to get into flipping houses in the Seattle area.\n",
    "\n",
    "They have approached our company asking us to build a model to predict a homes' sale price. They want to use that prediction to determine if they should buy a home currently for sale with the intent to renovate it and flip it for profit.\n",
    "\n",
    "**Here where we say renovate we mean to restore quality, not to be confused with remodel, where we add/remove features**\n",
    "\n",
    "The idea is that there are currently homes for sale, and our model is to predict the price when the condition of the home is improved. \n"
   ]
  },
  {
   "cell_type": "markdown",
   "id": "275c963a",
   "metadata": {},
   "source": [
    "---------------------------------------------"
   ]
  },
  {
   "cell_type": "markdown",
   "id": "ae13d72c",
   "metadata": {},
   "source": [
    "Our business problem . \n",
    "- First we will do data exploration to see what we have that we are working with.\n",
    "- Build a baseline model with all the features and see how accurate it is\n",
    "- See if condition is a feature that impacts price first?"
   ]
  },
  {
   "cell_type": "markdown",
   "id": "3d3c7ef5",
   "metadata": {},
   "source": [
    "------------------------------"
   ]
  },
  {
   "cell_type": "markdown",
   "id": "06d9514c",
   "metadata": {},
   "source": [
    "We are provided with data from another company that represents housing information for Kings County (where Seattle is located) to build our model."
   ]
  },
  {
   "cell_type": "markdown",
   "id": "02649626",
   "metadata": {},
   "source": [
    "# Imports"
   ]
  },
  {
   "cell_type": "code",
   "execution_count": 1,
   "id": "dfe48b76",
   "metadata": {},
   "outputs": [
    {
     "name": "stdout",
     "output_type": "stream",
     "text": [
      "<class 'pandas.core.frame.DataFrame'>\n",
      "RangeIndex: 21597 entries, 0 to 21596\n",
      "Data columns (total 21 columns):\n",
      " #   Column         Non-Null Count  Dtype  \n",
      "---  ------         --------------  -----  \n",
      " 0   id             21597 non-null  int64  \n",
      " 1   date           21597 non-null  object \n",
      " 2   price          21597 non-null  float64\n",
      " 3   bedrooms       21597 non-null  int64  \n",
      " 4   bathrooms      21597 non-null  float64\n",
      " 5   sqft_living    21597 non-null  int64  \n",
      " 6   sqft_lot       21597 non-null  int64  \n",
      " 7   floors         21597 non-null  float64\n",
      " 8   waterfront     19221 non-null  object \n",
      " 9   view           21534 non-null  object \n",
      " 10  condition      21597 non-null  object \n",
      " 11  grade          21597 non-null  object \n",
      " 12  sqft_above     21597 non-null  int64  \n",
      " 13  sqft_basement  21597 non-null  object \n",
      " 14  yr_built       21597 non-null  int64  \n",
      " 15  yr_renovated   17755 non-null  float64\n",
      " 16  zipcode        21597 non-null  int64  \n",
      " 17  lat            21597 non-null  float64\n",
      " 18  long           21597 non-null  float64\n",
      " 19  sqft_living15  21597 non-null  int64  \n",
      " 20  sqft_lot15     21597 non-null  int64  \n",
      "dtypes: float64(6), int64(9), object(6)\n",
      "memory usage: 3.5+ MB\n"
     ]
    }
   ],
   "source": [
    "import pandas as pd\n",
    "import numpy as np\n",
    "import seaborn as sns\n",
    "import matplotlib.pyplot as plt\n",
    "%matplotlib inline\n",
    "\n",
    "from sklearn.linear_model import LinearRegression\n",
    "from sklearn.model_selection import train_test_split\n",
    "from sklearn.model_selection import cross_validate, ShuffleSplit\n",
    "\n",
    "import statsmodels.api as sm\n",
    "import statsmodels.formula.api as smf\n",
    "\n",
    "\n",
    "raw_data = pd.read_csv('data\\kc_house_data.csv')\n",
    "raw_data.info()"
   ]
  },
  {
   "cell_type": "code",
   "execution_count": 2,
   "id": "7963875e",
   "metadata": {},
   "outputs": [
    {
     "data": {
      "text/plain": [
       "id                  0\n",
       "date                0\n",
       "price               0\n",
       "bedrooms            0\n",
       "bathrooms           0\n",
       "sqft_living         0\n",
       "sqft_lot            0\n",
       "floors              0\n",
       "waterfront       2376\n",
       "view               63\n",
       "condition           0\n",
       "grade               0\n",
       "sqft_above          0\n",
       "sqft_basement       0\n",
       "yr_built            0\n",
       "yr_renovated     3842\n",
       "zipcode             0\n",
       "lat                 0\n",
       "long                0\n",
       "sqft_living15       0\n",
       "sqft_lot15          0\n",
       "dtype: int64"
      ]
     },
     "execution_count": 2,
     "metadata": {},
     "output_type": "execute_result"
    }
   ],
   "source": [
    "raw_data.isna().sum()"
   ]
  },
  {
   "cell_type": "markdown",
   "id": "856252a8",
   "metadata": {},
   "source": [
    "As we do our data exploration, we will make sure to deal with these null values. For now, we will make a copy of the raw data as our working dataframe, df."
   ]
  },
  {
   "cell_type": "code",
   "execution_count": 3,
   "id": "17d7bb3a",
   "metadata": {},
   "outputs": [],
   "source": [
    "df = raw_data.copy()"
   ]
  },
  {
   "cell_type": "markdown",
   "id": "916dcdd4",
   "metadata": {
    "heading_collapsed": true
   },
   "source": [
    "# Investigating each feature"
   ]
  },
  {
   "cell_type": "markdown",
   "id": "73323054",
   "metadata": {
    "hidden": true
   },
   "source": [
    "## 'id'"
   ]
  },
  {
   "cell_type": "markdown",
   "id": "c4ec76c0",
   "metadata": {
    "hidden": true
   },
   "source": [
    "Dropping the 'id' column, this is a unique identifier that we will not be using in any analysis/modeling."
   ]
  },
  {
   "cell_type": "code",
   "execution_count": 4,
   "id": "50513068",
   "metadata": {
    "hidden": true
   },
   "outputs": [],
   "source": [
    "df.drop(['id'], axis=1, inplace=True)"
   ]
  },
  {
   "cell_type": "markdown",
   "id": "69fb90c8",
   "metadata": {
    "hidden": true
   },
   "source": [
    "## 'date'"
   ]
  },
  {
   "cell_type": "markdown",
   "id": "a6f51dd9",
   "metadata": {
    "hidden": true
   },
   "source": [
    "First we will convert the column to a datetime object"
   ]
  },
  {
   "cell_type": "code",
   "execution_count": 5,
   "id": "7875f841",
   "metadata": {
    "hidden": true
   },
   "outputs": [],
   "source": [
    "df.date = pd.to_datetime(df.date)"
   ]
  },
  {
   "cell_type": "code",
   "execution_count": 6,
   "id": "dff44e78",
   "metadata": {
    "hidden": true
   },
   "outputs": [
    {
     "data": {
      "text/plain": [
       "count                            21597\n",
       "mean     2014-10-29 04:20:38.171968512\n",
       "min                2014-05-02 00:00:00\n",
       "25%                2014-07-22 00:00:00\n",
       "50%                2014-10-16 00:00:00\n",
       "75%                2015-02-17 00:00:00\n",
       "max                2015-05-27 00:00:00\n",
       "Name: date, dtype: object"
      ]
     },
     "execution_count": 6,
     "metadata": {},
     "output_type": "execute_result"
    }
   ],
   "source": [
    "df.date.describe(datetime_is_numeric=True)"
   ]
  },
  {
   "cell_type": "markdown",
   "id": "bb1d1ab3",
   "metadata": {
    "hidden": true
   },
   "source": [
    "The sale dates range from 5/2/2014 to 5/27/2015.\n",
    "\n",
    "Having this feature as a datetime object will allow for additional feature engineering later on."
   ]
  },
  {
   "cell_type": "markdown",
   "id": "fb67ceae",
   "metadata": {
    "hidden": true
   },
   "source": [
    "## 'price' **(TARGET)**"
   ]
  },
  {
   "cell_type": "code",
   "execution_count": 7,
   "id": "cc008481",
   "metadata": {
    "hidden": true,
    "scrolled": false
   },
   "outputs": [
    {
     "data": {
      "text/plain": [
       "count      21597.0\n",
       "mean      540297.0\n",
       "std       367368.0\n",
       "min        78000.0\n",
       "25%       322000.0\n",
       "50%       450000.0\n",
       "75%       645000.0\n",
       "max      7700000.0\n",
       "Name: price, dtype: float64"
      ]
     },
     "execution_count": 7,
     "metadata": {},
     "output_type": "execute_result"
    }
   ],
   "source": [
    "df.price.describe().round()"
   ]
  },
  {
   "cell_type": "code",
   "execution_count": 8,
   "id": "ba881ad4",
   "metadata": {
    "hidden": true
   },
   "outputs": [
    {
     "data": {
      "image/png": "[encoded data removed]",
      "text/plain": [
       "<Figure size 432x288 with 1 Axes>"
      ]
     },
     "metadata": {
      "needs_background": "light"
     },
     "output_type": "display_data"
    }
   ],
   "source": [
    "sns.histplot(data=df, x='price', bins=50);"
   ]
  },
  {
   "cell_type": "code",
   "execution_count": 9,
   "id": "fef656c9",
   "metadata": {
    "hidden": true
   },
   "outputs": [
    {
     "data": {
      "image/png": "[encoded data removed]",
      "text/plain": [
       "<Figure size 432x288 with 1 Axes>"
      ]
     },
     "metadata": {
      "needs_background": "light"
     },
     "output_type": "display_data"
    }
   ],
   "source": [
    "sns.boxplot(data=df, x='price');"
   ]
  },
  {
   "cell_type": "markdown",
   "id": "03671f25",
   "metadata": {
    "hidden": true
   },
   "source": [
    "The price data is heavily right skewed. Our average home price is \\\\$540k, it looks like lots of homes sell for under \\\\$100k. But there are enough homes that sell for over \\\\$500k to push the average up.\n",
    "\n",
    "> We may need to consider scaling and normalizing later?"
   ]
  },
  {
   "cell_type": "markdown",
   "id": "6308eca2",
   "metadata": {
    "hidden": true
   },
   "source": [
    "## 'bedrooms'\n"
   ]
  },
  {
   "cell_type": "code",
   "execution_count": 10,
   "id": "ce2646be",
   "metadata": {
    "hidden": true
   },
   "outputs": [
    {
     "data": {
      "text/plain": [
       "count    21597.000000\n",
       "mean         3.373200\n",
       "std          0.926299\n",
       "min          1.000000\n",
       "25%          3.000000\n",
       "50%          3.000000\n",
       "75%          4.000000\n",
       "max         33.000000\n",
       "Name: bedrooms, dtype: float64"
      ]
     },
     "execution_count": 10,
     "metadata": {},
     "output_type": "execute_result"
    }
   ],
   "source": [
    "df.bedrooms.describe()"
   ]
  },
  {
   "cell_type": "code",
   "execution_count": 11,
   "id": "5b0f403c",
   "metadata": {
    "hidden": true
   },
   "outputs": [
    {
     "data": {
      "text/plain": [
       "<AxesSubplot:xlabel='bedrooms', ylabel='price'>"
      ]
     },
     "execution_count": 11,
     "metadata": {},
     "output_type": "execute_result"
    },
    {
     "data": {
      "image/png": "[encoded data removed]",
      "text/plain": [
       "<Figure size 432x288 with 1 Axes>"
      ]
     },
     "metadata": {
      "needs_background": "light"
     },
     "output_type": "display_data"
    }
   ],
   "source": [
    "sns.scatterplot(data=df, x='bedrooms', y='price')"
   ]
  },
  {
   "cell_type": "code",
   "execution_count": 12,
   "id": "3026f5c3",
   "metadata": {
    "hidden": true,
    "scrolled": true
   },
   "outputs": [
    {
     "data": {
      "text/plain": [
       "3     9824\n",
       "4     6882\n",
       "2     2760\n",
       "5     1601\n",
       "6      272\n",
       "1      196\n",
       "7       38\n",
       "8       13\n",
       "9        6\n",
       "10       3\n",
       "33       1\n",
       "11       1\n",
       "Name: bedrooms, dtype: int64"
      ]
     },
     "execution_count": 12,
     "metadata": {},
     "output_type": "execute_result"
    }
   ],
   "source": [
    "df.bedrooms.value_counts()"
   ]
  },
  {
   "cell_type": "code",
   "execution_count": 13,
   "id": "693185f5",
   "metadata": {
    "hidden": true
   },
   "outputs": [
    {
     "data": {
      "text/html": [
       "<div>\n",
       "<style scoped>\n",
       "    .dataframe tbody tr th:only-of-type {\n",
       "        vertical-align: middle;\n",
       "    }\n",
       "\n",
       "    .dataframe tbody tr th {\n",
       "        vertical-align: top;\n",
       "    }\n",
       "\n",
       "    .dataframe thead th {\n",
       "        text-align: right;\n",
       "    }\n",
       "</style>\n",
       "<table border=\"1\" class=\"dataframe\">\n",
       "  <thead>\n",
       "    <tr style=\"text-align: right;\">\n",
       "      <th></th>\n",
       "      <th>date</th>\n",
       "      <th>price</th>\n",
       "      <th>bedrooms</th>\n",
       "      <th>bathrooms</th>\n",
       "      <th>sqft_living</th>\n",
       "      <th>sqft_lot</th>\n",
       "      <th>floors</th>\n",
       "      <th>waterfront</th>\n",
       "      <th>view</th>\n",
       "      <th>condition</th>\n",
       "      <th>grade</th>\n",
       "      <th>sqft_above</th>\n",
       "      <th>sqft_basement</th>\n",
       "      <th>yr_built</th>\n",
       "      <th>yr_renovated</th>\n",
       "      <th>zipcode</th>\n",
       "      <th>lat</th>\n",
       "      <th>long</th>\n",
       "      <th>sqft_living15</th>\n",
       "      <th>sqft_lot15</th>\n",
       "    </tr>\n",
       "  </thead>\n",
       "  <tbody>\n",
       "    <tr>\n",
       "      <th>15856</th>\n",
       "      <td>2014-06-25</td>\n",
       "      <td>640000.0</td>\n",
       "      <td>33</td>\n",
       "      <td>1.75</td>\n",
       "      <td>1620</td>\n",
       "      <td>6000</td>\n",
       "      <td>1.0</td>\n",
       "      <td>NO</td>\n",
       "      <td>NONE</td>\n",
       "      <td>Very Good</td>\n",
       "      <td>7 Average</td>\n",
       "      <td>1040</td>\n",
       "      <td>580.0</td>\n",
       "      <td>1947</td>\n",
       "      <td>0.0</td>\n",
       "      <td>98103</td>\n",
       "      <td>47.6878</td>\n",
       "      <td>-122.331</td>\n",
       "      <td>1330</td>\n",
       "      <td>4700</td>\n",
       "    </tr>\n",
       "  </tbody>\n",
       "</table>\n",
       "</div>"
      ],
      "text/plain": [
       "            date     price  bedrooms  bathrooms  sqft_living  sqft_lot  \\\n",
       "15856 2014-06-25  640000.0        33       1.75         1620      6000   \n",
       "\n",
       "       floors waterfront  view  condition      grade  sqft_above  \\\n",
       "15856     1.0         NO  NONE  Very Good  7 Average        1040   \n",
       "\n",
       "      sqft_basement  yr_built  yr_renovated  zipcode      lat     long  \\\n",
       "15856         580.0      1947           0.0    98103  47.6878 -122.331   \n",
       "\n",
       "       sqft_living15  sqft_lot15  \n",
       "15856           1330        4700  "
      ]
     },
     "execution_count": 13,
     "metadata": {},
     "output_type": "execute_result"
    }
   ],
   "source": [
    "df[df.bedrooms == 33]"
   ]
  },
  {
   "cell_type": "markdown",
   "id": "2ca3be8e",
   "metadata": {
    "hidden": true
   },
   "source": [
    "This outlier in number of bedrooms is interesting. I doubt very much there are 33 bedrooms in a 1,000 ft$^{2}$ home. We suspect an entry error and are going change it to 3, which is much more likely."
   ]
  },
  {
   "cell_type": "code",
   "execution_count": 14,
   "id": "d3438561",
   "metadata": {
    "hidden": true
   },
   "outputs": [],
   "source": [
    "df.at[15856,'bedrooms'] = 3"
   ]
  },
  {
   "cell_type": "code",
   "execution_count": 15,
   "id": "528b7eab",
   "metadata": {
    "hidden": true
   },
   "outputs": [
    {
     "data": {
      "text/plain": [
       "3     9825\n",
       "4     6882\n",
       "2     2760\n",
       "5     1601\n",
       "6      272\n",
       "1      196\n",
       "7       38\n",
       "8       13\n",
       "9        6\n",
       "10       3\n",
       "11       1\n",
       "Name: bedrooms, dtype: int64"
      ]
     },
     "execution_count": 15,
     "metadata": {},
     "output_type": "execute_result"
    }
   ],
   "source": [
    "df.bedrooms.value_counts()"
   ]
  },
  {
   "cell_type": "markdown",
   "id": "690d2bbf",
   "metadata": {
    "hidden": true
   },
   "source": [
    "The vast majority of homes are 4 bedrooms and under."
   ]
  },
  {
   "cell_type": "markdown",
   "id": "7246d944",
   "metadata": {
    "hidden": true
   },
   "source": [
    "We are going to encode this variable by binning into:\n",
    "- 1/2 bedrooms\n",
    "- 3/4 bedrooms\n",
    "- 5/6 bedrooms\n",
    "- more than 6 bedrooms (this feature is dropped to prevent multicollinearity)"
   ]
  },
  {
   "cell_type": "code",
   "execution_count": 16,
   "id": "fcca404c",
   "metadata": {
    "hidden": true
   },
   "outputs": [],
   "source": [
    "df['bedrooms_1_2'] = df.bedrooms.map(lambda x: 1 if x <= 2 else 0)\n",
    "df['bedrooms_3_4'] = df.bedrooms.map(lambda x: 1 if ((x > 2) & (x <= 4)) else 0)\n",
    "df['bedrooms_5_6'] = df.bedrooms.map(lambda x: 1 if ((x > 4) & (x <= 6)) else 0)\n",
    "\n",
    "df.drop(['bedrooms'], axis=1, inplace=True)"
   ]
  },
  {
   "cell_type": "markdown",
   "id": "2dcf9415",
   "metadata": {
    "hidden": true
   },
   "source": [
    "## 'bathrooms'"
   ]
  },
  {
   "cell_type": "code",
   "execution_count": 17,
   "id": "c996f84e",
   "metadata": {
    "hidden": true,
    "scrolled": true
   },
   "outputs": [
    {
     "data": {
      "text/plain": [
       "count    21597.000000\n",
       "mean         2.115826\n",
       "std          0.768984\n",
       "min          0.500000\n",
       "25%          1.750000\n",
       "50%          2.250000\n",
       "75%          2.500000\n",
       "max          8.000000\n",
       "Name: bathrooms, dtype: float64"
      ]
     },
     "execution_count": 17,
     "metadata": {},
     "output_type": "execute_result"
    }
   ],
   "source": [
    "df.bathrooms.describe()"
   ]
  },
  {
   "cell_type": "code",
   "execution_count": 18,
   "id": "3f097d08",
   "metadata": {
    "hidden": true
   },
   "outputs": [
    {
     "data": {
      "image/png": "[encoded data removed]",
      "text/plain": [
       "<Figure size 432x288 with 1 Axes>"
      ]
     },
     "metadata": {
      "needs_background": "light"
     },
     "output_type": "display_data"
    }
   ],
   "source": [
    "sns.scatterplot(data=df, x='bathrooms', y='price');"
   ]
  },
  {
   "cell_type": "markdown",
   "id": "2ad50b53",
   "metadata": {
    "hidden": true
   },
   "source": [
    "The range of values was unexpected. \n",
    "\n",
    "After some research, learned that a bathroom is considered 'full' with 4 parts, each worth a quarter:\n",
    "- sink\n",
    "- toilet\n",
    "- shower\n",
    "- bathtub\n",
    "\n",
    "Based on the description of the data, we are going to encode the bathrooms by binning. Our average bathroom size is just over 2. We are going to bin into:\n",
    "- 1 bathroom (x <= 1)\n",
    "- 2 bathrooms (1 < x <= 2)\n",
    "- 3 bathrooms (2 < x <= 3)\n",
    "- more than 3 bathrooms (this is the feature that is dropped)"
   ]
  },
  {
   "cell_type": "code",
   "execution_count": 19,
   "id": "9e600a21",
   "metadata": {
    "hidden": true
   },
   "outputs": [],
   "source": [
    "df['bathrooms_1'] = df.bathrooms.map(lambda x: 1 if x<=1 else 0)\n",
    "df['bathrooms_3'] = df.bathrooms.map(lambda x: 1 if ((x>2)&(x<=3)) else 0)"
   ]
  },
  {
   "cell_type": "code",
   "execution_count": 20,
   "id": "4c32d924",
   "metadata": {
    "hidden": true
   },
   "outputs": [],
   "source": [
    "df.drop(['bathrooms'], axis=1, inplace=True)"
   ]
  },
  {
   "cell_type": "markdown",
   "id": "7d5849e7",
   "metadata": {
    "hidden": true
   },
   "source": [
    "## 'sqft_living'"
   ]
  },
  {
   "cell_type": "code",
   "execution_count": 21,
   "id": "34a1ded3",
   "metadata": {
    "hidden": true
   },
   "outputs": [
    {
     "data": {
      "text/plain": [
       "count    21597.000000\n",
       "mean      2080.321850\n",
       "std        918.106125\n",
       "min        370.000000\n",
       "25%       1430.000000\n",
       "50%       1910.000000\n",
       "75%       2550.000000\n",
       "max      13540.000000\n",
       "Name: sqft_living, dtype: float64"
      ]
     },
     "execution_count": 21,
     "metadata": {},
     "output_type": "execute_result"
    }
   ],
   "source": [
    "df.sqft_living.describe()"
   ]
  },
  {
   "cell_type": "code",
   "execution_count": 22,
   "id": "94c78db2",
   "metadata": {
    "hidden": true
   },
   "outputs": [
    {
     "data": {
      "image/png": "[encoded data removed]",
      "text/plain": [
       "<Figure size 432x288 with 1 Axes>"
      ]
     },
     "metadata": {
      "needs_background": "light"
     },
     "output_type": "display_data"
    }
   ],
   "source": [
    "sns.scatterplot(data=df, x='sqft_living', y='price', size=1, alpha=0.2);"
   ]
  },
  {
   "cell_type": "code",
   "execution_count": 23,
   "id": "b3f210ed",
   "metadata": {
    "hidden": true
   },
   "outputs": [
    {
     "data": {
      "image/png": "[encoded data removed]",
      "text/plain": [
       "<Figure size 432x288 with 1 Axes>"
      ]
     },
     "metadata": {
      "needs_background": "light"
     },
     "output_type": "display_data"
    }
   ],
   "source": [
    "sns.histplot(data=df, x='sqft_living', bins=30);"
   ]
  },
  {
   "cell_type": "code",
   "execution_count": 24,
   "id": "d3b0a681",
   "metadata": {
    "hidden": true
   },
   "outputs": [
    {
     "data": {
      "image/png": "[encoded data removed]",
      "text/plain": [
       "<Figure size 432x288 with 1 Axes>"
      ]
     },
     "metadata": {
      "needs_background": "light"
     },
     "output_type": "display_data"
    }
   ],
   "source": [
    "sns.boxplot(data=df, x='sqft_living');"
   ]
  },
  {
   "cell_type": "code",
   "execution_count": 25,
   "id": "88ff1e82",
   "metadata": {
    "hidden": true
   },
   "outputs": [
    {
     "data": {
      "text/plain": [
       "0.9637912673056444"
      ]
     },
     "execution_count": 25,
     "metadata": {},
     "output_type": "execute_result"
    }
   ],
   "source": [
    "len(df[df.sqft_living <= 4000])/len(df)"
   ]
  },
  {
   "cell_type": "markdown",
   "id": "46ab8e02",
   "metadata": {
    "hidden": true
   },
   "source": [
    "57% of homes are have below the average of 2,080 ft$^{2}$.\n",
    "\n",
    "96% of homes are below 4,000 ft$^{2}$.\n",
    "\n",
    "The vast majority of our sqft_living data is grouped under 4,000 ft$^{2}$. There are some large homes out there, but our mean and median are pretty close (2,080 vs 1,910). The data looks normal except for the right skewedness.\n",
    "\n",
    "\n",
    "Again, suspect that we have a subset of extremely large homes. This looks like a feature to use to restrict our dataset a bit to maybe improve the model? Maybe viewing large homes represented on a map vs all other sized homes will show neighborhoods that are more likely to hold large homes?"
   ]
  },
  {
   "cell_type": "markdown",
   "id": "16140cff",
   "metadata": {
    "hidden": true
   },
   "source": [
    "## 'sqft_lot'"
   ]
  },
  {
   "cell_type": "code",
   "execution_count": 26,
   "id": "5059a1da",
   "metadata": {
    "hidden": true
   },
   "outputs": [
    {
     "data": {
      "text/plain": [
       "count      21597.0\n",
       "mean       15099.0\n",
       "std        41413.0\n",
       "min          520.0\n",
       "25%         5040.0\n",
       "50%         7618.0\n",
       "75%        10685.0\n",
       "max      1651359.0\n",
       "Name: sqft_lot, dtype: float64"
      ]
     },
     "execution_count": 26,
     "metadata": {},
     "output_type": "execute_result"
    }
   ],
   "source": [
    "df.sqft_lot.describe().round()"
   ]
  },
  {
   "cell_type": "code",
   "execution_count": 27,
   "id": "90ecfbf9",
   "metadata": {
    "hidden": true,
    "scrolled": false
   },
   "outputs": [
    {
     "data": {
      "image/png": "[encoded data removed]",
      "text/plain": [
       "<Figure size 432x288 with 1 Axes>"
      ]
     },
     "metadata": {
      "needs_background": "light"
     },
     "output_type": "display_data"
    }
   ],
   "source": [
    "sns.scatterplot(data=df, x='sqft_lot', y='price', size=1, alpha=0.2)\n",
    "\n",
    "plt.axvline(x=df.sqft_lot.mean(), color='red', ls='--', lw=3)\n",
    "\n",
    "plt.ticklabel_format(style='plain', axis='x',useOffset=False);"
   ]
  },
  {
   "cell_type": "markdown",
   "id": "06c7bd12",
   "metadata": {
    "hidden": true
   },
   "source": [
    "Three quarters of our data on sqft_lot is under 10,000 ft$^{2}$, but the average lot is about 15,000 ft$^{2}$.\n",
    "\n",
    "The large lot sizes are enormously large in comparison, and that may be fouling up our model later. This is another feature we may need to scale/normalize later on."
   ]
  },
  {
   "cell_type": "code",
   "execution_count": 28,
   "id": "d38cb1c6",
   "metadata": {
    "hidden": true,
    "scrolled": true
   },
   "outputs": [
    {
     "data": {
      "text/plain": [
       "0.3466253443526171"
      ]
     },
     "execution_count": 28,
     "metadata": {},
     "output_type": "execute_result"
    }
   ],
   "source": [
    "# sqft is easy to estimate for inside home size, but more difficult to get a\n",
    "# sense for. If we later want to conver to acres, divide sqft by 43560\n",
    "15099 / 43560\n",
    "\n",
    "# our average lot size is 15,099 sqft, which is .35 acres"
   ]
  },
  {
   "cell_type": "code",
   "execution_count": 29,
   "id": "8cb2f2e9",
   "metadata": {
    "hidden": true
   },
   "outputs": [
    {
     "data": {
      "text/plain": [
       "0.8519238783164328"
      ]
     },
     "execution_count": 29,
     "metadata": {},
     "output_type": "execute_result"
    }
   ],
   "source": [
    "len(df[df.sqft_lot < 15099])/len(df)"
   ]
  },
  {
   "cell_type": "markdown",
   "id": "98588343",
   "metadata": {
    "hidden": true
   },
   "source": [
    "85% of homes have a lot less than the average of 15,099 sqft. \n",
    "\n",
    "For now we are leaving everything in the baseline model, but this is a feature that may be dropped.\n",
    "\n",
    "Lot size is not a guarantee of high home value. In fact, it looks like smaller lot sizes are **more** valuable than larger. Larger lots do not equal larger/more expensive homes, and also tend to be further from amenities.\n",
    "\n",
    "I wonder if we should just drop it all together, or perhaps bin them? This also could possibly be log scaled?"
   ]
  },
  {
   "cell_type": "markdown",
   "id": "e2ae50e1",
   "metadata": {
    "hidden": true
   },
   "source": [
    "## 'floors'"
   ]
  },
  {
   "cell_type": "code",
   "execution_count": 30,
   "id": "286fb42d",
   "metadata": {
    "hidden": true
   },
   "outputs": [
    {
     "data": {
      "text/plain": [
       "count    21597.000000\n",
       "mean         1.494096\n",
       "std          0.539683\n",
       "min          1.000000\n",
       "25%          1.000000\n",
       "50%          1.500000\n",
       "75%          2.000000\n",
       "max          3.500000\n",
       "Name: floors, dtype: float64"
      ]
     },
     "execution_count": 30,
     "metadata": {},
     "output_type": "execute_result"
    }
   ],
   "source": [
    "df.floors.describe()"
   ]
  },
  {
   "cell_type": "code",
   "execution_count": 31,
   "id": "c8e63d7e",
   "metadata": {
    "hidden": true
   },
   "outputs": [
    {
     "data": {
      "text/plain": [
       "<AxesSubplot:xlabel='floors', ylabel='Count'>"
      ]
     },
     "execution_count": 31,
     "metadata": {},
     "output_type": "execute_result"
    },
    {
     "data": {
      "image/png": "[encoded data removed]",
      "text/plain": [
       "<Figure size 432x288 with 1 Axes>"
      ]
     },
     "metadata": {
      "needs_background": "light"
     },
     "output_type": "display_data"
    }
   ],
   "source": [
    "sns.histplot(data=df, x='floors')"
   ]
  },
  {
   "cell_type": "markdown",
   "id": "3b5c38ad",
   "metadata": {
    "hidden": true
   },
   "source": [
    "A 1.5-storey house is a detached home that has a second floor that is about half the size of the main floor, but is off to one side.\n",
    "\n",
    "Most of our data is 1 or 2 floor homes, but we have some 1.5, 2.5, 3 and 3.5 in there too.\n",
    "\n",
    "We will bin the variable into:\n",
    "- One floor (includes 1.5)\n",
    "- Two floors (includes 2.5)\n",
    "- Three floors (everything 3 and up, this one will be dropped)"
   ]
  },
  {
   "cell_type": "code",
   "execution_count": 32,
   "id": "83efb988",
   "metadata": {
    "hidden": true
   },
   "outputs": [],
   "source": [
    "df['floors_1'] = df.floors.map(lambda x: 1 if x<2 else 0)\n",
    "df['floors_2'] = df.floors.map(lambda x: 1 if ((x>=2) & (x<3)) else 0)"
   ]
  },
  {
   "cell_type": "code",
   "execution_count": 33,
   "id": "dbbfebb7",
   "metadata": {
    "hidden": true
   },
   "outputs": [],
   "source": [
    "df.drop(['floors'], axis=1, inplace=True)"
   ]
  },
  {
   "cell_type": "markdown",
   "id": "17cc1403",
   "metadata": {
    "hidden": true
   },
   "source": [
    "## 'waterfront'"
   ]
  },
  {
   "cell_type": "markdown",
   "id": "f9d98b3f",
   "metadata": {
    "hidden": true
   },
   "source": [
    "In importing we checked for null values, and there were some in the 'waterfront' feature."
   ]
  },
  {
   "cell_type": "code",
   "execution_count": 34,
   "id": "ebf10c26",
   "metadata": {
    "hidden": true
   },
   "outputs": [
    {
     "data": {
      "text/plain": [
       "NO     0.992404\n",
       "YES    0.007596\n",
       "Name: waterfront, dtype: float64"
      ]
     },
     "execution_count": 34,
     "metadata": {},
     "output_type": "execute_result"
    }
   ],
   "source": [
    "df.waterfront.value_counts(normalize=True)"
   ]
  },
  {
   "cell_type": "markdown",
   "id": "f364036b",
   "metadata": {
    "hidden": true
   },
   "source": [
    "There are only two options, waterfront or not. Less than 1% of homes are waterfront, so we assume that no value means no waterfront view, and set the value to 'NO'."
   ]
  },
  {
   "cell_type": "code",
   "execution_count": 35,
   "id": "38de410a",
   "metadata": {
    "hidden": true
   },
   "outputs": [],
   "source": [
    "df['waterfront'].fillna('NO', inplace=True)"
   ]
  },
  {
   "cell_type": "markdown",
   "id": "97ffcdee",
   "metadata": {
    "hidden": true
   },
   "source": [
    "This is a simple categorical, if the home is considered waterfront or not. \n",
    "\n",
    "We will convert this to a numerical feature, YES being 1 and NO being 0."
   ]
  },
  {
   "cell_type": "code",
   "execution_count": 36,
   "id": "c18b1349",
   "metadata": {
    "hidden": true
   },
   "outputs": [],
   "source": [
    "# converted 'waterfront' feature (numeric boolean)\n",
    "df['waterfront'] = df.waterfront.map({'NO': 0, 'YES': 1})"
   ]
  },
  {
   "cell_type": "markdown",
   "id": "3681798a",
   "metadata": {
    "hidden": true
   },
   "source": [
    "## 'view'"
   ]
  },
  {
   "cell_type": "markdown",
   "id": "df7384ff",
   "metadata": {
    "hidden": true
   },
   "source": [
    "In checking for null values, we also have some in the 'view' feature."
   ]
  },
  {
   "cell_type": "code",
   "execution_count": 37,
   "id": "d418639c",
   "metadata": {
    "hidden": true
   },
   "outputs": [
    {
     "data": {
      "text/plain": [
       "NONE         0.901923\n",
       "AVERAGE      0.044441\n",
       "GOOD         0.023591\n",
       "FAIR         0.015325\n",
       "EXCELLENT    0.014721\n",
       "Name: view, dtype: float64"
      ]
     },
     "execution_count": 37,
     "metadata": {},
     "output_type": "execute_result"
    }
   ],
   "source": [
    "df.view.value_counts(normalize=True)"
   ]
  },
  {
   "cell_type": "markdown",
   "id": "ed2a9bfd",
   "metadata": {
    "hidden": true
   },
   "source": [
    "The values are categorical, and over 90% of homes have a view value of 'NONE'. The 63 missing values will be set to 'NONE'."
   ]
  },
  {
   "cell_type": "code",
   "execution_count": 38,
   "id": "87148c3a",
   "metadata": {
    "hidden": true
   },
   "outputs": [],
   "source": [
    "df['view'].fillna('NONE', inplace=True)"
   ]
  },
  {
   "cell_type": "markdown",
   "id": "d78e56ab",
   "metadata": {
    "hidden": true
   },
   "source": [
    "The documentation describes this as the quality of view from a house. It will need to be converted to model.\n",
    "\n",
    "One option is onehotencoding this feature, but 90% of this feature is 'NONE' (for no view), so instead we will convert this to a numerical boolean feature of 1 for having a view and 0 for not having a view."
   ]
  },
  {
   "cell_type": "code",
   "execution_count": 39,
   "id": "69906a70",
   "metadata": {
    "hidden": true
   },
   "outputs": [],
   "source": [
    "# converted 'view' feature (numeric boolean)\n",
    "df['view'] = df.view.map(lambda x: 0 if x == 'NONE' else 1)"
   ]
  },
  {
   "cell_type": "markdown",
   "id": "6ed35aeb",
   "metadata": {
    "hidden": true
   },
   "source": [
    "## 'condition'"
   ]
  },
  {
   "cell_type": "markdown",
   "id": "b5eec761",
   "metadata": {
    "hidden": true
   },
   "source": [
    "Documentation with the dataset explains this feature is the overall condition of the home relative to ongoing maintenance."
   ]
  },
  {
   "cell_type": "code",
   "execution_count": 40,
   "id": "2d502681",
   "metadata": {
    "hidden": true
   },
   "outputs": [
    {
     "data": {
      "text/plain": [
       "Average      14020\n",
       "Good          5677\n",
       "Very Good     1701\n",
       "Fair           170\n",
       "Poor            29\n",
       "Name: condition, dtype: int64"
      ]
     },
     "execution_count": 40,
     "metadata": {},
     "output_type": "execute_result"
    }
   ],
   "source": [
    "df.condition.value_counts()"
   ]
  },
  {
   "cell_type": "markdown",
   "id": "4ab08dc7",
   "metadata": {
    "hidden": true
   },
   "source": [
    "Referencing the documentation, the condition can be graded numerically:\n",
    "\n",
    "{'Very Good': 5, 'Good': 4, 'Average': 3, 'Fair': 2, 'Poor': 1}\n",
    "\n",
    "We will need to convert this column before modeling."
   ]
  },
  {
   "cell_type": "code",
   "execution_count": 41,
   "id": "80d3c6cb",
   "metadata": {
    "hidden": true
   },
   "outputs": [],
   "source": [
    "# converted 'condition' feature\n",
    "condition_dict = {'Very Good': 5, 'Good': 4, 'Average': 3, 'Fair': 2,\n",
    "                  'Poor': 1}\n",
    "df['condition'] = df.condition.map(condition_dict)"
   ]
  },
  {
   "cell_type": "code",
   "execution_count": 125,
   "id": "65304547",
   "metadata": {
    "hidden": true
   },
   "outputs": [
    {
     "data": {
      "text/plain": [
       "count    21597.000000\n",
       "mean         3.409825\n",
       "std          0.650546\n",
       "min          1.000000\n",
       "25%          3.000000\n",
       "50%          3.000000\n",
       "75%          4.000000\n",
       "max          5.000000\n",
       "Name: condition, dtype: float64"
      ]
     },
     "execution_count": 125,
     "metadata": {},
     "output_type": "execute_result"
    }
   ],
   "source": [
    "df.condition.describe()"
   ]
  },
  {
   "cell_type": "code",
   "execution_count": 42,
   "id": "434bea57",
   "metadata": {
    "hidden": true
   },
   "outputs": [
    {
     "data": {
      "image/png": "[encoded data removed]",
      "text/plain": [
       "<Figure size 432x288 with 1 Axes>"
      ]
     },
     "metadata": {
      "needs_background": "light"
     },
     "output_type": "display_data"
    }
   ],
   "source": [
    "sns.scatterplot(data=df, x='condition', y='price');"
   ]
  },
  {
   "cell_type": "markdown",
   "id": "c2f2d4ae",
   "metadata": {
    "hidden": true
   },
   "source": [
    "We will onehotencode both condition and grade in section 3.12.1"
   ]
  },
  {
   "cell_type": "markdown",
   "id": "eac812ab",
   "metadata": {
    "hidden": true
   },
   "source": [
    "## 'grade'"
   ]
  },
  {
   "cell_type": "code",
   "execution_count": 105,
   "id": "50a02ae4",
   "metadata": {
    "hidden": true
   },
   "outputs": [
    {
     "data": {
      "text/plain": [
       "7 Average        8974\n",
       "8 Good           6065\n",
       "9 Better         2615\n",
       "6 Low Average    2038\n",
       "10 Very Good     1134\n",
       "11 Excellent      399\n",
       "5 Fair            242\n",
       "12 Luxury          89\n",
       "4 Low              27\n",
       "13 Mansion         13\n",
       "3 Poor              1\n",
       "Name: grade, dtype: int64"
      ]
     },
     "execution_count": 105,
     "metadata": {},
     "output_type": "execute_result"
    }
   ],
   "source": [
    "df.grade.value_counts()"
   ]
  },
  {
   "cell_type": "code",
   "execution_count": 123,
   "id": "89fa237b",
   "metadata": {
    "hidden": true
   },
   "outputs": [],
   "source": [
    "df['grade'] = df.grade.map(lambda x: x.split()[0]).astype('int')"
   ]
  },
  {
   "cell_type": "code",
   "execution_count": 124,
   "id": "dbe88cf2",
   "metadata": {
    "hidden": true
   },
   "outputs": [
    {
     "data": {
      "text/plain": [
       "count    21597.000000\n",
       "mean         7.657915\n",
       "std          1.173200\n",
       "min          3.000000\n",
       "25%          7.000000\n",
       "50%          7.000000\n",
       "75%          8.000000\n",
       "max         13.000000\n",
       "Name: grade, dtype: float64"
      ]
     },
     "execution_count": 124,
     "metadata": {},
     "output_type": "execute_result"
    }
   ],
   "source": [
    "df.grade.describe()"
   ]
  },
  {
   "cell_type": "markdown",
   "id": "302c5d7d",
   "metadata": {
    "hidden": true
   },
   "source": [
    "This feature, per the documentation, is the overall grade of the home relative to construction/design. This is a separate feature than condition, but we will have to see if there is any multicollinearity here. It could certainly be the case that a high graded home (good quality construction or design) could be left to disrepair and have a poor condition value.\n",
    "\n",
    "We will need to convert the column before modeling, we can just slice the string and take the first section, convert to numerical."
   ]
  },
  {
   "cell_type": "markdown",
   "id": "fe62de16",
   "metadata": {
    "hidden": true
   },
   "source": [
    "### onehotecode 'condition' & 'grade'"
   ]
  },
  {
   "cell_type": "code",
   "execution_count": 127,
   "id": "28a93665",
   "metadata": {
    "hidden": true
   },
   "outputs": [],
   "source": [
    "# import OneHotEncoder\n",
    "from sklearn.preprocessing import OneHotEncoder\n",
    "\n",
    "# create temporary dataframe df_test with condition and grade features in it\n",
    "df_test = df[['condition', 'grade']].copy()\n",
    "\n",
    "# create a onehotencoder, fit to df_test\n",
    "ohe = OneHotEncoder().fit(df_test)\n",
    "\n",
    "# create the array\n",
    "onehotarray = ohe.transform(df_test).toarray()\n",
    "\n",
    "# generate column_names to match values, 'feature_{value}'\n",
    "column_names = []\n",
    "for x in range(1,6):\n",
    "    column_names.append(f'condition_{x}')\n",
    "for x in range(3,14):\n",
    "    column_names.append(f'grade_{x}')\n",
    "    \n",
    "# create dataframe of array with correct column names\n",
    "ohe_df = pd.DataFrame(onehotarray, columns=column_names)\n",
    "\n",
    "# remove the column representing feature average from the dataframe\n",
    "ohe_df.drop(['condition_3', 'grade_7'], axis=1, inplace=True)"
   ]
  },
  {
   "cell_type": "code",
   "execution_count": 130,
   "id": "f78fac36",
   "metadata": {
    "hidden": true
   },
   "outputs": [],
   "source": [
    "# concat the main dataframe df with the onehotencoded df we just made\n",
    "df = pd.concat([df, ohe_df], axis=1)\n",
    "\n",
    "# drop the original two features\n",
    "df.drop(['condition', 'grade'], axis=1, inplace=True)"
   ]
  },
  {
   "cell_type": "markdown",
   "id": "ebc699ca",
   "metadata": {
    "hidden": true
   },
   "source": [
    "## 'sqft_above'"
   ]
  },
  {
   "cell_type": "markdown",
   "id": "86ba88a6",
   "metadata": {
    "hidden": true
   },
   "source": [
    "This is the square footage of the home apart from the basement. There is likely some multicollinearity with other features like 'sqft_living', and 'sqft_basement'."
   ]
  },
  {
   "cell_type": "code",
   "execution_count": 133,
   "id": "1b7b99f9",
   "metadata": {
    "hidden": true
   },
   "outputs": [
    {
     "data": {
      "text/plain": [
       "count    21597.000000\n",
       "mean      1788.596842\n",
       "std        827.759761\n",
       "min        370.000000\n",
       "25%       1190.000000\n",
       "50%       1560.000000\n",
       "75%       2210.000000\n",
       "max       9410.000000\n",
       "Name: sqft_above, dtype: float64"
      ]
     },
     "execution_count": 133,
     "metadata": {},
     "output_type": "execute_result"
    }
   ],
   "source": [
    "df.sqft_above.describe()"
   ]
  },
  {
   "cell_type": "code",
   "execution_count": 134,
   "id": "824d8cdd",
   "metadata": {
    "hidden": true
   },
   "outputs": [
    {
     "data": {
      "image/png": "[encoded data removed]",
      "text/plain": [
       "<Figure size 432x288 with 1 Axes>"
      ]
     },
     "metadata": {
      "needs_background": "light"
     },
     "output_type": "display_data"
    }
   ],
   "source": [
    "sns.scatterplot(data=df, x='sqft_above', y='price', size=1, alpha=0.2);"
   ]
  },
  {
   "cell_type": "markdown",
   "id": "28b5249f",
   "metadata": {
    "hidden": true
   },
   "source": [
    "We will likely drop this feature to reduce multicollinearity. \n",
    "\n",
    "If we consider below that 60% of homes have no basement, then the relationship between 'sqft_living' and 'sqft_above' is likely very strong and probably experience high multicollinearity."
   ]
  },
  {
   "cell_type": "markdown",
   "id": "46dc281d",
   "metadata": {
    "hidden": true
   },
   "source": [
    "## 'sqft_basement'"
   ]
  },
  {
   "cell_type": "code",
   "execution_count": 135,
   "id": "0611f74f",
   "metadata": {
    "hidden": true
   },
   "outputs": [
    {
     "data": {
      "text/plain": [
       "0.0       0.593879\n",
       "?         0.021021\n",
       "600.0     0.010048\n",
       "500.0     0.009677\n",
       "700.0     0.009631\n",
       "            ...   \n",
       "1245.0    0.000046\n",
       "1990.0    0.000046\n",
       "768.0     0.000046\n",
       "2300.0    0.000046\n",
       "2250.0    0.000046\n",
       "Name: sqft_basement, Length: 304, dtype: float64"
      ]
     },
     "execution_count": 135,
     "metadata": {},
     "output_type": "execute_result"
    }
   ],
   "source": [
    "df.sqft_basement.value_counts(normalize=True)"
   ]
  },
  {
   "cell_type": "markdown",
   "id": "6dfffdd3",
   "metadata": {
    "hidden": true
   },
   "source": [
    "First, we need to address that not all of the values are numerical. 59% of the homes have 0.0 for basement square footage, meaning there is no basement. 2% of homes have a '?' value. We are going to assume that these question marks are also 0.0 values, that way we can have a numerical column."
   ]
  },
  {
   "cell_type": "code",
   "execution_count": 136,
   "id": "a6f76c91",
   "metadata": {
    "hidden": true
   },
   "outputs": [],
   "source": [
    "df.sqft_basement.replace(to_replace='?', value=0.0, inplace=True)\n",
    "df['sqft_basement'] = df.sqft_basement.astype('float')"
   ]
  },
  {
   "cell_type": "code",
   "execution_count": 137,
   "id": "3e282db1",
   "metadata": {
    "hidden": true
   },
   "outputs": [
    {
     "data": {
      "text/plain": [
       "count    8317.000000\n",
       "mean      741.928700\n",
       "std       404.765113\n",
       "min        10.000000\n",
       "25%       450.000000\n",
       "50%       700.000000\n",
       "75%       980.000000\n",
       "max      4820.000000\n",
       "Name: sqft_basement, dtype: float64"
      ]
     },
     "execution_count": 137,
     "metadata": {},
     "output_type": "execute_result"
    }
   ],
   "source": [
    "df[df.sqft_basement > 0].sqft_basement.describe()"
   ]
  },
  {
   "cell_type": "markdown",
   "id": "ee43d9a3",
   "metadata": {
    "hidden": true
   },
   "source": [
    "It's unclear if there will be multicollinearity with this feature or not. 40% of homes have basements, and those basements range from 10 to 4,800 ft$^{2}$.\n",
    "\n",
    "It seems more likely that to include this feature we may need to engineer it as a numeric boolean for if the property has a basement or not, or perhaps bin the values in some way."
   ]
  },
  {
   "cell_type": "code",
   "execution_count": 138,
   "id": "58297a8e",
   "metadata": {
    "hidden": true
   },
   "outputs": [
    {
     "data": {
      "image/png": "[encoded data removed]",
      "text/plain": [
       "<Figure size 432x288 with 1 Axes>"
      ]
     },
     "metadata": {
      "needs_background": "light"
     },
     "output_type": "display_data"
    }
   ],
   "source": [
    "sns.scatterplot(data=df, x='sqft_basement', y='price', size=1, alpha=0.2);"
   ]
  },
  {
   "cell_type": "markdown",
   "id": "a059dcc3",
   "metadata": {
    "hidden": true
   },
   "source": [
    "## 'yr_built'"
   ]
  },
  {
   "cell_type": "code",
   "execution_count": 139,
   "id": "6f3f3728",
   "metadata": {
    "hidden": true
   },
   "outputs": [
    {
     "data": {
      "text/plain": [
       "count    21597.000000\n",
       "mean      1970.999676\n",
       "std         29.375234\n",
       "min       1900.000000\n",
       "25%       1951.000000\n",
       "50%       1975.000000\n",
       "75%       1997.000000\n",
       "max       2015.000000\n",
       "Name: yr_built, dtype: float64"
      ]
     },
     "execution_count": 139,
     "metadata": {},
     "output_type": "execute_result"
    }
   ],
   "source": [
    "df.yr_built.describe()"
   ]
  },
  {
   "cell_type": "markdown",
   "id": "ec2179d4",
   "metadata": {
    "hidden": true
   },
   "source": [
    "Homes in our data were built between 1900 and 2015. Considering another feature is renovations and that is part of our business problem, it will be important to see the relationship between the build year, remodel year and sale year.\n",
    "\n",
    "We don't need to do anything to this column"
   ]
  },
  {
   "cell_type": "markdown",
   "id": "6ac699bf",
   "metadata": {
    "hidden": true
   },
   "source": [
    "## 'yr_renovated'"
   ]
  },
  {
   "cell_type": "markdown",
   "id": "e4610eee",
   "metadata": {
    "hidden": true
   },
   "source": [
    "There are some null values in this feature we saw at import that we will need to decide what to do with."
   ]
  },
  {
   "cell_type": "code",
   "execution_count": 140,
   "id": "a76ada33",
   "metadata": {
    "hidden": true,
    "scrolled": true
   },
   "outputs": [
    {
     "data": {
      "text/plain": [
       "0.0       0.958096\n",
       "2014.0    0.004112\n",
       "2003.0    0.001746\n",
       "2013.0    0.001746\n",
       "2007.0    0.001690\n",
       "            ...   \n",
       "1948.0    0.000056\n",
       "1951.0    0.000056\n",
       "1971.0    0.000056\n",
       "1934.0    0.000056\n",
       "1944.0    0.000056\n",
       "Name: yr_renovated, Length: 70, dtype: float64"
      ]
     },
     "execution_count": 140,
     "metadata": {},
     "output_type": "execute_result"
    }
   ],
   "source": [
    "df.yr_renovated.value_counts(normalize=True)"
   ]
  },
  {
   "cell_type": "markdown",
   "id": "4c4cfd9a",
   "metadata": {
    "hidden": true
   },
   "source": [
    "Over 95% of homes in our dataset have a value of 0.0, meaning the home has never been renovated. We assume that the null values are homes not renovated and set the value to 0.0"
   ]
  },
  {
   "cell_type": "code",
   "execution_count": 141,
   "id": "46f838de",
   "metadata": {
    "hidden": true
   },
   "outputs": [],
   "source": [
    "df['yr_renovated'].fillna(0.0, inplace=True)"
   ]
  },
  {
   "cell_type": "markdown",
   "id": "4246feef",
   "metadata": {
    "hidden": true
   },
   "source": [
    "It would be interesting to see the relationship between year built and year renovated, so we leave feature in for now.\n",
    "\n",
    "It may be the case that we separate out the feature into one that is a numerical boolean (which makes sense, because 96% of homes have not been renovated).\n",
    "\n",
    "It may also be the case that we not consider a home renovated if the renovation took place years before the home sale. It looks like there are some homes which were renovated in the 1930s and 1940s, they should not be considered renovated now.\n",
    "\n",
    "Some early research shows that to be considered 'renovations' it should have occurred within 15 years, so we may use that information to make more features about renovation status."
   ]
  },
  {
   "cell_type": "markdown",
   "id": "6f20fd57",
   "metadata": {
    "hidden": true
   },
   "source": [
    "## 'zipcode'"
   ]
  },
  {
   "cell_type": "code",
   "execution_count": 142,
   "id": "0694f172",
   "metadata": {
    "hidden": true
   },
   "outputs": [
    {
     "data": {
      "text/plain": [
       "98103    602\n",
       "98038    589\n",
       "98115    583\n",
       "98052    574\n",
       "98117    553\n",
       "        ... \n",
       "98102    104\n",
       "98010    100\n",
       "98024     80\n",
       "98148     57\n",
       "98039     50\n",
       "Name: zipcode, Length: 70, dtype: int64"
      ]
     },
     "execution_count": 142,
     "metadata": {},
     "output_type": "execute_result"
    }
   ],
   "source": [
    "df.zipcode.value_counts()"
   ]
  },
  {
   "cell_type": "markdown",
   "id": "c2996e04",
   "metadata": {
    "hidden": true
   },
   "source": [
    "There are 70 different zip codes in the county. Even the smallest zipcodes have 50 homes sold in the year our data was collected. \n",
    "\n",
    "We are going to leave the data in, and in order to do that we need to onehotencode it.\n",
    "\n",
    "It may be worthwhile to look at converting zip codes into cities and look at the data collectively that way."
   ]
  },
  {
   "cell_type": "code",
   "execution_count": 168,
   "id": "64523615",
   "metadata": {
    "hidden": true
   },
   "outputs": [],
   "source": [
    "# import already done\n",
    "\n",
    "# create temporary dataframe df_test with zipcode feature in it\n",
    "df_test = df[['zipcode']].copy()\n",
    "\n",
    "# create a onehotencoder, fit to df_test\n",
    "ohe = OneHotEncoder().fit(df_test)\n",
    "\n",
    "# create the array\n",
    "onehotarray = ohe.transform(df_test).toarray()\n",
    "\n",
    "# create a list of the sorted zipcodes to make column names\n",
    "ordered_zipcodes = sorted(list(df.zipcode.unique()))\n",
    "\n",
    "column_names = []\n",
    "# generate column_names to match values, 'zip_{zipcode}'\n",
    "for x in ordered_zipcodes:\n",
    "    column_names.append(f'zip_{x}')\n",
    "\n",
    "# create dataframe of array with correct column names\n",
    "ohe_df = pd.DataFrame(onehotarray, columns=column_names)\n",
    "\n",
    "# remove the column representing the most frequent value zipcode\n",
    "ohe_df.drop(['zip_98103'], axis=1, inplace=True)"
   ]
  },
  {
   "cell_type": "code",
   "execution_count": 171,
   "id": "bc13089d",
   "metadata": {
    "hidden": true
   },
   "outputs": [],
   "source": [
    "# concat the main dataframe df with the onehotencoded df we just made\n",
    "df = pd.concat([df, ohe_df], axis=1)\n",
    "\n",
    "# drop the original feature\n",
    "df.drop(['zipcode'], axis=1, inplace=True)"
   ]
  },
  {
   "cell_type": "markdown",
   "id": "e822f6af",
   "metadata": {
    "hidden": true
   },
   "source": [
    "## 'lat'"
   ]
  },
  {
   "cell_type": "code",
   "execution_count": 143,
   "id": "b68b5255",
   "metadata": {
    "hidden": true
   },
   "outputs": [
    {
     "data": {
      "text/plain": [
       "count    21597.000000\n",
       "mean        47.560093\n",
       "std          0.138552\n",
       "min         47.155900\n",
       "25%         47.471100\n",
       "50%         47.571800\n",
       "75%         47.678000\n",
       "max         47.777600\n",
       "Name: lat, dtype: float64"
      ]
     },
     "execution_count": 143,
     "metadata": {},
     "output_type": "execute_result"
    }
   ],
   "source": [
    "df.lat.describe()"
   ]
  },
  {
   "cell_type": "markdown",
   "id": "c06edd37",
   "metadata": {
    "hidden": true
   },
   "source": [
    "Latitude goes from 47.155900 to 47.777600\n",
    "\n",
    "We may use this data for mapping, no processing needed."
   ]
  },
  {
   "cell_type": "markdown",
   "id": "c0e930ac",
   "metadata": {
    "hidden": true
   },
   "source": [
    "## 'long'"
   ]
  },
  {
   "cell_type": "code",
   "execution_count": 144,
   "id": "e5f8f8de",
   "metadata": {
    "hidden": true
   },
   "outputs": [
    {
     "data": {
      "text/plain": [
       "count    21597.000000\n",
       "mean      -122.213982\n",
       "std          0.140724\n",
       "min       -122.519000\n",
       "25%       -122.328000\n",
       "50%       -122.231000\n",
       "75%       -122.125000\n",
       "max       -121.315000\n",
       "Name: long, dtype: float64"
      ]
     },
     "execution_count": 144,
     "metadata": {},
     "output_type": "execute_result"
    }
   ],
   "source": [
    "df.long.describe()"
   ]
  },
  {
   "cell_type": "markdown",
   "id": "0adf5713",
   "metadata": {
    "hidden": true
   },
   "source": [
    "Longitude goes from -122.519000 to -121.315000.\n",
    "\n",
    "Combined with 'lat' we can plot the locations of our our sold homes on a map and look for patterns"
   ]
  },
  {
   "cell_type": "markdown",
   "id": "ad950057",
   "metadata": {
    "hidden": true
   },
   "source": [
    "## 'sqft_living15'"
   ]
  },
  {
   "cell_type": "code",
   "execution_count": 173,
   "id": "b9242449",
   "metadata": {
    "hidden": true,
    "scrolled": true
   },
   "outputs": [
    {
     "data": {
      "text/plain": [
       "count    21597.000000\n",
       "mean      1986.620318\n",
       "std        685.230472\n",
       "min        399.000000\n",
       "25%       1490.000000\n",
       "50%       1840.000000\n",
       "75%       2360.000000\n",
       "max       6210.000000\n",
       "Name: sqft_living15, dtype: float64"
      ]
     },
     "execution_count": 173,
     "metadata": {},
     "output_type": "execute_result"
    }
   ],
   "source": [
    "df.sqft_living15.describe()"
   ]
  },
  {
   "cell_type": "markdown",
   "id": "fc99dbd5",
   "metadata": {
    "hidden": true
   },
   "source": [
    "Per the data notes, these values are the square footage of interior housing living space for the nearest 15 neighbors. It looks to already be an average value, we do not need to engineer anything."
   ]
  },
  {
   "cell_type": "markdown",
   "id": "da74b0bc",
   "metadata": {
    "hidden": true
   },
   "source": [
    "## 'sqft_lot15'"
   ]
  },
  {
   "cell_type": "code",
   "execution_count": 174,
   "id": "93957107",
   "metadata": {
    "hidden": true
   },
   "outputs": [
    {
     "data": {
      "text/plain": [
       "count     21597.000000\n",
       "mean      12758.283512\n",
       "std       27274.441950\n",
       "min         651.000000\n",
       "25%        5100.000000\n",
       "50%        7620.000000\n",
       "75%       10083.000000\n",
       "max      871200.000000\n",
       "Name: sqft_lot15, dtype: float64"
      ]
     },
     "execution_count": 174,
     "metadata": {},
     "output_type": "execute_result"
    }
   ],
   "source": [
    "df.sqft_lot15.describe()"
   ]
  },
  {
   "cell_type": "markdown",
   "id": "757e6252",
   "metadata": {
    "hidden": true
   },
   "source": [
    "Again, based on data notes and experience with the dataset (and values from the other 'sqft_lot' feature), these values are the average lot for the 15 nearest neighbors to the property.\n",
    "\n",
    "While not interesting in on it's own, it may help us categorize neighborhoods? We will see"
   ]
  },
  {
   "cell_type": "markdown",
   "id": "0339ec47",
   "metadata": {
    "hidden": true
   },
   "source": [
    "## date extrapolation"
   ]
  },
  {
   "cell_type": "markdown",
   "id": "12d8dc22",
   "metadata": {
    "hidden": true
   },
   "source": [
    "Adding two features, for the month and year of the sale derived from the datetime feature 'date'. This is because we can't put a datetime object into a linear model (we found this out the hard way)"
   ]
  },
  {
   "cell_type": "code",
   "execution_count": 176,
   "id": "8a1a700c",
   "metadata": {
    "hidden": true
   },
   "outputs": [],
   "source": [
    "df['sale_month'] = df.date.map(lambda x: x.month)\n",
    "df['sale_year'] = df.date.map(lambda x: x.year)"
   ]
  },
  {
   "cell_type": "markdown",
   "id": "1d9866e8",
   "metadata": {},
   "source": [
    "# Baseline model"
   ]
  },
  {
   "cell_type": "code",
   "execution_count": 177,
   "id": "6826a7bd",
   "metadata": {},
   "outputs": [],
   "source": [
    "# cannot use datetime object in linear regression. we pulled out the sale\n",
    "# month and year from it as separate features for baseline model\n",
    "# X (predictors) is all features BUT 'date' and 'price'\n",
    "X = df.drop(['date', 'price'], axis=1)\n",
    "y = df.price"
   ]
  },
  {
   "cell_type": "code",
   "execution_count": 178,
   "id": "7f6f9a3e",
   "metadata": {},
   "outputs": [],
   "source": [
    "# perform train/test split\n",
    "X_train, X_test, y_train, y_test = train_test_split(X, y, test_size=0.2,\n",
    "                                                   random_state=0)"
   ]
  },
  {
   "cell_type": "code",
   "execution_count": 179,
   "id": "42092a4c",
   "metadata": {},
   "outputs": [
    {
     "name": "stdout",
     "output_type": "stream",
     "text": [
      "Single model fit score: 0.8378526339605419\n"
     ]
    }
   ],
   "source": [
    "baseline_model = LinearRegression()\n",
    "baseline_model.fit(X_train,y_train)\n",
    "\n",
    "print('Single model fit score:', baseline_model.score(X_test,y_test))"
   ]
  },
  {
   "cell_type": "code",
   "execution_count": 180,
   "id": "d28fa79f",
   "metadata": {},
   "outputs": [
    {
     "name": "stdout",
     "output_type": "stream",
     "text": [
      "Train score: 0.8296672971516592\n",
      "Test score: 0.836589486071557\n"
     ]
    }
   ],
   "source": [
    "splitter = ShuffleSplit(n_splits=5, test_size=0.2, random_state=0)\n",
    "\n",
    "baseline_scores = cross_validate(estimator=baseline_model, X=X_train,\n",
    "                                 y=y_train, return_train_score=True, \n",
    "                                 cv=splitter)\n",
    "\n",
    "print('------------------------------------')\n",
    "print('Cross Validation Scores on X_train')\n",
    "print('Train score:', baseline_scores['train_score'].mean())\n",
    "print('Test score:', baseline_scores['test_score'].mean())"
   ]
  },
  {
   "cell_type": "code",
   "execution_count": 181,
   "id": "bcbdefd3",
   "metadata": {
    "scrolled": false
   },
   "outputs": [
    {
     "data": {
      "text/html": [
       "<table class=\"simpletable\">\n",
       "<caption>OLS Regression Results</caption>\n",
       "<tr>\n",
       "  <th>Dep. Variable:</th>          <td>price</td>      <th>  R-squared:         </th>  <td>   0.831</td>  \n",
       "</tr>\n",
       "<tr>\n",
       "  <th>Model:</th>                   <td>OLS</td>       <th>  Adj. R-squared:    </th>  <td>   0.830</td>  \n",
       "</tr>\n",
       "<tr>\n",
       "  <th>Method:</th>             <td>Least Squares</td>  <th>  F-statistic:       </th>  <td>   822.3</td>  \n",
       "</tr>\n",
       "<tr>\n",
       "  <th>Date:</th>             <td>Tue, 30 Nov 2021</td> <th>  Prob (F-statistic):</th>   <td>  0.00</td>   \n",
       "</tr>\n",
       "<tr>\n",
       "  <th>Time:</th>                 <td>22:24:08</td>     <th>  Log-Likelihood:    </th> <td>-2.3080e+05</td>\n",
       "</tr>\n",
       "<tr>\n",
       "  <th>No. Observations:</th>      <td> 17277</td>      <th>  AIC:               </th>  <td>4.618e+05</td> \n",
       "</tr>\n",
       "<tr>\n",
       "  <th>Df Residuals:</th>          <td> 17173</td>      <th>  BIC:               </th>  <td>4.626e+05</td> \n",
       "</tr>\n",
       "<tr>\n",
       "  <th>Df Model:</th>              <td>   103</td>      <th>                     </th>      <td> </td>     \n",
       "</tr>\n",
       "<tr>\n",
       "  <th>Covariance Type:</th>      <td>nonrobust</td>    <th>                     </th>      <td> </td>     \n",
       "</tr>\n",
       "</table>\n",
       "<table class=\"simpletable\">\n",
       "<tr>\n",
       "        <td></td>           <th>coef</th>     <th>std err</th>      <th>t</th>      <th>P>|t|</th>  <th>[0.025</th>    <th>0.975]</th>  \n",
       "</tr>\n",
       "<tr>\n",
       "  <th>const</th>         <td>-1.181e+08</td> <td> 1.04e+07</td> <td>  -11.325</td> <td> 0.000</td> <td>-1.39e+08</td> <td>-9.77e+07</td>\n",
       "</tr>\n",
       "<tr>\n",
       "  <th>sqft_living</th>   <td>  122.2122</td> <td>   14.857</td> <td>    8.226</td> <td> 0.000</td> <td>   93.091</td> <td>  151.334</td>\n",
       "</tr>\n",
       "<tr>\n",
       "  <th>sqft_lot</th>      <td>    0.2127</td> <td>    0.042</td> <td>    5.070</td> <td> 0.000</td> <td>    0.130</td> <td>    0.295</td>\n",
       "</tr>\n",
       "<tr>\n",
       "  <th>waterfront</th>    <td> 7.204e+05</td> <td> 1.49e+04</td> <td>   48.243</td> <td> 0.000</td> <td> 6.91e+05</td> <td>  7.5e+05</td>\n",
       "</tr>\n",
       "<tr>\n",
       "  <th>view</th>          <td> 1.162e+05</td> <td> 4580.013</td> <td>   25.365</td> <td> 0.000</td> <td> 1.07e+05</td> <td> 1.25e+05</td>\n",
       "</tr>\n",
       "<tr>\n",
       "  <th>sqft_above</th>    <td>   51.6296</td> <td>   15.000</td> <td>    3.442</td> <td> 0.001</td> <td>   22.229</td> <td>   81.031</td>\n",
       "</tr>\n",
       "<tr>\n",
       "  <th>sqft_basement</th> <td>   13.6242</td> <td>   14.787</td> <td>    0.921</td> <td> 0.357</td> <td>  -15.360</td> <td>   42.609</td>\n",
       "</tr>\n",
       "<tr>\n",
       "  <th>yr_built</th>      <td>   70.9797</td> <td>   71.401</td> <td>    0.994</td> <td> 0.320</td> <td>  -68.973</td> <td>  210.932</td>\n",
       "</tr>\n",
       "<tr>\n",
       "  <th>yr_renovated</th>  <td>   37.1403</td> <td>    3.409</td> <td>   10.894</td> <td> 0.000</td> <td>   30.458</td> <td>   43.823</td>\n",
       "</tr>\n",
       "<tr>\n",
       "  <th>lat</th>           <td> 1.972e+05</td> <td> 6.74e+04</td> <td>    2.926</td> <td> 0.003</td> <td> 6.51e+04</td> <td> 3.29e+05</td>\n",
       "</tr>\n",
       "<tr>\n",
       "  <th>long</th>          <td>-2.496e+05</td> <td> 4.87e+04</td> <td>   -5.124</td> <td> 0.000</td> <td>-3.45e+05</td> <td>-1.54e+05</td>\n",
       "</tr>\n",
       "<tr>\n",
       "  <th>sqft_living15</th> <td>   17.2285</td> <td>    3.112</td> <td>    5.536</td> <td> 0.000</td> <td>   11.129</td> <td>   23.328</td>\n",
       "</tr>\n",
       "<tr>\n",
       "  <th>sqft_lot15</th>    <td>   -0.1322</td> <td>    0.064</td> <td>   -2.074</td> <td> 0.038</td> <td>   -0.257</td> <td>   -0.007</td>\n",
       "</tr>\n",
       "<tr>\n",
       "  <th>bedrooms_1_2</th>  <td> 1.122e+05</td> <td> 2.27e+04</td> <td>    4.944</td> <td> 0.000</td> <td> 6.77e+04</td> <td> 1.57e+05</td>\n",
       "</tr>\n",
       "<tr>\n",
       "  <th>bedrooms_3_4</th>  <td>  1.16e+05</td> <td> 2.23e+04</td> <td>    5.210</td> <td> 0.000</td> <td> 7.23e+04</td> <td>  1.6e+05</td>\n",
       "</tr>\n",
       "<tr>\n",
       "  <th>bedrooms_5_6</th>  <td>  9.67e+04</td> <td> 2.23e+04</td> <td>    4.331</td> <td> 0.000</td> <td> 5.29e+04</td> <td>  1.4e+05</td>\n",
       "</tr>\n",
       "<tr>\n",
       "  <th>bathrooms_1</th>   <td> 1.556e+04</td> <td> 4179.442</td> <td>    3.722</td> <td> 0.000</td> <td> 7363.370</td> <td> 2.37e+04</td>\n",
       "</tr>\n",
       "<tr>\n",
       "  <th>bathrooms_3</th>   <td>-1.507e+04</td> <td> 2974.974</td> <td>   -5.067</td> <td> 0.000</td> <td>-2.09e+04</td> <td>-9241.670</td>\n",
       "</tr>\n",
       "<tr>\n",
       "  <th>floors_1</th>      <td> 5.508e+04</td> <td> 8827.676</td> <td>    6.239</td> <td> 0.000</td> <td> 3.78e+04</td> <td> 7.24e+04</td>\n",
       "</tr>\n",
       "<tr>\n",
       "  <th>floors_2</th>      <td> 4.127e+04</td> <td> 8101.775</td> <td>    5.094</td> <td> 0.000</td> <td> 2.54e+04</td> <td> 5.71e+04</td>\n",
       "</tr>\n",
       "<tr>\n",
       "  <th>condition_1</th>   <td>-8.917e+04</td> <td> 3.25e+04</td> <td>   -2.746</td> <td> 0.006</td> <td>-1.53e+05</td> <td>-2.55e+04</td>\n",
       "</tr>\n",
       "<tr>\n",
       "  <th>condition_2</th>   <td>-9717.8156</td> <td> 1.34e+04</td> <td>   -0.726</td> <td> 0.468</td> <td> -3.6e+04</td> <td> 1.65e+04</td>\n",
       "</tr>\n",
       "<tr>\n",
       "  <th>condition_4</th>   <td> 2.689e+04</td> <td> 3079.099</td> <td>    8.732</td> <td> 0.000</td> <td> 2.08e+04</td> <td> 3.29e+04</td>\n",
       "</tr>\n",
       "<tr>\n",
       "  <th>condition_5</th>   <td> 7.876e+04</td> <td> 4816.613</td> <td>   16.351</td> <td> 0.000</td> <td> 6.93e+04</td> <td> 8.82e+04</td>\n",
       "</tr>\n",
       "<tr>\n",
       "  <th>grade_3</th>       <td>  6.61e-09</td> <td> 1.55e-09</td> <td>    4.277</td> <td> 0.000</td> <td> 3.58e-09</td> <td> 9.64e-09</td>\n",
       "</tr>\n",
       "<tr>\n",
       "  <th>grade_4</th>       <td> 5.392e+04</td> <td> 3.68e+04</td> <td>    1.466</td> <td> 0.143</td> <td>-1.82e+04</td> <td> 1.26e+05</td>\n",
       "</tr>\n",
       "<tr>\n",
       "  <th>grade_5</th>       <td>-3930.6668</td> <td>  1.2e+04</td> <td>   -0.326</td> <td> 0.744</td> <td>-2.75e+04</td> <td> 1.97e+04</td>\n",
       "</tr>\n",
       "<tr>\n",
       "  <th>grade_6</th>       <td>-6418.9727</td> <td> 4850.974</td> <td>   -1.323</td> <td> 0.186</td> <td>-1.59e+04</td> <td> 3089.432</td>\n",
       "</tr>\n",
       "<tr>\n",
       "  <th>grade_8</th>       <td>  2.65e+04</td> <td> 3443.999</td> <td>    7.694</td> <td> 0.000</td> <td> 1.97e+04</td> <td> 3.32e+04</td>\n",
       "</tr>\n",
       "<tr>\n",
       "  <th>grade_9</th>       <td> 9.989e+04</td> <td> 5278.479</td> <td>   18.923</td> <td> 0.000</td> <td> 8.95e+04</td> <td>  1.1e+05</td>\n",
       "</tr>\n",
       "<tr>\n",
       "  <th>grade_10</th>      <td> 2.194e+05</td> <td> 7608.891</td> <td>   28.834</td> <td> 0.000</td> <td> 2.04e+05</td> <td> 2.34e+05</td>\n",
       "</tr>\n",
       "<tr>\n",
       "  <th>grade_11</th>      <td> 4.266e+05</td> <td> 1.15e+04</td> <td>   37.216</td> <td> 0.000</td> <td> 4.04e+05</td> <td> 4.49e+05</td>\n",
       "</tr>\n",
       "<tr>\n",
       "  <th>grade_12</th>      <td> 8.406e+05</td> <td> 2.09e+04</td> <td>   40.190</td> <td> 0.000</td> <td>    8e+05</td> <td> 8.82e+05</td>\n",
       "</tr>\n",
       "<tr>\n",
       "  <th>grade_13</th>      <td> 1.952e+06</td> <td> 4.52e+04</td> <td>   43.191</td> <td> 0.000</td> <td> 1.86e+06</td> <td> 2.04e+06</td>\n",
       "</tr>\n",
       "<tr>\n",
       "  <th>zip_98001</th>     <td>-2.721e+05</td> <td> 2.74e+04</td> <td>   -9.921</td> <td> 0.000</td> <td>-3.26e+05</td> <td>-2.18e+05</td>\n",
       "</tr>\n",
       "<tr>\n",
       "  <th>zip_98002</th>     <td>-2.476e+05</td> <td>  2.9e+04</td> <td>   -8.546</td> <td> 0.000</td> <td>-3.04e+05</td> <td>-1.91e+05</td>\n",
       "</tr>\n",
       "<tr>\n",
       "  <th>zip_98003</th>     <td>-2.835e+05</td> <td> 2.77e+04</td> <td>  -10.250</td> <td> 0.000</td> <td>-3.38e+05</td> <td>-2.29e+05</td>\n",
       "</tr>\n",
       "<tr>\n",
       "  <th>zip_98004</th>     <td> 4.704e+05</td> <td> 1.47e+04</td> <td>   31.922</td> <td> 0.000</td> <td> 4.41e+05</td> <td> 4.99e+05</td>\n",
       "</tr>\n",
       "<tr>\n",
       "  <th>zip_98005</th>     <td> 8485.9218</td> <td> 1.78e+04</td> <td>    0.476</td> <td> 0.634</td> <td>-2.65e+04</td> <td> 4.35e+04</td>\n",
       "</tr>\n",
       "<tr>\n",
       "  <th>zip_98006</th>     <td>-4.249e+04</td> <td> 1.63e+04</td> <td>   -2.600</td> <td> 0.009</td> <td>-7.45e+04</td> <td>-1.05e+04</td>\n",
       "</tr>\n",
       "<tr>\n",
       "  <th>zip_98007</th>     <td>-4.558e+04</td> <td> 1.98e+04</td> <td>   -2.305</td> <td> 0.021</td> <td>-8.43e+04</td> <td>-6817.787</td>\n",
       "</tr>\n",
       "<tr>\n",
       "  <th>zip_98008</th>     <td>-2.419e+04</td> <td> 1.72e+04</td> <td>   -1.404</td> <td> 0.160</td> <td> -5.8e+04</td> <td> 9576.048</td>\n",
       "</tr>\n",
       "<tr>\n",
       "  <th>zip_98010</th>     <td>-1.575e+05</td> <td> 3.31e+04</td> <td>   -4.758</td> <td> 0.000</td> <td>-2.22e+05</td> <td>-9.26e+04</td>\n",
       "</tr>\n",
       "<tr>\n",
       "  <th>zip_98011</th>     <td>-2.024e+05</td> <td> 1.72e+04</td> <td>  -11.748</td> <td> 0.000</td> <td>-2.36e+05</td> <td>-1.69e+05</td>\n",
       "</tr>\n",
       "<tr>\n",
       "  <th>zip_98014</th>     <td>-1.447e+05</td> <td>    3e+04</td> <td>   -4.828</td> <td> 0.000</td> <td>-2.03e+05</td> <td> -8.6e+04</td>\n",
       "</tr>\n",
       "<tr>\n",
       "  <th>zip_98019</th>     <td>-1.777e+05</td> <td> 2.45e+04</td> <td>   -7.266</td> <td> 0.000</td> <td>-2.26e+05</td> <td> -1.3e+05</td>\n",
       "</tr>\n",
       "<tr>\n",
       "  <th>zip_98022</th>     <td>-1.974e+05</td> <td> 3.71e+04</td> <td>   -5.317</td> <td> 0.000</td> <td> -2.7e+05</td> <td>-1.25e+05</td>\n",
       "</tr>\n",
       "<tr>\n",
       "  <th>zip_98023</th>     <td>-3.239e+05</td> <td> 2.72e+04</td> <td>  -11.923</td> <td> 0.000</td> <td>-3.77e+05</td> <td>-2.71e+05</td>\n",
       "</tr>\n",
       "<tr>\n",
       "  <th>zip_98024</th>     <td>-6.947e+04</td> <td> 3.02e+04</td> <td>   -2.298</td> <td> 0.022</td> <td>-1.29e+05</td> <td>-1.02e+04</td>\n",
       "</tr>\n",
       "<tr>\n",
       "  <th>zip_98027</th>     <td>-8.286e+04</td> <td> 2.07e+04</td> <td>   -4.004</td> <td> 0.000</td> <td>-1.23e+05</td> <td>-4.23e+04</td>\n",
       "</tr>\n",
       "<tr>\n",
       "  <th>zip_98028</th>     <td>-2.154e+05</td> <td> 1.47e+04</td> <td>  -14.658</td> <td> 0.000</td> <td>-2.44e+05</td> <td>-1.87e+05</td>\n",
       "</tr>\n",
       "<tr>\n",
       "  <th>zip_98029</th>     <td>-2.466e+04</td> <td> 2.16e+04</td> <td>   -1.144</td> <td> 0.253</td> <td>-6.69e+04</td> <td> 1.76e+04</td>\n",
       "</tr>\n",
       "<tr>\n",
       "  <th>zip_98030</th>     <td>-2.567e+05</td> <td> 2.52e+04</td> <td>  -10.188</td> <td> 0.000</td> <td>-3.06e+05</td> <td>-2.07e+05</td>\n",
       "</tr>\n",
       "<tr>\n",
       "  <th>zip_98031</th>     <td>-2.475e+05</td> <td> 2.33e+04</td> <td>  -10.632</td> <td> 0.000</td> <td>-2.93e+05</td> <td>-2.02e+05</td>\n",
       "</tr>\n",
       "<tr>\n",
       "  <th>zip_98032</th>     <td>-2.805e+05</td> <td> 2.65e+04</td> <td>  -10.585</td> <td> 0.000</td> <td>-3.32e+05</td> <td>-2.29e+05</td>\n",
       "</tr>\n",
       "<tr>\n",
       "  <th>zip_98033</th>     <td> 4.228e+04</td> <td> 1.37e+04</td> <td>    3.091</td> <td> 0.002</td> <td> 1.55e+04</td> <td> 6.91e+04</td>\n",
       "</tr>\n",
       "<tr>\n",
       "  <th>zip_98034</th>     <td>-1.282e+05</td> <td>  1.3e+04</td> <td>   -9.848</td> <td> 0.000</td> <td>-1.54e+05</td> <td>-1.03e+05</td>\n",
       "</tr>\n",
       "<tr>\n",
       "  <th>zip_98038</th>     <td>-1.864e+05</td> <td> 2.68e+04</td> <td>   -6.946</td> <td> 0.000</td> <td>-2.39e+05</td> <td>-1.34e+05</td>\n",
       "</tr>\n",
       "<tr>\n",
       "  <th>zip_98039</th>     <td> 9.067e+05</td> <td> 2.65e+04</td> <td>   34.170</td> <td> 0.000</td> <td> 8.55e+05</td> <td> 9.59e+05</td>\n",
       "</tr>\n",
       "<tr>\n",
       "  <th>zip_98040</th>     <td> 1.993e+05</td> <td> 1.61e+04</td> <td>   12.416</td> <td> 0.000</td> <td> 1.68e+05</td> <td> 2.31e+05</td>\n",
       "</tr>\n",
       "<tr>\n",
       "  <th>zip_98042</th>     <td>-2.367e+05</td> <td> 2.54e+04</td> <td>   -9.327</td> <td> 0.000</td> <td>-2.86e+05</td> <td>-1.87e+05</td>\n",
       "</tr>\n",
       "<tr>\n",
       "  <th>zip_98045</th>     <td>-7.754e+04</td> <td> 3.37e+04</td> <td>   -2.303</td> <td> 0.021</td> <td>-1.44e+05</td> <td>-1.15e+04</td>\n",
       "</tr>\n",
       "<tr>\n",
       "  <th>zip_98052</th>     <td>-6.192e+04</td> <td> 1.52e+04</td> <td>   -4.063</td> <td> 0.000</td> <td>-9.18e+04</td> <td> -3.2e+04</td>\n",
       "</tr>\n",
       "<tr>\n",
       "  <th>zip_98053</th>     <td>-6.742e+04</td> <td> 1.95e+04</td> <td>   -3.452</td> <td> 0.001</td> <td>-1.06e+05</td> <td>-2.91e+04</td>\n",
       "</tr>\n",
       "<tr>\n",
       "  <th>zip_98055</th>     <td>-2.415e+05</td> <td> 2.04e+04</td> <td>  -11.827</td> <td> 0.000</td> <td>-2.82e+05</td> <td>-2.02e+05</td>\n",
       "</tr>\n",
       "<tr>\n",
       "  <th>zip_98056</th>     <td>-2.002e+05</td> <td> 1.75e+04</td> <td>  -11.418</td> <td> 0.000</td> <td>-2.35e+05</td> <td>-1.66e+05</td>\n",
       "</tr>\n",
       "<tr>\n",
       "  <th>zip_98058</th>     <td>-2.306e+05</td> <td> 2.09e+04</td> <td>  -11.031</td> <td> 0.000</td> <td>-2.72e+05</td> <td> -1.9e+05</td>\n",
       "</tr>\n",
       "<tr>\n",
       "  <th>zip_98059</th>     <td>-1.926e+05</td> <td> 1.89e+04</td> <td>  -10.183</td> <td> 0.000</td> <td> -2.3e+05</td> <td>-1.56e+05</td>\n",
       "</tr>\n",
       "<tr>\n",
       "  <th>zip_98065</th>     <td>-1.208e+05</td> <td> 2.77e+04</td> <td>   -4.356</td> <td> 0.000</td> <td>-1.75e+05</td> <td>-6.65e+04</td>\n",
       "</tr>\n",
       "<tr>\n",
       "  <th>zip_98070</th>     <td>-3.253e+05</td> <td> 2.59e+04</td> <td>  -12.553</td> <td> 0.000</td> <td>-3.76e+05</td> <td>-2.74e+05</td>\n",
       "</tr>\n",
       "<tr>\n",
       "  <th>zip_98072</th>     <td>-1.611e+05</td> <td> 1.77e+04</td> <td>   -9.108</td> <td> 0.000</td> <td>-1.96e+05</td> <td>-1.26e+05</td>\n",
       "</tr>\n",
       "<tr>\n",
       "  <th>zip_98074</th>     <td>-9.031e+04</td> <td> 1.85e+04</td> <td>   -4.869</td> <td> 0.000</td> <td>-1.27e+05</td> <td> -5.4e+04</td>\n",
       "</tr>\n",
       "<tr>\n",
       "  <th>zip_98075</th>     <td>-9.277e+04</td> <td> 2.04e+04</td> <td>   -4.558</td> <td> 0.000</td> <td>-1.33e+05</td> <td>-5.29e+04</td>\n",
       "</tr>\n",
       "<tr>\n",
       "  <th>zip_98077</th>     <td>-1.877e+05</td> <td> 2.09e+04</td> <td>   -8.980</td> <td> 0.000</td> <td>-2.29e+05</td> <td>-1.47e+05</td>\n",
       "</tr>\n",
       "<tr>\n",
       "  <th>zip_98092</th>     <td>-2.674e+05</td> <td> 2.88e+04</td> <td>   -9.275</td> <td> 0.000</td> <td>-3.24e+05</td> <td>-2.11e+05</td>\n",
       "</tr>\n",
       "<tr>\n",
       "  <th>zip_98102</th>     <td> 1.523e+05</td> <td> 1.79e+04</td> <td>    8.483</td> <td> 0.000</td> <td> 1.17e+05</td> <td> 1.87e+05</td>\n",
       "</tr>\n",
       "<tr>\n",
       "  <th>zip_98105</th>     <td>  1.47e+05</td> <td> 1.36e+04</td> <td>   10.794</td> <td> 0.000</td> <td>  1.2e+05</td> <td> 1.74e+05</td>\n",
       "</tr>\n",
       "<tr>\n",
       "  <th>zip_98106</th>     <td>-2.078e+05</td> <td> 1.54e+04</td> <td>  -13.481</td> <td> 0.000</td> <td>-2.38e+05</td> <td>-1.78e+05</td>\n",
       "</tr>\n",
       "<tr>\n",
       "  <th>zip_98107</th>     <td> 2028.3543</td> <td> 1.29e+04</td> <td>    0.158</td> <td> 0.875</td> <td>-2.32e+04</td> <td> 2.72e+04</td>\n",
       "</tr>\n",
       "<tr>\n",
       "  <th>zip_98108</th>     <td> -2.02e+05</td> <td> 1.71e+04</td> <td>  -11.807</td> <td> 0.000</td> <td>-2.36e+05</td> <td>-1.68e+05</td>\n",
       "</tr>\n",
       "<tr>\n",
       "  <th>zip_98109</th>     <td> 1.733e+05</td> <td>  1.8e+04</td> <td>    9.603</td> <td> 0.000</td> <td> 1.38e+05</td> <td> 2.09e+05</td>\n",
       "</tr>\n",
       "<tr>\n",
       "  <th>zip_98112</th>     <td> 3.019e+05</td> <td> 1.33e+04</td> <td>   22.638</td> <td> 0.000</td> <td> 2.76e+05</td> <td> 3.28e+05</td>\n",
       "</tr>\n",
       "<tr>\n",
       "  <th>zip_98115</th>     <td>-4472.1188</td> <td> 1.03e+04</td> <td>   -0.433</td> <td> 0.665</td> <td>-2.47e+04</td> <td> 1.58e+04</td>\n",
       "</tr>\n",
       "<tr>\n",
       "  <th>zip_98116</th>     <td> -4.71e+04</td> <td> 1.41e+04</td> <td>   -3.335</td> <td> 0.001</td> <td>-7.48e+04</td> <td>-1.94e+04</td>\n",
       "</tr>\n",
       "<tr>\n",
       "  <th>zip_98117</th>     <td>-3.767e+04</td> <td> 1.04e+04</td> <td>   -3.634</td> <td> 0.000</td> <td> -5.8e+04</td> <td>-1.74e+04</td>\n",
       "</tr>\n",
       "<tr>\n",
       "  <th>zip_98118</th>     <td>-1.521e+05</td> <td>  1.4e+04</td> <td>  -10.827</td> <td> 0.000</td> <td> -1.8e+05</td> <td>-1.25e+05</td>\n",
       "</tr>\n",
       "<tr>\n",
       "  <th>zip_98119</th>     <td> 1.453e+05</td> <td>  1.5e+04</td> <td>    9.705</td> <td> 0.000</td> <td> 1.16e+05</td> <td> 1.75e+05</td>\n",
       "</tr>\n",
       "<tr>\n",
       "  <th>zip_98122</th>     <td> 2.533e+04</td> <td> 1.34e+04</td> <td>    1.884</td> <td> 0.060</td> <td>-1029.078</td> <td> 5.17e+04</td>\n",
       "</tr>\n",
       "<tr>\n",
       "  <th>zip_98125</th>     <td> -1.47e+05</td> <td> 1.18e+04</td> <td>  -12.438</td> <td> 0.000</td> <td> -1.7e+05</td> <td>-1.24e+05</td>\n",
       "</tr>\n",
       "<tr>\n",
       "  <th>zip_98126</th>     <td>-1.492e+05</td> <td> 1.49e+04</td> <td>  -10.018</td> <td> 0.000</td> <td>-1.78e+05</td> <td> -1.2e+05</td>\n",
       "</tr>\n",
       "<tr>\n",
       "  <th>zip_98133</th>     <td>-2.062e+05</td> <td> 1.14e+04</td> <td>  -18.095</td> <td> 0.000</td> <td>-2.29e+05</td> <td>-1.84e+05</td>\n",
       "</tr>\n",
       "<tr>\n",
       "  <th>zip_98136</th>     <td>-9.527e+04</td> <td>  1.6e+04</td> <td>   -5.968</td> <td> 0.000</td> <td>-1.27e+05</td> <td> -6.4e+04</td>\n",
       "</tr>\n",
       "<tr>\n",
       "  <th>zip_98144</th>     <td>-5.099e+04</td> <td> 1.33e+04</td> <td>   -3.822</td> <td> 0.000</td> <td>-7.71e+04</td> <td>-2.48e+04</td>\n",
       "</tr>\n",
       "<tr>\n",
       "  <th>zip_98146</th>     <td>-2.329e+05</td> <td> 1.74e+04</td> <td>  -13.383</td> <td> 0.000</td> <td>-2.67e+05</td> <td>-1.99e+05</td>\n",
       "</tr>\n",
       "<tr>\n",
       "  <th>zip_98148</th>     <td>-2.408e+05</td> <td>  2.9e+04</td> <td>   -8.309</td> <td> 0.000</td> <td>-2.98e+05</td> <td>-1.84e+05</td>\n",
       "</tr>\n",
       "<tr>\n",
       "  <th>zip_98155</th>     <td>-2.157e+05</td> <td> 1.25e+04</td> <td>  -17.217</td> <td> 0.000</td> <td> -2.4e+05</td> <td>-1.91e+05</td>\n",
       "</tr>\n",
       "<tr>\n",
       "  <th>zip_98166</th>     <td>-2.571e+05</td> <td>    2e+04</td> <td>  -12.882</td> <td> 0.000</td> <td>-2.96e+05</td> <td>-2.18e+05</td>\n",
       "</tr>\n",
       "<tr>\n",
       "  <th>zip_98168</th>     <td>-2.585e+05</td> <td> 1.82e+04</td> <td>  -14.229</td> <td> 0.000</td> <td>-2.94e+05</td> <td>-2.23e+05</td>\n",
       "</tr>\n",
       "<tr>\n",
       "  <th>zip_98177</th>     <td>-1.539e+05</td> <td> 1.38e+04</td> <td>  -11.176</td> <td> 0.000</td> <td>-1.81e+05</td> <td>-1.27e+05</td>\n",
       "</tr>\n",
       "<tr>\n",
       "  <th>zip_98178</th>     <td>-2.715e+05</td> <td> 1.81e+04</td> <td>  -14.967</td> <td> 0.000</td> <td>-3.07e+05</td> <td>-2.36e+05</td>\n",
       "</tr>\n",
       "<tr>\n",
       "  <th>zip_98188</th>     <td>-2.691e+05</td> <td> 2.28e+04</td> <td>  -11.817</td> <td> 0.000</td> <td>-3.14e+05</td> <td>-2.24e+05</td>\n",
       "</tr>\n",
       "<tr>\n",
       "  <th>zip_98198</th>     <td>-3.001e+05</td> <td> 2.31e+04</td> <td>  -12.979</td> <td> 0.000</td> <td>-3.45e+05</td> <td>-2.55e+05</td>\n",
       "</tr>\n",
       "<tr>\n",
       "  <th>zip_98199</th>     <td> 2.629e+04</td> <td> 1.27e+04</td> <td>    2.068</td> <td> 0.039</td> <td> 1366.228</td> <td> 5.12e+04</td>\n",
       "</tr>\n",
       "<tr>\n",
       "  <th>sale_month</th>    <td> 1494.0090</td> <td>  605.335</td> <td>    2.468</td> <td> 0.014</td> <td>  307.490</td> <td> 2680.528</td>\n",
       "</tr>\n",
       "<tr>\n",
       "  <th>sale_year</th>     <td> 3.878e+04</td> <td> 4036.295</td> <td>    9.607</td> <td> 0.000</td> <td> 3.09e+04</td> <td> 4.67e+04</td>\n",
       "</tr>\n",
       "</table>\n",
       "<table class=\"simpletable\">\n",
       "<tr>\n",
       "  <th>Omnibus:</th>       <td>13792.831</td> <th>  Durbin-Watson:     </th>  <td>   1.988</td>  \n",
       "</tr>\n",
       "<tr>\n",
       "  <th>Prob(Omnibus):</th>  <td> 0.000</td>   <th>  Jarque-Bera (JB):  </th> <td>1658814.348</td>\n",
       "</tr>\n",
       "<tr>\n",
       "  <th>Skew:</th>           <td> 3.143</td>   <th>  Prob(JB):          </th>  <td>    0.00</td>  \n",
       "</tr>\n",
       "<tr>\n",
       "  <th>Kurtosis:</th>       <td>50.590</td>   <th>  Cond. No.          </th>  <td>7.38e+20</td>  \n",
       "</tr>\n",
       "</table><br/><br/>Notes:<br/>[1] Standard Errors assume that the covariance matrix of the errors is correctly specified.<br/>[2] The smallest eigenvalue is 8.09e-29. This might indicate that there are<br/>strong multicollinearity problems or that the design matrix is singular."
      ],
      "text/plain": [
       "<class 'statsmodels.iolib.summary.Summary'>\n",
       "\"\"\"\n",
       "                            OLS Regression Results                            \n",
       "==============================================================================\n",
       "Dep. Variable:                  price   R-squared:                       0.831\n",
       "Model:                            OLS   Adj. R-squared:                  0.830\n",
       "Method:                 Least Squares   F-statistic:                     822.3\n",
       "Date:                Tue, 30 Nov 2021   Prob (F-statistic):               0.00\n",
       "Time:                        22:24:08   Log-Likelihood:            -2.3080e+05\n",
       "No. Observations:               17277   AIC:                         4.618e+05\n",
       "Df Residuals:                   17173   BIC:                         4.626e+05\n",
       "Df Model:                         103                                         \n",
       "Covariance Type:            nonrobust                                         \n",
       "=================================================================================\n",
       "                    coef    std err          t      P>|t|      [0.025      0.975]\n",
       "---------------------------------------------------------------------------------\n",
       "const         -1.181e+08   1.04e+07    -11.325      0.000   -1.39e+08   -9.77e+07\n",
       "sqft_living     122.2122     14.857      8.226      0.000      93.091     151.334\n",
       "sqft_lot          0.2127      0.042      5.070      0.000       0.130       0.295\n",
       "waterfront     7.204e+05   1.49e+04     48.243      0.000    6.91e+05     7.5e+05\n",
       "view           1.162e+05   4580.013     25.365      0.000    1.07e+05    1.25e+05\n",
       "sqft_above       51.6296     15.000      3.442      0.001      22.229      81.031\n",
       "sqft_basement    13.6242     14.787      0.921      0.357     -15.360      42.609\n",
       "yr_built         70.9797     71.401      0.994      0.320     -68.973     210.932\n",
       "yr_renovated     37.1403      3.409     10.894      0.000      30.458      43.823\n",
       "lat            1.972e+05   6.74e+04      2.926      0.003    6.51e+04    3.29e+05\n",
       "long          -2.496e+05   4.87e+04     -5.124      0.000   -3.45e+05   -1.54e+05\n",
       "sqft_living15    17.2285      3.112      5.536      0.000      11.129      23.328\n",
       "sqft_lot15       -0.1322      0.064     -2.074      0.038      -0.257      -0.007\n",
       "bedrooms_1_2   1.122e+05   2.27e+04      4.944      0.000    6.77e+04    1.57e+05\n",
       "bedrooms_3_4    1.16e+05   2.23e+04      5.210      0.000    7.23e+04     1.6e+05\n",
       "bedrooms_5_6    9.67e+04   2.23e+04      4.331      0.000    5.29e+04     1.4e+05\n",
       "bathrooms_1    1.556e+04   4179.442      3.722      0.000    7363.370    2.37e+04\n",
       "bathrooms_3   -1.507e+04   2974.974     -5.067      0.000   -2.09e+04   -9241.670\n",
       "floors_1       5.508e+04   8827.676      6.239      0.000    3.78e+04    7.24e+04\n",
       "floors_2       4.127e+04   8101.775      5.094      0.000    2.54e+04    5.71e+04\n",
       "condition_1   -8.917e+04   3.25e+04     -2.746      0.006   -1.53e+05   -2.55e+04\n",
       "condition_2   -9717.8156   1.34e+04     -0.726      0.468    -3.6e+04    1.65e+04\n",
       "condition_4    2.689e+04   3079.099      8.732      0.000    2.08e+04    3.29e+04\n",
       "condition_5    7.876e+04   4816.613     16.351      0.000    6.93e+04    8.82e+04\n",
       "grade_3         6.61e-09   1.55e-09      4.277      0.000    3.58e-09    9.64e-09\n",
       "grade_4        5.392e+04   3.68e+04      1.466      0.143   -1.82e+04    1.26e+05\n",
       "grade_5       -3930.6668    1.2e+04     -0.326      0.744   -2.75e+04    1.97e+04\n",
       "grade_6       -6418.9727   4850.974     -1.323      0.186   -1.59e+04    3089.432\n",
       "grade_8         2.65e+04   3443.999      7.694      0.000    1.97e+04    3.32e+04\n",
       "grade_9        9.989e+04   5278.479     18.923      0.000    8.95e+04     1.1e+05\n",
       "grade_10       2.194e+05   7608.891     28.834      0.000    2.04e+05    2.34e+05\n",
       "grade_11       4.266e+05   1.15e+04     37.216      0.000    4.04e+05    4.49e+05\n",
       "grade_12       8.406e+05   2.09e+04     40.190      0.000       8e+05    8.82e+05\n",
       "grade_13       1.952e+06   4.52e+04     43.191      0.000    1.86e+06    2.04e+06\n",
       "zip_98001     -2.721e+05   2.74e+04     -9.921      0.000   -3.26e+05   -2.18e+05\n",
       "zip_98002     -2.476e+05    2.9e+04     -8.546      0.000   -3.04e+05   -1.91e+05\n",
       "zip_98003     -2.835e+05   2.77e+04    -10.250      0.000   -3.38e+05   -2.29e+05\n",
       "zip_98004      4.704e+05   1.47e+04     31.922      0.000    4.41e+05    4.99e+05\n",
       "zip_98005      8485.9218   1.78e+04      0.476      0.634   -2.65e+04    4.35e+04\n",
       "zip_98006     -4.249e+04   1.63e+04     -2.600      0.009   -7.45e+04   -1.05e+04\n",
       "zip_98007     -4.558e+04   1.98e+04     -2.305      0.021   -8.43e+04   -6817.787\n",
       "zip_98008     -2.419e+04   1.72e+04     -1.404      0.160    -5.8e+04    9576.048\n",
       "zip_98010     -1.575e+05   3.31e+04     -4.758      0.000   -2.22e+05   -9.26e+04\n",
       "zip_98011     -2.024e+05   1.72e+04    -11.748      0.000   -2.36e+05   -1.69e+05\n",
       "zip_98014     -1.447e+05      3e+04     -4.828      0.000   -2.03e+05    -8.6e+04\n",
       "zip_98019     -1.777e+05   2.45e+04     -7.266      0.000   -2.26e+05    -1.3e+05\n",
       "zip_98022     -1.974e+05   3.71e+04     -5.317      0.000    -2.7e+05   -1.25e+05\n",
       "zip_98023     -3.239e+05   2.72e+04    -11.923      0.000   -3.77e+05   -2.71e+05\n",
       "zip_98024     -6.947e+04   3.02e+04     -2.298      0.022   -1.29e+05   -1.02e+04\n",
       "zip_98027     -8.286e+04   2.07e+04     -4.004      0.000   -1.23e+05   -4.23e+04\n",
       "zip_98028     -2.154e+05   1.47e+04    -14.658      0.000   -2.44e+05   -1.87e+05\n",
       "zip_98029     -2.466e+04   2.16e+04     -1.144      0.253   -6.69e+04    1.76e+04\n",
       "zip_98030     -2.567e+05   2.52e+04    -10.188      0.000   -3.06e+05   -2.07e+05\n",
       "zip_98031     -2.475e+05   2.33e+04    -10.632      0.000   -2.93e+05   -2.02e+05\n",
       "zip_98032     -2.805e+05   2.65e+04    -10.585      0.000   -3.32e+05   -2.29e+05\n",
       "zip_98033      4.228e+04   1.37e+04      3.091      0.002    1.55e+04    6.91e+04\n",
       "zip_98034     -1.282e+05    1.3e+04     -9.848      0.000   -1.54e+05   -1.03e+05\n",
       "zip_98038     -1.864e+05   2.68e+04     -6.946      0.000   -2.39e+05   -1.34e+05\n",
       "zip_98039      9.067e+05   2.65e+04     34.170      0.000    8.55e+05    9.59e+05\n",
       "zip_98040      1.993e+05   1.61e+04     12.416      0.000    1.68e+05    2.31e+05\n",
       "zip_98042     -2.367e+05   2.54e+04     -9.327      0.000   -2.86e+05   -1.87e+05\n",
       "zip_98045     -7.754e+04   3.37e+04     -2.303      0.021   -1.44e+05   -1.15e+04\n",
       "zip_98052     -6.192e+04   1.52e+04     -4.063      0.000   -9.18e+04    -3.2e+04\n",
       "zip_98053     -6.742e+04   1.95e+04     -3.452      0.001   -1.06e+05   -2.91e+04\n",
       "zip_98055     -2.415e+05   2.04e+04    -11.827      0.000   -2.82e+05   -2.02e+05\n",
       "zip_98056     -2.002e+05   1.75e+04    -11.418      0.000   -2.35e+05   -1.66e+05\n",
       "zip_98058     -2.306e+05   2.09e+04    -11.031      0.000   -2.72e+05    -1.9e+05\n",
       "zip_98059     -1.926e+05   1.89e+04    -10.183      0.000    -2.3e+05   -1.56e+05\n",
       "zip_98065     -1.208e+05   2.77e+04     -4.356      0.000   -1.75e+05   -6.65e+04\n",
       "zip_98070     -3.253e+05   2.59e+04    -12.553      0.000   -3.76e+05   -2.74e+05\n",
       "zip_98072     -1.611e+05   1.77e+04     -9.108      0.000   -1.96e+05   -1.26e+05\n",
       "zip_98074     -9.031e+04   1.85e+04     -4.869      0.000   -1.27e+05    -5.4e+04\n",
       "zip_98075     -9.277e+04   2.04e+04     -4.558      0.000   -1.33e+05   -5.29e+04\n",
       "zip_98077     -1.877e+05   2.09e+04     -8.980      0.000   -2.29e+05   -1.47e+05\n",
       "zip_98092     -2.674e+05   2.88e+04     -9.275      0.000   -3.24e+05   -2.11e+05\n",
       "zip_98102      1.523e+05   1.79e+04      8.483      0.000    1.17e+05    1.87e+05\n",
       "zip_98105       1.47e+05   1.36e+04     10.794      0.000     1.2e+05    1.74e+05\n",
       "zip_98106     -2.078e+05   1.54e+04    -13.481      0.000   -2.38e+05   -1.78e+05\n",
       "zip_98107      2028.3543   1.29e+04      0.158      0.875   -2.32e+04    2.72e+04\n",
       "zip_98108      -2.02e+05   1.71e+04    -11.807      0.000   -2.36e+05   -1.68e+05\n",
       "zip_98109      1.733e+05    1.8e+04      9.603      0.000    1.38e+05    2.09e+05\n",
       "zip_98112      3.019e+05   1.33e+04     22.638      0.000    2.76e+05    3.28e+05\n",
       "zip_98115     -4472.1188   1.03e+04     -0.433      0.665   -2.47e+04    1.58e+04\n",
       "zip_98116      -4.71e+04   1.41e+04     -3.335      0.001   -7.48e+04   -1.94e+04\n",
       "zip_98117     -3.767e+04   1.04e+04     -3.634      0.000    -5.8e+04   -1.74e+04\n",
       "zip_98118     -1.521e+05    1.4e+04    -10.827      0.000    -1.8e+05   -1.25e+05\n",
       "zip_98119      1.453e+05    1.5e+04      9.705      0.000    1.16e+05    1.75e+05\n",
       "zip_98122      2.533e+04   1.34e+04      1.884      0.060   -1029.078    5.17e+04\n",
       "zip_98125      -1.47e+05   1.18e+04    -12.438      0.000    -1.7e+05   -1.24e+05\n",
       "zip_98126     -1.492e+05   1.49e+04    -10.018      0.000   -1.78e+05    -1.2e+05\n",
       "zip_98133     -2.062e+05   1.14e+04    -18.095      0.000   -2.29e+05   -1.84e+05\n",
       "zip_98136     -9.527e+04    1.6e+04     -5.968      0.000   -1.27e+05    -6.4e+04\n",
       "zip_98144     -5.099e+04   1.33e+04     -3.822      0.000   -7.71e+04   -2.48e+04\n",
       "zip_98146     -2.329e+05   1.74e+04    -13.383      0.000   -2.67e+05   -1.99e+05\n",
       "zip_98148     -2.408e+05    2.9e+04     -8.309      0.000   -2.98e+05   -1.84e+05\n",
       "zip_98155     -2.157e+05   1.25e+04    -17.217      0.000    -2.4e+05   -1.91e+05\n",
       "zip_98166     -2.571e+05      2e+04    -12.882      0.000   -2.96e+05   -2.18e+05\n",
       "zip_98168     -2.585e+05   1.82e+04    -14.229      0.000   -2.94e+05   -2.23e+05\n",
       "zip_98177     -1.539e+05   1.38e+04    -11.176      0.000   -1.81e+05   -1.27e+05\n",
       "zip_98178     -2.715e+05   1.81e+04    -14.967      0.000   -3.07e+05   -2.36e+05\n",
       "zip_98188     -2.691e+05   2.28e+04    -11.817      0.000   -3.14e+05   -2.24e+05\n",
       "zip_98198     -3.001e+05   2.31e+04    -12.979      0.000   -3.45e+05   -2.55e+05\n",
       "zip_98199      2.629e+04   1.27e+04      2.068      0.039    1366.228    5.12e+04\n",
       "sale_month     1494.0090    605.335      2.468      0.014     307.490    2680.528\n",
       "sale_year      3.878e+04   4036.295      9.607      0.000    3.09e+04    4.67e+04\n",
       "==============================================================================\n",
       "Omnibus:                    13792.831   Durbin-Watson:                   1.988\n",
       "Prob(Omnibus):                  0.000   Jarque-Bera (JB):          1658814.348\n",
       "Skew:                           3.143   Prob(JB):                         0.00\n",
       "Kurtosis:                      50.590   Cond. No.                     7.38e+20\n",
       "==============================================================================\n",
       "\n",
       "Notes:\n",
       "[1] Standard Errors assume that the covariance matrix of the errors is correctly specified.\n",
       "[2] The smallest eigenvalue is 8.09e-29. This might indicate that there are\n",
       "strong multicollinearity problems or that the design matrix is singular.\n",
       "\"\"\""
      ]
     },
     "execution_count": 181,
     "metadata": {},
     "output_type": "execute_result"
    }
   ],
   "source": [
    "X_train = sm.add_constant(X_train)\n",
    "baseline_results = sm.OLS(y_train, X_train).fit()\n",
    "baseline_results.summary()"
   ]
  },
  {
   "cell_type": "markdown",
   "id": "1b5d0823",
   "metadata": {},
   "source": [
    "Baseline model scores right about 83"
   ]
  },
  {
   "cell_type": "markdown",
   "id": "6b2379f2",
   "metadata": {},
   "source": [
    "## Exploring coefficient p-values"
   ]
  },
  {
   "cell_type": "code",
   "execution_count": 205,
   "id": "9104252d",
   "metadata": {},
   "outputs": [],
   "source": [
    "baseline_df = pd.DataFrame(baseline_results.pvalues.sort_values(ascending=True))"
   ]
  },
  {
   "cell_type": "markdown",
   "id": "92cdbc5a",
   "metadata": {},
   "source": [
    "Now we can pull out all features whose coefficients' p-value was greater than the threshold (0.05)"
   ]
  },
  {
   "cell_type": "code",
   "execution_count": 212,
   "id": "649f4c20",
   "metadata": {},
   "outputs": [],
   "source": [
    "high_pvalues = baseline_df[baseline_df[0] > 0.05]\n",
    "high_pvalues.reset_index(inplace=True)\n",
    "high_pvalues.columns = ['feature', 'p_value']\n",
    "high_pvalues"
   ]
  },
  {
   "cell_type": "markdown",
   "id": "642f133f",
   "metadata": {},
   "source": [
    "We will likely be dropping other features due to multicollinearity, so here we will start a list of features to drop for our first model that we can add to in later sections"
   ]
  },
  {
   "cell_type": "code",
   "execution_count": 215,
   "id": "03175d0d",
   "metadata": {},
   "outputs": [],
   "source": [
    "features_to_drop = list(high_pvalues.feature)"
   ]
  },
  {
   "cell_type": "markdown",
   "id": "50d3b844",
   "metadata": {},
   "source": [
    "## Checking assumptions"
   ]
  },
  {
   "cell_type": "markdown",
   "id": "7960125e",
   "metadata": {},
   "source": [
    "Many of our assumptions require us have the residuals for the model. We will create a helper function to get the residuals to use in checking our assumptions for linear regression."
   ]
  },
  {
   "cell_type": "code",
   "execution_count": 189,
   "id": "4c9beb5c",
   "metadata": {},
   "outputs": [],
   "source": [
    "# helper function that takes three arguments: a linear regression model,\n",
    "# a dataframe of predictors, and a dataframe of the target variable.\n",
    "# It then returns a dataframe of the residuals based on calculated predictions\n",
    "\n",
    "def residuals(model, predictors, target):\n",
    "    \n",
    "    # calculate predicted values from model\n",
    "    y_hat = model.predict(predictors)\n",
    "    \n",
    "    # create dataframe with the target (real) and predicted values\n",
    "    df_residuals = pd.DataFrame({'real': target, 'predicted': y_hat})\n",
    "    \n",
    "    # create a new feature of that dataframe 'residuals', which is the\n",
    "    # difference of the real the the predicted\n",
    "    df_residuals['residuals'] = (abs(df_residuals.real) - abs(df_residuals.predicted))\n",
    "    \n",
    "    return df_residuals"
   ]
  },
  {
   "cell_type": "code",
   "execution_count": 190,
   "id": "21fb2fc9",
   "metadata": {},
   "outputs": [],
   "source": [
    "baseline_residuals = residuals(baseline_model, X_test, y_test)"
   ]
  },
  {
   "cell_type": "code",
   "execution_count": null,
   "id": "97dac503",
   "metadata": {},
   "outputs": [],
   "source": [
    "# sm.graphics.plot_regress_exog(baseline_results, 'sqft_living', fig=plt.figure(figsize=(12, 8)));"
   ]
  },
  {
   "cell_type": "markdown",
   "id": "b00ed0ab",
   "metadata": {},
   "source": [
    "### Linearity"
   ]
  },
  {
   "cell_type": "markdown",
   "id": "0ccedbc9",
   "metadata": {},
   "source": [
    "To satisfy the linearity assumption, we plot the real against the predicted vales. Linearity is satisfied if the resulting graph shows the values around the diagonal line."
   ]
  },
  {
   "cell_type": "code",
   "execution_count": 191,
   "id": "0aa170f2",
   "metadata": {},
   "outputs": [
    {
     "data": {
      "image/png": "[encoded data removed]",
      "text/plain": [
       "<Figure size 432x288 with 1 Axes>"
      ]
     },
     "metadata": {
      "needs_background": "light"
     },
     "output_type": "display_data"
    }
   ],
   "source": [
    "# g = sns.lmplot(data=baseline_residuals, x='real', y='predicted', aspect=1,\n",
    "#           fit_reg=False)\n",
    "# g.axline(yx1=(0,0), slope=1)\n",
    "\n",
    "g = sns.scatterplot(data=baseline_residuals, x='real', y='predicted', alpha=0.2)\n",
    "g.axline(xy1=(0,0), slope=1, color='red')\n",
    "g.set_aspect(aspect='auto')"
   ]
  },
  {
   "cell_type": "markdown",
   "id": "9800f1cd",
   "metadata": {},
   "source": [
    "The relationship is not terrible, the model does not perform well as price increases, but that's expected, we have not changed our data and have few high priced homes to train on. This gives us more cause to consider removing outliers from some features, like sqft_living and/or price."
   ]
  },
  {
   "cell_type": "markdown",
   "id": "80c407bf",
   "metadata": {},
   "source": [
    "### Independence"
   ]
  },
  {
   "cell_type": "code",
   "execution_count": 192,
   "id": "279eb62c",
   "metadata": {},
   "outputs": [
    {
     "data": {
      "image/png": "[encoded data removed]",
      "text/plain": [
       "<Figure size 432x288 with 1 Axes>"
      ]
     },
     "metadata": {
      "needs_background": "light"
     },
     "output_type": "display_data"
    }
   ],
   "source": [
    "sns.scatterplot(data=baseline_residuals, x='residuals', y='predicted',\n",
    "               alpha=0.2);"
   ]
  },
  {
   "cell_type": "markdown",
   "id": "e7b240df",
   "metadata": {},
   "source": [
    "### Normality"
   ]
  },
  {
   "cell_type": "markdown",
   "id": "ecd2bd2f",
   "metadata": {},
   "source": [
    "Check the distribution of the residuals, using a histogram and/or QQ plot. Can also be checked with Kolmogorov-Smirnov test."
   ]
  },
  {
   "cell_type": "code",
   "execution_count": 193,
   "id": "2abd3e5a",
   "metadata": {
    "scrolled": true
   },
   "outputs": [
    {
     "data": {
      "image/png": "[encoded data removed]",
      "text/plain": [
       "<Figure size 432x288 with 1 Axes>"
      ]
     },
     "metadata": {
      "needs_background": "light"
     },
     "output_type": "display_data"
    }
   ],
   "source": [
    "sns.histplot(data=baseline_residuals, x='residuals');"
   ]
  },
  {
   "cell_type": "markdown",
   "id": "6f70d10b",
   "metadata": {},
   "source": [
    "### Homoskedacity"
   ]
  },
  {
   "cell_type": "code",
   "execution_count": 194,
   "id": "838461f5",
   "metadata": {},
   "outputs": [
    {
     "data": {
      "image/png": "[encoded data removed]",
      "text/plain": [
       "<Figure size 432x288 with 1 Axes>"
      ]
     },
     "metadata": {
      "needs_background": "light"
     },
     "output_type": "display_data"
    }
   ],
   "source": [
    "sns.scatterplot(x=baseline_residuals.index, y=baseline_residuals.residuals,\n",
    "               size=1, alpha=0.2)\n",
    "plt.plot(np.repeat(0, baseline_residuals.index.max()), color='darkorange',\n",
    "         linestyle='--');"
   ]
  },
  {
   "cell_type": "markdown",
   "id": "17f91d3f",
   "metadata": {},
   "source": [
    "## Identify multicollinearity"
   ]
  },
  {
   "cell_type": "code",
   "execution_count": 195,
   "id": "66e7648c",
   "metadata": {
    "scrolled": true
   },
   "outputs": [
    {
     "data": {
      "text/html": [
       "<div>\n",
       "<style scoped>\n",
       "    .dataframe tbody tr th:only-of-type {\n",
       "        vertical-align: middle;\n",
       "    }\n",
       "\n",
       "    .dataframe tbody tr th {\n",
       "        vertical-align: top;\n",
       "    }\n",
       "\n",
       "    .dataframe thead th {\n",
       "        text-align: right;\n",
       "    }\n",
       "</style>\n",
       "<table border=\"1\" class=\"dataframe\">\n",
       "  <thead>\n",
       "    <tr style=\"text-align: right;\">\n",
       "      <th></th>\n",
       "      <th>mc</th>\n",
       "    </tr>\n",
       "    <tr>\n",
       "      <th>pairs</th>\n",
       "      <th></th>\n",
       "    </tr>\n",
       "  </thead>\n",
       "  <tbody>\n",
       "    <tr>\n",
       "      <th>(floors_2, floors_1)</th>\n",
       "      <td>0.942250</td>\n",
       "    </tr>\n",
       "    <tr>\n",
       "      <th>(floors_1, floors_2)</th>\n",
       "      <td>0.942250</td>\n",
       "    </tr>\n",
       "    <tr>\n",
       "      <th>(sqft_above, sqft_living)</th>\n",
       "      <td>0.876448</td>\n",
       "    </tr>\n",
       "    <tr>\n",
       "      <th>(sqft_living, sqft_above)</th>\n",
       "      <td>0.876448</td>\n",
       "    </tr>\n",
       "    <tr>\n",
       "      <th>(sale_year, sale_month)</th>\n",
       "      <td>0.782325</td>\n",
       "    </tr>\n",
       "    <tr>\n",
       "      <th>(sale_month, sale_year)</th>\n",
       "      <td>0.782325</td>\n",
       "    </tr>\n",
       "    <tr>\n",
       "      <th>(sqft_living, sqft_living15)</th>\n",
       "      <td>0.756402</td>\n",
       "    </tr>\n",
       "    <tr>\n",
       "      <th>(sqft_living15, sqft_living)</th>\n",
       "      <td>0.756402</td>\n",
       "    </tr>\n",
       "  </tbody>\n",
       "</table>\n",
       "</div>"
      ],
      "text/plain": [
       "                                    mc\n",
       "pairs                                 \n",
       "(floors_2, floors_1)          0.942250\n",
       "(floors_1, floors_2)          0.942250\n",
       "(sqft_above, sqft_living)     0.876448\n",
       "(sqft_living, sqft_above)     0.876448\n",
       "(sale_year, sale_month)       0.782325\n",
       "(sale_month, sale_year)       0.782325\n",
       "(sqft_living, sqft_living15)  0.756402\n",
       "(sqft_living15, sqft_living)  0.756402"
      ]
     },
     "execution_count": 195,
     "metadata": {},
     "output_type": "execute_result"
    }
   ],
   "source": [
    "# We already defined X as df_final without date (because of datetime issues),\n",
    "# and without price (the target)\n",
    "test_df = X.corr().abs().stack().reset_index().sort_values(0,ascending=False)\n",
    "test_df['pairs'] = list(zip(test_df.level_0, test_df.level_1))\n",
    "test_df.set_index(['pairs'], inplace=True)\n",
    "test_df.drop(['level_0', 'level_1'], axis=1, inplace=True)\n",
    "test_df.columns = ['mc']\n",
    "test_df[(test_df.mc > 0.75) & (test_df.mc < 1)]"
   ]
  },
  {
   "cell_type": "markdown",
   "id": "5ea4b864",
   "metadata": {},
   "source": [
    "So we have some multicollinearity between the floors features. Likely what happened here is we have too many bins. \n",
    "> We will drop floors_2, leaving just floors_1 as a predictor. If the value is 0, means nothing more than the home has more then 1.5 floors.\n",
    "\n",
    "We have multicollinearity between sqft_living and two other features:\n",
    "- sqft_above\n",
    "- sqft_living15\n",
    "\n",
    "> We have already discussed how to engineer a feature related to basements, so I think we can just drop sqft_above safely. As for sqft_living15, we will need to look into this. Maybe we can engineer some kind of feature that shows how similar in size the home is compared to nearby homes in neighborhood?\n",
    "\n",
    "\n",
    "Sales month and year also have multicollinearity.\n",
    "\n",
    "> Seeing as the year will either be 2014 or 2015, we will drop sales year and keep sales month\n",
    "\n",
    "\n"
   ]
  },
  {
   "cell_type": "code",
   "execution_count": 217,
   "id": "5abc80a8",
   "metadata": {},
   "outputs": [],
   "source": [
    "features_to_drop.extend(['floors_2', 'sqft_above', 'sale_year'])"
   ]
  },
  {
   "cell_type": "markdown",
   "id": "63c678e5",
   "metadata": {},
   "source": [
    "# Model v1"
   ]
  },
  {
   "cell_type": "markdown",
   "id": "d2a5699a",
   "metadata": {},
   "source": [
    "We have been keeping track of features to drop so far:\n",
    "- based on the p-value of the coefficient from the OLS baseline model and\n",
    "- the test for multicollinearity that was performed\n",
    "\n",
    "We need to add to that list the date and price to ensure that all necessary columns are dropped for our next model."
   ]
  },
  {
   "cell_type": "code",
   "execution_count": 220,
   "id": "3175bf94",
   "metadata": {},
   "outputs": [],
   "source": [
    "features_to_drop.extend(['date','price'])"
   ]
  },
  {
   "cell_type": "code",
   "execution_count": 221,
   "id": "e290100e",
   "metadata": {},
   "outputs": [],
   "source": [
    "X = df.drop(features_to_drop, axis=1)\n",
    "y = df.price"
   ]
  },
  {
   "cell_type": "code",
   "execution_count": 225,
   "id": "37dd0b89",
   "metadata": {},
   "outputs": [
    {
     "name": "stdout",
     "output_type": "stream",
     "text": [
      "Single model fit score: 0.8354534466011336\n",
      "------------------------------------\n",
      "Cross Validation Scores on X_train\n",
      "Train score: 0.8272988343033127\n",
      "Test score: 0.8350739397700192\n"
     ]
    }
   ],
   "source": [
    "X_train, X_test, y_train, y_test = train_test_split(X, y, test_size=0.2,\n",
    "                                                   random_state=0)\n",
    "\n",
    "model_v1 = LinearRegression()\n",
    "model_v1.fit(X_train,y_train)\n",
    "\n",
    "print('Single model fit score:', model_v1.score(X_test,y_test))\n",
    "\n",
    "splitter = ShuffleSplit(n_splits=5, test_size=0.2, random_state=0)\n",
    "\n",
    "baseline_scores = cross_validate(estimator=model_v1, X=X_train,\n",
    "                                 y=y_train, return_train_score=True, \n",
    "                                 cv=splitter)\n",
    "\n",
    "print('------------------------------------')\n",
    "print('Cross Validation Scores on X_train')\n",
    "print('Train score:', baseline_scores['train_score'].mean())\n",
    "print('Test score:', baseline_scores['test_score'].mean())"
   ]
  },
  {
   "cell_type": "code",
   "execution_count": 223,
   "id": "217a378a",
   "metadata": {},
   "outputs": [
    {
     "data": {
      "text/plain": [
       "array([ 1.59065548e+02,  2.21657486e-01,  7.18133074e+05,  1.09129876e+05,\n",
       "        3.65609122e+01,  1.62042575e+05, -2.79647952e+05,  2.20093503e+01,\n",
       "       -1.19826019e-01,  1.11668971e+05,  1.17771128e+05,  9.75432125e+04,\n",
       "        2.03327966e+04, -1.69274601e+04, -6.64688019e+02, -8.72828064e+04,\n",
       "        2.49795102e+04,  7.40950869e+04, -7.01984391e-08,  2.70724901e+04,\n",
       "        1.05502457e+05,  2.28175221e+05,  4.39628418e+05,  8.58045652e+05,\n",
       "        1.98342458e+06, -2.70127335e+05, -2.42187676e+05, -2.81906757e+05,\n",
       "        4.81608328e+05, -3.58908061e+04, -3.22615516e+04, -1.42698450e+05,\n",
       "       -1.83834229e+05, -1.15954265e+05, -1.50876968e+05, -1.84235984e+05,\n",
       "       -3.26482962e+05, -4.17916727e+04, -7.40370791e+04, -2.01056325e+05,\n",
       "       -2.47796904e+05, -2.39698711e+05, -2.78807044e+05,  5.83665187e+04,\n",
       "       -1.12171602e+05, -1.71313578e+05,  9.21640397e+05,  2.03290398e+05,\n",
       "       -2.25205163e+05, -5.36099318e+04, -4.49962106e+04, -3.80732069e+04,\n",
       "       -2.32627967e+05, -1.89345540e+05, -2.20455841e+05, -1.77010173e+05,\n",
       "       -9.54831590e+04, -3.26731430e+05, -1.40258173e+05, -7.10921214e+04,\n",
       "       -7.14904160e+04, -1.61542696e+05, -2.59695388e+05,  1.45407964e+05,\n",
       "        1.50305514e+05, -2.09780158e+05, -2.04411616e+05,  1.67771696e+05,\n",
       "        2.98816801e+05, -5.13547204e+04, -3.86619203e+04, -1.51442658e+05,\n",
       "        1.37949378e+05, -1.40848353e+05, -1.51241861e+05, -1.98811773e+05,\n",
       "       -9.96938464e+04, -5.31336060e+04, -2.31880190e+05, -2.37144666e+05,\n",
       "       -2.02898211e+05, -2.56335128e+05, -2.60766285e+05, -1.47488262e+05,\n",
       "       -2.69953124e+05, -2.65023673e+05, -2.97803523e+05,  2.41755141e+04,\n",
       "       -3.04560396e+03])"
      ]
     },
     "execution_count": 223,
     "metadata": {},
     "output_type": "execute_result"
    }
   ],
   "source": [
    "model_v1.coef_"
   ]
  },
  {
   "cell_type": "code",
   "execution_count": 224,
   "id": "364c482d",
   "metadata": {
    "scrolled": true
   },
   "outputs": [
    {
     "data": {
      "text/html": [
       "<table class=\"simpletable\">\n",
       "<caption>OLS Regression Results</caption>\n",
       "<tr>\n",
       "  <th>Dep. Variable:</th>          <td>price</td>      <th>  R-squared:         </th>  <td>   0.829</td>  \n",
       "</tr>\n",
       "<tr>\n",
       "  <th>Model:</th>                   <td>OLS</td>       <th>  Adj. R-squared:    </th>  <td>   0.828</td>  \n",
       "</tr>\n",
       "<tr>\n",
       "  <th>Method:</th>             <td>Least Squares</td>  <th>  F-statistic:       </th>  <td>   947.9</td>  \n",
       "</tr>\n",
       "<tr>\n",
       "  <th>Date:</th>             <td>Tue, 30 Nov 2021</td> <th>  Prob (F-statistic):</th>   <td>  0.00</td>   \n",
       "</tr>\n",
       "<tr>\n",
       "  <th>Time:</th>                 <td>22:57:56</td>     <th>  Log-Likelihood:    </th> <td>-2.3091e+05</td>\n",
       "</tr>\n",
       "<tr>\n",
       "  <th>No. Observations:</th>      <td> 17277</td>      <th>  AIC:               </th>  <td>4.620e+05</td> \n",
       "</tr>\n",
       "<tr>\n",
       "  <th>Df Residuals:</th>          <td> 17188</td>      <th>  BIC:               </th>  <td>4.627e+05</td> \n",
       "</tr>\n",
       "<tr>\n",
       "  <th>Df Model:</th>              <td>    88</td>      <th>                     </th>      <td> </td>     \n",
       "</tr>\n",
       "<tr>\n",
       "  <th>Covariance Type:</th>      <td>nonrobust</td>    <th>                     </th>      <td> </td>     \n",
       "</tr>\n",
       "</table>\n",
       "<table class=\"simpletable\">\n",
       "<tr>\n",
       "        <td></td>           <th>coef</th>     <th>std err</th>      <th>t</th>      <th>P>|t|</th>  <th>[0.025</th>    <th>0.975]</th>  \n",
       "</tr>\n",
       "<tr>\n",
       "  <th>const</th>         <td>-4.178e+07</td> <td> 3.21e+06</td> <td>  -13.031</td> <td> 0.000</td> <td>-4.81e+07</td> <td>-3.55e+07</td>\n",
       "</tr>\n",
       "<tr>\n",
       "  <th>sqft_living</th>   <td>  159.0655</td> <td>    2.628</td> <td>   60.517</td> <td> 0.000</td> <td>  153.914</td> <td>  164.218</td>\n",
       "</tr>\n",
       "<tr>\n",
       "  <th>sqft_lot</th>      <td>    0.2217</td> <td>    0.042</td> <td>    5.263</td> <td> 0.000</td> <td>    0.139</td> <td>    0.304</td>\n",
       "</tr>\n",
       "<tr>\n",
       "  <th>waterfront</th>    <td> 7.181e+05</td> <td>  1.5e+04</td> <td>   47.874</td> <td> 0.000</td> <td> 6.89e+05</td> <td> 7.48e+05</td>\n",
       "</tr>\n",
       "<tr>\n",
       "  <th>view</th>          <td> 1.091e+05</td> <td> 4543.507</td> <td>   24.019</td> <td> 0.000</td> <td>    1e+05</td> <td> 1.18e+05</td>\n",
       "</tr>\n",
       "<tr>\n",
       "  <th>yr_renovated</th>  <td>   36.5609</td> <td>    3.280</td> <td>   11.146</td> <td> 0.000</td> <td>   30.132</td> <td>   42.990</td>\n",
       "</tr>\n",
       "<tr>\n",
       "  <th>lat</th>           <td>  1.62e+05</td> <td>    6e+04</td> <td>    2.701</td> <td> 0.007</td> <td> 4.44e+04</td> <td>  2.8e+05</td>\n",
       "</tr>\n",
       "<tr>\n",
       "  <th>long</th>          <td>-2.796e+05</td> <td> 2.89e+04</td> <td>   -9.688</td> <td> 0.000</td> <td>-3.36e+05</td> <td>-2.23e+05</td>\n",
       "</tr>\n",
       "<tr>\n",
       "  <th>sqft_living15</th> <td>   22.0094</td> <td>    3.076</td> <td>    7.155</td> <td> 0.000</td> <td>   15.980</td> <td>   28.039</td>\n",
       "</tr>\n",
       "<tr>\n",
       "  <th>sqft_lot15</th>    <td>   -0.1198</td> <td>    0.064</td> <td>   -1.870</td> <td> 0.061</td> <td>   -0.245</td> <td>    0.006</td>\n",
       "</tr>\n",
       "<tr>\n",
       "  <th>bedrooms_1_2</th>  <td> 1.117e+05</td> <td> 2.28e+04</td> <td>    4.895</td> <td> 0.000</td> <td>  6.7e+04</td> <td> 1.56e+05</td>\n",
       "</tr>\n",
       "<tr>\n",
       "  <th>bedrooms_3_4</th>  <td> 1.178e+05</td> <td> 2.24e+04</td> <td>    5.261</td> <td> 0.000</td> <td> 7.39e+04</td> <td> 1.62e+05</td>\n",
       "</tr>\n",
       "<tr>\n",
       "  <th>bedrooms_5_6</th>  <td> 9.754e+04</td> <td> 2.25e+04</td> <td>    4.344</td> <td> 0.000</td> <td> 5.35e+04</td> <td> 1.42e+05</td>\n",
       "</tr>\n",
       "<tr>\n",
       "  <th>bathrooms_1</th>   <td> 2.033e+04</td> <td> 3935.933</td> <td>    5.166</td> <td> 0.000</td> <td> 1.26e+04</td> <td>  2.8e+04</td>\n",
       "</tr>\n",
       "<tr>\n",
       "  <th>bathrooms_3</th>   <td>-1.693e+04</td> <td> 2975.536</td> <td>   -5.689</td> <td> 0.000</td> <td>-2.28e+04</td> <td>-1.11e+04</td>\n",
       "</tr>\n",
       "<tr>\n",
       "  <th>floors_1</th>      <td> -664.6880</td> <td> 3242.333</td> <td>   -0.205</td> <td> 0.838</td> <td>-7019.991</td> <td> 5690.615</td>\n",
       "</tr>\n",
       "<tr>\n",
       "  <th>condition_1</th>   <td>-8.728e+04</td> <td> 3.24e+04</td> <td>   -2.694</td> <td> 0.007</td> <td>-1.51e+05</td> <td>-2.38e+04</td>\n",
       "</tr>\n",
       "<tr>\n",
       "  <th>condition_4</th>   <td> 2.498e+04</td> <td> 2962.018</td> <td>    8.433</td> <td> 0.000</td> <td> 1.92e+04</td> <td> 3.08e+04</td>\n",
       "</tr>\n",
       "<tr>\n",
       "  <th>condition_5</th>   <td>  7.41e+04</td> <td> 4634.540</td> <td>   15.988</td> <td> 0.000</td> <td>  6.5e+04</td> <td> 8.32e+04</td>\n",
       "</tr>\n",
       "<tr>\n",
       "  <th>grade_3</th>       <td>  6.96e-07</td> <td> 2.07e-08</td> <td>   33.669</td> <td> 0.000</td> <td> 6.55e-07</td> <td> 7.37e-07</td>\n",
       "</tr>\n",
       "<tr>\n",
       "  <th>grade_8</th>       <td> 2.707e+04</td> <td> 3382.271</td> <td>    8.004</td> <td> 0.000</td> <td> 2.04e+04</td> <td> 3.37e+04</td>\n",
       "</tr>\n",
       "<tr>\n",
       "  <th>grade_9</th>       <td> 1.055e+05</td> <td> 5132.545</td> <td>   20.556</td> <td> 0.000</td> <td> 9.54e+04</td> <td> 1.16e+05</td>\n",
       "</tr>\n",
       "<tr>\n",
       "  <th>grade_10</th>      <td> 2.282e+05</td> <td> 7417.588</td> <td>   30.761</td> <td> 0.000</td> <td> 2.14e+05</td> <td> 2.43e+05</td>\n",
       "</tr>\n",
       "<tr>\n",
       "  <th>grade_11</th>      <td> 4.396e+05</td> <td> 1.12e+04</td> <td>   39.317</td> <td> 0.000</td> <td> 4.18e+05</td> <td> 4.62e+05</td>\n",
       "</tr>\n",
       "<tr>\n",
       "  <th>grade_12</th>      <td>  8.58e+05</td> <td> 2.07e+04</td> <td>   41.433</td> <td> 0.000</td> <td> 8.17e+05</td> <td> 8.99e+05</td>\n",
       "</tr>\n",
       "<tr>\n",
       "  <th>grade_13</th>      <td> 1.983e+06</td> <td> 4.52e+04</td> <td>   43.883</td> <td> 0.000</td> <td> 1.89e+06</td> <td> 2.07e+06</td>\n",
       "</tr>\n",
       "<tr>\n",
       "  <th>zip_98001</th>     <td>-2.701e+05</td> <td> 2.25e+04</td> <td>  -11.981</td> <td> 0.000</td> <td>-3.14e+05</td> <td>-2.26e+05</td>\n",
       "</tr>\n",
       "<tr>\n",
       "  <th>zip_98002</th>     <td>-2.422e+05</td> <td> 2.34e+04</td> <td>  -10.349</td> <td> 0.000</td> <td>-2.88e+05</td> <td>-1.96e+05</td>\n",
       "</tr>\n",
       "<tr>\n",
       "  <th>zip_98003</th>     <td>-2.819e+05</td> <td> 2.36e+04</td> <td>  -11.957</td> <td> 0.000</td> <td>-3.28e+05</td> <td>-2.36e+05</td>\n",
       "</tr>\n",
       "<tr>\n",
       "  <th>zip_98004</th>     <td> 4.816e+05</td> <td> 1.08e+04</td> <td>   44.595</td> <td> 0.000</td> <td>  4.6e+05</td> <td> 5.03e+05</td>\n",
       "</tr>\n",
       "<tr>\n",
       "  <th>zip_98006</th>     <td>-3.589e+04</td> <td> 9723.812</td> <td>   -3.691</td> <td> 0.000</td> <td> -5.5e+04</td> <td>-1.68e+04</td>\n",
       "</tr>\n",
       "<tr>\n",
       "  <th>zip_98007</th>     <td>-3.226e+04</td> <td> 1.57e+04</td> <td>   -2.056</td> <td> 0.040</td> <td> -6.3e+04</td> <td>-1508.862</td>\n",
       "</tr>\n",
       "<tr>\n",
       "  <th>zip_98010</th>     <td>-1.427e+05</td> <td> 2.36e+04</td> <td>   -6.040</td> <td> 0.000</td> <td>-1.89e+05</td> <td>-9.64e+04</td>\n",
       "</tr>\n",
       "<tr>\n",
       "  <th>zip_98011</th>     <td>-1.838e+05</td> <td> 1.51e+04</td> <td>  -12.215</td> <td> 0.000</td> <td>-2.13e+05</td> <td>-1.54e+05</td>\n",
       "</tr>\n",
       "<tr>\n",
       "  <th>zip_98014</th>     <td> -1.16e+05</td> <td> 2.08e+04</td> <td>   -5.565</td> <td> 0.000</td> <td>-1.57e+05</td> <td>-7.51e+04</td>\n",
       "</tr>\n",
       "<tr>\n",
       "  <th>zip_98019</th>     <td>-1.509e+05</td> <td>  1.8e+04</td> <td>   -8.394</td> <td> 0.000</td> <td>-1.86e+05</td> <td>-1.16e+05</td>\n",
       "</tr>\n",
       "<tr>\n",
       "  <th>zip_98022</th>     <td>-1.842e+05</td> <td> 2.61e+04</td> <td>   -7.062</td> <td> 0.000</td> <td>-2.35e+05</td> <td>-1.33e+05</td>\n",
       "</tr>\n",
       "<tr>\n",
       "  <th>zip_98023</th>     <td>-3.265e+05</td> <td> 2.35e+04</td> <td>  -13.866</td> <td> 0.000</td> <td>-3.73e+05</td> <td> -2.8e+05</td>\n",
       "</tr>\n",
       "<tr>\n",
       "  <th>zip_98024</th>     <td>-4.179e+04</td> <td> 2.14e+04</td> <td>   -1.953</td> <td> 0.051</td> <td>-8.37e+04</td> <td>  145.828</td>\n",
       "</tr>\n",
       "<tr>\n",
       "  <th>zip_98027</th>     <td>-7.404e+04</td> <td> 1.13e+04</td> <td>   -6.571</td> <td> 0.000</td> <td>-9.61e+04</td> <td> -5.2e+04</td>\n",
       "</tr>\n",
       "<tr>\n",
       "  <th>zip_98028</th>     <td>-2.011e+05</td> <td> 1.27e+04</td> <td>  -15.818</td> <td> 0.000</td> <td>-2.26e+05</td> <td>-1.76e+05</td>\n",
       "</tr>\n",
       "<tr>\n",
       "  <th>zip_98030</th>     <td>-2.478e+05</td> <td> 1.93e+04</td> <td>  -12.858</td> <td> 0.000</td> <td>-2.86e+05</td> <td> -2.1e+05</td>\n",
       "</tr>\n",
       "<tr>\n",
       "  <th>zip_98031</th>     <td>-2.397e+05</td> <td> 1.75e+04</td> <td>  -13.716</td> <td> 0.000</td> <td>-2.74e+05</td> <td>-2.05e+05</td>\n",
       "</tr>\n",
       "<tr>\n",
       "  <th>zip_98032</th>     <td>-2.788e+05</td> <td> 2.28e+04</td> <td>  -12.224</td> <td> 0.000</td> <td>-3.24e+05</td> <td>-2.34e+05</td>\n",
       "</tr>\n",
       "<tr>\n",
       "  <th>zip_98033</th>     <td> 5.837e+04</td> <td> 9766.658</td> <td>    5.976</td> <td> 0.000</td> <td> 3.92e+04</td> <td> 7.75e+04</td>\n",
       "</tr>\n",
       "<tr>\n",
       "  <th>zip_98034</th>     <td>-1.122e+05</td> <td> 9877.470</td> <td>  -11.356</td> <td> 0.000</td> <td>-1.32e+05</td> <td>-9.28e+04</td>\n",
       "</tr>\n",
       "<tr>\n",
       "  <th>zip_98038</th>     <td>-1.713e+05</td> <td> 1.62e+04</td> <td>  -10.553</td> <td> 0.000</td> <td>-2.03e+05</td> <td>-1.39e+05</td>\n",
       "</tr>\n",
       "<tr>\n",
       "  <th>zip_98039</th>     <td> 9.216e+05</td> <td>  2.5e+04</td> <td>   36.799</td> <td> 0.000</td> <td> 8.73e+05</td> <td> 9.71e+05</td>\n",
       "</tr>\n",
       "<tr>\n",
       "  <th>zip_98040</th>     <td> 2.033e+05</td> <td> 1.21e+04</td> <td>   16.840</td> <td> 0.000</td> <td>  1.8e+05</td> <td> 2.27e+05</td>\n",
       "</tr>\n",
       "<tr>\n",
       "  <th>zip_98042</th>     <td>-2.252e+05</td> <td> 1.71e+04</td> <td>  -13.150</td> <td> 0.000</td> <td>-2.59e+05</td> <td>-1.92e+05</td>\n",
       "</tr>\n",
       "<tr>\n",
       "  <th>zip_98045</th>     <td>-5.361e+04</td> <td> 1.75e+04</td> <td>   -3.063</td> <td> 0.002</td> <td>-8.79e+04</td> <td>-1.93e+04</td>\n",
       "</tr>\n",
       "<tr>\n",
       "  <th>zip_98052</th>     <td>  -4.5e+04</td> <td> 9633.692</td> <td>   -4.671</td> <td> 0.000</td> <td>-6.39e+04</td> <td>-2.61e+04</td>\n",
       "</tr>\n",
       "<tr>\n",
       "  <th>zip_98053</th>     <td>-3.807e+04</td> <td> 1.22e+04</td> <td>   -3.109</td> <td> 0.002</td> <td>-6.21e+04</td> <td>-1.41e+04</td>\n",
       "</tr>\n",
       "<tr>\n",
       "  <th>zip_98055</th>     <td>-2.326e+05</td> <td> 1.53e+04</td> <td>  -15.173</td> <td> 0.000</td> <td>-2.63e+05</td> <td>-2.03e+05</td>\n",
       "</tr>\n",
       "<tr>\n",
       "  <th>zip_98056</th>     <td>-1.893e+05</td> <td> 1.18e+04</td> <td>  -16.072</td> <td> 0.000</td> <td>-2.12e+05</td> <td>-1.66e+05</td>\n",
       "</tr>\n",
       "<tr>\n",
       "  <th>zip_98058</th>     <td>-2.205e+05</td> <td> 1.38e+04</td> <td>  -15.955</td> <td> 0.000</td> <td>-2.48e+05</td> <td>-1.93e+05</td>\n",
       "</tr>\n",
       "<tr>\n",
       "  <th>zip_98059</th>     <td> -1.77e+05</td> <td> 1.17e+04</td> <td>  -15.182</td> <td> 0.000</td> <td>   -2e+05</td> <td>-1.54e+05</td>\n",
       "</tr>\n",
       "<tr>\n",
       "  <th>zip_98065</th>     <td>-9.548e+04</td> <td> 1.43e+04</td> <td>   -6.665</td> <td> 0.000</td> <td>-1.24e+05</td> <td>-6.74e+04</td>\n",
       "</tr>\n",
       "<tr>\n",
       "  <th>zip_98070</th>     <td>-3.267e+05</td> <td> 2.41e+04</td> <td>  -13.571</td> <td> 0.000</td> <td>-3.74e+05</td> <td> -2.8e+05</td>\n",
       "</tr>\n",
       "<tr>\n",
       "  <th>zip_98072</th>     <td>-1.403e+05</td> <td> 1.43e+04</td> <td>   -9.826</td> <td> 0.000</td> <td>-1.68e+05</td> <td>-1.12e+05</td>\n",
       "</tr>\n",
       "<tr>\n",
       "  <th>zip_98074</th>     <td>-7.109e+04</td> <td> 1.04e+04</td> <td>   -6.806</td> <td> 0.000</td> <td>-9.16e+04</td> <td>-5.06e+04</td>\n",
       "</tr>\n",
       "<tr>\n",
       "  <th>zip_98075</th>     <td>-7.149e+04</td> <td> 1.15e+04</td> <td>   -6.224</td> <td> 0.000</td> <td> -9.4e+04</td> <td> -4.9e+04</td>\n",
       "</tr>\n",
       "<tr>\n",
       "  <th>zip_98077</th>     <td>-1.615e+05</td> <td> 1.65e+04</td> <td>   -9.770</td> <td> 0.000</td> <td>-1.94e+05</td> <td>-1.29e+05</td>\n",
       "</tr>\n",
       "<tr>\n",
       "  <th>zip_98092</th>     <td>-2.597e+05</td> <td> 2.19e+04</td> <td>  -11.844</td> <td> 0.000</td> <td>-3.03e+05</td> <td>-2.17e+05</td>\n",
       "</tr>\n",
       "<tr>\n",
       "  <th>zip_98102</th>     <td> 1.454e+05</td> <td> 1.68e+04</td> <td>    8.651</td> <td> 0.000</td> <td> 1.12e+05</td> <td> 1.78e+05</td>\n",
       "</tr>\n",
       "<tr>\n",
       "  <th>zip_98105</th>     <td> 1.503e+05</td> <td> 1.19e+04</td> <td>   12.645</td> <td> 0.000</td> <td> 1.27e+05</td> <td> 1.74e+05</td>\n",
       "</tr>\n",
       "<tr>\n",
       "  <th>zip_98106</th>     <td>-2.098e+05</td> <td> 1.32e+04</td> <td>  -15.902</td> <td> 0.000</td> <td>-2.36e+05</td> <td>-1.84e+05</td>\n",
       "</tr>\n",
       "<tr>\n",
       "  <th>zip_98108</th>     <td>-2.044e+05</td> <td> 1.49e+04</td> <td>  -13.693</td> <td> 0.000</td> <td>-2.34e+05</td> <td>-1.75e+05</td>\n",
       "</tr>\n",
       "<tr>\n",
       "  <th>zip_98109</th>     <td> 1.678e+05</td> <td> 1.71e+04</td> <td>    9.830</td> <td> 0.000</td> <td> 1.34e+05</td> <td> 2.01e+05</td>\n",
       "</tr>\n",
       "<tr>\n",
       "  <th>zip_98112</th>     <td> 2.988e+05</td> <td> 1.13e+04</td> <td>   26.456</td> <td> 0.000</td> <td> 2.77e+05</td> <td> 3.21e+05</td>\n",
       "</tr>\n",
       "<tr>\n",
       "  <th>zip_98116</th>     <td>-5.135e+04</td> <td> 1.25e+04</td> <td>   -4.104</td> <td> 0.000</td> <td>-7.59e+04</td> <td>-2.68e+04</td>\n",
       "</tr>\n",
       "<tr>\n",
       "  <th>zip_98117</th>     <td>-3.866e+04</td> <td> 8684.700</td> <td>   -4.452</td> <td> 0.000</td> <td>-5.57e+04</td> <td>-2.16e+04</td>\n",
       "</tr>\n",
       "<tr>\n",
       "  <th>zip_98118</th>     <td>-1.514e+05</td> <td> 1.05e+04</td> <td>  -14.373</td> <td> 0.000</td> <td>-1.72e+05</td> <td>-1.31e+05</td>\n",
       "</tr>\n",
       "<tr>\n",
       "  <th>zip_98119</th>     <td> 1.379e+05</td> <td> 1.38e+04</td> <td>    9.985</td> <td> 0.000</td> <td> 1.11e+05</td> <td> 1.65e+05</td>\n",
       "</tr>\n",
       "<tr>\n",
       "  <th>zip_98125</th>     <td>-1.408e+05</td> <td> 1.01e+04</td> <td>  -13.969</td> <td> 0.000</td> <td>-1.61e+05</td> <td>-1.21e+05</td>\n",
       "</tr>\n",
       "<tr>\n",
       "  <th>zip_98126</th>     <td>-1.512e+05</td> <td>  1.3e+04</td> <td>  -11.660</td> <td> 0.000</td> <td>-1.77e+05</td> <td>-1.26e+05</td>\n",
       "</tr>\n",
       "<tr>\n",
       "  <th>zip_98133</th>     <td>-1.988e+05</td> <td> 9731.140</td> <td>  -20.430</td> <td> 0.000</td> <td>-2.18e+05</td> <td> -1.8e+05</td>\n",
       "</tr>\n",
       "<tr>\n",
       "  <th>zip_98136</th>     <td>-9.969e+04</td> <td> 1.42e+04</td> <td>   -6.999</td> <td> 0.000</td> <td>-1.28e+05</td> <td>-7.18e+04</td>\n",
       "</tr>\n",
       "<tr>\n",
       "  <th>zip_98144</th>     <td>-5.313e+04</td> <td> 1.08e+04</td> <td>   -4.901</td> <td> 0.000</td> <td>-7.44e+04</td> <td>-3.19e+04</td>\n",
       "</tr>\n",
       "<tr>\n",
       "  <th>zip_98146</th>     <td>-2.319e+05</td> <td> 1.51e+04</td> <td>  -15.340</td> <td> 0.000</td> <td>-2.62e+05</td> <td>-2.02e+05</td>\n",
       "</tr>\n",
       "<tr>\n",
       "  <th>zip_98148</th>     <td>-2.371e+05</td> <td> 2.71e+04</td> <td>   -8.761</td> <td> 0.000</td> <td> -2.9e+05</td> <td>-1.84e+05</td>\n",
       "</tr>\n",
       "<tr>\n",
       "  <th>zip_98155</th>     <td>-2.029e+05</td> <td> 1.08e+04</td> <td>  -18.839</td> <td> 0.000</td> <td>-2.24e+05</td> <td>-1.82e+05</td>\n",
       "</tr>\n",
       "<tr>\n",
       "  <th>zip_98166</th>     <td>-2.563e+05</td> <td> 1.74e+04</td> <td>  -14.751</td> <td> 0.000</td> <td> -2.9e+05</td> <td>-2.22e+05</td>\n",
       "</tr>\n",
       "<tr>\n",
       "  <th>zip_98168</th>     <td>-2.608e+05</td> <td> 1.53e+04</td> <td>  -17.035</td> <td> 0.000</td> <td>-2.91e+05</td> <td>-2.31e+05</td>\n",
       "</tr>\n",
       "<tr>\n",
       "  <th>zip_98177</th>     <td>-1.475e+05</td> <td> 1.23e+04</td> <td>  -11.948</td> <td> 0.000</td> <td>-1.72e+05</td> <td>-1.23e+05</td>\n",
       "</tr>\n",
       "<tr>\n",
       "  <th>zip_98178</th>     <td>  -2.7e+05</td> <td> 1.44e+04</td> <td>  -18.783</td> <td> 0.000</td> <td>-2.98e+05</td> <td>-2.42e+05</td>\n",
       "</tr>\n",
       "<tr>\n",
       "  <th>zip_98188</th>     <td> -2.65e+05</td> <td> 1.97e+04</td> <td>  -13.447</td> <td> 0.000</td> <td>-3.04e+05</td> <td>-2.26e+05</td>\n",
       "</tr>\n",
       "<tr>\n",
       "  <th>zip_98198</th>     <td>-2.978e+05</td> <td> 1.96e+04</td> <td>  -15.163</td> <td> 0.000</td> <td>-3.36e+05</td> <td>-2.59e+05</td>\n",
       "</tr>\n",
       "<tr>\n",
       "  <th>zip_98199</th>     <td> 2.418e+04</td> <td> 1.12e+04</td> <td>    2.153</td> <td> 0.031</td> <td> 2168.213</td> <td> 4.62e+04</td>\n",
       "</tr>\n",
       "<tr>\n",
       "  <th>sale_month</th>    <td>-3045.6040</td> <td>  379.909</td> <td>   -8.017</td> <td> 0.000</td> <td>-3790.265</td> <td>-2300.943</td>\n",
       "</tr>\n",
       "</table>\n",
       "<table class=\"simpletable\">\n",
       "<tr>\n",
       "  <th>Omnibus:</th>       <td>13707.312</td> <th>  Durbin-Watson:     </th>  <td>   1.984</td>  \n",
       "</tr>\n",
       "<tr>\n",
       "  <th>Prob(Omnibus):</th>  <td> 0.000</td>   <th>  Jarque-Bera (JB):  </th> <td>1617625.375</td>\n",
       "</tr>\n",
       "<tr>\n",
       "  <th>Skew:</th>           <td> 3.116</td>   <th>  Prob(JB):          </th>  <td>    0.00</td>  \n",
       "</tr>\n",
       "<tr>\n",
       "  <th>Kurtosis:</th>       <td>49.992</td>   <th>  Cond. No.          </th>  <td>7.38e+20</td>  \n",
       "</tr>\n",
       "</table><br/><br/>Notes:<br/>[1] Standard Errors assume that the covariance matrix of the errors is correctly specified.<br/>[2] The smallest eigenvalue is 8.06e-29. This might indicate that there are<br/>strong multicollinearity problems or that the design matrix is singular."
      ],
      "text/plain": [
       "<class 'statsmodels.iolib.summary.Summary'>\n",
       "\"\"\"\n",
       "                            OLS Regression Results                            \n",
       "==============================================================================\n",
       "Dep. Variable:                  price   R-squared:                       0.829\n",
       "Model:                            OLS   Adj. R-squared:                  0.828\n",
       "Method:                 Least Squares   F-statistic:                     947.9\n",
       "Date:                Tue, 30 Nov 2021   Prob (F-statistic):               0.00\n",
       "Time:                        22:57:56   Log-Likelihood:            -2.3091e+05\n",
       "No. Observations:               17277   AIC:                         4.620e+05\n",
       "Df Residuals:                   17188   BIC:                         4.627e+05\n",
       "Df Model:                          88                                         \n",
       "Covariance Type:            nonrobust                                         \n",
       "=================================================================================\n",
       "                    coef    std err          t      P>|t|      [0.025      0.975]\n",
       "---------------------------------------------------------------------------------\n",
       "const         -4.178e+07   3.21e+06    -13.031      0.000   -4.81e+07   -3.55e+07\n",
       "sqft_living     159.0655      2.628     60.517      0.000     153.914     164.218\n",
       "sqft_lot          0.2217      0.042      5.263      0.000       0.139       0.304\n",
       "waterfront     7.181e+05    1.5e+04     47.874      0.000    6.89e+05    7.48e+05\n",
       "view           1.091e+05   4543.507     24.019      0.000       1e+05    1.18e+05\n",
       "yr_renovated     36.5609      3.280     11.146      0.000      30.132      42.990\n",
       "lat             1.62e+05      6e+04      2.701      0.007    4.44e+04     2.8e+05\n",
       "long          -2.796e+05   2.89e+04     -9.688      0.000   -3.36e+05   -2.23e+05\n",
       "sqft_living15    22.0094      3.076      7.155      0.000      15.980      28.039\n",
       "sqft_lot15       -0.1198      0.064     -1.870      0.061      -0.245       0.006\n",
       "bedrooms_1_2   1.117e+05   2.28e+04      4.895      0.000     6.7e+04    1.56e+05\n",
       "bedrooms_3_4   1.178e+05   2.24e+04      5.261      0.000    7.39e+04    1.62e+05\n",
       "bedrooms_5_6   9.754e+04   2.25e+04      4.344      0.000    5.35e+04    1.42e+05\n",
       "bathrooms_1    2.033e+04   3935.933      5.166      0.000    1.26e+04     2.8e+04\n",
       "bathrooms_3   -1.693e+04   2975.536     -5.689      0.000   -2.28e+04   -1.11e+04\n",
       "floors_1       -664.6880   3242.333     -0.205      0.838   -7019.991    5690.615\n",
       "condition_1   -8.728e+04   3.24e+04     -2.694      0.007   -1.51e+05   -2.38e+04\n",
       "condition_4    2.498e+04   2962.018      8.433      0.000    1.92e+04    3.08e+04\n",
       "condition_5     7.41e+04   4634.540     15.988      0.000     6.5e+04    8.32e+04\n",
       "grade_3         6.96e-07   2.07e-08     33.669      0.000    6.55e-07    7.37e-07\n",
       "grade_8        2.707e+04   3382.271      8.004      0.000    2.04e+04    3.37e+04\n",
       "grade_9        1.055e+05   5132.545     20.556      0.000    9.54e+04    1.16e+05\n",
       "grade_10       2.282e+05   7417.588     30.761      0.000    2.14e+05    2.43e+05\n",
       "grade_11       4.396e+05   1.12e+04     39.317      0.000    4.18e+05    4.62e+05\n",
       "grade_12        8.58e+05   2.07e+04     41.433      0.000    8.17e+05    8.99e+05\n",
       "grade_13       1.983e+06   4.52e+04     43.883      0.000    1.89e+06    2.07e+06\n",
       "zip_98001     -2.701e+05   2.25e+04    -11.981      0.000   -3.14e+05   -2.26e+05\n",
       "zip_98002     -2.422e+05   2.34e+04    -10.349      0.000   -2.88e+05   -1.96e+05\n",
       "zip_98003     -2.819e+05   2.36e+04    -11.957      0.000   -3.28e+05   -2.36e+05\n",
       "zip_98004      4.816e+05   1.08e+04     44.595      0.000     4.6e+05    5.03e+05\n",
       "zip_98006     -3.589e+04   9723.812     -3.691      0.000    -5.5e+04   -1.68e+04\n",
       "zip_98007     -3.226e+04   1.57e+04     -2.056      0.040    -6.3e+04   -1508.862\n",
       "zip_98010     -1.427e+05   2.36e+04     -6.040      0.000   -1.89e+05   -9.64e+04\n",
       "zip_98011     -1.838e+05   1.51e+04    -12.215      0.000   -2.13e+05   -1.54e+05\n",
       "zip_98014      -1.16e+05   2.08e+04     -5.565      0.000   -1.57e+05   -7.51e+04\n",
       "zip_98019     -1.509e+05    1.8e+04     -8.394      0.000   -1.86e+05   -1.16e+05\n",
       "zip_98022     -1.842e+05   2.61e+04     -7.062      0.000   -2.35e+05   -1.33e+05\n",
       "zip_98023     -3.265e+05   2.35e+04    -13.866      0.000   -3.73e+05    -2.8e+05\n",
       "zip_98024     -4.179e+04   2.14e+04     -1.953      0.051   -8.37e+04     145.828\n",
       "zip_98027     -7.404e+04   1.13e+04     -6.571      0.000   -9.61e+04    -5.2e+04\n",
       "zip_98028     -2.011e+05   1.27e+04    -15.818      0.000   -2.26e+05   -1.76e+05\n",
       "zip_98030     -2.478e+05   1.93e+04    -12.858      0.000   -2.86e+05    -2.1e+05\n",
       "zip_98031     -2.397e+05   1.75e+04    -13.716      0.000   -2.74e+05   -2.05e+05\n",
       "zip_98032     -2.788e+05   2.28e+04    -12.224      0.000   -3.24e+05   -2.34e+05\n",
       "zip_98033      5.837e+04   9766.658      5.976      0.000    3.92e+04    7.75e+04\n",
       "zip_98034     -1.122e+05   9877.470    -11.356      0.000   -1.32e+05   -9.28e+04\n",
       "zip_98038     -1.713e+05   1.62e+04    -10.553      0.000   -2.03e+05   -1.39e+05\n",
       "zip_98039      9.216e+05    2.5e+04     36.799      0.000    8.73e+05    9.71e+05\n",
       "zip_98040      2.033e+05   1.21e+04     16.840      0.000     1.8e+05    2.27e+05\n",
       "zip_98042     -2.252e+05   1.71e+04    -13.150      0.000   -2.59e+05   -1.92e+05\n",
       "zip_98045     -5.361e+04   1.75e+04     -3.063      0.002   -8.79e+04   -1.93e+04\n",
       "zip_98052       -4.5e+04   9633.692     -4.671      0.000   -6.39e+04   -2.61e+04\n",
       "zip_98053     -3.807e+04   1.22e+04     -3.109      0.002   -6.21e+04   -1.41e+04\n",
       "zip_98055     -2.326e+05   1.53e+04    -15.173      0.000   -2.63e+05   -2.03e+05\n",
       "zip_98056     -1.893e+05   1.18e+04    -16.072      0.000   -2.12e+05   -1.66e+05\n",
       "zip_98058     -2.205e+05   1.38e+04    -15.955      0.000   -2.48e+05   -1.93e+05\n",
       "zip_98059      -1.77e+05   1.17e+04    -15.182      0.000      -2e+05   -1.54e+05\n",
       "zip_98065     -9.548e+04   1.43e+04     -6.665      0.000   -1.24e+05   -6.74e+04\n",
       "zip_98070     -3.267e+05   2.41e+04    -13.571      0.000   -3.74e+05    -2.8e+05\n",
       "zip_98072     -1.403e+05   1.43e+04     -9.826      0.000   -1.68e+05   -1.12e+05\n",
       "zip_98074     -7.109e+04   1.04e+04     -6.806      0.000   -9.16e+04   -5.06e+04\n",
       "zip_98075     -7.149e+04   1.15e+04     -6.224      0.000    -9.4e+04    -4.9e+04\n",
       "zip_98077     -1.615e+05   1.65e+04     -9.770      0.000   -1.94e+05   -1.29e+05\n",
       "zip_98092     -2.597e+05   2.19e+04    -11.844      0.000   -3.03e+05   -2.17e+05\n",
       "zip_98102      1.454e+05   1.68e+04      8.651      0.000    1.12e+05    1.78e+05\n",
       "zip_98105      1.503e+05   1.19e+04     12.645      0.000    1.27e+05    1.74e+05\n",
       "zip_98106     -2.098e+05   1.32e+04    -15.902      0.000   -2.36e+05   -1.84e+05\n",
       "zip_98108     -2.044e+05   1.49e+04    -13.693      0.000   -2.34e+05   -1.75e+05\n",
       "zip_98109      1.678e+05   1.71e+04      9.830      0.000    1.34e+05    2.01e+05\n",
       "zip_98112      2.988e+05   1.13e+04     26.456      0.000    2.77e+05    3.21e+05\n",
       "zip_98116     -5.135e+04   1.25e+04     -4.104      0.000   -7.59e+04   -2.68e+04\n",
       "zip_98117     -3.866e+04   8684.700     -4.452      0.000   -5.57e+04   -2.16e+04\n",
       "zip_98118     -1.514e+05   1.05e+04    -14.373      0.000   -1.72e+05   -1.31e+05\n",
       "zip_98119      1.379e+05   1.38e+04      9.985      0.000    1.11e+05    1.65e+05\n",
       "zip_98125     -1.408e+05   1.01e+04    -13.969      0.000   -1.61e+05   -1.21e+05\n",
       "zip_98126     -1.512e+05    1.3e+04    -11.660      0.000   -1.77e+05   -1.26e+05\n",
       "zip_98133     -1.988e+05   9731.140    -20.430      0.000   -2.18e+05    -1.8e+05\n",
       "zip_98136     -9.969e+04   1.42e+04     -6.999      0.000   -1.28e+05   -7.18e+04\n",
       "zip_98144     -5.313e+04   1.08e+04     -4.901      0.000   -7.44e+04   -3.19e+04\n",
       "zip_98146     -2.319e+05   1.51e+04    -15.340      0.000   -2.62e+05   -2.02e+05\n",
       "zip_98148     -2.371e+05   2.71e+04     -8.761      0.000    -2.9e+05   -1.84e+05\n",
       "zip_98155     -2.029e+05   1.08e+04    -18.839      0.000   -2.24e+05   -1.82e+05\n",
       "zip_98166     -2.563e+05   1.74e+04    -14.751      0.000    -2.9e+05   -2.22e+05\n",
       "zip_98168     -2.608e+05   1.53e+04    -17.035      0.000   -2.91e+05   -2.31e+05\n",
       "zip_98177     -1.475e+05   1.23e+04    -11.948      0.000   -1.72e+05   -1.23e+05\n",
       "zip_98178       -2.7e+05   1.44e+04    -18.783      0.000   -2.98e+05   -2.42e+05\n",
       "zip_98188      -2.65e+05   1.97e+04    -13.447      0.000   -3.04e+05   -2.26e+05\n",
       "zip_98198     -2.978e+05   1.96e+04    -15.163      0.000   -3.36e+05   -2.59e+05\n",
       "zip_98199      2.418e+04   1.12e+04      2.153      0.031    2168.213    4.62e+04\n",
       "sale_month    -3045.6040    379.909     -8.017      0.000   -3790.265   -2300.943\n",
       "==============================================================================\n",
       "Omnibus:                    13707.312   Durbin-Watson:                   1.984\n",
       "Prob(Omnibus):                  0.000   Jarque-Bera (JB):          1617625.375\n",
       "Skew:                           3.116   Prob(JB):                         0.00\n",
       "Kurtosis:                      49.992   Cond. No.                     7.38e+20\n",
       "==============================================================================\n",
       "\n",
       "Notes:\n",
       "[1] Standard Errors assume that the covariance matrix of the errors is correctly specified.\n",
       "[2] The smallest eigenvalue is 8.06e-29. This might indicate that there are\n",
       "strong multicollinearity problems or that the design matrix is singular.\n",
       "\"\"\""
      ]
     },
     "execution_count": 224,
     "metadata": {},
     "output_type": "execute_result"
    }
   ],
   "source": [
    "X_train = sm.add_constant(X_train)\n",
    "model_v1_results = sm.OLS(y_train, X_train).fit()\n",
    "model_v1_results.summary()"
   ]
  },
  {
   "cell_type": "code",
   "execution_count": 226,
   "id": "fa8ff7b0",
   "metadata": {},
   "outputs": [],
   "source": [
    "model_v1_df = pd.DataFrame(model_v1_results.pvalues.sort_values(ascending=True))"
   ]
  },
  {
   "cell_type": "markdown",
   "id": "3973477f",
   "metadata": {},
   "source": [
    "Now we can pull out all features whose coefficients' p-value was greater than the threshold (0.05)"
   ]
  },
  {
   "cell_type": "code",
   "execution_count": 227,
   "id": "41ca5133",
   "metadata": {},
   "outputs": [
    {
     "data": {
      "text/html": [
       "<div>\n",
       "<style scoped>\n",
       "    .dataframe tbody tr th:only-of-type {\n",
       "        vertical-align: middle;\n",
       "    }\n",
       "\n",
       "    .dataframe tbody tr th {\n",
       "        vertical-align: top;\n",
       "    }\n",
       "\n",
       "    .dataframe thead th {\n",
       "        text-align: right;\n",
       "    }\n",
       "</style>\n",
       "<table border=\"1\" class=\"dataframe\">\n",
       "  <thead>\n",
       "    <tr style=\"text-align: right;\">\n",
       "      <th></th>\n",
       "      <th>feature</th>\n",
       "      <th>p_value</th>\n",
       "    </tr>\n",
       "  </thead>\n",
       "  <tbody>\n",
       "    <tr>\n",
       "      <th>0</th>\n",
       "      <td>zip_98024</td>\n",
       "      <td>0.050802</td>\n",
       "    </tr>\n",
       "    <tr>\n",
       "      <th>1</th>\n",
       "      <td>sqft_lot15</td>\n",
       "      <td>0.061470</td>\n",
       "    </tr>\n",
       "    <tr>\n",
       "      <th>2</th>\n",
       "      <td>floors_1</td>\n",
       "      <td>0.837572</td>\n",
       "    </tr>\n",
       "  </tbody>\n",
       "</table>\n",
       "</div>"
      ],
      "text/plain": [
       "      feature   p_value\n",
       "0   zip_98024  0.050802\n",
       "1  sqft_lot15  0.061470\n",
       "2    floors_1  0.837572"
      ]
     },
     "execution_count": 227,
     "metadata": {},
     "output_type": "execute_result"
    }
   ],
   "source": [
    "high_pvalues = model_v1_df[model_v1_df[0] > 0.05]\n",
    "high_pvalues.reset_index(inplace=True)\n",
    "high_pvalues.columns = ['feature', 'p_value']\n",
    "high_pvalues"
   ]
  },
  {
   "cell_type": "markdown",
   "id": "b857da86",
   "metadata": {
    "heading_collapsed": true
   },
   "source": [
    "# Feature Engineering"
   ]
  },
  {
   "cell_type": "markdown",
   "id": "12c63cbc",
   "metadata": {
    "hidden": true
   },
   "source": [
    "## Renovation"
   ]
  },
  {
   "cell_type": "markdown",
   "id": "9f05ecfc",
   "metadata": {
    "hidden": true
   },
   "source": [
    "Set up new dataframe 'renovation_features' to hold engineered features before joining in with original features.\n",
    "\n",
    "We are first working on the renovation status, so we will need some features: yr_built, yr_renovated, and sale_year"
   ]
  },
  {
   "cell_type": "code",
   "execution_count": null,
   "id": "0ec23b79",
   "metadata": {
    "hidden": true
   },
   "outputs": [],
   "source": [
    "renovation_features = df[['yr_built', 'yr_renovated', 'sale_year']].copy()"
   ]
  },
  {
   "cell_type": "markdown",
   "id": "2c4ebed9",
   "metadata": {
    "hidden": true
   },
   "source": [
    "During research on renovations, it seems like a general industry standard is that a home is considered renovated if the renovation took place within 15 years. We are engineering a new feature 'is_renovated' as a boolean, with 1 being the home is renovated within 15 years of sale, and 0 being either never renovated or renovations took place more than 15 years before sale."
   ]
  },
  {
   "cell_type": "code",
   "execution_count": null,
   "id": "e85f2129",
   "metadata": {
    "hidden": true
   },
   "outputs": [],
   "source": [
    "def renovation_status(df):\n",
    "    if df.yr_renovated == 0.0:\n",
    "        return 0\n",
    "    else:\n",
    "        if (df.sale_year - df.yr_renovated) > 15:\n",
    "            return 0\n",
    "        else:\n",
    "            return 1\n",
    "        \n",
    "renovation_features['is_renovated'] = renovation_features.apply(renovation_status, axis=1)\n",
    "renovation_features.drop(renovation_features.iloc[:, 0:3], axis=1, inplace=True)"
   ]
  },
  {
   "cell_type": "code",
   "execution_count": null,
   "id": "c3c24572",
   "metadata": {
    "hidden": true
   },
   "outputs": [],
   "source": [
    "renovation_features.is_renovated.value_counts()"
   ]
  },
  {
   "cell_type": "markdown",
   "id": "e20cd1df",
   "metadata": {
    "hidden": true
   },
   "source": [
    "Our renovation feature is now a boolean representing homes that were renovated with 15 years of the sale.\n",
    "\n",
    "> The feature resides in a dataframe 'renovation_features' so that we can concat it into our next iteration of features to be modeled"
   ]
  },
  {
   "cell_type": "markdown",
   "id": "e2849ca7",
   "metadata": {
    "hidden": true
   },
   "source": [
    "## Basement"
   ]
  },
  {
   "cell_type": "markdown",
   "id": "4dd733b5",
   "metadata": {
    "hidden": true
   },
   "source": [
    "The sqft_basement poses some interesting questions. I think first we want a column to see if there is a basement or not"
   ]
  },
  {
   "cell_type": "code",
   "execution_count": null,
   "id": "f8e236a0",
   "metadata": {
    "hidden": true
   },
   "outputs": [],
   "source": [
    "basement_features = df[['sqft_living', 'sqft_basement']].copy()"
   ]
  },
  {
   "cell_type": "code",
   "execution_count": null,
   "id": "ab1a92a2",
   "metadata": {
    "hidden": true
   },
   "outputs": [],
   "source": [
    "basement_features"
   ]
  },
  {
   "cell_type": "code",
   "execution_count": null,
   "id": "22525fbc",
   "metadata": {
    "hidden": true
   },
   "outputs": [],
   "source": [
    "basement_features['has_basement'] = basement_features.sqft_basement.map(lambda x: 1 if x > 0 else 0)"
   ]
  },
  {
   "cell_type": "code",
   "execution_count": null,
   "id": "fdca88de",
   "metadata": {
    "hidden": true
   },
   "outputs": [],
   "source": [
    "basement_features"
   ]
  },
  {
   "cell_type": "code",
   "execution_count": null,
   "id": "aab4aca4",
   "metadata": {
    "hidden": true
   },
   "outputs": [],
   "source": [
    "def percent_basement(df):\n",
    "    if df.has_basement == False:\n",
    "        return 0\n",
    "    else:\n",
    "        return round(((df.sqft_basement / df.sqft_living) * 100), 2)"
   ]
  },
  {
   "cell_type": "code",
   "execution_count": null,
   "id": "e30774bc",
   "metadata": {
    "hidden": true
   },
   "outputs": [],
   "source": [
    "basement_features['basement_percent'] = basement_features.apply(percent_basement, axis=1)"
   ]
  },
  {
   "cell_type": "code",
   "execution_count": null,
   "id": "feb794e8",
   "metadata": {
    "hidden": true
   },
   "outputs": [],
   "source": [
    "basement_features.has_basement.value_counts(normalize=True)"
   ]
  },
  {
   "cell_type": "code",
   "execution_count": null,
   "id": "7be661e7",
   "metadata": {
    "hidden": true
   },
   "outputs": [],
   "source": [
    "basement_features[basement_features.basement_percent > 0].basement_percent.describe()"
   ]
  },
  {
   "cell_type": "code",
   "execution_count": null,
   "id": "96414722",
   "metadata": {
    "hidden": true
   },
   "outputs": [],
   "source": [
    "sns.histplot(data=basement_features[basement_features.basement_percent > 0], x='basement_percent')"
   ]
  },
  {
   "cell_type": "markdown",
   "id": "5ed8b704",
   "metadata": {
    "hidden": true
   },
   "source": [
    "In our dataset, 60% of homes have no basement at all.\n",
    "\n",
    "Of those that have basements, the above histogram shows the binned percent of sqft_living that is made up of sqft_basement.\n",
    "\n",
    "It looks like we have a case for a feature that will show if the percent of the home that is basement is."
   ]
  },
  {
   "cell_type": "code",
   "execution_count": null,
   "id": "557edb4b",
   "metadata": {
    "hidden": true
   },
   "outputs": [],
   "source": [
    "basement_features.drop(basement_features.iloc[:, 0:3], axis=1, inplace=True)"
   ]
  },
  {
   "cell_type": "code",
   "execution_count": null,
   "id": "7017f7ba",
   "metadata": {
    "hidden": true
   },
   "outputs": [],
   "source": [
    "basement_features"
   ]
  },
  {
   "cell_type": "markdown",
   "id": "fae89bea",
   "metadata": {
    "hidden": true
   },
   "source": [
    "## Zipcode"
   ]
  },
  {
   "cell_type": "code",
   "execution_count": null,
   "id": "916f3ea7",
   "metadata": {
    "hidden": true
   },
   "outputs": [],
   "source": [
    "zipcode_features = df[['zipcode']].copy()"
   ]
  },
  {
   "cell_type": "markdown",
   "id": "d93f5b79",
   "metadata": {
    "hidden": true
   },
   "source": [
    "There at 70 different zipcode values in our dataset. We want to try and create a new feature that takes zipcodes and matches them up with cities in our area."
   ]
  },
  {
   "cell_type": "code",
   "execution_count": null,
   "id": "c552f193",
   "metadata": {
    "hidden": true
   },
   "outputs": [],
   "source": [
    "# https://zipdatamaps.com/king-wa-county-zipcodes\n",
    "zip_city = pd.read_csv('data\\zip_city.csv')\n",
    "\n",
    "zipcode_features = pd.merge(left=zipcode_features, right=zip_city, on='zipcode', how='left')"
   ]
  },
  {
   "cell_type": "code",
   "execution_count": null,
   "id": "7d3caec3",
   "metadata": {
    "hidden": true
   },
   "outputs": [],
   "source": [
    "zipcode_features"
   ]
  },
  {
   "cell_type": "markdown",
   "id": "40e6cc0e",
   "metadata": {
    "hidden": true
   },
   "source": [
    "zipcode_features can be merged into the larger dataframe to associate a home with a city instead of just a zipcode.\n",
    "\n",
    "Let's explore this a bit more."
   ]
  },
  {
   "cell_type": "code",
   "execution_count": null,
   "id": "4bc46d74",
   "metadata": {
    "hidden": true
   },
   "outputs": [],
   "source": [
    "homes_by_zip = zipcode_features.groupby('city').count()\n",
    "homes_by_zip.reset_index(inplace=True)\n",
    "homes_by_zip.columns = ['city', 'count']"
   ]
  },
  {
   "cell_type": "code",
   "execution_count": null,
   "id": "87858efb",
   "metadata": {
    "hidden": true
   },
   "outputs": [],
   "source": [
    "homes_by_zip"
   ]
  },
  {
   "cell_type": "code",
   "execution_count": null,
   "id": "00489fc7",
   "metadata": {
    "hidden": true
   },
   "outputs": [],
   "source": [
    "homes_by_zip.sort_values(by='count', ascending=False)"
   ]
  },
  {
   "cell_type": "markdown",
   "id": "8ba3a4dd",
   "metadata": {
    "hidden": true
   },
   "source": [
    "So instead of 70 different zipcodes for a feature, we can have 24 different city names."
   ]
  },
  {
   "cell_type": "markdown",
   "id": "0fc371db",
   "metadata": {
    "hidden": true
   },
   "source": [
    "Lets put in the features we engineered for renovation, basement, and zipcode"
   ]
  },
  {
   "cell_type": "markdown",
   "id": "dda363cf",
   "metadata": {},
   "source": [
    "# Model version 2, adding in engineered features"
   ]
  },
  {
   "cell_type": "code",
   "execution_count": null,
   "id": "6984ebcc",
   "metadata": {},
   "outputs": [],
   "source": [
    "df_v2 = pd.concat([df_final, renovation_features, basement_features,\n",
    "                   zipcode_features], axis=1)"
   ]
  },
  {
   "cell_type": "code",
   "execution_count": null,
   "id": "0b418863",
   "metadata": {},
   "outputs": [],
   "source": [
    "df_v2.columns"
   ]
  },
  {
   "cell_type": "code",
   "execution_count": null,
   "id": "aba71267",
   "metadata": {},
   "outputs": [],
   "source": [
    "X = df_v2.drop(['date', 'price', 'bathrooms', 'sqft_living', 'floors',\n",
    "                'sqft_above', 'sqft_basement', 'grade', 'sale_year',\n",
    "                'yr_renovated', 'sqft_living15', 'city'], axis=1)\n",
    "y = df_final.price"
   ]
  },
  {
   "cell_type": "code",
   "execution_count": null,
   "id": "cad49003",
   "metadata": {},
   "outputs": [],
   "source": [
    "X_train, X_test, y_train, y_test = train_test_split(X, y, test_size=0.2,\n",
    "                                                   random_state=0)\n",
    "\n",
    "model_v2 = LinearRegression()\n",
    "model_v2.fit(X_train,y_train)\n",
    "\n",
    "print('Single model fit score:', model_v1.score(X_test,y_test))\n",
    "\n",
    "splitter = ShuffleSplit(n_splits=5, test_size=0.2, random_state=0)\n",
    "\n",
    "baseline_scores = cross_validate(estimator=model_v2, X=X_train,\n",
    "                                 y=y_train, return_train_score=True, \n",
    "                                 cv=splitter)\n",
    "\n",
    "print('Train score:', baseline_scores['train_score'].mean())\n",
    "print('Test score:', baseline_scores['test_score'].mean())"
   ]
  },
  {
   "cell_type": "markdown",
   "id": "56f4a572",
   "metadata": {},
   "source": [
    "# Identify outliers"
   ]
  },
  {
   "cell_type": "markdown",
   "id": "f489dab0",
   "metadata": {},
   "source": [
    "Assuming we are keeping sqft_living as a feature from 4.1, the box plot during EDA showed lots of outliers. Going to see if we can identify outliers that we can drop."
   ]
  },
  {
   "cell_type": "code",
   "execution_count": null,
   "id": "55a45771",
   "metadata": {},
   "outputs": [],
   "source": [
    "df_version2 = df_final.copy()"
   ]
  },
  {
   "cell_type": "code",
   "execution_count": null,
   "id": "2772a767",
   "metadata": {},
   "outputs": [],
   "source": [
    "df_version2"
   ]
  },
  {
   "cell_type": "markdown",
   "id": "9f6f5e05",
   "metadata": {},
   "source": [
    "We suspect we will have no lower outliers, but we will check both anyway"
   ]
  },
  {
   "cell_type": "code",
   "execution_count": null,
   "id": "cca2ac8e",
   "metadata": {},
   "outputs": [],
   "source": [
    "upper_limit = df_version2.sqft_living.mean() + 3*df_version2.sqft_living.std()\n",
    "lower_limit = df_version2.sqft_living.mean() - 3*df_version2.sqft_living.std()"
   ]
  },
  {
   "cell_type": "code",
   "execution_count": null,
   "id": "9761158f",
   "metadata": {},
   "outputs": [],
   "source": [
    "upper_limit"
   ]
  },
  {
   "cell_type": "markdown",
   "id": "9f54c759",
   "metadata": {},
   "source": [
    "Using z-scores above 3, we will remove all homes with sqft_living over 4834.64"
   ]
  },
  {
   "cell_type": "code",
   "execution_count": null,
   "id": "4fe72025",
   "metadata": {},
   "outputs": [],
   "source": [
    "df_version2 = df_version2[df_version2.sqft_living < upper_limit].copy()"
   ]
  },
  {
   "cell_type": "code",
   "execution_count": null,
   "id": "aa4336dd",
   "metadata": {},
   "outputs": [],
   "source": [
    "df_version2"
   ]
  },
  {
   "cell_type": "code",
   "execution_count": null,
   "id": "976f28cb",
   "metadata": {},
   "outputs": [],
   "source": [
    "df_version2.sqft_living.describe()"
   ]
  },
  {
   "cell_type": "code",
   "execution_count": null,
   "id": "d2d2c068",
   "metadata": {},
   "outputs": [],
   "source": [
    "len(df_final) - len(df_version2)"
   ]
  },
  {
   "cell_type": "markdown",
   "id": "d667fe88",
   "metadata": {},
   "source": [
    "248 homes were considered outliers in the sqft_living column"
   ]
  },
  {
   "cell_type": "code",
   "execution_count": null,
   "id": "2d30daaa",
   "metadata": {},
   "outputs": [],
   "source": [
    "# cannot use datetime object in linear regression. we pulled out the sale\n",
    "# month and year from it as separate features for baseline model\n",
    "X = df_version2.drop(['date', 'price'], axis=1)\n",
    "y = df_version2.price\n",
    "\n",
    "X_train, X_test, y_train, y_test = train_test_split(X, y, test_size=0.2,\n",
    "                                                   random_state=0)\n",
    "\n",
    "model_version2 = LinearRegression()\n",
    "model_version2.fit(X_train,y_train)\n",
    "model_version2.score(X_test,y_test)"
   ]
  },
  {
   "cell_type": "markdown",
   "id": "1dc87c8b",
   "metadata": {},
   "source": [
    "Also going to try and removing the features identified to have multicollinearity"
   ]
  },
  {
   "cell_type": "code",
   "execution_count": null,
   "id": "0494700d",
   "metadata": {},
   "outputs": [],
   "source": [
    "df_version2.drop(['sqft_above','grade','sqft_living15','bathrooms'], axis=1,\n",
    "                inplace=True)"
   ]
  },
  {
   "cell_type": "code",
   "execution_count": null,
   "id": "d5b4145a",
   "metadata": {},
   "outputs": [],
   "source": [
    "# cannot use datetime object in linear regression. we pulled out the sale\n",
    "# month and year from it as separate features for baseline model\n",
    "X = df_version2.drop(['date', 'price'], axis=1)\n",
    "y = df_version2.price\n",
    "\n",
    "X_train, X_test, y_train, y_test = train_test_split(X, y, test_size=0.2,\n",
    "                                                   random_state=0)\n",
    "\n",
    "model_version3 = LinearRegression()\n",
    "model_version3.fit(X_train,y_train)\n",
    "model_version3.score(X_test,y_test)"
   ]
  },
  {
   "cell_type": "code",
   "execution_count": null,
   "id": "f8f3b66a",
   "metadata": {},
   "outputs": [],
   "source": [
    "df_version2[(df_version2.sale_year - df_version2.yr_renovated) <= 15]"
   ]
  },
  {
   "cell_type": "code",
   "execution_count": null,
   "id": "00a6f3c1",
   "metadata": {},
   "outputs": [],
   "source": [
    "df_version2[((df_version2.sale_year - df_version2.yr_renovated) > 15) & (df.yr_renovated != 0.0)]"
   ]
  },
  {
   "cell_type": "code",
   "execution_count": null,
   "id": "469be2c7",
   "metadata": {},
   "outputs": [],
   "source": [
    "df_version2[df_version2.yr_renovated == 0.0]"
   ]
  },
  {
   "cell_type": "code",
   "execution_count": null,
   "id": "4ecf8545",
   "metadata": {},
   "outputs": [],
   "source": [
    "df_version2['is_renovated'] = 0"
   ]
  },
  {
   "cell_type": "code",
   "execution_count": null,
   "id": "2f91b791",
   "metadata": {},
   "outputs": [],
   "source": [
    "# df_version2['is_renovated'] = df_version2.is_renovated.map(lambda x: 1 if ((x.sale_year - x.yr_renovated) <= 15))"
   ]
  },
  {
   "cell_type": "code",
   "execution_count": null,
   "id": "50174a08",
   "metadata": {},
   "outputs": [],
   "source": []
  },
  {
   "cell_type": "code",
   "execution_count": null,
   "id": "8836b336",
   "metadata": {},
   "outputs": [],
   "source": []
  },
  {
   "cell_type": "code",
   "execution_count": null,
   "id": "374cd113",
   "metadata": {},
   "outputs": [],
   "source": []
  },
  {
   "cell_type": "code",
   "execution_count": null,
   "id": "6e59e31f",
   "metadata": {},
   "outputs": [],
   "source": []
  },
  {
   "cell_type": "code",
   "execution_count": null,
   "id": "e9a7b66c",
   "metadata": {},
   "outputs": [],
   "source": []
  },
  {
   "cell_type": "code",
   "execution_count": null,
   "id": "905b43ca",
   "metadata": {},
   "outputs": [],
   "source": []
  },
  {
   "cell_type": "code",
   "execution_count": null,
   "id": "c94e07e3",
   "metadata": {},
   "outputs": [],
   "source": []
  },
  {
   "cell_type": "code",
   "execution_count": null,
   "id": "a628e999",
   "metadata": {},
   "outputs": [],
   "source": []
  },
  {
   "cell_type": "code",
   "execution_count": null,
   "id": "d7a36c83",
   "metadata": {},
   "outputs": [],
   "source": []
  },
  {
   "cell_type": "code",
   "execution_count": null,
   "id": "4f413581",
   "metadata": {},
   "outputs": [],
   "source": []
  },
  {
   "cell_type": "markdown",
   "id": "f13b36f9",
   "metadata": {},
   "source": [
    "# Log scaling 'price' feature"
   ]
  },
  {
   "cell_type": "code",
   "execution_count": null,
   "id": "033b451c",
   "metadata": {},
   "outputs": [],
   "source": [
    "log_price = np.log(df.price)"
   ]
  },
  {
   "cell_type": "code",
   "execution_count": null,
   "id": "7b790ce8",
   "metadata": {},
   "outputs": [],
   "source": [
    "df_log = pd.DataFrame([])"
   ]
  },
  {
   "cell_type": "code",
   "execution_count": null,
   "id": "ef4903bc",
   "metadata": {},
   "outputs": [],
   "source": [
    "df_log['log_price'] = np.log(df.price)"
   ]
  },
  {
   "cell_type": "code",
   "execution_count": null,
   "id": "41c0fbcc",
   "metadata": {},
   "outputs": [],
   "source": [
    "sns.histplot(data=df_log, x='log_price', bins=30);"
   ]
  },
  {
   "cell_type": "code",
   "execution_count": null,
   "id": "4f88f97c",
   "metadata": {},
   "outputs": [],
   "source": [
    "def normalize(feature):\n",
    "    return (feature - feature.mean()) / feature.std()\n",
    "\n",
    "df_log_final = df_log.apply(normalize)"
   ]
  },
  {
   "cell_type": "code",
   "execution_count": null,
   "id": "73b9a784",
   "metadata": {},
   "outputs": [],
   "source": [
    "sns.histplot(data=df_log_final, x='log_price', bins=30);"
   ]
  },
  {
   "cell_type": "markdown",
   "id": "79aadaec",
   "metadata": {},
   "source": [
    "Results from correlated numerical data, focus on exploring how to transform/normalize these 4 (and price)\n",
    "\n",
    "- sqft_living    0.701917\n",
    "- bathrooms      0.525906\n",
    "- bedrooms       0.308787\n",
    "- floors         0.256804"
   ]
  },
  {
   "cell_type": "code",
   "execution_count": null,
   "id": "4644edfc",
   "metadata": {},
   "outputs": [],
   "source": [
    "df.sqft_living.describe()"
   ]
  },
  {
   "cell_type": "code",
   "execution_count": null,
   "id": "3978cf7c",
   "metadata": {},
   "outputs": [],
   "source": []
  },
  {
   "cell_type": "code",
   "execution_count": null,
   "id": "120d714d",
   "metadata": {},
   "outputs": [],
   "source": []
  },
  {
   "cell_type": "code",
   "execution_count": null,
   "id": "dda766c9",
   "metadata": {},
   "outputs": [],
   "source": []
  },
  {
   "cell_type": "code",
   "execution_count": null,
   "id": "ae70f875",
   "metadata": {},
   "outputs": [],
   "source": []
  },
  {
   "cell_type": "code",
   "execution_count": null,
   "id": "a5ca2736",
   "metadata": {},
   "outputs": [],
   "source": []
  },
  {
   "cell_type": "code",
   "execution_count": null,
   "id": "d22fbb77",
   "metadata": {},
   "outputs": [],
   "source": []
  },
  {
   "cell_type": "code",
   "execution_count": null,
   "id": "9df25bd5",
   "metadata": {},
   "outputs": [],
   "source": []
  },
  {
   "cell_type": "code",
   "execution_count": null,
   "id": "43164250",
   "metadata": {},
   "outputs": [],
   "source": []
  },
  {
   "cell_type": "code",
   "execution_count": null,
   "id": "0c05be2f",
   "metadata": {},
   "outputs": [],
   "source": []
  },
  {
   "cell_type": "code",
   "execution_count": null,
   "id": "8ffe8606",
   "metadata": {},
   "outputs": [],
   "source": []
  },
  {
   "cell_type": "code",
   "execution_count": null,
   "id": "bce27f48",
   "metadata": {},
   "outputs": [],
   "source": []
  },
  {
   "cell_type": "code",
   "execution_count": null,
   "id": "55b2aa05",
   "metadata": {},
   "outputs": [],
   "source": []
  },
  {
   "cell_type": "code",
   "execution_count": null,
   "id": "48aaf9ec",
   "metadata": {},
   "outputs": [],
   "source": []
  },
  {
   "cell_type": "code",
   "execution_count": null,
   "id": "36cf7369",
   "metadata": {},
   "outputs": [],
   "source": []
  },
  {
   "cell_type": "code",
   "execution_count": null,
   "id": "fe0bb0ed",
   "metadata": {},
   "outputs": [],
   "source": []
  },
  {
   "cell_type": "code",
   "execution_count": null,
   "id": "5b063c1a",
   "metadata": {},
   "outputs": [],
   "source": []
  },
  {
   "cell_type": "code",
   "execution_count": null,
   "id": "ff835ba6",
   "metadata": {},
   "outputs": [],
   "source": []
  },
  {
   "cell_type": "code",
   "execution_count": null,
   "id": "4b058648",
   "metadata": {},
   "outputs": [],
   "source": []
  },
  {
   "cell_type": "code",
   "execution_count": null,
   "id": "676ea19c",
   "metadata": {},
   "outputs": [],
   "source": []
  },
  {
   "cell_type": "code",
   "execution_count": null,
   "id": "2fd7b86b",
   "metadata": {},
   "outputs": [],
   "source": []
  }
 ],
 "metadata": {
  "kernelspec": {
   "display_name": "Python (learn-env)",
   "language": "python",
   "name": "learn-env"
  },
  "language_info": {
   "codemirror_mode": {
    "name": "ipython",
    "version": 3
   },
   "file_extension": ".py",
   "mimetype": "text/x-python",
   "name": "python",
   "nbconvert_exporter": "python",
   "pygments_lexer": "ipython3",
   "version": "3.8.8"
  },
  "toc": {
   "base_numbering": 1,
   "nav_menu": {},
   "number_sections": true,
   "sideBar": true,
   "skip_h1_title": false,
   "title_cell": "Table of Contents",
   "title_sidebar": "Contents",
   "toc_cell": false,
   "toc_position": {
    "height": "calc(100% - 180px)",
    "left": "10px",
    "top": "150px",
    "width": "345px"
   },
   "toc_section_display": true,
   "toc_window_display": true
  }
 },
 "nbformat": 4,
 "nbformat_minor": 5
}
