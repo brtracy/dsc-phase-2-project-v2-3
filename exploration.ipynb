{
 "cells": [
  {
   "cell_type": "markdown",
   "id": "e8114294",
   "metadata": {
    "heading_collapsed": true
   },
   "source": [
    "# Business Problem"
   ]
  },
  {
   "cell_type": "markdown",
   "id": "40b35b27",
   "metadata": {
    "hidden": true
   },
   "source": [
    "A new bitcoin millionaire wants to get into flipping houses in the Seattle area.\n",
    "\n",
    "They have approached our company asking us to build a model to predict a homes' sale price. They want to use that prediction to determine if they should buy a home currently for sale with the intent to renovate it and flip it for profit.\n",
    "\n",
    "**Here where we say renovate we mean to restore quality, not to be confused with remodel, where we add/remove features**\n",
    "\n",
    "The idea is that there are currently homes for sale, and our model is to predict the price when the condition of the home is improved. \n"
   ]
  },
  {
   "cell_type": "markdown",
   "id": "82311252",
   "metadata": {
    "hidden": true
   },
   "source": [
    "---------------------------------------------"
   ]
  },
  {
   "cell_type": "markdown",
   "id": "0a0f6d32",
   "metadata": {
    "hidden": true
   },
   "source": [
    "Our business problem . \n",
    "- First we will do data exploration to see what we have that we are working with.\n",
    "- Build a baseline model with all the features and see how accurate it is\n",
    "- See if condition is a feature that impacts price first?"
   ]
  },
  {
   "cell_type": "markdown",
   "id": "8a2c3037",
   "metadata": {
    "hidden": true
   },
   "source": [
    "------------------------------"
   ]
  },
  {
   "cell_type": "markdown",
   "id": "9d6f554b",
   "metadata": {
    "hidden": true
   },
   "source": [
    "We are provided with data from another company that represents housing information for Kings County (where Seattle is located) to build our model."
   ]
  },
  {
   "cell_type": "markdown",
   "id": "02649626",
   "metadata": {
    "heading_collapsed": true
   },
   "source": [
    "# Imports"
   ]
  },
  {
   "cell_type": "code",
   "execution_count": 1,
   "id": "dfe48b76",
   "metadata": {
    "hidden": true
   },
   "outputs": [
    {
     "name": "stdout",
     "output_type": "stream",
     "text": [
      "<class 'pandas.core.frame.DataFrame'>\n",
      "RangeIndex: 21597 entries, 0 to 21596\n",
      "Data columns (total 21 columns):\n",
      " #   Column         Non-Null Count  Dtype  \n",
      "---  ------         --------------  -----  \n",
      " 0   id             21597 non-null  int64  \n",
      " 1   date           21597 non-null  object \n",
      " 2   price          21597 non-null  float64\n",
      " 3   bedrooms       21597 non-null  int64  \n",
      " 4   bathrooms      21597 non-null  float64\n",
      " 5   sqft_living    21597 non-null  int64  \n",
      " 6   sqft_lot       21597 non-null  int64  \n",
      " 7   floors         21597 non-null  float64\n",
      " 8   waterfront     19221 non-null  object \n",
      " 9   view           21534 non-null  object \n",
      " 10  condition      21597 non-null  object \n",
      " 11  grade          21597 non-null  object \n",
      " 12  sqft_above     21597 non-null  int64  \n",
      " 13  sqft_basement  21597 non-null  object \n",
      " 14  yr_built       21597 non-null  int64  \n",
      " 15  yr_renovated   17755 non-null  float64\n",
      " 16  zipcode        21597 non-null  int64  \n",
      " 17  lat            21597 non-null  float64\n",
      " 18  long           21597 non-null  float64\n",
      " 19  sqft_living15  21597 non-null  int64  \n",
      " 20  sqft_lot15     21597 non-null  int64  \n",
      "dtypes: float64(6), int64(9), object(6)\n",
      "memory usage: 3.5+ MB\n"
     ]
    }
   ],
   "source": [
    "import pandas as pd\n",
    "import numpy as np\n",
    "import seaborn as sns\n",
    "import matplotlib.pyplot as plt\n",
    "%matplotlib inline\n",
    "\n",
    "from sklearn.linear_model import LinearRegression\n",
    "from sklearn.model_selection import train_test_split\n",
    "from sklearn.model_selection import cross_validate, ShuffleSplit\n",
    "\n",
    "import statsmodels.api as sm\n",
    "import statsmodels.formula.api as smf\n",
    "\n",
    "\n",
    "raw_data = pd.read_csv('data\\kc_house_data.csv')\n",
    "raw_data.info()"
   ]
  },
  {
   "cell_type": "code",
   "execution_count": 2,
   "id": "7963875e",
   "metadata": {
    "hidden": true
   },
   "outputs": [
    {
     "data": {
      "text/plain": [
       "id                  0\n",
       "date                0\n",
       "price               0\n",
       "bedrooms            0\n",
       "bathrooms           0\n",
       "sqft_living         0\n",
       "sqft_lot            0\n",
       "floors              0\n",
       "waterfront       2376\n",
       "view               63\n",
       "condition           0\n",
       "grade               0\n",
       "sqft_above          0\n",
       "sqft_basement       0\n",
       "yr_built            0\n",
       "yr_renovated     3842\n",
       "zipcode             0\n",
       "lat                 0\n",
       "long                0\n",
       "sqft_living15       0\n",
       "sqft_lot15          0\n",
       "dtype: int64"
      ]
     },
     "execution_count": 2,
     "metadata": {},
     "output_type": "execute_result"
    }
   ],
   "source": [
    "raw_data.isna().sum()"
   ]
  },
  {
   "cell_type": "markdown",
   "id": "856252a8",
   "metadata": {
    "hidden": true
   },
   "source": [
    "As we do our data exploration, we will make sure to deal with these null values. For now, we will make a copy of the raw data as our working dataframe, df."
   ]
  },
  {
   "cell_type": "code",
   "execution_count": 3,
   "id": "17d7bb3a",
   "metadata": {
    "hidden": true
   },
   "outputs": [],
   "source": [
    "df = raw_data.copy()"
   ]
  },
  {
   "cell_type": "markdown",
   "id": "916dcdd4",
   "metadata": {
    "heading_collapsed": true
   },
   "source": [
    "# Investigating each feature"
   ]
  },
  {
   "cell_type": "markdown",
   "id": "73323054",
   "metadata": {
    "heading_collapsed": true,
    "hidden": true
   },
   "source": [
    "## 'id'"
   ]
  },
  {
   "cell_type": "markdown",
   "id": "c4ec76c0",
   "metadata": {
    "hidden": true
   },
   "source": [
    "Dropping the 'id' column, this is a unique identifier that we will not be using in any analysis/modeling."
   ]
  },
  {
   "cell_type": "code",
   "execution_count": 4,
   "id": "50513068",
   "metadata": {
    "hidden": true
   },
   "outputs": [],
   "source": [
    "df.drop(['id'], axis=1, inplace=True)"
   ]
  },
  {
   "cell_type": "markdown",
   "id": "69fb90c8",
   "metadata": {
    "heading_collapsed": true,
    "hidden": true
   },
   "source": [
    "## 'date'"
   ]
  },
  {
   "cell_type": "markdown",
   "id": "a6f51dd9",
   "metadata": {
    "hidden": true
   },
   "source": [
    "First we will convert the column to a datetime object"
   ]
  },
  {
   "cell_type": "code",
   "execution_count": 5,
   "id": "7875f841",
   "metadata": {
    "hidden": true
   },
   "outputs": [],
   "source": [
    "df.date = pd.to_datetime(df.date)"
   ]
  },
  {
   "cell_type": "code",
   "execution_count": 6,
   "id": "dff44e78",
   "metadata": {
    "hidden": true
   },
   "outputs": [
    {
     "data": {
      "text/plain": [
       "count                            21597\n",
       "mean     2014-10-29 04:20:38.171968512\n",
       "min                2014-05-02 00:00:00\n",
       "25%                2014-07-22 00:00:00\n",
       "50%                2014-10-16 00:00:00\n",
       "75%                2015-02-17 00:00:00\n",
       "max                2015-05-27 00:00:00\n",
       "Name: date, dtype: object"
      ]
     },
     "execution_count": 6,
     "metadata": {},
     "output_type": "execute_result"
    }
   ],
   "source": [
    "df.date.describe(datetime_is_numeric=True)"
   ]
  },
  {
   "cell_type": "markdown",
   "id": "bb1d1ab3",
   "metadata": {
    "hidden": true
   },
   "source": [
    "The sale dates range from 5/2/2014 to 5/27/2015."
   ]
  },
  {
   "cell_type": "code",
   "execution_count": 7,
   "id": "c8cdda9f",
   "metadata": {
    "hidden": true,
    "scrolled": true
   },
   "outputs": [
    {
     "data": {
      "image/png": "[encoded data removed]",
      "text/plain": [
       "<Figure size 432x288 with 1 Axes>"
      ]
     },
     "metadata": {
      "needs_background": "light"
     },
     "output_type": "display_data"
    }
   ],
   "source": [
    "sns.scatterplot(data=df, x='date', y='price', size=1, alpha=0.2);"
   ]
  },
  {
   "cell_type": "markdown",
   "id": "f2a08f68",
   "metadata": {
    "hidden": true
   },
   "source": [
    "On its own nothing interesting to see in relationship with sale price. Having this feature as a datetime object will allow for additional feature engineering later on."
   ]
  },
  {
   "cell_type": "markdown",
   "id": "15ce069d",
   "metadata": {
    "hidden": true
   },
   "source": [
    "### 'date' extrapolation"
   ]
  },
  {
   "cell_type": "markdown",
   "id": "2b89300e",
   "metadata": {
    "hidden": true
   },
   "source": [
    "Adding two features, for the month and year of the sale derived from the datetime feature 'date'. This is because we can't put a datetime object into a linear model (we found this out the hard way). We still want to keep the 'date' feature in case we need to do any feature engineering later one."
   ]
  },
  {
   "cell_type": "code",
   "execution_count": 8,
   "id": "d1787eca",
   "metadata": {
    "hidden": true
   },
   "outputs": [],
   "source": [
    "df['sale_month'] = df.date.map(lambda x: x.month)\n",
    "df['sale_year'] = df.date.map(lambda x: x.year)"
   ]
  },
  {
   "cell_type": "markdown",
   "id": "fb67ceae",
   "metadata": {
    "heading_collapsed": true,
    "hidden": true
   },
   "source": [
    "## 'price' **(TARGET)**"
   ]
  },
  {
   "cell_type": "code",
   "execution_count": 9,
   "id": "cc008481",
   "metadata": {
    "hidden": true,
    "scrolled": false
   },
   "outputs": [
    {
     "data": {
      "text/plain": [
       "count      21597.0\n",
       "mean      540297.0\n",
       "std       367368.0\n",
       "min        78000.0\n",
       "25%       322000.0\n",
       "50%       450000.0\n",
       "75%       645000.0\n",
       "max      7700000.0\n",
       "Name: price, dtype: float64"
      ]
     },
     "execution_count": 9,
     "metadata": {},
     "output_type": "execute_result"
    }
   ],
   "source": [
    "df.price.describe().round()"
   ]
  },
  {
   "cell_type": "code",
   "execution_count": 10,
   "id": "ba881ad4",
   "metadata": {
    "hidden": true
   },
   "outputs": [
    {
     "data": {
      "image/png": "[encoded data removed]",
      "text/plain": [
       "<Figure size 432x288 with 1 Axes>"
      ]
     },
     "metadata": {
      "needs_background": "light"
     },
     "output_type": "display_data"
    }
   ],
   "source": [
    "sns.histplot(data=df, x='price', bins=50);"
   ]
  },
  {
   "cell_type": "code",
   "execution_count": 11,
   "id": "fef656c9",
   "metadata": {
    "hidden": true
   },
   "outputs": [
    {
     "data": {
      "image/png": "[encoded data removed]",
      "text/plain": [
       "<Figure size 432x288 with 1 Axes>"
      ]
     },
     "metadata": {
      "needs_background": "light"
     },
     "output_type": "display_data"
    }
   ],
   "source": [
    "sns.boxplot(data=df, x='price');"
   ]
  },
  {
   "cell_type": "markdown",
   "id": "03671f25",
   "metadata": {
    "hidden": true
   },
   "source": [
    "The price data is heavily right skewed. Our average home price is \\\\$540k, it looks like lots of homes sell for under \\\\$100k. But there are enough homes that sell for over \\\\$500k to push the average up.\n",
    "\n",
    "> We may need to consider scaling and normalizing later?"
   ]
  },
  {
   "cell_type": "markdown",
   "id": "6308eca2",
   "metadata": {
    "heading_collapsed": true,
    "hidden": true
   },
   "source": [
    "## 'bedrooms'\n"
   ]
  },
  {
   "cell_type": "code",
   "execution_count": 12,
   "id": "ce2646be",
   "metadata": {
    "hidden": true
   },
   "outputs": [
    {
     "data": {
      "text/plain": [
       "count    21597.000000\n",
       "mean         3.373200\n",
       "std          0.926299\n",
       "min          1.000000\n",
       "25%          3.000000\n",
       "50%          3.000000\n",
       "75%          4.000000\n",
       "max         33.000000\n",
       "Name: bedrooms, dtype: float64"
      ]
     },
     "execution_count": 12,
     "metadata": {},
     "output_type": "execute_result"
    }
   ],
   "source": [
    "df.bedrooms.describe()"
   ]
  },
  {
   "cell_type": "code",
   "execution_count": 13,
   "id": "5b0f403c",
   "metadata": {
    "hidden": true
   },
   "outputs": [
    {
     "data": {
      "image/png": "[encoded data removed]",
      "text/plain": [
       "<Figure size 432x288 with 1 Axes>"
      ]
     },
     "metadata": {
      "needs_background": "light"
     },
     "output_type": "display_data"
    }
   ],
   "source": [
    "sns.scatterplot(data=df, x='bedrooms', y='price', alpha=0.2, size=1);"
   ]
  },
  {
   "cell_type": "code",
   "execution_count": 14,
   "id": "3026f5c3",
   "metadata": {
    "hidden": true,
    "scrolled": true
   },
   "outputs": [
    {
     "data": {
      "text/plain": [
       "3     9824\n",
       "4     6882\n",
       "2     2760\n",
       "5     1601\n",
       "6      272\n",
       "1      196\n",
       "7       38\n",
       "8       13\n",
       "9        6\n",
       "10       3\n",
       "33       1\n",
       "11       1\n",
       "Name: bedrooms, dtype: int64"
      ]
     },
     "execution_count": 14,
     "metadata": {},
     "output_type": "execute_result"
    }
   ],
   "source": [
    "df.bedrooms.value_counts()"
   ]
  },
  {
   "cell_type": "code",
   "execution_count": 15,
   "id": "693185f5",
   "metadata": {
    "hidden": true
   },
   "outputs": [
    {
     "data": {
      "text/html": [
       "<div>\n",
       "<style scoped>\n",
       "    .dataframe tbody tr th:only-of-type {\n",
       "        vertical-align: middle;\n",
       "    }\n",
       "\n",
       "    .dataframe tbody tr th {\n",
       "        vertical-align: top;\n",
       "    }\n",
       "\n",
       "    .dataframe thead th {\n",
       "        text-align: right;\n",
       "    }\n",
       "</style>\n",
       "<table border=\"1\" class=\"dataframe\">\n",
       "  <thead>\n",
       "    <tr style=\"text-align: right;\">\n",
       "      <th></th>\n",
       "      <th>date</th>\n",
       "      <th>price</th>\n",
       "      <th>bedrooms</th>\n",
       "      <th>bathrooms</th>\n",
       "      <th>sqft_living</th>\n",
       "      <th>sqft_lot</th>\n",
       "      <th>floors</th>\n",
       "      <th>waterfront</th>\n",
       "      <th>view</th>\n",
       "      <th>condition</th>\n",
       "      <th>...</th>\n",
       "      <th>sqft_basement</th>\n",
       "      <th>yr_built</th>\n",
       "      <th>yr_renovated</th>\n",
       "      <th>zipcode</th>\n",
       "      <th>lat</th>\n",
       "      <th>long</th>\n",
       "      <th>sqft_living15</th>\n",
       "      <th>sqft_lot15</th>\n",
       "      <th>sale_month</th>\n",
       "      <th>sale_year</th>\n",
       "    </tr>\n",
       "  </thead>\n",
       "  <tbody>\n",
       "    <tr>\n",
       "      <th>15856</th>\n",
       "      <td>2014-06-25</td>\n",
       "      <td>640000.0</td>\n",
       "      <td>33</td>\n",
       "      <td>1.75</td>\n",
       "      <td>1620</td>\n",
       "      <td>6000</td>\n",
       "      <td>1.0</td>\n",
       "      <td>NO</td>\n",
       "      <td>NONE</td>\n",
       "      <td>Very Good</td>\n",
       "      <td>...</td>\n",
       "      <td>580.0</td>\n",
       "      <td>1947</td>\n",
       "      <td>0.0</td>\n",
       "      <td>98103</td>\n",
       "      <td>47.6878</td>\n",
       "      <td>-122.331</td>\n",
       "      <td>1330</td>\n",
       "      <td>4700</td>\n",
       "      <td>6</td>\n",
       "      <td>2014</td>\n",
       "    </tr>\n",
       "  </tbody>\n",
       "</table>\n",
       "<p>1 rows × 22 columns</p>\n",
       "</div>"
      ],
      "text/plain": [
       "            date     price  bedrooms  bathrooms  sqft_living  sqft_lot  \\\n",
       "15856 2014-06-25  640000.0        33       1.75         1620      6000   \n",
       "\n",
       "       floors waterfront  view  condition  ... sqft_basement  yr_built  \\\n",
       "15856     1.0         NO  NONE  Very Good  ...         580.0      1947   \n",
       "\n",
       "      yr_renovated  zipcode      lat     long  sqft_living15  sqft_lot15  \\\n",
       "15856          0.0    98103  47.6878 -122.331           1330        4700   \n",
       "\n",
       "       sale_month  sale_year  \n",
       "15856           6       2014  \n",
       "\n",
       "[1 rows x 22 columns]"
      ]
     },
     "execution_count": 15,
     "metadata": {},
     "output_type": "execute_result"
    }
   ],
   "source": [
    "df[df.bedrooms == 33]"
   ]
  },
  {
   "cell_type": "markdown",
   "id": "2ca3be8e",
   "metadata": {
    "hidden": true
   },
   "source": [
    "This outlier in number of bedrooms is interesting. I doubt very much there are 33 bedrooms in a 1,600 ft$^{2}$ home. We suspect an entry error and are going change it to 3, which is much more likely."
   ]
  },
  {
   "cell_type": "code",
   "execution_count": 16,
   "id": "d3438561",
   "metadata": {
    "hidden": true
   },
   "outputs": [],
   "source": [
    "df.at[15856,'bedrooms'] = 3"
   ]
  },
  {
   "cell_type": "markdown",
   "id": "690d2bbf",
   "metadata": {
    "hidden": true
   },
   "source": [
    "The vast majority of homes are 4 bedrooms and under."
   ]
  },
  {
   "cell_type": "markdown",
   "id": "46a7cb25",
   "metadata": {
    "hidden": true
   },
   "source": [
    "We are going to encode this variable by binning into:\n",
    "- 1/2 bedrooms\n",
    "- 3/4 bedrooms    <<< dropped\n",
    "- 5+ bedrooms\n"
   ]
  },
  {
   "cell_type": "code",
   "execution_count": 17,
   "id": "41fbc5c9",
   "metadata": {
    "hidden": true
   },
   "outputs": [],
   "source": [
    "df['bedrooms_1_2'] = df.bedrooms.map(lambda x: 1 if x <= 2 else 0)\n",
    "# df['bedrooms_3_4'] = df.bedrooms.map(lambda x: 1 if ((x > 2) & (x <= 4)) else 0)\n",
    "# df['bedrooms_5_6'] = df.bedrooms.map(lambda x: 1 if ((x > 4) & (x <= 6)) else 0)\n",
    "df['bedrooms_5plus'] = df.bedrooms.map(lambda x: 1 if x>=5 else 0)\n",
    "\n",
    "df.drop(['bedrooms'], axis=1, inplace=True)"
   ]
  },
  {
   "cell_type": "markdown",
   "id": "2dcf9415",
   "metadata": {
    "heading_collapsed": true,
    "hidden": true
   },
   "source": [
    "## 'bathrooms'"
   ]
  },
  {
   "cell_type": "code",
   "execution_count": 18,
   "id": "c996f84e",
   "metadata": {
    "hidden": true,
    "scrolled": true
   },
   "outputs": [
    {
     "data": {
      "text/plain": [
       "count    21597.000000\n",
       "mean         2.115826\n",
       "std          0.768984\n",
       "min          0.500000\n",
       "25%          1.750000\n",
       "50%          2.250000\n",
       "75%          2.500000\n",
       "max          8.000000\n",
       "Name: bathrooms, dtype: float64"
      ]
     },
     "execution_count": 18,
     "metadata": {},
     "output_type": "execute_result"
    }
   ],
   "source": [
    "df.bathrooms.describe()"
   ]
  },
  {
   "cell_type": "code",
   "execution_count": 19,
   "id": "3f097d08",
   "metadata": {
    "hidden": true
   },
   "outputs": [
    {
     "data": {
      "image/png": "[encoded data removed]",
      "text/plain": [
       "<Figure size 432x288 with 1 Axes>"
      ]
     },
     "metadata": {
      "needs_background": "light"
     },
     "output_type": "display_data"
    }
   ],
   "source": [
    "sns.scatterplot(data=df, x='bathrooms', y='price', alpha=0.2, size=1);"
   ]
  },
  {
   "cell_type": "markdown",
   "id": "2ad50b53",
   "metadata": {
    "hidden": true
   },
   "source": [
    "The range of values was unexpected. \n",
    "\n",
    "After some research, learned that a bathroom is considered 'full' with 4 parts, each worth a quarter:\n",
    "- sink\n",
    "- toilet\n",
    "- shower\n",
    "- bathtub\n",
    "\n",
    "Based on the description of the data, we are going to encode the bathrooms by binning. Our average bathroom size is just over 2. We are going to bin into:\n",
    "- 1 bathroom (x <= 1)\n",
    "- 2 bathrooms (1 < x <= 2)    << dropped\n",
    "- 3 bathrooms (2 < x <= 3)\n"
   ]
  },
  {
   "cell_type": "code",
   "execution_count": 20,
   "id": "bacb2eff",
   "metadata": {
    "hidden": true
   },
   "outputs": [],
   "source": [
    "df['bathrooms_1'] = df.bathrooms.map(lambda x: 1 if x<=1 else 0)\n",
    "df['bathrooms_3'] = df.bathrooms.map(lambda x: 1 if ((x>2)&(x<=3)) else 0)"
   ]
  },
  {
   "cell_type": "code",
   "execution_count": 21,
   "id": "474f3577",
   "metadata": {
    "hidden": true
   },
   "outputs": [],
   "source": [
    "df.drop(['bathrooms'], axis=1, inplace=True)"
   ]
  },
  {
   "cell_type": "markdown",
   "id": "7d5849e7",
   "metadata": {
    "heading_collapsed": true,
    "hidden": true
   },
   "source": [
    "## 'sqft_living'"
   ]
  },
  {
   "cell_type": "code",
   "execution_count": 22,
   "id": "34a1ded3",
   "metadata": {
    "hidden": true
   },
   "outputs": [
    {
     "data": {
      "text/plain": [
       "count    21597.000000\n",
       "mean      2080.321850\n",
       "std        918.106125\n",
       "min        370.000000\n",
       "25%       1430.000000\n",
       "50%       1910.000000\n",
       "75%       2550.000000\n",
       "max      13540.000000\n",
       "Name: sqft_living, dtype: float64"
      ]
     },
     "execution_count": 22,
     "metadata": {},
     "output_type": "execute_result"
    }
   ],
   "source": [
    "df.sqft_living.describe()"
   ]
  },
  {
   "cell_type": "code",
   "execution_count": 23,
   "id": "94c78db2",
   "metadata": {
    "hidden": true
   },
   "outputs": [
    {
     "data": {
      "image/png": "[encoded data removed]",
      "text/plain": [
       "<Figure size 432x288 with 1 Axes>"
      ]
     },
     "metadata": {
      "needs_background": "light"
     },
     "output_type": "display_data"
    }
   ],
   "source": [
    "sns.scatterplot(data=df, x='sqft_living', y='price', size=1, alpha=0.2);"
   ]
  },
  {
   "cell_type": "code",
   "execution_count": 24,
   "id": "b3f210ed",
   "metadata": {
    "hidden": true
   },
   "outputs": [
    {
     "data": {
      "image/png": "[encoded data removed]",
      "text/plain": [
       "<Figure size 432x288 with 1 Axes>"
      ]
     },
     "metadata": {
      "needs_background": "light"
     },
     "output_type": "display_data"
    }
   ],
   "source": [
    "sns.histplot(data=df, x='sqft_living', bins=30);"
   ]
  },
  {
   "cell_type": "code",
   "execution_count": 25,
   "id": "d3b0a681",
   "metadata": {
    "hidden": true
   },
   "outputs": [
    {
     "data": {
      "image/png": "[encoded data removed]",
      "text/plain": [
       "<Figure size 432x288 with 1 Axes>"
      ]
     },
     "metadata": {
      "needs_background": "light"
     },
     "output_type": "display_data"
    }
   ],
   "source": [
    "sns.boxplot(data=df, x='sqft_living');"
   ]
  },
  {
   "cell_type": "code",
   "execution_count": 26,
   "id": "88ff1e82",
   "metadata": {
    "hidden": true
   },
   "outputs": [
    {
     "data": {
      "text/plain": [
       "0.9637912673056444"
      ]
     },
     "execution_count": 26,
     "metadata": {},
     "output_type": "execute_result"
    }
   ],
   "source": [
    "len(df[df.sqft_living <= 4000])/len(df)"
   ]
  },
  {
   "cell_type": "markdown",
   "id": "46ab8e02",
   "metadata": {
    "hidden": true
   },
   "source": [
    "57% of homes are have below the average of 2,080 ft$^{2}$.\n",
    "\n",
    "96% of homes are below 4,000 ft$^{2}$.\n",
    "\n",
    "The vast majority of our sqft_living data is grouped under 4,000 ft$^{2}$. There are some large homes out there, but our mean and median are pretty close (2,080 vs 1,910). The data looks normal except for the right skewedness.\n",
    "\n",
    "\n",
    "Again, suspect that we have a subset of extremely large homes. This looks like a feature to use to restrict our dataset a bit to maybe improve the model? Maybe viewing large homes represented on a map vs all other sized homes will show neighborhoods that are more likely to hold large homes?"
   ]
  },
  {
   "cell_type": "markdown",
   "id": "16140cff",
   "metadata": {
    "heading_collapsed": true,
    "hidden": true
   },
   "source": [
    "## 'sqft_lot'"
   ]
  },
  {
   "cell_type": "code",
   "execution_count": 27,
   "id": "5059a1da",
   "metadata": {
    "hidden": true
   },
   "outputs": [
    {
     "data": {
      "text/plain": [
       "count      21597.0\n",
       "mean       15099.0\n",
       "std        41413.0\n",
       "min          520.0\n",
       "25%         5040.0\n",
       "50%         7618.0\n",
       "75%        10685.0\n",
       "max      1651359.0\n",
       "Name: sqft_lot, dtype: float64"
      ]
     },
     "execution_count": 27,
     "metadata": {},
     "output_type": "execute_result"
    }
   ],
   "source": [
    "df.sqft_lot.describe().round()"
   ]
  },
  {
   "cell_type": "code",
   "execution_count": 28,
   "id": "90ecfbf9",
   "metadata": {
    "hidden": true,
    "scrolled": false
   },
   "outputs": [
    {
     "data": {
      "image/png": "[encoded data removed]",
      "text/plain": [
       "<Figure size 432x288 with 1 Axes>"
      ]
     },
     "metadata": {
      "needs_background": "light"
     },
     "output_type": "display_data"
    }
   ],
   "source": [
    "sns.scatterplot(data=df, x='sqft_lot', y='price', size=1, alpha=0.2)\n",
    "\n",
    "plt.axvline(x=df.sqft_lot.mean(), color='red', ls='--', lw=3)\n",
    "\n",
    "plt.ticklabel_format(style='plain', axis='x',useOffset=False);"
   ]
  },
  {
   "cell_type": "markdown",
   "id": "06c7bd12",
   "metadata": {
    "hidden": true
   },
   "source": [
    "Three quarters of our data on sqft_lot is under 10,000 ft$^{2}$, but the average lot is about 15,000 ft$^{2}$.\n",
    "\n",
    "The large lot sizes are enormously large in comparison, and that may be fouling up our model later. This is another feature we may need to scale/normalize later on."
   ]
  },
  {
   "cell_type": "code",
   "execution_count": 29,
   "id": "d38cb1c6",
   "metadata": {
    "hidden": true,
    "scrolled": true
   },
   "outputs": [
    {
     "data": {
      "text/plain": [
       "0.3466253443526171"
      ]
     },
     "execution_count": 29,
     "metadata": {},
     "output_type": "execute_result"
    }
   ],
   "source": [
    "# sqft is easy to estimate for inside home size, but more difficult to get a\n",
    "# sense for. If we later want to conver to acres, divide sqft by 43560\n",
    "15099 / 43560\n",
    "\n",
    "# our average lot size is 15,099 sqft, which is .35 acres"
   ]
  },
  {
   "cell_type": "code",
   "execution_count": 30,
   "id": "8cb2f2e9",
   "metadata": {
    "hidden": true
   },
   "outputs": [
    {
     "data": {
      "text/plain": [
       "0.8519238783164328"
      ]
     },
     "execution_count": 30,
     "metadata": {},
     "output_type": "execute_result"
    }
   ],
   "source": [
    "len(df[df.sqft_lot < 15099])/len(df)"
   ]
  },
  {
   "cell_type": "markdown",
   "id": "98588343",
   "metadata": {
    "hidden": true
   },
   "source": [
    "85% of homes have a lot less than the average of 15,099 sqft. \n",
    "\n",
    "For now we are leaving everything in the baseline model, but this is a feature that may be dropped.\n",
    "\n",
    "Lot size is not a guarantee of high home value. In fact, it looks like smaller lot sizes are **more** valuable than larger. Larger lots do not equal larger/more expensive homes, and also tend to be further from amenities.\n",
    "\n",
    "I wonder if we should just drop it all together, or perhaps bin them? This also could possibly be log scaled?"
   ]
  },
  {
   "cell_type": "markdown",
   "id": "e2ae50e1",
   "metadata": {
    "heading_collapsed": true,
    "hidden": true
   },
   "source": [
    "## 'floors'"
   ]
  },
  {
   "cell_type": "code",
   "execution_count": 31,
   "id": "286fb42d",
   "metadata": {
    "hidden": true
   },
   "outputs": [
    {
     "data": {
      "text/plain": [
       "count    21597.000000\n",
       "mean         1.494096\n",
       "std          0.539683\n",
       "min          1.000000\n",
       "25%          1.000000\n",
       "50%          1.500000\n",
       "75%          2.000000\n",
       "max          3.500000\n",
       "Name: floors, dtype: float64"
      ]
     },
     "execution_count": 31,
     "metadata": {},
     "output_type": "execute_result"
    }
   ],
   "source": [
    "df.floors.describe()"
   ]
  },
  {
   "cell_type": "code",
   "execution_count": 32,
   "id": "c8e63d7e",
   "metadata": {
    "hidden": true
   },
   "outputs": [
    {
     "data": {
      "text/plain": [
       "<AxesSubplot:xlabel='floors', ylabel='Count'>"
      ]
     },
     "execution_count": 32,
     "metadata": {},
     "output_type": "execute_result"
    },
    {
     "data": {
      "image/png": "[encoded data removed]",
      "text/plain": [
       "<Figure size 432x288 with 1 Axes>"
      ]
     },
     "metadata": {
      "needs_background": "light"
     },
     "output_type": "display_data"
    }
   ],
   "source": [
    "sns.histplot(data=df, x='floors')"
   ]
  },
  {
   "cell_type": "markdown",
   "id": "3b5c38ad",
   "metadata": {
    "hidden": true
   },
   "source": [
    "A 1.5-storey house is a detached home that has a second floor that is about half the size of the main floor, but is off to one side.\n",
    "\n",
    "Most of our data is 1 or 2 floor homes, but we have some 1.5, 2.5, 3 and 3.5 in there too.\n",
    "\n",
    "We will bin the variable into:\n",
    "- One floor (includes 1.5)\n",
    "- More than 1 floor       <<< dropped"
   ]
  },
  {
   "cell_type": "code",
   "execution_count": 33,
   "id": "0f1417b3",
   "metadata": {
    "hidden": true
   },
   "outputs": [],
   "source": [
    "df['floors_1'] = df.floors.map(lambda x: 1 if x<2 else 0)\n",
    "# df['floors_2'] = df.floors.map(lambda x: 1 if ((x>=2) & (x<3)) else 0)"
   ]
  },
  {
   "cell_type": "code",
   "execution_count": 34,
   "id": "b9c3f5f1",
   "metadata": {
    "hidden": true
   },
   "outputs": [],
   "source": [
    "df.drop(['floors'], axis=1, inplace=True)"
   ]
  },
  {
   "cell_type": "markdown",
   "id": "17cc1403",
   "metadata": {
    "heading_collapsed": true,
    "hidden": true
   },
   "source": [
    "## 'waterfront'"
   ]
  },
  {
   "cell_type": "markdown",
   "id": "f9d98b3f",
   "metadata": {
    "hidden": true
   },
   "source": [
    "In importing we checked for null values, and there were some in the 'waterfront' feature."
   ]
  },
  {
   "cell_type": "code",
   "execution_count": 35,
   "id": "ebf10c26",
   "metadata": {
    "hidden": true
   },
   "outputs": [
    {
     "data": {
      "text/plain": [
       "NO     0.992404\n",
       "YES    0.007596\n",
       "Name: waterfront, dtype: float64"
      ]
     },
     "execution_count": 35,
     "metadata": {},
     "output_type": "execute_result"
    }
   ],
   "source": [
    "df.waterfront.value_counts(normalize=True)"
   ]
  },
  {
   "cell_type": "markdown",
   "id": "f364036b",
   "metadata": {
    "hidden": true
   },
   "source": [
    "There are only two options, waterfront or not. Less than 1% of homes are waterfront, so we assume that no value means no waterfront view, and set the value to 'NO'."
   ]
  },
  {
   "cell_type": "code",
   "execution_count": 36,
   "id": "38de410a",
   "metadata": {
    "hidden": true
   },
   "outputs": [],
   "source": [
    "df['waterfront'].fillna('NO', inplace=True)"
   ]
  },
  {
   "cell_type": "markdown",
   "id": "97ffcdee",
   "metadata": {
    "hidden": true
   },
   "source": [
    "This is a simple categorical, if the home is considered waterfront or not. \n",
    "\n",
    "We will convert this to a numerical feature, YES being 1 and NO being 0."
   ]
  },
  {
   "cell_type": "code",
   "execution_count": 37,
   "id": "e517e809",
   "metadata": {
    "hidden": true
   },
   "outputs": [],
   "source": [
    "# converted 'waterfront' feature (numeric boolean)\n",
    "df['waterfront'] = df.waterfront.map({'NO': 0, 'YES': 1})"
   ]
  },
  {
   "cell_type": "markdown",
   "id": "3681798a",
   "metadata": {
    "heading_collapsed": true,
    "hidden": true
   },
   "source": [
    "## 'view'"
   ]
  },
  {
   "cell_type": "markdown",
   "id": "df7384ff",
   "metadata": {
    "hidden": true
   },
   "source": [
    "In checking for null values, we also have some in the 'view' feature."
   ]
  },
  {
   "cell_type": "code",
   "execution_count": 38,
   "id": "d418639c",
   "metadata": {
    "hidden": true
   },
   "outputs": [
    {
     "data": {
      "text/plain": [
       "NONE         0.901923\n",
       "AVERAGE      0.044441\n",
       "GOOD         0.023591\n",
       "FAIR         0.015325\n",
       "EXCELLENT    0.014721\n",
       "Name: view, dtype: float64"
      ]
     },
     "execution_count": 38,
     "metadata": {},
     "output_type": "execute_result"
    }
   ],
   "source": [
    "df.view.value_counts(normalize=True)"
   ]
  },
  {
   "cell_type": "markdown",
   "id": "ed2a9bfd",
   "metadata": {
    "hidden": true
   },
   "source": [
    "The values are categorical, and over 90% of homes have a view value of 'NONE'. The 63 missing values will be set to 'NONE'."
   ]
  },
  {
   "cell_type": "code",
   "execution_count": 39,
   "id": "87148c3a",
   "metadata": {
    "hidden": true
   },
   "outputs": [],
   "source": [
    "df['view'].fillna('NONE', inplace=True)"
   ]
  },
  {
   "cell_type": "markdown",
   "id": "d78e56ab",
   "metadata": {
    "hidden": true
   },
   "source": [
    "The documentation describes this as the quality of view from a house. It will need to be converted to model.\n",
    "\n",
    "One option is onehotencoding this feature, but 90% of this feature is 'NONE' (for no view), so instead we will convert this to a numerical boolean feature of 1 for having a view and 0 for not having a view."
   ]
  },
  {
   "cell_type": "code",
   "execution_count": 40,
   "id": "ee080b1f",
   "metadata": {
    "hidden": true
   },
   "outputs": [],
   "source": [
    "# converted 'view' feature (numeric boolean)\n",
    "df['view'] = df.view.map(lambda x: 0 if x == 'NONE' else 1)"
   ]
  },
  {
   "cell_type": "markdown",
   "id": "6ed35aeb",
   "metadata": {
    "heading_collapsed": true,
    "hidden": true
   },
   "source": [
    "## 'condition'"
   ]
  },
  {
   "cell_type": "markdown",
   "id": "b5eec761",
   "metadata": {
    "hidden": true
   },
   "source": [
    "Documentation with the dataset explains this feature is the overall condition of the home relative to ongoing maintenance."
   ]
  },
  {
   "cell_type": "code",
   "execution_count": 41,
   "id": "2d502681",
   "metadata": {
    "hidden": true
   },
   "outputs": [
    {
     "data": {
      "text/plain": [
       "Average      14020\n",
       "Good          5677\n",
       "Very Good     1701\n",
       "Fair           170\n",
       "Poor            29\n",
       "Name: condition, dtype: int64"
      ]
     },
     "execution_count": 41,
     "metadata": {},
     "output_type": "execute_result"
    }
   ],
   "source": [
    "df.condition.value_counts()"
   ]
  },
  {
   "cell_type": "markdown",
   "id": "4ab08dc7",
   "metadata": {
    "hidden": true
   },
   "source": [
    "Referencing the documentation, the condition can be graded numerically:\n",
    "\n",
    "{'Very Good': 5, 'Good': 4, 'Average': 3, 'Fair': 2, 'Poor': 1}\n",
    "\n",
    "We will need to convert this column before modeling."
   ]
  },
  {
   "cell_type": "code",
   "execution_count": 42,
   "id": "5c80062c",
   "metadata": {
    "hidden": true
   },
   "outputs": [],
   "source": [
    "# converted 'condition' feature\n",
    "condition_dict = {'Very Good': 5, 'Good': 4, 'Average': 3, 'Fair': 2,\n",
    "                  'Poor': 1}\n",
    "df['condition'] = df.condition.map(condition_dict)"
   ]
  },
  {
   "cell_type": "code",
   "execution_count": 43,
   "id": "cc70e8b2",
   "metadata": {
    "hidden": true
   },
   "outputs": [
    {
     "data": {
      "text/plain": [
       "count    21597.000000\n",
       "mean         3.409825\n",
       "std          0.650546\n",
       "min          1.000000\n",
       "25%          3.000000\n",
       "50%          3.000000\n",
       "75%          4.000000\n",
       "max          5.000000\n",
       "Name: condition, dtype: float64"
      ]
     },
     "execution_count": 43,
     "metadata": {},
     "output_type": "execute_result"
    }
   ],
   "source": [
    "df.condition.describe()"
   ]
  },
  {
   "cell_type": "code",
   "execution_count": 44,
   "id": "7ff62bcb",
   "metadata": {
    "hidden": true
   },
   "outputs": [
    {
     "data": {
      "image/png": "[encoded data removed]",
      "text/plain": [
       "<Figure size 432x288 with 1 Axes>"
      ]
     },
     "metadata": {
      "needs_background": "light"
     },
     "output_type": "display_data"
    }
   ],
   "source": [
    "sns.scatterplot(data=df, x='condition', y='price');"
   ]
  },
  {
   "cell_type": "markdown",
   "id": "456237ed",
   "metadata": {
    "hidden": true
   },
   "source": [
    "We will onehotencode both condition and grade in section 3.12.1"
   ]
  },
  {
   "cell_type": "markdown",
   "id": "eac812ab",
   "metadata": {
    "heading_collapsed": true,
    "hidden": true
   },
   "source": [
    "## 'grade'"
   ]
  },
  {
   "cell_type": "code",
   "execution_count": 45,
   "id": "50a02ae4",
   "metadata": {
    "hidden": true
   },
   "outputs": [
    {
     "data": {
      "text/plain": [
       "7 Average        8974\n",
       "8 Good           6065\n",
       "9 Better         2615\n",
       "6 Low Average    2038\n",
       "10 Very Good     1134\n",
       "11 Excellent      399\n",
       "5 Fair            242\n",
       "12 Luxury          89\n",
       "4 Low              27\n",
       "13 Mansion         13\n",
       "3 Poor              1\n",
       "Name: grade, dtype: int64"
      ]
     },
     "execution_count": 45,
     "metadata": {},
     "output_type": "execute_result"
    }
   ],
   "source": [
    "df.grade.value_counts()"
   ]
  },
  {
   "cell_type": "markdown",
   "id": "62358077",
   "metadata": {
    "hidden": true
   },
   "source": [
    "We will need to convert the column before encoding, we can just slice the string and take the first section, convert to numerical."
   ]
  },
  {
   "cell_type": "code",
   "execution_count": 46,
   "id": "523c98a7",
   "metadata": {
    "hidden": true
   },
   "outputs": [],
   "source": [
    "df['grade'] = df.grade.map(lambda x: x.split()[0]).astype('int')"
   ]
  },
  {
   "cell_type": "code",
   "execution_count": 47,
   "id": "8ce75522",
   "metadata": {
    "hidden": true
   },
   "outputs": [
    {
     "data": {
      "text/plain": [
       "count    21597.000000\n",
       "mean         7.657915\n",
       "std          1.173200\n",
       "min          3.000000\n",
       "25%          7.000000\n",
       "50%          7.000000\n",
       "75%          8.000000\n",
       "max         13.000000\n",
       "Name: grade, dtype: float64"
      ]
     },
     "execution_count": 47,
     "metadata": {},
     "output_type": "execute_result"
    }
   ],
   "source": [
    "df.grade.describe()"
   ]
  },
  {
   "cell_type": "markdown",
   "id": "302c5d7d",
   "metadata": {
    "hidden": true
   },
   "source": [
    "This feature, per the documentation, is the overall grade of the home relative to construction/design. This is a separate feature than condition, but we will have to see if there is any multicollinearity here. It could certainly be the case that a high graded home (good quality construction or design) could be left to disrepair and have a poor condition value.\n",
    "\n",
    "We will onehoteencode in the following section (along with 'condition')"
   ]
  },
  {
   "cell_type": "markdown",
   "id": "b7811de5",
   "metadata": {
    "hidden": true
   },
   "source": [
    "### onehotecode 'condition' & 'grade'"
   ]
  },
  {
   "cell_type": "code",
   "execution_count": 48,
   "id": "19c1e219",
   "metadata": {
    "hidden": true
   },
   "outputs": [],
   "source": [
    "# import OneHotEncoder\n",
    "from sklearn.preprocessing import OneHotEncoder\n",
    "\n",
    "# create temporary dataframe df_test with condition and grade features in it\n",
    "df_test = df[['condition', 'grade']].copy()\n",
    "\n",
    "# create a onehotencoder, fit to df_test\n",
    "ohe = OneHotEncoder().fit(df_test)\n",
    "\n",
    "# create the array\n",
    "onehotarray = ohe.transform(df_test).toarray()\n",
    "\n",
    "# generate column_names to match values, 'feature_{value}'\n",
    "column_names = []\n",
    "for x in range(1,6):\n",
    "    column_names.append(f'condition_{x}')\n",
    "for x in range(3,14):\n",
    "    column_names.append(f'grade_{x}')\n",
    "    \n",
    "# create dataframe of array with correct column names\n",
    "ohe_df = pd.DataFrame(onehotarray, columns=column_names)\n",
    "\n",
    "# remove the column representing feature average from the dataframe\n",
    "ohe_df.drop(['condition_3', 'grade_7'], axis=1, inplace=True)"
   ]
  },
  {
   "cell_type": "code",
   "execution_count": 49,
   "id": "892afd91",
   "metadata": {
    "hidden": true
   },
   "outputs": [],
   "source": [
    "# concat the main dataframe df with the onehotencoded df we just made\n",
    "df = pd.concat([df, ohe_df], axis=1)\n",
    "\n",
    "# drop the original two features\n",
    "df.drop(['condition', 'grade'], axis=1, inplace=True)"
   ]
  },
  {
   "cell_type": "markdown",
   "id": "ebc699ca",
   "metadata": {
    "hidden": true
   },
   "source": [
    "## 'sqft_above'"
   ]
  },
  {
   "cell_type": "markdown",
   "id": "86ba88a6",
   "metadata": {
    "hidden": true
   },
   "source": [
    "This is the square footage of the home apart from the basement. There is likely some multicollinearity with other features like 'sqft_living', and 'sqft_basement'."
   ]
  },
  {
   "cell_type": "code",
   "execution_count": 50,
   "id": "1b7b99f9",
   "metadata": {
    "hidden": true
   },
   "outputs": [
    {
     "data": {
      "text/plain": [
       "count    21597.000000\n",
       "mean      1788.596842\n",
       "std        827.759761\n",
       "min        370.000000\n",
       "25%       1190.000000\n",
       "50%       1560.000000\n",
       "75%       2210.000000\n",
       "max       9410.000000\n",
       "Name: sqft_above, dtype: float64"
      ]
     },
     "execution_count": 50,
     "metadata": {},
     "output_type": "execute_result"
    }
   ],
   "source": [
    "df.sqft_above.describe()"
   ]
  },
  {
   "cell_type": "code",
   "execution_count": 51,
   "id": "824d8cdd",
   "metadata": {
    "hidden": true
   },
   "outputs": [
    {
     "data": {
      "image/png": "[encoded data removed]",
      "text/plain": [
       "<Figure size 432x288 with 1 Axes>"
      ]
     },
     "metadata": {
      "needs_background": "light"
     },
     "output_type": "display_data"
    }
   ],
   "source": [
    "sns.scatterplot(data=df, x='sqft_above', y='price', size=1, alpha=0.2);"
   ]
  },
  {
   "cell_type": "markdown",
   "id": "28b5249f",
   "metadata": {
    "hidden": true
   },
   "source": [
    "We will likely drop this feature to reduce multicollinearity. \n",
    "\n",
    "If we consider below that 60% of homes have no basement, then the relationship between 'sqft_living' and 'sqft_above' is likely very strong and probably experience high multicollinearity."
   ]
  },
  {
   "cell_type": "markdown",
   "id": "46dc281d",
   "metadata": {
    "hidden": true
   },
   "source": [
    "## 'sqft_basement'"
   ]
  },
  {
   "cell_type": "code",
   "execution_count": 52,
   "id": "0611f74f",
   "metadata": {
    "hidden": true
   },
   "outputs": [
    {
     "data": {
      "text/plain": [
       "0.0       0.593879\n",
       "?         0.021021\n",
       "600.0     0.010048\n",
       "500.0     0.009677\n",
       "700.0     0.009631\n",
       "            ...   \n",
       "1024.0    0.000046\n",
       "935.0     0.000046\n",
       "1135.0    0.000046\n",
       "506.0     0.000046\n",
       "2196.0    0.000046\n",
       "Name: sqft_basement, Length: 304, dtype: float64"
      ]
     },
     "execution_count": 52,
     "metadata": {},
     "output_type": "execute_result"
    }
   ],
   "source": [
    "df.sqft_basement.value_counts(normalize=True)"
   ]
  },
  {
   "cell_type": "markdown",
   "id": "6dfffdd3",
   "metadata": {
    "hidden": true
   },
   "source": [
    "First, we need to address that not all of the values are numerical. 59% of the homes have 0.0 for basement square footage, meaning there is no basement. 2% of homes have a '?' value. We are going to assume that these question marks are also 0.0 values, that way we can have a numerical column."
   ]
  },
  {
   "cell_type": "code",
   "execution_count": 53,
   "id": "a6f76c91",
   "metadata": {
    "hidden": true
   },
   "outputs": [],
   "source": [
    "df.sqft_basement.replace(to_replace='?', value=0.0, inplace=True)\n",
    "df['sqft_basement'] = df.sqft_basement.astype('float')"
   ]
  },
  {
   "cell_type": "code",
   "execution_count": 54,
   "id": "3e282db1",
   "metadata": {
    "hidden": true
   },
   "outputs": [
    {
     "data": {
      "text/plain": [
       "count    8317.000000\n",
       "mean      741.928700\n",
       "std       404.765113\n",
       "min        10.000000\n",
       "25%       450.000000\n",
       "50%       700.000000\n",
       "75%       980.000000\n",
       "max      4820.000000\n",
       "Name: sqft_basement, dtype: float64"
      ]
     },
     "execution_count": 54,
     "metadata": {},
     "output_type": "execute_result"
    }
   ],
   "source": [
    "df[df.sqft_basement > 0].sqft_basement.describe()"
   ]
  },
  {
   "cell_type": "markdown",
   "id": "ee43d9a3",
   "metadata": {
    "hidden": true
   },
   "source": [
    "It's unclear if there will be multicollinearity with this feature or not. 40% of homes have basements, and those basements range from 10 to 4,800 ft$^{2}$.\n",
    "\n",
    "It seems more likely that to include this feature we may need to engineer it as a numeric boolean for if the property has a basement or not, or perhaps bin the values in some way."
   ]
  },
  {
   "cell_type": "code",
   "execution_count": 55,
   "id": "58297a8e",
   "metadata": {
    "hidden": true
   },
   "outputs": [
    {
     "data": {
      "image/png": "[encoded data removed]",
      "text/plain": [
       "<Figure size 432x288 with 1 Axes>"
      ]
     },
     "metadata": {
      "needs_background": "light"
     },
     "output_type": "display_data"
    }
   ],
   "source": [
    "sns.scatterplot(data=df[df.sqft_basement > 0], x='sqft_basement', y='price',\n",
    "                size=1, alpha=0.2);"
   ]
  },
  {
   "cell_type": "markdown",
   "id": "a059dcc3",
   "metadata": {
    "hidden": true
   },
   "source": [
    "## 'yr_built'"
   ]
  },
  {
   "cell_type": "code",
   "execution_count": 56,
   "id": "6f3f3728",
   "metadata": {
    "hidden": true
   },
   "outputs": [
    {
     "data": {
      "text/plain": [
       "count    21597.000000\n",
       "mean      1970.999676\n",
       "std         29.375234\n",
       "min       1900.000000\n",
       "25%       1951.000000\n",
       "50%       1975.000000\n",
       "75%       1997.000000\n",
       "max       2015.000000\n",
       "Name: yr_built, dtype: float64"
      ]
     },
     "execution_count": 56,
     "metadata": {},
     "output_type": "execute_result"
    }
   ],
   "source": [
    "df.yr_built.describe()"
   ]
  },
  {
   "cell_type": "markdown",
   "id": "ec2179d4",
   "metadata": {
    "hidden": true
   },
   "source": [
    "Homes in our data were built between 1900 and 2015. Considering another feature is renovations and that is part of our business problem, it will be important to see the relationship between the build year, remodel year and sale year.\n",
    "\n",
    "We don't need to do anything to this column"
   ]
  },
  {
   "cell_type": "code",
   "execution_count": 57,
   "id": "61ff15d7",
   "metadata": {
    "hidden": true
   },
   "outputs": [
    {
     "data": {
      "image/png": "[encoded data removed]",
      "text/plain": [
       "<Figure size 432x288 with 1 Axes>"
      ]
     },
     "metadata": {
      "needs_background": "light"
     },
     "output_type": "display_data"
    }
   ],
   "source": [
    "sns.scatterplot(data=df, x='yr_built', y='price', size=1, alpha=0.2);"
   ]
  },
  {
   "cell_type": "markdown",
   "id": "92e29955",
   "metadata": {
    "hidden": true
   },
   "source": [
    "On its own the feature is not particularly interesting. There is a slight increase in price as the age of the home decreases.\n",
    "\n",
    "It's likely the case we will use this feature to engineer other, more interesting features."
   ]
  },
  {
   "cell_type": "markdown",
   "id": "6ac699bf",
   "metadata": {
    "hidden": true
   },
   "source": [
    "## 'yr_renovated'"
   ]
  },
  {
   "cell_type": "markdown",
   "id": "e4610eee",
   "metadata": {
    "hidden": true
   },
   "source": [
    "There are some null values in this feature we saw at import that we will need to decide what to do with."
   ]
  },
  {
   "cell_type": "code",
   "execution_count": 58,
   "id": "a76ada33",
   "metadata": {
    "hidden": true,
    "scrolled": true
   },
   "outputs": [
    {
     "data": {
      "text/plain": [
       "0.0       0.958096\n",
       "2014.0    0.004112\n",
       "2003.0    0.001746\n",
       "2013.0    0.001746\n",
       "2007.0    0.001690\n",
       "            ...   \n",
       "1948.0    0.000056\n",
       "1951.0    0.000056\n",
       "1971.0    0.000056\n",
       "1934.0    0.000056\n",
       "1944.0    0.000056\n",
       "Name: yr_renovated, Length: 70, dtype: float64"
      ]
     },
     "execution_count": 58,
     "metadata": {},
     "output_type": "execute_result"
    }
   ],
   "source": [
    "df.yr_renovated.value_counts(normalize=True)"
   ]
  },
  {
   "cell_type": "markdown",
   "id": "4c4cfd9a",
   "metadata": {
    "hidden": true
   },
   "source": [
    "Over 95% of homes in our dataset have a value of 0.0, meaning the home has never been renovated. We assume that the null values are homes not renovated and set the value to 0.0"
   ]
  },
  {
   "cell_type": "code",
   "execution_count": 59,
   "id": "46f838de",
   "metadata": {
    "hidden": true
   },
   "outputs": [],
   "source": [
    "df['yr_renovated'].fillna(0.0, inplace=True)"
   ]
  },
  {
   "cell_type": "markdown",
   "id": "4246feef",
   "metadata": {
    "hidden": true
   },
   "source": [
    "It would be interesting to see the relationship between year built and year renovated, so we leave feature in for now.\n",
    "\n",
    "It may be the case that we separate out the feature into one that is a numerical boolean (which makes sense, because 96% of homes have not been renovated).\n",
    "\n",
    "It may also be the case that we not consider a home renovated if the renovation took place years before the home sale. It looks like there are some homes which were renovated in the 1930s and 1940s, they should not be considered renovated now.\n",
    "\n",
    "Some early research shows that to be considered 'renovations' it should have occurred within 15 years, so we may use that information to make more features about renovation status."
   ]
  },
  {
   "cell_type": "code",
   "execution_count": 60,
   "id": "bf08746a",
   "metadata": {
    "hidden": true,
    "scrolled": true
   },
   "outputs": [
    {
     "data": {
      "image/png": "[encoded data removed]",
      "text/plain": [
       "<Figure size 432x288 with 1 Axes>"
      ]
     },
     "metadata": {
      "needs_background": "light"
     },
     "output_type": "display_data"
    }
   ],
   "source": [
    "sns.scatterplot(data=df[df.yr_renovated > 0], x='yr_renovated', y='price', size=1, alpha=0.2);"
   ]
  },
  {
   "cell_type": "markdown",
   "id": "54b30f05",
   "metadata": {
    "hidden": true
   },
   "source": [
    "We can see the density homes being renovated increases as our relative distance from sale decreases. As mentioned above, it's not honest to count a home as renovated if the renovations occur more than 15 years before the sale.\n",
    "\n",
    "For baseline we will just leave it be, but likely need to engineer a feature to better represent if a home is renovated or not."
   ]
  },
  {
   "cell_type": "markdown",
   "id": "6f20fd57",
   "metadata": {
    "hidden": true
   },
   "source": [
    "## 'zipcode'"
   ]
  },
  {
   "cell_type": "code",
   "execution_count": 61,
   "id": "0694f172",
   "metadata": {
    "hidden": true
   },
   "outputs": [
    {
     "data": {
      "text/plain": [
       "98103    602\n",
       "98038    589\n",
       "98115    583\n",
       "98052    574\n",
       "98117    553\n",
       "        ... \n",
       "98102    104\n",
       "98010    100\n",
       "98024     80\n",
       "98148     57\n",
       "98039     50\n",
       "Name: zipcode, Length: 70, dtype: int64"
      ]
     },
     "execution_count": 61,
     "metadata": {},
     "output_type": "execute_result"
    }
   ],
   "source": [
    "df.zipcode.value_counts()"
   ]
  },
  {
   "cell_type": "markdown",
   "id": "c2996e04",
   "metadata": {
    "hidden": true
   },
   "source": [
    "There are 70 different zip codes in the county. Even the smallest zipcodes have 50 homes sold in the year our data was collected. \n",
    "\n",
    "We are going to leave the data in, and in order to do that we need to onehotencode it.\n",
    "\n",
    "It may be worthwhile to look at converting zip codes into cities and look at the data collectively that way."
   ]
  },
  {
   "cell_type": "code",
   "execution_count": 62,
   "id": "adb26e99",
   "metadata": {
    "hidden": true
   },
   "outputs": [],
   "source": [
    "# import already done\n",
    "\n",
    "# create temporary dataframe df_test with zipcode feature in it\n",
    "df_test = df[['zipcode']].copy()\n",
    "\n",
    "# create a onehotencoder, fit to df_test\n",
    "ohe = OneHotEncoder().fit(df_test)\n",
    "\n",
    "# create the array\n",
    "onehotarray = ohe.transform(df_test).toarray()\n",
    "\n",
    "# create a list of the sorted zipcodes to make column names\n",
    "ordered_zipcodes = sorted(list(df.zipcode.unique()))\n",
    "\n",
    "column_names = []\n",
    "# generate column_names to match values, 'zip_{zipcode}'\n",
    "for x in ordered_zipcodes:\n",
    "    column_names.append(f'zip_{x}')\n",
    "\n",
    "# create dataframe of array with correct column names\n",
    "ohe_df = pd.DataFrame(onehotarray, columns=column_names)\n",
    "\n",
    "# remove the column representing the most frequent value zipcode\n",
    "ohe_df.drop(['zip_98103'], axis=1, inplace=True)"
   ]
  },
  {
   "cell_type": "code",
   "execution_count": 63,
   "id": "7c97f89e",
   "metadata": {
    "hidden": true
   },
   "outputs": [],
   "source": [
    "# concat the main dataframe df with the onehotencoded df we just made\n",
    "df = pd.concat([df, ohe_df], axis=1)\n",
    "\n",
    "# drop the original feature\n",
    "df.drop(['zipcode'], axis=1, inplace=True)"
   ]
  },
  {
   "cell_type": "markdown",
   "id": "e822f6af",
   "metadata": {
    "hidden": true
   },
   "source": [
    "## 'lat'"
   ]
  },
  {
   "cell_type": "code",
   "execution_count": 64,
   "id": "b68b5255",
   "metadata": {
    "hidden": true
   },
   "outputs": [
    {
     "data": {
      "text/plain": [
       "count    21597.000000\n",
       "mean        47.560093\n",
       "std          0.138552\n",
       "min         47.155900\n",
       "25%         47.471100\n",
       "50%         47.571800\n",
       "75%         47.678000\n",
       "max         47.777600\n",
       "Name: lat, dtype: float64"
      ]
     },
     "execution_count": 64,
     "metadata": {},
     "output_type": "execute_result"
    }
   ],
   "source": [
    "df.lat.describe()"
   ]
  },
  {
   "cell_type": "markdown",
   "id": "c06edd37",
   "metadata": {
    "hidden": true
   },
   "source": [
    "Latitude goes from 47.155900 to 47.777600\n",
    "\n",
    "We may use this data for mapping, no processing needed."
   ]
  },
  {
   "cell_type": "code",
   "execution_count": 65,
   "id": "91a49fe1",
   "metadata": {
    "hidden": true,
    "scrolled": true
   },
   "outputs": [
    {
     "data": {
      "image/png": "[encoded data removed]",
      "text/plain": [
       "<Figure size 432x288 with 1 Axes>"
      ]
     },
     "metadata": {
      "needs_background": "light"
     },
     "output_type": "display_data"
    }
   ],
   "source": [
    "sns.scatterplot(data=df, x='lat', y='price', size=1, alpha=0.2);"
   ]
  },
  {
   "cell_type": "markdown",
   "id": "c0e930ac",
   "metadata": {
    "hidden": true
   },
   "source": [
    "## 'long'"
   ]
  },
  {
   "cell_type": "code",
   "execution_count": 66,
   "id": "e5f8f8de",
   "metadata": {
    "hidden": true
   },
   "outputs": [
    {
     "data": {
      "text/plain": [
       "count    21597.000000\n",
       "mean      -122.213982\n",
       "std          0.140724\n",
       "min       -122.519000\n",
       "25%       -122.328000\n",
       "50%       -122.231000\n",
       "75%       -122.125000\n",
       "max       -121.315000\n",
       "Name: long, dtype: float64"
      ]
     },
     "execution_count": 66,
     "metadata": {},
     "output_type": "execute_result"
    }
   ],
   "source": [
    "df.long.describe()"
   ]
  },
  {
   "cell_type": "markdown",
   "id": "0adf5713",
   "metadata": {
    "hidden": true
   },
   "source": [
    "Longitude goes from -122.519000 to -121.315000.\n",
    "\n",
    "Combined with 'lat' we can plot the locations of our our sold homes on a map and look for patterns"
   ]
  },
  {
   "cell_type": "code",
   "execution_count": 67,
   "id": "635322f8",
   "metadata": {
    "hidden": true
   },
   "outputs": [
    {
     "data": {
      "image/png": "[encoded data removed]",
      "text/plain": [
       "<Figure size 432x288 with 1 Axes>"
      ]
     },
     "metadata": {
      "needs_background": "light"
     },
     "output_type": "display_data"
    }
   ],
   "source": [
    "sns.scatterplot(data=df, x='long', y='price', size=1, alpha=0.2);"
   ]
  },
  {
   "cell_type": "markdown",
   "id": "ad950057",
   "metadata": {
    "hidden": true
   },
   "source": [
    "## 'sqft_living15'"
   ]
  },
  {
   "cell_type": "code",
   "execution_count": 68,
   "id": "b9242449",
   "metadata": {
    "hidden": true,
    "scrolled": true
   },
   "outputs": [
    {
     "data": {
      "text/plain": [
       "count    21597.000000\n",
       "mean      1986.620318\n",
       "std        685.230472\n",
       "min        399.000000\n",
       "25%       1490.000000\n",
       "50%       1840.000000\n",
       "75%       2360.000000\n",
       "max       6210.000000\n",
       "Name: sqft_living15, dtype: float64"
      ]
     },
     "execution_count": 68,
     "metadata": {},
     "output_type": "execute_result"
    }
   ],
   "source": [
    "df.sqft_living15.describe()"
   ]
  },
  {
   "cell_type": "markdown",
   "id": "fc99dbd5",
   "metadata": {
    "hidden": true
   },
   "source": [
    "Per the data notes, these values are the square footage of interior housing living space for the nearest 15 neighbors. It looks to already be an average value, we do not need to engineer anything."
   ]
  },
  {
   "cell_type": "code",
   "execution_count": 69,
   "id": "2a1ba010",
   "metadata": {
    "hidden": true,
    "scrolled": true
   },
   "outputs": [
    {
     "data": {
      "image/png": "[encoded data removed]",
      "text/plain": [
       "<Figure size 432x288 with 1 Axes>"
      ]
     },
     "metadata": {
      "needs_background": "light"
     },
     "output_type": "display_data"
    }
   ],
   "source": [
    "sns.scatterplot(data=df, x='sqft_living15', y='price', alpha=0.2, size=1);"
   ]
  },
  {
   "cell_type": "markdown",
   "id": "2c1dd629",
   "metadata": {
    "hidden": true
   },
   "source": [
    "There looks to be a slight relationship between the size of homes around the particular home and the sale price. We will see how the baseline model reacts to the data."
   ]
  },
  {
   "cell_type": "markdown",
   "id": "da74b0bc",
   "metadata": {
    "hidden": true
   },
   "source": [
    "## 'sqft_lot15'"
   ]
  },
  {
   "cell_type": "code",
   "execution_count": 70,
   "id": "93957107",
   "metadata": {
    "hidden": true
   },
   "outputs": [
    {
     "data": {
      "text/plain": [
       "count     21597.000000\n",
       "mean      12758.283512\n",
       "std       27274.441950\n",
       "min         651.000000\n",
       "25%        5100.000000\n",
       "50%        7620.000000\n",
       "75%       10083.000000\n",
       "max      871200.000000\n",
       "Name: sqft_lot15, dtype: float64"
      ]
     },
     "execution_count": 70,
     "metadata": {},
     "output_type": "execute_result"
    }
   ],
   "source": [
    "df.sqft_lot15.describe()"
   ]
  },
  {
   "cell_type": "code",
   "execution_count": 71,
   "id": "48acdde6",
   "metadata": {
    "hidden": true
   },
   "outputs": [
    {
     "data": {
      "image/png": "[encoded data removed]",
      "text/plain": [
       "<Figure size 432x288 with 1 Axes>"
      ]
     },
     "metadata": {
      "needs_background": "light"
     },
     "output_type": "display_data"
    }
   ],
   "source": [
    "sns.scatterplot(data=df, x='sqft_lot15', y='price');"
   ]
  },
  {
   "cell_type": "markdown",
   "id": "757e6252",
   "metadata": {
    "hidden": true
   },
   "source": [
    "Again, based on data notes and experience with the dataset (and values from the other 'sqft_lot' feature), these values are the average lot for the 15 nearest neighbors to the property.\n",
    "\n",
    "The plot of this feature with price doesn't seem to be linear, so on it's own the feature is likely not going to help the model.\n",
    "\n",
    "What it may help us do is categorize neighborhoods, or create a feature where the home is more likely to be around homes of similar sizes."
   ]
  },
  {
   "cell_type": "markdown",
   "id": "1d9866e8",
   "metadata": {},
   "source": [
    "# Baseline model"
   ]
  },
  {
   "cell_type": "code",
   "execution_count": 72,
   "id": "d662d3b7",
   "metadata": {},
   "outputs": [],
   "source": [
    "# cannot use datetime object in linear regression. we pulled out the sale\n",
    "# month and year from it as separate features for baseline model\n",
    "# X (predictors) is all features BUT 'date' and 'price'\n",
    "X = df.drop(['date', 'price'], axis=1)\n",
    "y = df.price"
   ]
  },
  {
   "cell_type": "code",
   "execution_count": 73,
   "id": "602be893",
   "metadata": {},
   "outputs": [],
   "source": [
    "# perform train/test split\n",
    "X_train, X_test, y_train, y_test = train_test_split(X, y, test_size=0.2,\n",
    "                                                   random_state=0)"
   ]
  },
  {
   "cell_type": "code",
   "execution_count": 74,
   "id": "42092a4c",
   "metadata": {},
   "outputs": [
    {
     "name": "stdout",
     "output_type": "stream",
     "text": [
      "Single model fit score: 0.838197629909185\n"
     ]
    }
   ],
   "source": [
    "baseline_model = LinearRegression()\n",
    "baseline_model.fit(X_train,y_train)"
   ]
  },
  {
   "cell_type": "code",
   "execution_count": 75,
   "id": "d28fa79f",
   "metadata": {},
   "outputs": [
    {
     "name": "stdout",
     "output_type": "stream",
     "text": [
      "------------------------------------\n",
      "Cross Validation Scores on X_train\n",
      "Train score: 0.8291745190364072\n",
      "Test score: 0.8364728594799666\n"
     ]
    }
   ],
   "source": [
    "splitter = ShuffleSplit(n_splits=5, test_size=0.2, random_state=0)\n",
    "\n",
    "baseline_scores = cross_validate(estimator=baseline_model, X=X_train,\n",
    "                                 y=y_train, return_train_score=True, \n",
    "                                 cv=splitter)\n",
    "\n",
    "print('------------------------------------')\n",
    "print('Cross Validation Scores on X_train')\n",
    "print('Train score:', baseline_scores['train_score'].mean())\n",
    "print('Test score:', baseline_scores['test_score'].mean())"
   ]
  },
  {
   "cell_type": "code",
   "execution_count": 76,
   "id": "bcbdefd3",
   "metadata": {
    "scrolled": true
   },
   "outputs": [
    {
     "data": {
      "text/html": [
       "<table class=\"simpletable\">\n",
       "<caption>OLS Regression Results</caption>\n",
       "<tr>\n",
       "  <th>Dep. Variable:</th>          <td>price</td>      <th>  R-squared:         </th>  <td>   0.831</td>  \n",
       "</tr>\n",
       "<tr>\n",
       "  <th>Model:</th>                   <td>OLS</td>       <th>  Adj. R-squared:    </th>  <td>   0.830</td>  \n",
       "</tr>\n",
       "<tr>\n",
       "  <th>Method:</th>             <td>Least Squares</td>  <th>  F-statistic:       </th>  <td>   836.0</td>  \n",
       "</tr>\n",
       "<tr>\n",
       "  <th>Date:</th>             <td>Wed, 01 Dec 2021</td> <th>  Prob (F-statistic):</th>   <td>  0.00</td>   \n",
       "</tr>\n",
       "<tr>\n",
       "  <th>Time:</th>                 <td>09:04:40</td>     <th>  Log-Likelihood:    </th> <td>-2.3082e+05</td>\n",
       "</tr>\n",
       "<tr>\n",
       "  <th>No. Observations:</th>      <td> 17277</td>      <th>  AIC:               </th>  <td>4.618e+05</td> \n",
       "</tr>\n",
       "<tr>\n",
       "  <th>Df Residuals:</th>          <td> 17175</td>      <th>  BIC:               </th>  <td>4.626e+05</td> \n",
       "</tr>\n",
       "<tr>\n",
       "  <th>Df Model:</th>              <td>   101</td>      <th>                     </th>      <td> </td>     \n",
       "</tr>\n",
       "<tr>\n",
       "  <th>Covariance Type:</th>      <td>nonrobust</td>    <th>                     </th>      <td> </td>     \n",
       "</tr>\n",
       "</table>\n",
       "<table class=\"simpletable\">\n",
       "<tr>\n",
       "         <td></td>           <th>coef</th>     <th>std err</th>      <th>t</th>      <th>P>|t|</th>  <th>[0.025</th>    <th>0.975]</th>  \n",
       "</tr>\n",
       "<tr>\n",
       "  <th>const</th>          <td>-1.172e+08</td> <td> 1.04e+07</td> <td>  -11.227</td> <td> 0.000</td> <td>-1.38e+08</td> <td>-9.67e+07</td>\n",
       "</tr>\n",
       "<tr>\n",
       "  <th>sqft_living</th>    <td>  121.6158</td> <td>   14.869</td> <td>    8.179</td> <td> 0.000</td> <td>   92.471</td> <td>  150.760</td>\n",
       "</tr>\n",
       "<tr>\n",
       "  <th>sqft_lot</th>       <td>    0.2095</td> <td>    0.042</td> <td>    4.988</td> <td> 0.000</td> <td>    0.127</td> <td>    0.292</td>\n",
       "</tr>\n",
       "<tr>\n",
       "  <th>waterfront</th>     <td> 7.202e+05</td> <td> 1.49e+04</td> <td>   48.181</td> <td> 0.000</td> <td> 6.91e+05</td> <td> 7.49e+05</td>\n",
       "</tr>\n",
       "<tr>\n",
       "  <th>view</th>           <td>  1.15e+05</td> <td> 4580.363</td> <td>   25.114</td> <td> 0.000</td> <td> 1.06e+05</td> <td> 1.24e+05</td>\n",
       "</tr>\n",
       "<tr>\n",
       "  <th>sqft_above</th>     <td>   51.7347</td> <td>   15.018</td> <td>    3.445</td> <td> 0.001</td> <td>   22.298</td> <td>   81.172</td>\n",
       "</tr>\n",
       "<tr>\n",
       "  <th>sqft_basement</th>  <td>   14.5398</td> <td>   14.805</td> <td>    0.982</td> <td> 0.326</td> <td>  -14.480</td> <td>   43.559</td>\n",
       "</tr>\n",
       "<tr>\n",
       "  <th>yr_built</th>       <td>  -16.6235</td> <td>   69.172</td> <td>   -0.240</td> <td> 0.810</td> <td> -152.208</td> <td>  118.961</td>\n",
       "</tr>\n",
       "<tr>\n",
       "  <th>yr_renovated</th>   <td>   36.7507</td> <td>    3.412</td> <td>   10.770</td> <td> 0.000</td> <td>   30.063</td> <td>   43.439</td>\n",
       "</tr>\n",
       "<tr>\n",
       "  <th>lat</th>            <td> 2.012e+05</td> <td> 6.75e+04</td> <td>    2.981</td> <td> 0.003</td> <td> 6.89e+04</td> <td> 3.33e+05</td>\n",
       "</tr>\n",
       "<tr>\n",
       "  <th>long</th>           <td>-2.429e+05</td> <td> 4.88e+04</td> <td>   -4.983</td> <td> 0.000</td> <td>-3.39e+05</td> <td>-1.47e+05</td>\n",
       "</tr>\n",
       "<tr>\n",
       "  <th>sqft_living15</th>  <td>   19.0839</td> <td>    3.104</td> <td>    6.149</td> <td> 0.000</td> <td>   13.001</td> <td>   25.167</td>\n",
       "</tr>\n",
       "<tr>\n",
       "  <th>sqft_lot15</th>     <td>   -0.1339</td> <td>    0.064</td> <td>   -2.098</td> <td> 0.036</td> <td>   -0.259</td> <td>   -0.009</td>\n",
       "</tr>\n",
       "<tr>\n",
       "  <th>sale_month</th>     <td> 1489.6559</td> <td>  606.082</td> <td>    2.458</td> <td> 0.014</td> <td>  301.674</td> <td> 2677.638</td>\n",
       "</tr>\n",
       "<tr>\n",
       "  <th>sale_year</th>      <td>  3.88e+04</td> <td> 4041.174</td> <td>    9.600</td> <td> 0.000</td> <td> 3.09e+04</td> <td> 4.67e+04</td>\n",
       "</tr>\n",
       "<tr>\n",
       "  <th>bedrooms_1_2</th>   <td>-3580.0494</td> <td> 4065.175</td> <td>   -0.881</td> <td> 0.379</td> <td>-1.15e+04</td> <td> 4388.110</td>\n",
       "</tr>\n",
       "<tr>\n",
       "  <th>bedrooms_5plus</th> <td>-2.169e+04</td> <td> 4493.083</td> <td>   -4.828</td> <td> 0.000</td> <td>-3.05e+04</td> <td>-1.29e+04</td>\n",
       "</tr>\n",
       "<tr>\n",
       "  <th>bathrooms_1</th>    <td> 1.603e+04</td> <td> 4182.509</td> <td>    3.834</td> <td> 0.000</td> <td> 7836.854</td> <td> 2.42e+04</td>\n",
       "</tr>\n",
       "<tr>\n",
       "  <th>bathrooms_3</th>    <td>-1.463e+04</td> <td> 2977.940</td> <td>   -4.913</td> <td> 0.000</td> <td>-2.05e+04</td> <td>-8792.877</td>\n",
       "</tr>\n",
       "<tr>\n",
       "  <th>floors_1</th>       <td> 1.489e+04</td> <td> 3924.382</td> <td>    3.794</td> <td> 0.000</td> <td> 7196.614</td> <td> 2.26e+04</td>\n",
       "</tr>\n",
       "<tr>\n",
       "  <th>condition_1</th>    <td>-9.006e+04</td> <td> 3.25e+04</td> <td>   -2.770</td> <td> 0.006</td> <td>-1.54e+05</td> <td>-2.63e+04</td>\n",
       "</tr>\n",
       "<tr>\n",
       "  <th>condition_2</th>    <td>-9983.2599</td> <td> 1.34e+04</td> <td>   -0.745</td> <td> 0.457</td> <td>-3.63e+04</td> <td> 1.63e+04</td>\n",
       "</tr>\n",
       "<tr>\n",
       "  <th>condition_4</th>    <td> 2.663e+04</td> <td> 3081.687</td> <td>    8.642</td> <td> 0.000</td> <td> 2.06e+04</td> <td> 3.27e+04</td>\n",
       "</tr>\n",
       "<tr>\n",
       "  <th>condition_5</th>    <td> 7.865e+04</td> <td> 4821.435</td> <td>   16.312</td> <td> 0.000</td> <td> 6.92e+04</td> <td> 8.81e+04</td>\n",
       "</tr>\n",
       "<tr>\n",
       "  <th>grade_3</th>        <td>-1.589e-07</td> <td> 3.71e-09</td> <td>  -42.845</td> <td> 0.000</td> <td>-1.66e-07</td> <td>-1.52e-07</td>\n",
       "</tr>\n",
       "<tr>\n",
       "  <th>grade_4</th>        <td> 4.995e+04</td> <td> 3.68e+04</td> <td>    1.356</td> <td> 0.175</td> <td>-2.22e+04</td> <td> 1.22e+05</td>\n",
       "</tr>\n",
       "<tr>\n",
       "  <th>grade_5</th>        <td>-6790.3286</td> <td>  1.2e+04</td> <td>   -0.564</td> <td> 0.573</td> <td>-3.04e+04</td> <td> 1.68e+04</td>\n",
       "</tr>\n",
       "<tr>\n",
       "  <th>grade_6</th>        <td>-7784.0133</td> <td> 4850.682</td> <td>   -1.605</td> <td> 0.109</td> <td>-1.73e+04</td> <td> 1723.819</td>\n",
       "</tr>\n",
       "<tr>\n",
       "  <th>grade_8</th>        <td> 2.552e+04</td> <td> 3439.695</td> <td>    7.420</td> <td> 0.000</td> <td> 1.88e+04</td> <td> 3.23e+04</td>\n",
       "</tr>\n",
       "<tr>\n",
       "  <th>grade_9</th>        <td> 1.002e+05</td> <td> 5279.658</td> <td>   18.972</td> <td> 0.000</td> <td> 8.98e+04</td> <td> 1.11e+05</td>\n",
       "</tr>\n",
       "<tr>\n",
       "  <th>grade_10</th>       <td> 2.195e+05</td> <td> 7608.929</td> <td>   28.849</td> <td> 0.000</td> <td> 2.05e+05</td> <td> 2.34e+05</td>\n",
       "</tr>\n",
       "<tr>\n",
       "  <th>grade_11</th>       <td> 4.253e+05</td> <td> 1.15e+04</td> <td>   37.103</td> <td> 0.000</td> <td> 4.03e+05</td> <td> 4.48e+05</td>\n",
       "</tr>\n",
       "<tr>\n",
       "  <th>grade_12</th>       <td> 8.369e+05</td> <td> 2.09e+04</td> <td>   40.013</td> <td> 0.000</td> <td> 7.96e+05</td> <td> 8.78e+05</td>\n",
       "</tr>\n",
       "<tr>\n",
       "  <th>grade_13</th>       <td> 1.955e+06</td> <td> 4.52e+04</td> <td>   43.258</td> <td> 0.000</td> <td> 1.87e+06</td> <td> 2.04e+06</td>\n",
       "</tr>\n",
       "<tr>\n",
       "  <th>zip_98001</th>      <td>-2.585e+05</td> <td> 2.73e+04</td> <td>   -9.453</td> <td> 0.000</td> <td>-3.12e+05</td> <td>-2.05e+05</td>\n",
       "</tr>\n",
       "<tr>\n",
       "  <th>zip_98002</th>      <td>-2.347e+05</td> <td> 2.89e+04</td> <td>   -8.118</td> <td> 0.000</td> <td>-2.91e+05</td> <td>-1.78e+05</td>\n",
       "</tr>\n",
       "<tr>\n",
       "  <th>zip_98003</th>      <td>-2.701e+05</td> <td> 2.76e+04</td> <td>   -9.793</td> <td> 0.000</td> <td>-3.24e+05</td> <td>-2.16e+05</td>\n",
       "</tr>\n",
       "<tr>\n",
       "  <th>zip_98004</th>      <td>  4.79e+05</td> <td> 1.46e+04</td> <td>   32.730</td> <td> 0.000</td> <td>  4.5e+05</td> <td> 5.08e+05</td>\n",
       "</tr>\n",
       "<tr>\n",
       "  <th>zip_98005</th>      <td> 1.842e+04</td> <td> 1.78e+04</td> <td>    1.037</td> <td> 0.300</td> <td>-1.64e+04</td> <td> 5.32e+04</td>\n",
       "</tr>\n",
       "<tr>\n",
       "  <th>zip_98006</th>      <td>-3.222e+04</td> <td> 1.62e+04</td> <td>   -1.984</td> <td> 0.047</td> <td> -6.4e+04</td> <td> -389.984</td>\n",
       "</tr>\n",
       "<tr>\n",
       "  <th>zip_98007</th>      <td>-3.624e+04</td> <td> 1.97e+04</td> <td>   -1.839</td> <td> 0.066</td> <td>-7.49e+04</td> <td> 2387.126</td>\n",
       "</tr>\n",
       "<tr>\n",
       "  <th>zip_98008</th>      <td>-1.416e+04</td> <td> 1.71e+04</td> <td>   -0.826</td> <td> 0.409</td> <td>-4.78e+04</td> <td> 1.94e+04</td>\n",
       "</tr>\n",
       "<tr>\n",
       "  <th>zip_98010</th>      <td>-1.457e+05</td> <td> 3.31e+04</td> <td>   -4.406</td> <td> 0.000</td> <td>-2.11e+05</td> <td>-8.09e+04</td>\n",
       "</tr>\n",
       "<tr>\n",
       "  <th>zip_98011</th>      <td>-1.913e+05</td> <td> 1.71e+04</td> <td>  -11.182</td> <td> 0.000</td> <td>-2.25e+05</td> <td>-1.58e+05</td>\n",
       "</tr>\n",
       "<tr>\n",
       "  <th>zip_98014</th>      <td> -1.35e+05</td> <td>    3e+04</td> <td>   -4.507</td> <td> 0.000</td> <td>-1.94e+05</td> <td>-7.63e+04</td>\n",
       "</tr>\n",
       "<tr>\n",
       "  <th>zip_98019</th>      <td>-1.668e+05</td> <td> 2.44e+04</td> <td>   -6.836</td> <td> 0.000</td> <td>-2.15e+05</td> <td>-1.19e+05</td>\n",
       "</tr>\n",
       "<tr>\n",
       "  <th>zip_98022</th>      <td>-1.854e+05</td> <td> 3.71e+04</td> <td>   -4.997</td> <td> 0.000</td> <td>-2.58e+05</td> <td>-1.13e+05</td>\n",
       "</tr>\n",
       "<tr>\n",
       "  <th>zip_98023</th>      <td>  -3.1e+05</td> <td> 2.71e+04</td> <td>  -11.449</td> <td> 0.000</td> <td>-3.63e+05</td> <td>-2.57e+05</td>\n",
       "</tr>\n",
       "<tr>\n",
       "  <th>zip_98024</th>      <td>-6.009e+04</td> <td> 3.02e+04</td> <td>   -1.989</td> <td> 0.047</td> <td>-1.19e+05</td> <td> -865.705</td>\n",
       "</tr>\n",
       "<tr>\n",
       "  <th>zip_98027</th>      <td>-7.264e+04</td> <td> 2.06e+04</td> <td>   -3.523</td> <td> 0.000</td> <td>-1.13e+05</td> <td>-3.22e+04</td>\n",
       "</tr>\n",
       "<tr>\n",
       "  <th>zip_98028</th>      <td>-2.043e+05</td> <td> 1.45e+04</td> <td>  -14.046</td> <td> 0.000</td> <td>-2.33e+05</td> <td>-1.76e+05</td>\n",
       "</tr>\n",
       "<tr>\n",
       "  <th>zip_98029</th>      <td>-1.235e+04</td> <td> 2.14e+04</td> <td>   -0.576</td> <td> 0.565</td> <td>-5.44e+04</td> <td> 2.97e+04</td>\n",
       "</tr>\n",
       "<tr>\n",
       "  <th>zip_98030</th>      <td>-2.438e+05</td> <td> 2.51e+04</td> <td>   -9.706</td> <td> 0.000</td> <td>-2.93e+05</td> <td>-1.95e+05</td>\n",
       "</tr>\n",
       "<tr>\n",
       "  <th>zip_98031</th>      <td>-2.349e+05</td> <td> 2.32e+04</td> <td>  -10.130</td> <td> 0.000</td> <td> -2.8e+05</td> <td>-1.89e+05</td>\n",
       "</tr>\n",
       "<tr>\n",
       "  <th>zip_98032</th>      <td>-2.682e+05</td> <td> 2.64e+04</td> <td>  -10.146</td> <td> 0.000</td> <td> -3.2e+05</td> <td>-2.16e+05</td>\n",
       "</tr>\n",
       "<tr>\n",
       "  <th>zip_98033</th>      <td> 5.321e+04</td> <td> 1.35e+04</td> <td>    3.937</td> <td> 0.000</td> <td> 2.67e+04</td> <td> 7.97e+04</td>\n",
       "</tr>\n",
       "<tr>\n",
       "  <th>zip_98034</th>      <td>-1.176e+05</td> <td> 1.29e+04</td> <td>   -9.144</td> <td> 0.000</td> <td>-1.43e+05</td> <td>-9.24e+04</td>\n",
       "</tr>\n",
       "<tr>\n",
       "  <th>zip_98038</th>      <td>-1.734e+05</td> <td> 2.68e+04</td> <td>   -6.480</td> <td> 0.000</td> <td>-2.26e+05</td> <td>-1.21e+05</td>\n",
       "</tr>\n",
       "<tr>\n",
       "  <th>zip_98039</th>      <td> 9.151e+05</td> <td> 2.65e+04</td> <td>   34.538</td> <td> 0.000</td> <td> 8.63e+05</td> <td> 9.67e+05</td>\n",
       "</tr>\n",
       "<tr>\n",
       "  <th>zip_98040</th>      <td> 2.089e+05</td> <td>  1.6e+04</td> <td>   13.094</td> <td> 0.000</td> <td> 1.78e+05</td> <td>  2.4e+05</td>\n",
       "</tr>\n",
       "<tr>\n",
       "  <th>zip_98042</th>      <td>-2.239e+05</td> <td> 2.53e+04</td> <td>   -8.851</td> <td> 0.000</td> <td>-2.74e+05</td> <td>-1.74e+05</td>\n",
       "</tr>\n",
       "<tr>\n",
       "  <th>zip_98045</th>      <td>-6.717e+04</td> <td> 3.37e+04</td> <td>   -1.996</td> <td> 0.046</td> <td>-1.33e+05</td> <td>-1193.766</td>\n",
       "</tr>\n",
       "<tr>\n",
       "  <th>zip_98052</th>      <td>-5.148e+04</td> <td> 1.51e+04</td> <td>   -3.405</td> <td> 0.001</td> <td>-8.11e+04</td> <td>-2.18e+04</td>\n",
       "</tr>\n",
       "<tr>\n",
       "  <th>zip_98053</th>      <td>-5.629e+04</td> <td> 1.94e+04</td> <td>   -2.898</td> <td> 0.004</td> <td>-9.44e+04</td> <td>-1.82e+04</td>\n",
       "</tr>\n",
       "<tr>\n",
       "  <th>zip_98055</th>      <td>-2.301e+05</td> <td> 2.03e+04</td> <td>  -11.323</td> <td> 0.000</td> <td> -2.7e+05</td> <td> -1.9e+05</td>\n",
       "</tr>\n",
       "<tr>\n",
       "  <th>zip_98056</th>      <td>-1.884e+05</td> <td> 1.74e+04</td> <td>  -10.821</td> <td> 0.000</td> <td>-2.23e+05</td> <td>-1.54e+05</td>\n",
       "</tr>\n",
       "<tr>\n",
       "  <th>zip_98058</th>      <td>-2.185e+05</td> <td> 2.08e+04</td> <td>  -10.503</td> <td> 0.000</td> <td>-2.59e+05</td> <td>-1.78e+05</td>\n",
       "</tr>\n",
       "<tr>\n",
       "  <th>zip_98059</th>      <td>-1.806e+05</td> <td> 1.88e+04</td> <td>   -9.612</td> <td> 0.000</td> <td>-2.17e+05</td> <td>-1.44e+05</td>\n",
       "</tr>\n",
       "<tr>\n",
       "  <th>zip_98065</th>      <td>-1.096e+05</td> <td> 2.77e+04</td> <td>   -3.959</td> <td> 0.000</td> <td>-1.64e+05</td> <td>-5.53e+04</td>\n",
       "</tr>\n",
       "<tr>\n",
       "  <th>zip_98070</th>      <td>-3.109e+05</td> <td> 2.58e+04</td> <td>  -12.053</td> <td> 0.000</td> <td>-3.61e+05</td> <td> -2.6e+05</td>\n",
       "</tr>\n",
       "<tr>\n",
       "  <th>zip_98072</th>      <td>-1.508e+05</td> <td> 1.76e+04</td> <td>   -8.576</td> <td> 0.000</td> <td>-1.85e+05</td> <td>-1.16e+05</td>\n",
       "</tr>\n",
       "<tr>\n",
       "  <th>zip_98074</th>      <td>-7.967e+04</td> <td> 1.85e+04</td> <td>   -4.317</td> <td> 0.000</td> <td>-1.16e+05</td> <td>-4.35e+04</td>\n",
       "</tr>\n",
       "<tr>\n",
       "  <th>zip_98075</th>      <td>-8.272e+04</td> <td> 2.03e+04</td> <td>   -4.079</td> <td> 0.000</td> <td>-1.22e+05</td> <td> -4.3e+04</td>\n",
       "</tr>\n",
       "<tr>\n",
       "  <th>zip_98077</th>      <td>-1.778e+05</td> <td> 2.08e+04</td> <td>   -8.532</td> <td> 0.000</td> <td>-2.19e+05</td> <td>-1.37e+05</td>\n",
       "</tr>\n",
       "<tr>\n",
       "  <th>zip_98092</th>      <td>-2.536e+05</td> <td> 2.88e+04</td> <td>   -8.820</td> <td> 0.000</td> <td> -3.1e+05</td> <td>-1.97e+05</td>\n",
       "</tr>\n",
       "<tr>\n",
       "  <th>zip_98102</th>      <td>  1.55e+05</td> <td> 1.79e+04</td> <td>    8.639</td> <td> 0.000</td> <td>  1.2e+05</td> <td>  1.9e+05</td>\n",
       "</tr>\n",
       "<tr>\n",
       "  <th>zip_98105</th>      <td> 1.506e+05</td> <td> 1.35e+04</td> <td>   11.121</td> <td> 0.000</td> <td> 1.24e+05</td> <td> 1.77e+05</td>\n",
       "</tr>\n",
       "<tr>\n",
       "  <th>zip_98106</th>      <td> -1.96e+05</td> <td> 1.53e+04</td> <td>  -12.845</td> <td> 0.000</td> <td>-2.26e+05</td> <td>-1.66e+05</td>\n",
       "</tr>\n",
       "<tr>\n",
       "  <th>zip_98107</th>      <td> 3711.4997</td> <td> 1.29e+04</td> <td>    0.289</td> <td> 0.773</td> <td>-2.15e+04</td> <td> 2.89e+04</td>\n",
       "</tr>\n",
       "<tr>\n",
       "  <th>zip_98108</th>      <td>-1.912e+05</td> <td>  1.7e+04</td> <td>  -11.242</td> <td> 0.000</td> <td>-2.25e+05</td> <td>-1.58e+05</td>\n",
       "</tr>\n",
       "<tr>\n",
       "  <th>zip_98109</th>      <td> 1.776e+05</td> <td>  1.8e+04</td> <td>    9.843</td> <td> 0.000</td> <td> 1.42e+05</td> <td> 2.13e+05</td>\n",
       "</tr>\n",
       "<tr>\n",
       "  <th>zip_98112</th>      <td>  3.07e+05</td> <td> 1.33e+04</td> <td>   23.097</td> <td> 0.000</td> <td> 2.81e+05</td> <td> 3.33e+05</td>\n",
       "</tr>\n",
       "<tr>\n",
       "  <th>zip_98115</th>      <td> 2523.3919</td> <td> 1.03e+04</td> <td>    0.246</td> <td> 0.806</td> <td>-1.76e+04</td> <td> 2.26e+04</td>\n",
       "</tr>\n",
       "<tr>\n",
       "  <th>zip_98116</th>      <td>-3.853e+04</td> <td>  1.4e+04</td> <td>   -2.743</td> <td> 0.006</td> <td>-6.61e+04</td> <td> -1.1e+04</td>\n",
       "</tr>\n",
       "<tr>\n",
       "  <th>zip_98117</th>      <td>-3.147e+04</td> <td> 1.03e+04</td> <td>   -3.059</td> <td> 0.002</td> <td>-5.16e+04</td> <td>-1.13e+04</td>\n",
       "</tr>\n",
       "<tr>\n",
       "  <th>zip_98118</th>      <td>-1.427e+05</td> <td> 1.39e+04</td> <td>  -10.232</td> <td> 0.000</td> <td> -1.7e+05</td> <td>-1.15e+05</td>\n",
       "</tr>\n",
       "<tr>\n",
       "  <th>zip_98119</th>      <td> 1.505e+05</td> <td>  1.5e+04</td> <td>   10.064</td> <td> 0.000</td> <td> 1.21e+05</td> <td>  1.8e+05</td>\n",
       "</tr>\n",
       "<tr>\n",
       "  <th>zip_98122</th>      <td> 3.282e+04</td> <td> 1.34e+04</td> <td>    2.454</td> <td> 0.014</td> <td> 6609.118</td> <td>  5.9e+04</td>\n",
       "</tr>\n",
       "<tr>\n",
       "  <th>zip_98125</th>      <td> -1.41e+05</td> <td> 1.18e+04</td> <td>  -11.986</td> <td> 0.000</td> <td>-1.64e+05</td> <td>-1.18e+05</td>\n",
       "</tr>\n",
       "<tr>\n",
       "  <th>zip_98126</th>      <td>-1.386e+05</td> <td> 1.48e+04</td> <td>   -9.381</td> <td> 0.000</td> <td>-1.68e+05</td> <td> -1.1e+05</td>\n",
       "</tr>\n",
       "<tr>\n",
       "  <th>zip_98133</th>      <td>-1.994e+05</td> <td> 1.13e+04</td> <td>  -17.637</td> <td> 0.000</td> <td>-2.22e+05</td> <td>-1.77e+05</td>\n",
       "</tr>\n",
       "<tr>\n",
       "  <th>zip_98136</th>      <td>-8.597e+04</td> <td> 1.59e+04</td> <td>   -5.413</td> <td> 0.000</td> <td>-1.17e+05</td> <td>-5.48e+04</td>\n",
       "</tr>\n",
       "<tr>\n",
       "  <th>zip_98144</th>      <td>-4.304e+04</td> <td> 1.33e+04</td> <td>   -3.246</td> <td> 0.001</td> <td> -6.9e+04</td> <td>-1.71e+04</td>\n",
       "</tr>\n",
       "<tr>\n",
       "  <th>zip_98146</th>      <td>-2.211e+05</td> <td> 1.73e+04</td> <td>  -12.793</td> <td> 0.000</td> <td>-2.55e+05</td> <td>-1.87e+05</td>\n",
       "</tr>\n",
       "<tr>\n",
       "  <th>zip_98148</th>      <td> -2.29e+05</td> <td> 2.89e+04</td> <td>   -7.915</td> <td> 0.000</td> <td>-2.86e+05</td> <td>-1.72e+05</td>\n",
       "</tr>\n",
       "<tr>\n",
       "  <th>zip_98155</th>      <td>-2.061e+05</td> <td> 1.24e+04</td> <td>  -16.643</td> <td> 0.000</td> <td> -2.3e+05</td> <td>-1.82e+05</td>\n",
       "</tr>\n",
       "<tr>\n",
       "  <th>zip_98166</th>      <td>-2.456e+05</td> <td> 1.99e+04</td> <td>  -12.366</td> <td> 0.000</td> <td>-2.84e+05</td> <td>-2.07e+05</td>\n",
       "</tr>\n",
       "<tr>\n",
       "  <th>zip_98168</th>      <td>-2.475e+05</td> <td> 1.81e+04</td> <td>  -13.695</td> <td> 0.000</td> <td>-2.83e+05</td> <td>-2.12e+05</td>\n",
       "</tr>\n",
       "<tr>\n",
       "  <th>zip_98177</th>      <td> -1.44e+05</td> <td> 1.36e+04</td> <td>  -10.552</td> <td> 0.000</td> <td>-1.71e+05</td> <td>-1.17e+05</td>\n",
       "</tr>\n",
       "<tr>\n",
       "  <th>zip_98178</th>      <td>-2.609e+05</td> <td> 1.81e+04</td> <td>  -14.450</td> <td> 0.000</td> <td>-2.96e+05</td> <td>-2.26e+05</td>\n",
       "</tr>\n",
       "<tr>\n",
       "  <th>zip_98188</th>      <td>-2.575e+05</td> <td> 2.27e+04</td> <td>  -11.344</td> <td> 0.000</td> <td>-3.02e+05</td> <td>-2.13e+05</td>\n",
       "</tr>\n",
       "<tr>\n",
       "  <th>zip_98198</th>      <td>-2.875e+05</td> <td>  2.3e+04</td> <td>  -12.485</td> <td> 0.000</td> <td>-3.33e+05</td> <td>-2.42e+05</td>\n",
       "</tr>\n",
       "<tr>\n",
       "  <th>zip_98199</th>      <td> 3.592e+04</td> <td> 1.26e+04</td> <td>    2.856</td> <td> 0.004</td> <td> 1.13e+04</td> <td> 6.06e+04</td>\n",
       "</tr>\n",
       "</table>\n",
       "<table class=\"simpletable\">\n",
       "<tr>\n",
       "  <th>Omnibus:</th>       <td>13775.777</td> <th>  Durbin-Watson:     </th>  <td>   1.991</td>  \n",
       "</tr>\n",
       "<tr>\n",
       "  <th>Prob(Omnibus):</th>  <td> 0.000</td>   <th>  Jarque-Bera (JB):  </th> <td>1663446.286</td>\n",
       "</tr>\n",
       "<tr>\n",
       "  <th>Skew:</th>           <td> 3.135</td>   <th>  Prob(JB):          </th>  <td>    0.00</td>  \n",
       "</tr>\n",
       "<tr>\n",
       "  <th>Kurtosis:</th>       <td>50.660</td>   <th>  Cond. No.          </th>  <td>7.39e+20</td>  \n",
       "</tr>\n",
       "</table><br/><br/>Notes:<br/>[1] Standard Errors assume that the covariance matrix of the errors is correctly specified.<br/>[2] The smallest eigenvalue is 8.06e-29. This might indicate that there are<br/>strong multicollinearity problems or that the design matrix is singular."
      ],
      "text/plain": [
       "<class 'statsmodels.iolib.summary.Summary'>\n",
       "\"\"\"\n",
       "                            OLS Regression Results                            \n",
       "==============================================================================\n",
       "Dep. Variable:                  price   R-squared:                       0.831\n",
       "Model:                            OLS   Adj. R-squared:                  0.830\n",
       "Method:                 Least Squares   F-statistic:                     836.0\n",
       "Date:                Wed, 01 Dec 2021   Prob (F-statistic):               0.00\n",
       "Time:                        09:04:40   Log-Likelihood:            -2.3082e+05\n",
       "No. Observations:               17277   AIC:                         4.618e+05\n",
       "Df Residuals:                   17175   BIC:                         4.626e+05\n",
       "Df Model:                         101                                         \n",
       "Covariance Type:            nonrobust                                         \n",
       "==================================================================================\n",
       "                     coef    std err          t      P>|t|      [0.025      0.975]\n",
       "----------------------------------------------------------------------------------\n",
       "const          -1.172e+08   1.04e+07    -11.227      0.000   -1.38e+08   -9.67e+07\n",
       "sqft_living      121.6158     14.869      8.179      0.000      92.471     150.760\n",
       "sqft_lot           0.2095      0.042      4.988      0.000       0.127       0.292\n",
       "waterfront      7.202e+05   1.49e+04     48.181      0.000    6.91e+05    7.49e+05\n",
       "view             1.15e+05   4580.363     25.114      0.000    1.06e+05    1.24e+05\n",
       "sqft_above        51.7347     15.018      3.445      0.001      22.298      81.172\n",
       "sqft_basement     14.5398     14.805      0.982      0.326     -14.480      43.559\n",
       "yr_built         -16.6235     69.172     -0.240      0.810    -152.208     118.961\n",
       "yr_renovated      36.7507      3.412     10.770      0.000      30.063      43.439\n",
       "lat             2.012e+05   6.75e+04      2.981      0.003    6.89e+04    3.33e+05\n",
       "long           -2.429e+05   4.88e+04     -4.983      0.000   -3.39e+05   -1.47e+05\n",
       "sqft_living15     19.0839      3.104      6.149      0.000      13.001      25.167\n",
       "sqft_lot15        -0.1339      0.064     -2.098      0.036      -0.259      -0.009\n",
       "sale_month      1489.6559    606.082      2.458      0.014     301.674    2677.638\n",
       "sale_year        3.88e+04   4041.174      9.600      0.000    3.09e+04    4.67e+04\n",
       "bedrooms_1_2   -3580.0494   4065.175     -0.881      0.379   -1.15e+04    4388.110\n",
       "bedrooms_5plus -2.169e+04   4493.083     -4.828      0.000   -3.05e+04   -1.29e+04\n",
       "bathrooms_1     1.603e+04   4182.509      3.834      0.000    7836.854    2.42e+04\n",
       "bathrooms_3    -1.463e+04   2977.940     -4.913      0.000   -2.05e+04   -8792.877\n",
       "floors_1        1.489e+04   3924.382      3.794      0.000    7196.614    2.26e+04\n",
       "condition_1    -9.006e+04   3.25e+04     -2.770      0.006   -1.54e+05   -2.63e+04\n",
       "condition_2    -9983.2599   1.34e+04     -0.745      0.457   -3.63e+04    1.63e+04\n",
       "condition_4     2.663e+04   3081.687      8.642      0.000    2.06e+04    3.27e+04\n",
       "condition_5     7.865e+04   4821.435     16.312      0.000    6.92e+04    8.81e+04\n",
       "grade_3        -1.589e-07   3.71e-09    -42.845      0.000   -1.66e-07   -1.52e-07\n",
       "grade_4         4.995e+04   3.68e+04      1.356      0.175   -2.22e+04    1.22e+05\n",
       "grade_5        -6790.3286    1.2e+04     -0.564      0.573   -3.04e+04    1.68e+04\n",
       "grade_6        -7784.0133   4850.682     -1.605      0.109   -1.73e+04    1723.819\n",
       "grade_8         2.552e+04   3439.695      7.420      0.000    1.88e+04    3.23e+04\n",
       "grade_9         1.002e+05   5279.658     18.972      0.000    8.98e+04    1.11e+05\n",
       "grade_10        2.195e+05   7608.929     28.849      0.000    2.05e+05    2.34e+05\n",
       "grade_11        4.253e+05   1.15e+04     37.103      0.000    4.03e+05    4.48e+05\n",
       "grade_12        8.369e+05   2.09e+04     40.013      0.000    7.96e+05    8.78e+05\n",
       "grade_13        1.955e+06   4.52e+04     43.258      0.000    1.87e+06    2.04e+06\n",
       "zip_98001      -2.585e+05   2.73e+04     -9.453      0.000   -3.12e+05   -2.05e+05\n",
       "zip_98002      -2.347e+05   2.89e+04     -8.118      0.000   -2.91e+05   -1.78e+05\n",
       "zip_98003      -2.701e+05   2.76e+04     -9.793      0.000   -3.24e+05   -2.16e+05\n",
       "zip_98004        4.79e+05   1.46e+04     32.730      0.000     4.5e+05    5.08e+05\n",
       "zip_98005       1.842e+04   1.78e+04      1.037      0.300   -1.64e+04    5.32e+04\n",
       "zip_98006      -3.222e+04   1.62e+04     -1.984      0.047    -6.4e+04    -389.984\n",
       "zip_98007      -3.624e+04   1.97e+04     -1.839      0.066   -7.49e+04    2387.126\n",
       "zip_98008      -1.416e+04   1.71e+04     -0.826      0.409   -4.78e+04    1.94e+04\n",
       "zip_98010      -1.457e+05   3.31e+04     -4.406      0.000   -2.11e+05   -8.09e+04\n",
       "zip_98011      -1.913e+05   1.71e+04    -11.182      0.000   -2.25e+05   -1.58e+05\n",
       "zip_98014       -1.35e+05      3e+04     -4.507      0.000   -1.94e+05   -7.63e+04\n",
       "zip_98019      -1.668e+05   2.44e+04     -6.836      0.000   -2.15e+05   -1.19e+05\n",
       "zip_98022      -1.854e+05   3.71e+04     -4.997      0.000   -2.58e+05   -1.13e+05\n",
       "zip_98023        -3.1e+05   2.71e+04    -11.449      0.000   -3.63e+05   -2.57e+05\n",
       "zip_98024      -6.009e+04   3.02e+04     -1.989      0.047   -1.19e+05    -865.705\n",
       "zip_98027      -7.264e+04   2.06e+04     -3.523      0.000   -1.13e+05   -3.22e+04\n",
       "zip_98028      -2.043e+05   1.45e+04    -14.046      0.000   -2.33e+05   -1.76e+05\n",
       "zip_98029      -1.235e+04   2.14e+04     -0.576      0.565   -5.44e+04    2.97e+04\n",
       "zip_98030      -2.438e+05   2.51e+04     -9.706      0.000   -2.93e+05   -1.95e+05\n",
       "zip_98031      -2.349e+05   2.32e+04    -10.130      0.000    -2.8e+05   -1.89e+05\n",
       "zip_98032      -2.682e+05   2.64e+04    -10.146      0.000    -3.2e+05   -2.16e+05\n",
       "zip_98033       5.321e+04   1.35e+04      3.937      0.000    2.67e+04    7.97e+04\n",
       "zip_98034      -1.176e+05   1.29e+04     -9.144      0.000   -1.43e+05   -9.24e+04\n",
       "zip_98038      -1.734e+05   2.68e+04     -6.480      0.000   -2.26e+05   -1.21e+05\n",
       "zip_98039       9.151e+05   2.65e+04     34.538      0.000    8.63e+05    9.67e+05\n",
       "zip_98040       2.089e+05    1.6e+04     13.094      0.000    1.78e+05     2.4e+05\n",
       "zip_98042      -2.239e+05   2.53e+04     -8.851      0.000   -2.74e+05   -1.74e+05\n",
       "zip_98045      -6.717e+04   3.37e+04     -1.996      0.046   -1.33e+05   -1193.766\n",
       "zip_98052      -5.148e+04   1.51e+04     -3.405      0.001   -8.11e+04   -2.18e+04\n",
       "zip_98053      -5.629e+04   1.94e+04     -2.898      0.004   -9.44e+04   -1.82e+04\n",
       "zip_98055      -2.301e+05   2.03e+04    -11.323      0.000    -2.7e+05    -1.9e+05\n",
       "zip_98056      -1.884e+05   1.74e+04    -10.821      0.000   -2.23e+05   -1.54e+05\n",
       "zip_98058      -2.185e+05   2.08e+04    -10.503      0.000   -2.59e+05   -1.78e+05\n",
       "zip_98059      -1.806e+05   1.88e+04     -9.612      0.000   -2.17e+05   -1.44e+05\n",
       "zip_98065      -1.096e+05   2.77e+04     -3.959      0.000   -1.64e+05   -5.53e+04\n",
       "zip_98070      -3.109e+05   2.58e+04    -12.053      0.000   -3.61e+05    -2.6e+05\n",
       "zip_98072      -1.508e+05   1.76e+04     -8.576      0.000   -1.85e+05   -1.16e+05\n",
       "zip_98074      -7.967e+04   1.85e+04     -4.317      0.000   -1.16e+05   -4.35e+04\n",
       "zip_98075      -8.272e+04   2.03e+04     -4.079      0.000   -1.22e+05    -4.3e+04\n",
       "zip_98077      -1.778e+05   2.08e+04     -8.532      0.000   -2.19e+05   -1.37e+05\n",
       "zip_98092      -2.536e+05   2.88e+04     -8.820      0.000    -3.1e+05   -1.97e+05\n",
       "zip_98102        1.55e+05   1.79e+04      8.639      0.000     1.2e+05     1.9e+05\n",
       "zip_98105       1.506e+05   1.35e+04     11.121      0.000    1.24e+05    1.77e+05\n",
       "zip_98106       -1.96e+05   1.53e+04    -12.845      0.000   -2.26e+05   -1.66e+05\n",
       "zip_98107       3711.4997   1.29e+04      0.289      0.773   -2.15e+04    2.89e+04\n",
       "zip_98108      -1.912e+05    1.7e+04    -11.242      0.000   -2.25e+05   -1.58e+05\n",
       "zip_98109       1.776e+05    1.8e+04      9.843      0.000    1.42e+05    2.13e+05\n",
       "zip_98112        3.07e+05   1.33e+04     23.097      0.000    2.81e+05    3.33e+05\n",
       "zip_98115       2523.3919   1.03e+04      0.246      0.806   -1.76e+04    2.26e+04\n",
       "zip_98116      -3.853e+04    1.4e+04     -2.743      0.006   -6.61e+04    -1.1e+04\n",
       "zip_98117      -3.147e+04   1.03e+04     -3.059      0.002   -5.16e+04   -1.13e+04\n",
       "zip_98118      -1.427e+05   1.39e+04    -10.232      0.000    -1.7e+05   -1.15e+05\n",
       "zip_98119       1.505e+05    1.5e+04     10.064      0.000    1.21e+05     1.8e+05\n",
       "zip_98122       3.282e+04   1.34e+04      2.454      0.014    6609.118     5.9e+04\n",
       "zip_98125       -1.41e+05   1.18e+04    -11.986      0.000   -1.64e+05   -1.18e+05\n",
       "zip_98126      -1.386e+05   1.48e+04     -9.381      0.000   -1.68e+05    -1.1e+05\n",
       "zip_98133      -1.994e+05   1.13e+04    -17.637      0.000   -2.22e+05   -1.77e+05\n",
       "zip_98136      -8.597e+04   1.59e+04     -5.413      0.000   -1.17e+05   -5.48e+04\n",
       "zip_98144      -4.304e+04   1.33e+04     -3.246      0.001    -6.9e+04   -1.71e+04\n",
       "zip_98146      -2.211e+05   1.73e+04    -12.793      0.000   -2.55e+05   -1.87e+05\n",
       "zip_98148       -2.29e+05   2.89e+04     -7.915      0.000   -2.86e+05   -1.72e+05\n",
       "zip_98155      -2.061e+05   1.24e+04    -16.643      0.000    -2.3e+05   -1.82e+05\n",
       "zip_98166      -2.456e+05   1.99e+04    -12.366      0.000   -2.84e+05   -2.07e+05\n",
       "zip_98168      -2.475e+05   1.81e+04    -13.695      0.000   -2.83e+05   -2.12e+05\n",
       "zip_98177       -1.44e+05   1.36e+04    -10.552      0.000   -1.71e+05   -1.17e+05\n",
       "zip_98178      -2.609e+05   1.81e+04    -14.450      0.000   -2.96e+05   -2.26e+05\n",
       "zip_98188      -2.575e+05   2.27e+04    -11.344      0.000   -3.02e+05   -2.13e+05\n",
       "zip_98198      -2.875e+05    2.3e+04    -12.485      0.000   -3.33e+05   -2.42e+05\n",
       "zip_98199       3.592e+04   1.26e+04      2.856      0.004    1.13e+04    6.06e+04\n",
       "==============================================================================\n",
       "Omnibus:                    13775.777   Durbin-Watson:                   1.991\n",
       "Prob(Omnibus):                  0.000   Jarque-Bera (JB):          1663446.286\n",
       "Skew:                           3.135   Prob(JB):                         0.00\n",
       "Kurtosis:                      50.660   Cond. No.                     7.39e+20\n",
       "==============================================================================\n",
       "\n",
       "Notes:\n",
       "[1] Standard Errors assume that the covariance matrix of the errors is correctly specified.\n",
       "[2] The smallest eigenvalue is 8.06e-29. This might indicate that there are\n",
       "strong multicollinearity problems or that the design matrix is singular.\n",
       "\"\"\""
      ]
     },
     "execution_count": 76,
     "metadata": {},
     "output_type": "execute_result"
    }
   ],
   "source": [
    "X_train = sm.add_constant(X_train)\n",
    "baseline_results = sm.OLS(y_train, X_train).fit()\n",
    "baseline_results.summary()"
   ]
  },
  {
   "cell_type": "markdown",
   "id": "1b5d0823",
   "metadata": {},
   "source": [
    "Baseline model scores right about 83"
   ]
  },
  {
   "cell_type": "markdown",
   "id": "50d3b844",
   "metadata": {
    "heading_collapsed": true
   },
   "source": [
    "## Checking assumptions"
   ]
  },
  {
   "cell_type": "markdown",
   "id": "7960125e",
   "metadata": {
    "hidden": true
   },
   "source": [
    "Many of our assumptions require us have the residuals for the model. We will create a helper function to get the residuals to use in checking our assumptions for linear regression."
   ]
  },
  {
   "cell_type": "code",
   "execution_count": 80,
   "id": "4c9beb5c",
   "metadata": {
    "hidden": true
   },
   "outputs": [],
   "source": [
    "# helper function that takes three arguments: a linear regression model,\n",
    "# a dataframe of predictors, and a dataframe of the target variable.\n",
    "# It then returns a dataframe of the residuals based on calculated predictions\n",
    "\n",
    "def residuals(model, predictors, target):\n",
    "    \n",
    "    # calculate predicted values from model\n",
    "    y_hat = model.predict(predictors)\n",
    "    \n",
    "    # create dataframe with the target (real) and predicted values\n",
    "    df_residuals = pd.DataFrame({'real': target, 'predicted': y_hat})\n",
    "    \n",
    "    # create a new feature of that dataframe 'residuals', which is the\n",
    "    # difference of the real the the predicted\n",
    "    df_residuals['residuals'] = (abs(df_residuals.real) - abs(df_residuals.predicted))\n",
    "    \n",
    "    return df_residuals"
   ]
  },
  {
   "cell_type": "code",
   "execution_count": 81,
   "id": "21fb2fc9",
   "metadata": {
    "hidden": true
   },
   "outputs": [],
   "source": [
    "baseline_residuals = residuals(baseline_model, X_test, y_test)"
   ]
  },
  {
   "cell_type": "code",
   "execution_count": null,
   "id": "19277c3f",
   "metadata": {
    "hidden": true
   },
   "outputs": [],
   "source": [
    "# sm.graphics.plot_regress_exog(baseline_results, 'sqft_living', fig=plt.figure(figsize=(12, 8)));"
   ]
  },
  {
   "cell_type": "markdown",
   "id": "b00ed0ab",
   "metadata": {
    "hidden": true
   },
   "source": [
    "### Linearity"
   ]
  },
  {
   "cell_type": "markdown",
   "id": "0ccedbc9",
   "metadata": {
    "hidden": true
   },
   "source": [
    "To satisfy the linearity assumption, we plot the real against the predicted vales. Linearity is satisfied if the resulting graph shows the values around the diagonal line."
   ]
  },
  {
   "cell_type": "code",
   "execution_count": 82,
   "id": "0aa170f2",
   "metadata": {
    "hidden": true
   },
   "outputs": [
    {
     "data": {
      "image/png": "[encoded data removed]",
      "text/plain": [
       "<Figure size 432x288 with 1 Axes>"
      ]
     },
     "metadata": {
      "needs_background": "light"
     },
     "output_type": "display_data"
    }
   ],
   "source": [
    "# g = sns.lmplot(data=baseline_residuals, x='real', y='predicted', aspect=1,\n",
    "#           fit_reg=False)\n",
    "# g.axline(yx1=(0,0), slope=1)\n",
    "\n",
    "g = sns.scatterplot(data=baseline_residuals, x='real', y='predicted', alpha=0.2)\n",
    "g.axline(xy1=(0,0), slope=1, color='red')\n",
    "g.set_aspect(aspect='auto')"
   ]
  },
  {
   "cell_type": "markdown",
   "id": "9800f1cd",
   "metadata": {
    "hidden": true
   },
   "source": [
    "The relationship is not terrible, the model does not perform well as price increases, but that's expected, we have not changed our data and have few high priced homes to train on. This gives us more cause to consider removing outliers from some features, like sqft_living and/or price."
   ]
  },
  {
   "cell_type": "markdown",
   "id": "80c407bf",
   "metadata": {
    "hidden": true
   },
   "source": [
    "### Independence"
   ]
  },
  {
   "cell_type": "code",
   "execution_count": 83,
   "id": "279eb62c",
   "metadata": {
    "hidden": true
   },
   "outputs": [
    {
     "data": {
      "image/png": "[encoded data removed]",
      "text/plain": [
       "<Figure size 432x288 with 1 Axes>"
      ]
     },
     "metadata": {
      "needs_background": "light"
     },
     "output_type": "display_data"
    }
   ],
   "source": [
    "sns.scatterplot(data=baseline_residuals, x='residuals', y='predicted',\n",
    "               alpha=0.2);"
   ]
  },
  {
   "cell_type": "markdown",
   "id": "e7b240df",
   "metadata": {
    "hidden": true
   },
   "source": [
    "### Normality"
   ]
  },
  {
   "cell_type": "markdown",
   "id": "ecd2bd2f",
   "metadata": {
    "hidden": true
   },
   "source": [
    "Check the distribution of the residuals, using a histogram and/or QQ plot. Can also be checked with Kolmogorov-Smirnov test."
   ]
  },
  {
   "cell_type": "code",
   "execution_count": 84,
   "id": "2abd3e5a",
   "metadata": {
    "hidden": true,
    "scrolled": true
   },
   "outputs": [
    {
     "data": {
      "image/png": "[encoded data removed]",
      "text/plain": [
       "<Figure size 432x288 with 1 Axes>"
      ]
     },
     "metadata": {
      "needs_background": "light"
     },
     "output_type": "display_data"
    }
   ],
   "source": [
    "sns.histplot(data=baseline_residuals, x='residuals');"
   ]
  },
  {
   "cell_type": "markdown",
   "id": "6f70d10b",
   "metadata": {
    "hidden": true
   },
   "source": [
    "### Homoskedacity"
   ]
  },
  {
   "cell_type": "code",
   "execution_count": 85,
   "id": "e616539e",
   "metadata": {
    "hidden": true
   },
   "outputs": [
    {
     "data": {
      "image/png": "[encoded data removed]",
      "text/plain": [
       "<Figure size 432x288 with 1 Axes>"
      ]
     },
     "metadata": {
      "needs_background": "light"
     },
     "output_type": "display_data"
    }
   ],
   "source": [
    "sns.scatterplot(x=baseline_residuals.index, y=baseline_residuals.residuals,\n",
    "               size=1, alpha=0.2)\n",
    "plt.plot(np.repeat(0, baseline_residuals.index.max()), color='darkorange',\n",
    "         linestyle='--');"
   ]
  },
  {
   "cell_type": "markdown",
   "id": "0ad69cfd",
   "metadata": {
    "heading_collapsed": true
   },
   "source": [
    "## Exploring coefficient p-values"
   ]
  },
  {
   "cell_type": "code",
   "execution_count": 77,
   "id": "6d8429de",
   "metadata": {
    "hidden": true
   },
   "outputs": [],
   "source": [
    "baseline_df = pd.DataFrame(baseline_results.pvalues.sort_values(ascending=True))"
   ]
  },
  {
   "cell_type": "markdown",
   "id": "1dc35650",
   "metadata": {
    "hidden": true
   },
   "source": [
    "Now we can pull out all features whose coefficients' p-value was greater than the threshold (0.05)"
   ]
  },
  {
   "cell_type": "code",
   "execution_count": 78,
   "id": "acba4fd6",
   "metadata": {
    "hidden": true
   },
   "outputs": [
    {
     "data": {
      "text/html": [
       "<div>\n",
       "<style scoped>\n",
       "    .dataframe tbody tr th:only-of-type {\n",
       "        vertical-align: middle;\n",
       "    }\n",
       "\n",
       "    .dataframe tbody tr th {\n",
       "        vertical-align: top;\n",
       "    }\n",
       "\n",
       "    .dataframe thead th {\n",
       "        text-align: right;\n",
       "    }\n",
       "</style>\n",
       "<table border=\"1\" class=\"dataframe\">\n",
       "  <thead>\n",
       "    <tr style=\"text-align: right;\">\n",
       "      <th></th>\n",
       "      <th>feature</th>\n",
       "      <th>p_value</th>\n",
       "    </tr>\n",
       "  </thead>\n",
       "  <tbody>\n",
       "    <tr>\n",
       "      <th>0</th>\n",
       "      <td>zip_98007</td>\n",
       "      <td>0.065939</td>\n",
       "    </tr>\n",
       "    <tr>\n",
       "      <th>1</th>\n",
       "      <td>grade_6</td>\n",
       "      <td>0.108573</td>\n",
       "    </tr>\n",
       "    <tr>\n",
       "      <th>2</th>\n",
       "      <td>grade_4</td>\n",
       "      <td>0.174993</td>\n",
       "    </tr>\n",
       "    <tr>\n",
       "      <th>3</th>\n",
       "      <td>zip_98005</td>\n",
       "      <td>0.299934</td>\n",
       "    </tr>\n",
       "    <tr>\n",
       "      <th>4</th>\n",
       "      <td>sqft_basement</td>\n",
       "      <td>0.326072</td>\n",
       "    </tr>\n",
       "    <tr>\n",
       "      <th>5</th>\n",
       "      <td>bedrooms_1_2</td>\n",
       "      <td>0.378513</td>\n",
       "    </tr>\n",
       "    <tr>\n",
       "      <th>6</th>\n",
       "      <td>zip_98008</td>\n",
       "      <td>0.408849</td>\n",
       "    </tr>\n",
       "    <tr>\n",
       "      <th>7</th>\n",
       "      <td>condition_2</td>\n",
       "      <td>0.456524</td>\n",
       "    </tr>\n",
       "    <tr>\n",
       "      <th>8</th>\n",
       "      <td>zip_98029</td>\n",
       "      <td>0.564920</td>\n",
       "    </tr>\n",
       "    <tr>\n",
       "      <th>9</th>\n",
       "      <td>grade_5</td>\n",
       "      <td>0.572997</td>\n",
       "    </tr>\n",
       "    <tr>\n",
       "      <th>10</th>\n",
       "      <td>zip_98107</td>\n",
       "      <td>0.772912</td>\n",
       "    </tr>\n",
       "    <tr>\n",
       "      <th>11</th>\n",
       "      <td>zip_98115</td>\n",
       "      <td>0.805700</td>\n",
       "    </tr>\n",
       "    <tr>\n",
       "      <th>12</th>\n",
       "      <td>yr_built</td>\n",
       "      <td>0.810085</td>\n",
       "    </tr>\n",
       "  </tbody>\n",
       "</table>\n",
       "</div>"
      ],
      "text/plain": [
       "          feature   p_value\n",
       "0       zip_98007  0.065939\n",
       "1         grade_6  0.108573\n",
       "2         grade_4  0.174993\n",
       "3       zip_98005  0.299934\n",
       "4   sqft_basement  0.326072\n",
       "5    bedrooms_1_2  0.378513\n",
       "6       zip_98008  0.408849\n",
       "7     condition_2  0.456524\n",
       "8       zip_98029  0.564920\n",
       "9         grade_5  0.572997\n",
       "10      zip_98107  0.772912\n",
       "11      zip_98115  0.805700\n",
       "12       yr_built  0.810085"
      ]
     },
     "execution_count": 78,
     "metadata": {},
     "output_type": "execute_result"
    }
   ],
   "source": [
    "high_pvalues = baseline_df[baseline_df[0] > 0.05]\n",
    "high_pvalues.reset_index(inplace=True)\n",
    "high_pvalues.columns = ['feature', 'p_value']\n",
    "high_pvalues"
   ]
  },
  {
   "cell_type": "markdown",
   "id": "b85474ad",
   "metadata": {
    "hidden": true
   },
   "source": [
    "We will likely be dropping other features due to multicollinearity, so here we will start a list of features to drop for our first model that we can add to in later sections"
   ]
  },
  {
   "cell_type": "code",
   "execution_count": 79,
   "id": "109dfc96",
   "metadata": {
    "hidden": true
   },
   "outputs": [],
   "source": [
    "features_to_drop = list(high_pvalues.feature)"
   ]
  },
  {
   "cell_type": "markdown",
   "id": "17f91d3f",
   "metadata": {
    "heading_collapsed": true
   },
   "source": [
    "## Identify multicollinearity"
   ]
  },
  {
   "cell_type": "code",
   "execution_count": 86,
   "id": "66e7648c",
   "metadata": {
    "hidden": true,
    "scrolled": true
   },
   "outputs": [
    {
     "data": {
      "text/html": [
       "<div>\n",
       "<style scoped>\n",
       "    .dataframe tbody tr th:only-of-type {\n",
       "        vertical-align: middle;\n",
       "    }\n",
       "\n",
       "    .dataframe tbody tr th {\n",
       "        vertical-align: top;\n",
       "    }\n",
       "\n",
       "    .dataframe thead th {\n",
       "        text-align: right;\n",
       "    }\n",
       "</style>\n",
       "<table border=\"1\" class=\"dataframe\">\n",
       "  <thead>\n",
       "    <tr style=\"text-align: right;\">\n",
       "      <th></th>\n",
       "      <th>mc</th>\n",
       "    </tr>\n",
       "    <tr>\n",
       "      <th>pairs</th>\n",
       "      <th></th>\n",
       "    </tr>\n",
       "  </thead>\n",
       "  <tbody>\n",
       "    <tr>\n",
       "      <th>(sqft_living, sqft_above)</th>\n",
       "      <td>0.876448</td>\n",
       "    </tr>\n",
       "    <tr>\n",
       "      <th>(sqft_above, sqft_living)</th>\n",
       "      <td>0.876448</td>\n",
       "    </tr>\n",
       "    <tr>\n",
       "      <th>(sale_year, sale_month)</th>\n",
       "      <td>0.782325</td>\n",
       "    </tr>\n",
       "    <tr>\n",
       "      <th>(sale_month, sale_year)</th>\n",
       "      <td>0.782325</td>\n",
       "    </tr>\n",
       "    <tr>\n",
       "      <th>(sqft_living, sqft_living15)</th>\n",
       "      <td>0.756402</td>\n",
       "    </tr>\n",
       "    <tr>\n",
       "      <th>(sqft_living15, sqft_living)</th>\n",
       "      <td>0.756402</td>\n",
       "    </tr>\n",
       "  </tbody>\n",
       "</table>\n",
       "</div>"
      ],
      "text/plain": [
       "                                    mc\n",
       "pairs                                 \n",
       "(sqft_living, sqft_above)     0.876448\n",
       "(sqft_above, sqft_living)     0.876448\n",
       "(sale_year, sale_month)       0.782325\n",
       "(sale_month, sale_year)       0.782325\n",
       "(sqft_living, sqft_living15)  0.756402\n",
       "(sqft_living15, sqft_living)  0.756402"
      ]
     },
     "execution_count": 86,
     "metadata": {},
     "output_type": "execute_result"
    }
   ],
   "source": [
    "# We already defined X as df_final without date (because of datetime issues),\n",
    "# and without price (the target)\n",
    "test_df = X.corr().abs().stack().reset_index().sort_values(0,ascending=False)\n",
    "test_df['pairs'] = list(zip(test_df.level_0, test_df.level_1))\n",
    "test_df.set_index(['pairs'], inplace=True)\n",
    "test_df.drop(['level_0', 'level_1'], axis=1, inplace=True)\n",
    "test_df.columns = ['mc']\n",
    "test_df[(test_df.mc > 0.75) & (test_df.mc < 1)]"
   ]
  },
  {
   "cell_type": "markdown",
   "id": "5ea4b864",
   "metadata": {
    "hidden": true
   },
   "source": [
    "We have multicollinearity between sqft_living and two other features:\n",
    "- sqft_above\n",
    "- sqft_living15\n",
    "\n",
    "> We have already discussed how to engineer a feature related to basements, so I think we can just drop sqft_above safely. As for sqft_living15, we will need to look into this. Maybe we can engineer some kind of feature that shows how similar in size the home is compared to nearby homes in neighborhood?\n",
    "\n",
    "\n",
    "Sales month and year also have multicollinearity.\n",
    "\n",
    "> Seeing as the year will either be 2014 or 2015, we will drop sales year and keep sales month"
   ]
  },
  {
   "cell_type": "code",
   "execution_count": 87,
   "id": "7d17851a",
   "metadata": {
    "hidden": true
   },
   "outputs": [],
   "source": [
    "features_to_drop.extend(['sqft_above', 'sale_year'])"
   ]
  },
  {
   "cell_type": "markdown",
   "id": "7372a72f",
   "metadata": {},
   "source": [
    "# Streamline workflow"
   ]
  },
  {
   "cell_type": "markdown",
   "id": "79cf4c15",
   "metadata": {},
   "source": [
    "The iterative modeling process requires we perform repetitive tasks, so in this section we will create a function that:\n",
    "- takes in X and y (predictors, target)\n",
    "- performs train/test split\n",
    "- creates and fits model to training data\n",
    "- use cross validation on training data, output model results\n",
    "- check assumptions\n",
    "- explore coefficient p-values\n",
    "- identify multicollinearity\n",
    "- report"
   ]
  },
  {
   "cell_type": "code",
   "execution_count": null,
   "id": "430642ae",
   "metadata": {},
   "outputs": [],
   "source": []
  },
  {
   "cell_type": "code",
   "execution_count": null,
   "id": "248f682b",
   "metadata": {},
   "outputs": [],
   "source": []
  },
  {
   "cell_type": "code",
   "execution_count": null,
   "id": "965dd100",
   "metadata": {},
   "outputs": [],
   "source": []
  },
  {
   "cell_type": "code",
   "execution_count": null,
   "id": "c382c7f5",
   "metadata": {},
   "outputs": [],
   "source": []
  },
  {
   "cell_type": "markdown",
   "id": "b32730af",
   "metadata": {},
   "source": [
    "# Model v1"
   ]
  },
  {
   "cell_type": "markdown",
   "id": "6ac2b317",
   "metadata": {},
   "source": [
    "We have been keeping track of features to drop so far:\n",
    "- based on the p-value of the coefficient from the OLS baseline model and\n",
    "- the test for multicollinearity that was performed\n",
    "\n",
    "We need to add to that list the date and price to ensure that all necessary columns are dropped for our next model."
   ]
  },
  {
   "cell_type": "code",
   "execution_count": 88,
   "id": "f9c57e90",
   "metadata": {},
   "outputs": [],
   "source": [
    "features_to_drop.extend(['date','price'])"
   ]
  },
  {
   "cell_type": "code",
   "execution_count": 89,
   "id": "2fb87450",
   "metadata": {},
   "outputs": [],
   "source": [
    "X = df.drop(features_to_drop, axis=1)\n",
    "y = df.price"
   ]
  },
  {
   "cell_type": "code",
   "execution_count": 90,
   "id": "d47d91b9",
   "metadata": {},
   "outputs": [
    {
     "name": "stdout",
     "output_type": "stream",
     "text": [
      "Single model fit score: 0.8361318297018572\n",
      "------------------------------------\n",
      "Cross Validation Scores on X_train\n",
      "Train score: 0.8270612397040772\n",
      "Test score: 0.835231455510977\n"
     ]
    }
   ],
   "source": [
    "X_train, X_test, y_train, y_test = train_test_split(X, y, test_size=0.2,\n",
    "                                                   random_state=0)\n",
    "\n",
    "model_v1 = LinearRegression()\n",
    "model_v1.fit(X_train,y_train)\n",
    "\n",
    "splitter = ShuffleSplit(n_splits=5, test_size=0.2, random_state=0)\n",
    "\n",
    "baseline_scores = cross_validate(estimator=model_v1, X=X_train,\n",
    "                                 y=y_train, return_train_score=True, \n",
    "                                 cv=splitter)\n",
    "\n",
    "print('------------------------------------')\n",
    "print('Cross Validation Scores on X_train')\n",
    "print('Train score:', baseline_scores['train_score'].mean())\n",
    "print('Test score:', baseline_scores['test_score'].mean())"
   ]
  },
  {
   "cell_type": "code",
   "execution_count": 92,
   "id": "186f2c17",
   "metadata": {
    "scrolled": true
   },
   "outputs": [
    {
     "data": {
      "text/html": [
       "<table class=\"simpletable\">\n",
       "<caption>OLS Regression Results</caption>\n",
       "<tr>\n",
       "  <th>Dep. Variable:</th>          <td>price</td>      <th>  R-squared:         </th>  <td>   0.829</td>  \n",
       "</tr>\n",
       "<tr>\n",
       "  <th>Model:</th>                   <td>OLS</td>       <th>  Adj. R-squared:    </th>  <td>   0.828</td>  \n",
       "</tr>\n",
       "<tr>\n",
       "  <th>Method:</th>             <td>Least Squares</td>  <th>  F-statistic:       </th>  <td>   968.8</td>  \n",
       "</tr>\n",
       "<tr>\n",
       "  <th>Date:</th>             <td>Wed, 01 Dec 2021</td> <th>  Prob (F-statistic):</th>   <td>  0.00</td>   \n",
       "</tr>\n",
       "<tr>\n",
       "  <th>Time:</th>                 <td>09:06:28</td>     <th>  Log-Likelihood:    </th> <td>-2.3092e+05</td>\n",
       "</tr>\n",
       "<tr>\n",
       "  <th>No. Observations:</th>      <td> 17277</td>      <th>  AIC:               </th>  <td>4.620e+05</td> \n",
       "</tr>\n",
       "<tr>\n",
       "  <th>Df Residuals:</th>          <td> 17190</td>      <th>  BIC:               </th>  <td>4.627e+05</td> \n",
       "</tr>\n",
       "<tr>\n",
       "  <th>Df Model:</th>              <td>    86</td>      <th>                     </th>      <td> </td>     \n",
       "</tr>\n",
       "<tr>\n",
       "  <th>Covariance Type:</th>      <td>nonrobust</td>    <th>                     </th>      <td> </td>     \n",
       "</tr>\n",
       "</table>\n",
       "<table class=\"simpletable\">\n",
       "<tr>\n",
       "         <td></td>           <th>coef</th>     <th>std err</th>      <th>t</th>      <th>P>|t|</th>  <th>[0.025</th>    <th>0.975]</th>  \n",
       "</tr>\n",
       "<tr>\n",
       "  <th>const</th>          <td>-4.216e+07</td> <td> 3.16e+06</td> <td>  -13.329</td> <td> 0.000</td> <td>-4.84e+07</td> <td> -3.6e+07</td>\n",
       "</tr>\n",
       "<tr>\n",
       "  <th>sqft_living</th>    <td>  159.0095</td> <td>    2.554</td> <td>   62.260</td> <td> 0.000</td> <td>  154.003</td> <td>  164.016</td>\n",
       "</tr>\n",
       "<tr>\n",
       "  <th>sqft_lot</th>       <td>    0.2211</td> <td>    0.042</td> <td>    5.251</td> <td> 0.000</td> <td>    0.139</td> <td>    0.304</td>\n",
       "</tr>\n",
       "<tr>\n",
       "  <th>waterfront</th>     <td> 7.188e+05</td> <td>  1.5e+04</td> <td>   47.938</td> <td> 0.000</td> <td> 6.89e+05</td> <td> 7.48e+05</td>\n",
       "</tr>\n",
       "<tr>\n",
       "  <th>view</th>           <td> 1.091e+05</td> <td> 4542.025</td> <td>   24.024</td> <td> 0.000</td> <td>    1e+05</td> <td> 1.18e+05</td>\n",
       "</tr>\n",
       "<tr>\n",
       "  <th>yr_renovated</th>   <td>   36.2447</td> <td>    3.283</td> <td>   11.039</td> <td> 0.000</td> <td>   29.809</td> <td>   42.681</td>\n",
       "</tr>\n",
       "<tr>\n",
       "  <th>lat</th>            <td> 2.121e+05</td> <td> 6.25e+04</td> <td>    3.395</td> <td> 0.001</td> <td> 8.97e+04</td> <td> 3.35e+05</td>\n",
       "</tr>\n",
       "<tr>\n",
       "  <th>long</th>           <td>-2.641e+05</td> <td> 2.97e+04</td> <td>   -8.907</td> <td> 0.000</td> <td>-3.22e+05</td> <td>-2.06e+05</td>\n",
       "</tr>\n",
       "<tr>\n",
       "  <th>sqft_living15</th>  <td>   22.5828</td> <td>    3.073</td> <td>    7.349</td> <td> 0.000</td> <td>   16.559</td> <td>   28.606</td>\n",
       "</tr>\n",
       "<tr>\n",
       "  <th>sqft_lot15</th>     <td>   -0.1203</td> <td>    0.064</td> <td>   -1.877</td> <td> 0.060</td> <td>   -0.246</td> <td>    0.005</td>\n",
       "</tr>\n",
       "<tr>\n",
       "  <th>sale_month</th>     <td>-3059.8771</td> <td>  380.045</td> <td>   -8.051</td> <td> 0.000</td> <td>-3804.805</td> <td>-2314.950</td>\n",
       "</tr>\n",
       "<tr>\n",
       "  <th>bedrooms_5plus</th> <td>-2.298e+04</td> <td> 4502.828</td> <td>   -5.104</td> <td> 0.000</td> <td>-3.18e+04</td> <td>-1.42e+04</td>\n",
       "</tr>\n",
       "<tr>\n",
       "  <th>bathrooms_1</th>    <td> 1.865e+04</td> <td> 3811.875</td> <td>    4.892</td> <td> 0.000</td> <td> 1.12e+04</td> <td> 2.61e+04</td>\n",
       "</tr>\n",
       "<tr>\n",
       "  <th>bathrooms_3</th>    <td>-1.627e+04</td> <td> 2972.403</td> <td>   -5.474</td> <td> 0.000</td> <td>-2.21e+04</td> <td>-1.04e+04</td>\n",
       "</tr>\n",
       "<tr>\n",
       "  <th>floors_1</th>       <td> -244.3073</td> <td> 3240.589</td> <td>   -0.075</td> <td> 0.940</td> <td>-6596.193</td> <td> 6107.578</td>\n",
       "</tr>\n",
       "<tr>\n",
       "  <th>condition_1</th>    <td>-9.138e+04</td> <td> 3.24e+04</td> <td>   -2.817</td> <td> 0.005</td> <td>-1.55e+05</td> <td>-2.78e+04</td>\n",
       "</tr>\n",
       "<tr>\n",
       "  <th>condition_4</th>    <td> 2.511e+04</td> <td> 2960.762</td> <td>    8.482</td> <td> 0.000</td> <td> 1.93e+04</td> <td> 3.09e+04</td>\n",
       "</tr>\n",
       "<tr>\n",
       "  <th>condition_5</th>    <td> 7.462e+04</td> <td> 4636.346</td> <td>   16.095</td> <td> 0.000</td> <td> 6.55e+04</td> <td> 8.37e+04</td>\n",
       "</tr>\n",
       "<tr>\n",
       "  <th>grade_3</th>        <td>-1.781e-07</td> <td> 6.02e-09</td> <td>  -29.571</td> <td> 0.000</td> <td> -1.9e-07</td> <td>-1.66e-07</td>\n",
       "</tr>\n",
       "<tr>\n",
       "  <th>grade_8</th>        <td> 2.699e+04</td> <td> 3380.666</td> <td>    7.984</td> <td> 0.000</td> <td> 2.04e+04</td> <td> 3.36e+04</td>\n",
       "</tr>\n",
       "<tr>\n",
       "  <th>grade_9</th>        <td> 1.055e+05</td> <td> 5125.221</td> <td>   20.592</td> <td> 0.000</td> <td> 9.55e+04</td> <td> 1.16e+05</td>\n",
       "</tr>\n",
       "<tr>\n",
       "  <th>grade_10</th>       <td> 2.279e+05</td> <td> 7395.747</td> <td>   30.810</td> <td> 0.000</td> <td> 2.13e+05</td> <td> 2.42e+05</td>\n",
       "</tr>\n",
       "<tr>\n",
       "  <th>grade_11</th>       <td>  4.39e+05</td> <td> 1.12e+04</td> <td>   39.369</td> <td> 0.000</td> <td> 4.17e+05</td> <td> 4.61e+05</td>\n",
       "</tr>\n",
       "<tr>\n",
       "  <th>grade_12</th>       <td> 8.565e+05</td> <td> 2.07e+04</td> <td>   41.441</td> <td> 0.000</td> <td> 8.16e+05</td> <td> 8.97e+05</td>\n",
       "</tr>\n",
       "<tr>\n",
       "  <th>grade_13</th>       <td> 1.986e+06</td> <td> 4.51e+04</td> <td>   44.025</td> <td> 0.000</td> <td>  1.9e+06</td> <td> 2.07e+06</td>\n",
       "</tr>\n",
       "<tr>\n",
       "  <th>zip_98001</th>      <td>-2.474e+05</td> <td> 2.37e+04</td> <td>  -10.461</td> <td> 0.000</td> <td>-2.94e+05</td> <td>-2.01e+05</td>\n",
       "</tr>\n",
       "<tr>\n",
       "  <th>zip_98002</th>      <td>-2.203e+05</td> <td> 2.43e+04</td> <td>   -9.054</td> <td> 0.000</td> <td>-2.68e+05</td> <td>-1.73e+05</td>\n",
       "</tr>\n",
       "<tr>\n",
       "  <th>zip_98003</th>      <td>-2.589e+05</td> <td> 2.47e+04</td> <td>  -10.484</td> <td> 0.000</td> <td>-3.07e+05</td> <td>-2.11e+05</td>\n",
       "</tr>\n",
       "<tr>\n",
       "  <th>zip_98004</th>      <td> 4.865e+05</td> <td> 1.08e+04</td> <td>   44.919</td> <td> 0.000</td> <td> 4.65e+05</td> <td> 5.08e+05</td>\n",
       "</tr>\n",
       "<tr>\n",
       "  <th>zip_98006</th>      <td>-2.814e+04</td> <td> 9813.503</td> <td>   -2.867</td> <td> 0.004</td> <td>-4.74e+04</td> <td>-8901.672</td>\n",
       "</tr>\n",
       "<tr>\n",
       "  <th>zip_98010</th>      <td>-1.256e+05</td> <td>  2.4e+04</td> <td>   -5.233</td> <td> 0.000</td> <td>-1.73e+05</td> <td>-7.86e+04</td>\n",
       "</tr>\n",
       "<tr>\n",
       "  <th>zip_98011</th>      <td>-1.847e+05</td> <td> 1.51e+04</td> <td>  -12.254</td> <td> 0.000</td> <td>-2.14e+05</td> <td>-1.55e+05</td>\n",
       "</tr>\n",
       "<tr>\n",
       "  <th>zip_98014</th>      <td>-1.186e+05</td> <td> 2.09e+04</td> <td>   -5.682</td> <td> 0.000</td> <td> -1.6e+05</td> <td>-7.77e+04</td>\n",
       "</tr>\n",
       "<tr>\n",
       "  <th>zip_98019</th>      <td>-1.547e+05</td> <td> 1.81e+04</td> <td>   -8.547</td> <td> 0.000</td> <td> -1.9e+05</td> <td>-1.19e+05</td>\n",
       "</tr>\n",
       "<tr>\n",
       "  <th>zip_98022</th>      <td>-1.612e+05</td> <td> 2.69e+04</td> <td>   -6.000</td> <td> 0.000</td> <td>-2.14e+05</td> <td>-1.09e+05</td>\n",
       "</tr>\n",
       "<tr>\n",
       "  <th>zip_98023</th>      <td>-3.023e+05</td> <td> 2.48e+04</td> <td>  -12.174</td> <td> 0.000</td> <td>-3.51e+05</td> <td>-2.54e+05</td>\n",
       "</tr>\n",
       "<tr>\n",
       "  <th>zip_98024</th>      <td>-3.726e+04</td> <td> 2.13e+04</td> <td>   -1.749</td> <td> 0.080</td> <td> -7.9e+04</td> <td> 4491.273</td>\n",
       "</tr>\n",
       "<tr>\n",
       "  <th>zip_98027</th>      <td>-6.652e+04</td> <td> 1.13e+04</td> <td>   -5.902</td> <td> 0.000</td> <td>-8.86e+04</td> <td>-4.44e+04</td>\n",
       "</tr>\n",
       "<tr>\n",
       "  <th>zip_98028</th>      <td>-2.014e+05</td> <td> 1.27e+04</td> <td>  -15.835</td> <td> 0.000</td> <td>-2.26e+05</td> <td>-1.76e+05</td>\n",
       "</tr>\n",
       "<tr>\n",
       "  <th>zip_98030</th>      <td>-2.295e+05</td> <td>    2e+04</td> <td>  -11.467</td> <td> 0.000</td> <td>-2.69e+05</td> <td> -1.9e+05</td>\n",
       "</tr>\n",
       "<tr>\n",
       "  <th>zip_98031</th>      <td>-2.231e+05</td> <td> 1.81e+04</td> <td>  -12.321</td> <td> 0.000</td> <td>-2.59e+05</td> <td>-1.88e+05</td>\n",
       "</tr>\n",
       "<tr>\n",
       "  <th>zip_98032</th>      <td>-2.591e+05</td> <td> 2.36e+04</td> <td>  -10.978</td> <td> 0.000</td> <td>-3.05e+05</td> <td>-2.13e+05</td>\n",
       "</tr>\n",
       "<tr>\n",
       "  <th>zip_98033</th>      <td> 6.087e+04</td> <td> 9717.475</td> <td>    6.264</td> <td> 0.000</td> <td> 4.18e+04</td> <td> 7.99e+04</td>\n",
       "</tr>\n",
       "<tr>\n",
       "  <th>zip_98034</th>      <td> -1.11e+05</td> <td> 9842.335</td> <td>  -11.282</td> <td> 0.000</td> <td> -1.3e+05</td> <td>-9.18e+04</td>\n",
       "</tr>\n",
       "<tr>\n",
       "  <th>zip_98038</th>      <td>-1.557e+05</td> <td> 1.67e+04</td> <td>   -9.336</td> <td> 0.000</td> <td>-1.88e+05</td> <td>-1.23e+05</td>\n",
       "</tr>\n",
       "<tr>\n",
       "  <th>zip_98039</th>      <td> 9.257e+05</td> <td> 2.51e+04</td> <td>   36.920</td> <td> 0.000</td> <td> 8.77e+05</td> <td> 9.75e+05</td>\n",
       "</tr>\n",
       "<tr>\n",
       "  <th>zip_98040</th>      <td> 2.121e+05</td> <td> 1.23e+04</td> <td>   17.279</td> <td> 0.000</td> <td> 1.88e+05</td> <td> 2.36e+05</td>\n",
       "</tr>\n",
       "<tr>\n",
       "  <th>zip_98042</th>      <td>-2.078e+05</td> <td> 1.78e+04</td> <td>  -11.691</td> <td> 0.000</td> <td>-2.43e+05</td> <td>-1.73e+05</td>\n",
       "</tr>\n",
       "<tr>\n",
       "  <th>zip_98045</th>      <td>-4.723e+04</td> <td> 1.73e+04</td> <td>   -2.731</td> <td> 0.006</td> <td>-8.11e+04</td> <td>-1.33e+04</td>\n",
       "</tr>\n",
       "<tr>\n",
       "  <th>zip_98052</th>      <td>-4.342e+04</td> <td> 9565.640</td> <td>   -4.540</td> <td> 0.000</td> <td>-6.22e+04</td> <td>-2.47e+04</td>\n",
       "</tr>\n",
       "<tr>\n",
       "  <th>zip_98053</th>      <td>-3.967e+04</td> <td> 1.22e+04</td> <td>   -3.256</td> <td> 0.001</td> <td>-6.36e+04</td> <td>-1.58e+04</td>\n",
       "</tr>\n",
       "<tr>\n",
       "  <th>zip_98055</th>      <td>-2.195e+05</td> <td> 1.58e+04</td> <td>  -13.873</td> <td> 0.000</td> <td>-2.51e+05</td> <td>-1.89e+05</td>\n",
       "</tr>\n",
       "<tr>\n",
       "  <th>zip_98056</th>      <td>-1.782e+05</td> <td> 1.21e+04</td> <td>  -14.723</td> <td> 0.000</td> <td>-2.02e+05</td> <td>-1.54e+05</td>\n",
       "</tr>\n",
       "<tr>\n",
       "  <th>zip_98058</th>      <td>-2.065e+05</td> <td> 1.43e+04</td> <td>  -14.469</td> <td> 0.000</td> <td>-2.34e+05</td> <td>-1.79e+05</td>\n",
       "</tr>\n",
       "<tr>\n",
       "  <th>zip_98059</th>      <td> -1.66e+05</td> <td>  1.2e+04</td> <td>  -13.891</td> <td> 0.000</td> <td>-1.89e+05</td> <td>-1.43e+05</td>\n",
       "</tr>\n",
       "<tr>\n",
       "  <th>zip_98065</th>      <td>-9.061e+04</td> <td> 1.41e+04</td> <td>   -6.410</td> <td> 0.000</td> <td>-1.18e+05</td> <td>-6.29e+04</td>\n",
       "</tr>\n",
       "<tr>\n",
       "  <th>zip_98070</th>      <td>-3.083e+05</td> <td>  2.5e+04</td> <td>  -12.322</td> <td> 0.000</td> <td>-3.57e+05</td> <td>-2.59e+05</td>\n",
       "</tr>\n",
       "<tr>\n",
       "  <th>zip_98072</th>      <td>-1.422e+05</td> <td> 1.43e+04</td> <td>   -9.926</td> <td> 0.000</td> <td> -1.7e+05</td> <td>-1.14e+05</td>\n",
       "</tr>\n",
       "<tr>\n",
       "  <th>zip_98074</th>      <td>-6.789e+04</td> <td> 1.03e+04</td> <td>   -6.572</td> <td> 0.000</td> <td>-8.81e+04</td> <td>-4.76e+04</td>\n",
       "</tr>\n",
       "<tr>\n",
       "  <th>zip_98075</th>      <td>-6.714e+04</td> <td> 1.14e+04</td> <td>   -5.907</td> <td> 0.000</td> <td>-8.94e+04</td> <td>-4.49e+04</td>\n",
       "</tr>\n",
       "<tr>\n",
       "  <th>zip_98077</th>      <td>-1.642e+05</td> <td> 1.66e+04</td> <td>   -9.888</td> <td> 0.000</td> <td>-1.97e+05</td> <td>-1.32e+05</td>\n",
       "</tr>\n",
       "<tr>\n",
       "  <th>zip_98092</th>      <td>-2.383e+05</td> <td> 2.29e+04</td> <td>  -10.426</td> <td> 0.000</td> <td>-2.83e+05</td> <td>-1.93e+05</td>\n",
       "</tr>\n",
       "<tr>\n",
       "  <th>zip_98102</th>      <td> 1.495e+05</td> <td> 1.69e+04</td> <td>    8.838</td> <td> 0.000</td> <td> 1.16e+05</td> <td> 1.83e+05</td>\n",
       "</tr>\n",
       "<tr>\n",
       "  <th>zip_98105</th>      <td> 1.514e+05</td> <td> 1.19e+04</td> <td>   12.712</td> <td> 0.000</td> <td> 1.28e+05</td> <td> 1.75e+05</td>\n",
       "</tr>\n",
       "<tr>\n",
       "  <th>zip_98106</th>      <td> -1.98e+05</td> <td> 1.38e+04</td> <td>  -14.378</td> <td> 0.000</td> <td>-2.25e+05</td> <td>-1.71e+05</td>\n",
       "</tr>\n",
       "<tr>\n",
       "  <th>zip_98108</th>      <td>-1.938e+05</td> <td> 1.53e+04</td> <td>  -12.683</td> <td> 0.000</td> <td>-2.24e+05</td> <td>-1.64e+05</td>\n",
       "</tr>\n",
       "<tr>\n",
       "  <th>zip_98109</th>      <td> 1.737e+05</td> <td> 1.72e+04</td> <td>   10.096</td> <td> 0.000</td> <td>  1.4e+05</td> <td> 2.07e+05</td>\n",
       "</tr>\n",
       "<tr>\n",
       "  <th>zip_98112</th>      <td>  3.04e+05</td> <td> 1.14e+04</td> <td>   26.593</td> <td> 0.000</td> <td> 2.82e+05</td> <td> 3.26e+05</td>\n",
       "</tr>\n",
       "<tr>\n",
       "  <th>zip_98116</th>      <td>-4.084e+04</td> <td>  1.3e+04</td> <td>   -3.138</td> <td> 0.002</td> <td>-6.64e+04</td> <td>-1.53e+04</td>\n",
       "</tr>\n",
       "<tr>\n",
       "  <th>zip_98117</th>      <td>-3.481e+04</td> <td> 8807.058</td> <td>   -3.952</td> <td> 0.000</td> <td>-5.21e+04</td> <td>-1.75e+04</td>\n",
       "</tr>\n",
       "<tr>\n",
       "  <th>zip_98118</th>      <td>-1.414e+05</td> <td>  1.1e+04</td> <td>  -12.881</td> <td> 0.000</td> <td>-1.63e+05</td> <td> -1.2e+05</td>\n",
       "</tr>\n",
       "<tr>\n",
       "  <th>zip_98119</th>      <td> 1.447e+05</td> <td>  1.4e+04</td> <td>   10.337</td> <td> 0.000</td> <td> 1.17e+05</td> <td> 1.72e+05</td>\n",
       "</tr>\n",
       "<tr>\n",
       "  <th>zip_98122</th>      <td> 3.065e+04</td> <td> 1.15e+04</td> <td>    2.663</td> <td> 0.008</td> <td> 8092.351</td> <td> 5.32e+04</td>\n",
       "</tr>\n",
       "<tr>\n",
       "  <th>zip_98125</th>      <td>-1.391e+05</td> <td> 1.01e+04</td> <td>  -13.806</td> <td> 0.000</td> <td>-1.59e+05</td> <td>-1.19e+05</td>\n",
       "</tr>\n",
       "<tr>\n",
       "  <th>zip_98126</th>      <td>-1.399e+05</td> <td> 1.36e+04</td> <td>  -10.325</td> <td> 0.000</td> <td>-1.66e+05</td> <td>-1.13e+05</td>\n",
       "</tr>\n",
       "<tr>\n",
       "  <th>zip_98133</th>      <td>-1.977e+05</td> <td> 9729.165</td> <td>  -20.324</td> <td> 0.000</td> <td>-2.17e+05</td> <td>-1.79e+05</td>\n",
       "</tr>\n",
       "<tr>\n",
       "  <th>zip_98136</th>      <td>-8.802e+04</td> <td> 1.48e+04</td> <td>   -5.934</td> <td> 0.000</td> <td>-1.17e+05</td> <td>-5.89e+04</td>\n",
       "</tr>\n",
       "<tr>\n",
       "  <th>zip_98144</th>      <td> -4.56e+04</td> <td> 1.11e+04</td> <td>   -4.095</td> <td> 0.000</td> <td>-6.74e+04</td> <td>-2.38e+04</td>\n",
       "</tr>\n",
       "<tr>\n",
       "  <th>zip_98146</th>      <td>-2.179e+05</td> <td> 1.58e+04</td> <td>  -13.808</td> <td> 0.000</td> <td>-2.49e+05</td> <td>-1.87e+05</td>\n",
       "</tr>\n",
       "<tr>\n",
       "  <th>zip_98148</th>      <td>-2.201e+05</td> <td> 2.76e+04</td> <td>   -7.971</td> <td> 0.000</td> <td>-2.74e+05</td> <td>-1.66e+05</td>\n",
       "</tr>\n",
       "<tr>\n",
       "  <th>zip_98155</th>      <td>-2.028e+05</td> <td> 1.08e+04</td> <td>  -18.844</td> <td> 0.000</td> <td>-2.24e+05</td> <td>-1.82e+05</td>\n",
       "</tr>\n",
       "<tr>\n",
       "  <th>zip_98166</th>      <td>-2.402e+05</td> <td> 1.82e+04</td> <td>  -13.234</td> <td> 0.000</td> <td>-2.76e+05</td> <td>-2.05e+05</td>\n",
       "</tr>\n",
       "<tr>\n",
       "  <th>zip_98168</th>      <td>-2.472e+05</td> <td> 1.59e+04</td> <td>  -15.542</td> <td> 0.000</td> <td>-2.78e+05</td> <td>-2.16e+05</td>\n",
       "</tr>\n",
       "<tr>\n",
       "  <th>zip_98177</th>      <td>-1.454e+05</td> <td> 1.23e+04</td> <td>  -11.775</td> <td> 0.000</td> <td> -1.7e+05</td> <td>-1.21e+05</td>\n",
       "</tr>\n",
       "<tr>\n",
       "  <th>zip_98178</th>      <td>-2.574e+05</td> <td> 1.48e+04</td> <td>  -17.371</td> <td> 0.000</td> <td>-2.86e+05</td> <td>-2.28e+05</td>\n",
       "</tr>\n",
       "<tr>\n",
       "  <th>zip_98188</th>      <td>-2.491e+05</td> <td> 2.03e+04</td> <td>  -12.276</td> <td> 0.000</td> <td>-2.89e+05</td> <td>-2.09e+05</td>\n",
       "</tr>\n",
       "<tr>\n",
       "  <th>zip_98198</th>      <td> -2.79e+05</td> <td> 2.06e+04</td> <td>  -13.564</td> <td> 0.000</td> <td>-3.19e+05</td> <td>-2.39e+05</td>\n",
       "</tr>\n",
       "<tr>\n",
       "  <th>zip_98199</th>      <td> 3.044e+04</td> <td> 1.15e+04</td> <td>    2.656</td> <td> 0.008</td> <td> 7972.118</td> <td> 5.29e+04</td>\n",
       "</tr>\n",
       "</table>\n",
       "<table class=\"simpletable\">\n",
       "<tr>\n",
       "  <th>Omnibus:</th>       <td>13692.297</td> <th>  Durbin-Watson:     </th>  <td>   1.987</td>  \n",
       "</tr>\n",
       "<tr>\n",
       "  <th>Prob(Omnibus):</th>  <td> 0.000</td>   <th>  Jarque-Bera (JB):  </th> <td>1625259.622</td>\n",
       "</tr>\n",
       "<tr>\n",
       "  <th>Skew:</th>           <td> 3.108</td>   <th>  Prob(JB):          </th>  <td>    0.00</td>  \n",
       "</tr>\n",
       "<tr>\n",
       "  <th>Kurtosis:</th>       <td>50.107</td>   <th>  Cond. No.          </th>  <td>7.38e+20</td>  \n",
       "</tr>\n",
       "</table><br/><br/>Notes:<br/>[1] Standard Errors assume that the covariance matrix of the errors is correctly specified.<br/>[2] The smallest eigenvalue is 8.06e-29. This might indicate that there are<br/>strong multicollinearity problems or that the design matrix is singular."
      ],
      "text/plain": [
       "<class 'statsmodels.iolib.summary.Summary'>\n",
       "\"\"\"\n",
       "                            OLS Regression Results                            \n",
       "==============================================================================\n",
       "Dep. Variable:                  price   R-squared:                       0.829\n",
       "Model:                            OLS   Adj. R-squared:                  0.828\n",
       "Method:                 Least Squares   F-statistic:                     968.8\n",
       "Date:                Wed, 01 Dec 2021   Prob (F-statistic):               0.00\n",
       "Time:                        09:06:28   Log-Likelihood:            -2.3092e+05\n",
       "No. Observations:               17277   AIC:                         4.620e+05\n",
       "Df Residuals:                   17190   BIC:                         4.627e+05\n",
       "Df Model:                          86                                         \n",
       "Covariance Type:            nonrobust                                         \n",
       "==================================================================================\n",
       "                     coef    std err          t      P>|t|      [0.025      0.975]\n",
       "----------------------------------------------------------------------------------\n",
       "const          -4.216e+07   3.16e+06    -13.329      0.000   -4.84e+07    -3.6e+07\n",
       "sqft_living      159.0095      2.554     62.260      0.000     154.003     164.016\n",
       "sqft_lot           0.2211      0.042      5.251      0.000       0.139       0.304\n",
       "waterfront      7.188e+05    1.5e+04     47.938      0.000    6.89e+05    7.48e+05\n",
       "view            1.091e+05   4542.025     24.024      0.000       1e+05    1.18e+05\n",
       "yr_renovated      36.2447      3.283     11.039      0.000      29.809      42.681\n",
       "lat             2.121e+05   6.25e+04      3.395      0.001    8.97e+04    3.35e+05\n",
       "long           -2.641e+05   2.97e+04     -8.907      0.000   -3.22e+05   -2.06e+05\n",
       "sqft_living15     22.5828      3.073      7.349      0.000      16.559      28.606\n",
       "sqft_lot15        -0.1203      0.064     -1.877      0.060      -0.246       0.005\n",
       "sale_month     -3059.8771    380.045     -8.051      0.000   -3804.805   -2314.950\n",
       "bedrooms_5plus -2.298e+04   4502.828     -5.104      0.000   -3.18e+04   -1.42e+04\n",
       "bathrooms_1     1.865e+04   3811.875      4.892      0.000    1.12e+04    2.61e+04\n",
       "bathrooms_3    -1.627e+04   2972.403     -5.474      0.000   -2.21e+04   -1.04e+04\n",
       "floors_1        -244.3073   3240.589     -0.075      0.940   -6596.193    6107.578\n",
       "condition_1    -9.138e+04   3.24e+04     -2.817      0.005   -1.55e+05   -2.78e+04\n",
       "condition_4     2.511e+04   2960.762      8.482      0.000    1.93e+04    3.09e+04\n",
       "condition_5     7.462e+04   4636.346     16.095      0.000    6.55e+04    8.37e+04\n",
       "grade_3        -1.781e-07   6.02e-09    -29.571      0.000    -1.9e-07   -1.66e-07\n",
       "grade_8         2.699e+04   3380.666      7.984      0.000    2.04e+04    3.36e+04\n",
       "grade_9         1.055e+05   5125.221     20.592      0.000    9.55e+04    1.16e+05\n",
       "grade_10        2.279e+05   7395.747     30.810      0.000    2.13e+05    2.42e+05\n",
       "grade_11         4.39e+05   1.12e+04     39.369      0.000    4.17e+05    4.61e+05\n",
       "grade_12        8.565e+05   2.07e+04     41.441      0.000    8.16e+05    8.97e+05\n",
       "grade_13        1.986e+06   4.51e+04     44.025      0.000     1.9e+06    2.07e+06\n",
       "zip_98001      -2.474e+05   2.37e+04    -10.461      0.000   -2.94e+05   -2.01e+05\n",
       "zip_98002      -2.203e+05   2.43e+04     -9.054      0.000   -2.68e+05   -1.73e+05\n",
       "zip_98003      -2.589e+05   2.47e+04    -10.484      0.000   -3.07e+05   -2.11e+05\n",
       "zip_98004       4.865e+05   1.08e+04     44.919      0.000    4.65e+05    5.08e+05\n",
       "zip_98006      -2.814e+04   9813.503     -2.867      0.004   -4.74e+04   -8901.672\n",
       "zip_98010      -1.256e+05    2.4e+04     -5.233      0.000   -1.73e+05   -7.86e+04\n",
       "zip_98011      -1.847e+05   1.51e+04    -12.254      0.000   -2.14e+05   -1.55e+05\n",
       "zip_98014      -1.186e+05   2.09e+04     -5.682      0.000    -1.6e+05   -7.77e+04\n",
       "zip_98019      -1.547e+05   1.81e+04     -8.547      0.000    -1.9e+05   -1.19e+05\n",
       "zip_98022      -1.612e+05   2.69e+04     -6.000      0.000   -2.14e+05   -1.09e+05\n",
       "zip_98023      -3.023e+05   2.48e+04    -12.174      0.000   -3.51e+05   -2.54e+05\n",
       "zip_98024      -3.726e+04   2.13e+04     -1.749      0.080    -7.9e+04    4491.273\n",
       "zip_98027      -6.652e+04   1.13e+04     -5.902      0.000   -8.86e+04   -4.44e+04\n",
       "zip_98028      -2.014e+05   1.27e+04    -15.835      0.000   -2.26e+05   -1.76e+05\n",
       "zip_98030      -2.295e+05      2e+04    -11.467      0.000   -2.69e+05    -1.9e+05\n",
       "zip_98031      -2.231e+05   1.81e+04    -12.321      0.000   -2.59e+05   -1.88e+05\n",
       "zip_98032      -2.591e+05   2.36e+04    -10.978      0.000   -3.05e+05   -2.13e+05\n",
       "zip_98033       6.087e+04   9717.475      6.264      0.000    4.18e+04    7.99e+04\n",
       "zip_98034       -1.11e+05   9842.335    -11.282      0.000    -1.3e+05   -9.18e+04\n",
       "zip_98038      -1.557e+05   1.67e+04     -9.336      0.000   -1.88e+05   -1.23e+05\n",
       "zip_98039       9.257e+05   2.51e+04     36.920      0.000    8.77e+05    9.75e+05\n",
       "zip_98040       2.121e+05   1.23e+04     17.279      0.000    1.88e+05    2.36e+05\n",
       "zip_98042      -2.078e+05   1.78e+04    -11.691      0.000   -2.43e+05   -1.73e+05\n",
       "zip_98045      -4.723e+04   1.73e+04     -2.731      0.006   -8.11e+04   -1.33e+04\n",
       "zip_98052      -4.342e+04   9565.640     -4.540      0.000   -6.22e+04   -2.47e+04\n",
       "zip_98053      -3.967e+04   1.22e+04     -3.256      0.001   -6.36e+04   -1.58e+04\n",
       "zip_98055      -2.195e+05   1.58e+04    -13.873      0.000   -2.51e+05   -1.89e+05\n",
       "zip_98056      -1.782e+05   1.21e+04    -14.723      0.000   -2.02e+05   -1.54e+05\n",
       "zip_98058      -2.065e+05   1.43e+04    -14.469      0.000   -2.34e+05   -1.79e+05\n",
       "zip_98059       -1.66e+05    1.2e+04    -13.891      0.000   -1.89e+05   -1.43e+05\n",
       "zip_98065      -9.061e+04   1.41e+04     -6.410      0.000   -1.18e+05   -6.29e+04\n",
       "zip_98070      -3.083e+05    2.5e+04    -12.322      0.000   -3.57e+05   -2.59e+05\n",
       "zip_98072      -1.422e+05   1.43e+04     -9.926      0.000    -1.7e+05   -1.14e+05\n",
       "zip_98074      -6.789e+04   1.03e+04     -6.572      0.000   -8.81e+04   -4.76e+04\n",
       "zip_98075      -6.714e+04   1.14e+04     -5.907      0.000   -8.94e+04   -4.49e+04\n",
       "zip_98077      -1.642e+05   1.66e+04     -9.888      0.000   -1.97e+05   -1.32e+05\n",
       "zip_98092      -2.383e+05   2.29e+04    -10.426      0.000   -2.83e+05   -1.93e+05\n",
       "zip_98102       1.495e+05   1.69e+04      8.838      0.000    1.16e+05    1.83e+05\n",
       "zip_98105       1.514e+05   1.19e+04     12.712      0.000    1.28e+05    1.75e+05\n",
       "zip_98106       -1.98e+05   1.38e+04    -14.378      0.000   -2.25e+05   -1.71e+05\n",
       "zip_98108      -1.938e+05   1.53e+04    -12.683      0.000   -2.24e+05   -1.64e+05\n",
       "zip_98109       1.737e+05   1.72e+04     10.096      0.000     1.4e+05    2.07e+05\n",
       "zip_98112        3.04e+05   1.14e+04     26.593      0.000    2.82e+05    3.26e+05\n",
       "zip_98116      -4.084e+04    1.3e+04     -3.138      0.002   -6.64e+04   -1.53e+04\n",
       "zip_98117      -3.481e+04   8807.058     -3.952      0.000   -5.21e+04   -1.75e+04\n",
       "zip_98118      -1.414e+05    1.1e+04    -12.881      0.000   -1.63e+05    -1.2e+05\n",
       "zip_98119       1.447e+05    1.4e+04     10.337      0.000    1.17e+05    1.72e+05\n",
       "zip_98122       3.065e+04   1.15e+04      2.663      0.008    8092.351    5.32e+04\n",
       "zip_98125      -1.391e+05   1.01e+04    -13.806      0.000   -1.59e+05   -1.19e+05\n",
       "zip_98126      -1.399e+05   1.36e+04    -10.325      0.000   -1.66e+05   -1.13e+05\n",
       "zip_98133      -1.977e+05   9729.165    -20.324      0.000   -2.17e+05   -1.79e+05\n",
       "zip_98136      -8.802e+04   1.48e+04     -5.934      0.000   -1.17e+05   -5.89e+04\n",
       "zip_98144       -4.56e+04   1.11e+04     -4.095      0.000   -6.74e+04   -2.38e+04\n",
       "zip_98146      -2.179e+05   1.58e+04    -13.808      0.000   -2.49e+05   -1.87e+05\n",
       "zip_98148      -2.201e+05   2.76e+04     -7.971      0.000   -2.74e+05   -1.66e+05\n",
       "zip_98155      -2.028e+05   1.08e+04    -18.844      0.000   -2.24e+05   -1.82e+05\n",
       "zip_98166      -2.402e+05   1.82e+04    -13.234      0.000   -2.76e+05   -2.05e+05\n",
       "zip_98168      -2.472e+05   1.59e+04    -15.542      0.000   -2.78e+05   -2.16e+05\n",
       "zip_98177      -1.454e+05   1.23e+04    -11.775      0.000    -1.7e+05   -1.21e+05\n",
       "zip_98178      -2.574e+05   1.48e+04    -17.371      0.000   -2.86e+05   -2.28e+05\n",
       "zip_98188      -2.491e+05   2.03e+04    -12.276      0.000   -2.89e+05   -2.09e+05\n",
       "zip_98198       -2.79e+05   2.06e+04    -13.564      0.000   -3.19e+05   -2.39e+05\n",
       "zip_98199       3.044e+04   1.15e+04      2.656      0.008    7972.118    5.29e+04\n",
       "==============================================================================\n",
       "Omnibus:                    13692.297   Durbin-Watson:                   1.987\n",
       "Prob(Omnibus):                  0.000   Jarque-Bera (JB):          1625259.622\n",
       "Skew:                           3.108   Prob(JB):                         0.00\n",
       "Kurtosis:                      50.107   Cond. No.                     7.38e+20\n",
       "==============================================================================\n",
       "\n",
       "Notes:\n",
       "[1] Standard Errors assume that the covariance matrix of the errors is correctly specified.\n",
       "[2] The smallest eigenvalue is 8.06e-29. This might indicate that there are\n",
       "strong multicollinearity problems or that the design matrix is singular.\n",
       "\"\"\""
      ]
     },
     "execution_count": 92,
     "metadata": {},
     "output_type": "execute_result"
    }
   ],
   "source": [
    "X_train = sm.add_constant(X_train)\n",
    "model_v1_results = sm.OLS(y_train, X_train).fit()\n",
    "model_v1_results.summary()"
   ]
  },
  {
   "cell_type": "code",
   "execution_count": 93,
   "id": "250e412c",
   "metadata": {},
   "outputs": [],
   "source": [
    "model_v1_df = pd.DataFrame(model_v1_results.pvalues.sort_values(ascending=True))"
   ]
  },
  {
   "cell_type": "markdown",
   "id": "cecff10b",
   "metadata": {},
   "source": [
    "Now we can pull out all features whose coefficients' p-value was greater than the threshold (0.05)"
   ]
  },
  {
   "cell_type": "code",
   "execution_count": 94,
   "id": "40c42cea",
   "metadata": {},
   "outputs": [
    {
     "data": {
      "text/html": [
       "<div>\n",
       "<style scoped>\n",
       "    .dataframe tbody tr th:only-of-type {\n",
       "        vertical-align: middle;\n",
       "    }\n",
       "\n",
       "    .dataframe tbody tr th {\n",
       "        vertical-align: top;\n",
       "    }\n",
       "\n",
       "    .dataframe thead th {\n",
       "        text-align: right;\n",
       "    }\n",
       "</style>\n",
       "<table border=\"1\" class=\"dataframe\">\n",
       "  <thead>\n",
       "    <tr style=\"text-align: right;\">\n",
       "      <th></th>\n",
       "      <th>feature</th>\n",
       "      <th>p_value</th>\n",
       "    </tr>\n",
       "  </thead>\n",
       "  <tbody>\n",
       "    <tr>\n",
       "      <th>0</th>\n",
       "      <td>sqft_lot15</td>\n",
       "      <td>0.060492</td>\n",
       "    </tr>\n",
       "    <tr>\n",
       "      <th>1</th>\n",
       "      <td>zip_98024</td>\n",
       "      <td>0.080268</td>\n",
       "    </tr>\n",
       "    <tr>\n",
       "      <th>2</th>\n",
       "      <td>floors_1</td>\n",
       "      <td>0.939905</td>\n",
       "    </tr>\n",
       "  </tbody>\n",
       "</table>\n",
       "</div>"
      ],
      "text/plain": [
       "      feature   p_value\n",
       "0  sqft_lot15  0.060492\n",
       "1   zip_98024  0.080268\n",
       "2    floors_1  0.939905"
      ]
     },
     "execution_count": 94,
     "metadata": {},
     "output_type": "execute_result"
    }
   ],
   "source": [
    "high_pvalues = model_v1_df[model_v1_df[0] > 0.05]\n",
    "high_pvalues.reset_index(inplace=True)\n",
    "high_pvalues.columns = ['feature', 'p_value']\n",
    "high_pvalues"
   ]
  },
  {
   "cell_type": "markdown",
   "id": "b857da86",
   "metadata": {
    "heading_collapsed": true
   },
   "source": [
    "# Feature Engineering"
   ]
  },
  {
   "cell_type": "markdown",
   "id": "12c63cbc",
   "metadata": {
    "hidden": true
   },
   "source": [
    "## Renovation"
   ]
  },
  {
   "cell_type": "markdown",
   "id": "9f05ecfc",
   "metadata": {
    "hidden": true
   },
   "source": [
    "Set up new dataframe 'renovation_features' to hold engineered features before joining in with original features.\n",
    "\n",
    "We are first working on the renovation status, so we will need some features: yr_built, yr_renovated, and sale_year"
   ]
  },
  {
   "cell_type": "code",
   "execution_count": null,
   "id": "0ec23b79",
   "metadata": {
    "hidden": true
   },
   "outputs": [],
   "source": [
    "renovation_features = df[['yr_built', 'yr_renovated', 'sale_year']].copy()"
   ]
  },
  {
   "cell_type": "markdown",
   "id": "2c4ebed9",
   "metadata": {
    "hidden": true
   },
   "source": [
    "During research on renovations, it seems like a general industry standard is that a home is considered renovated if the renovation took place within 15 years. We are engineering a new feature 'is_renovated' as a boolean, with 1 being the home is renovated within 15 years of sale, and 0 being either never renovated or renovations took place more than 15 years before sale."
   ]
  },
  {
   "cell_type": "code",
   "execution_count": null,
   "id": "e85f2129",
   "metadata": {
    "hidden": true
   },
   "outputs": [],
   "source": [
    "def renovation_status(df):\n",
    "    if df.yr_renovated == 0.0:\n",
    "        return 0\n",
    "    else:\n",
    "        if (df.sale_year - df.yr_renovated) > 15:\n",
    "            return 0\n",
    "        else:\n",
    "            return 1\n",
    "        \n",
    "renovation_features['is_renovated'] = renovation_features.apply(renovation_status, axis=1)\n",
    "renovation_features.drop(renovation_features.iloc[:, 0:3], axis=1, inplace=True)"
   ]
  },
  {
   "cell_type": "code",
   "execution_count": null,
   "id": "c3c24572",
   "metadata": {
    "hidden": true
   },
   "outputs": [],
   "source": [
    "renovation_features.is_renovated.value_counts()"
   ]
  },
  {
   "cell_type": "markdown",
   "id": "8eaa2b88",
   "metadata": {
    "hidden": true
   },
   "source": [
    "Our renovation feature is now a boolean representing homes that were renovated with 15 years of the sale.\n",
    "\n",
    "> The feature resides in a dataframe 'renovation_features' so that we can concat it into our next iteration of features to be modeled"
   ]
  },
  {
   "cell_type": "markdown",
   "id": "e2849ca7",
   "metadata": {
    "hidden": true
   },
   "source": [
    "## Basement"
   ]
  },
  {
   "cell_type": "markdown",
   "id": "4dd733b5",
   "metadata": {
    "hidden": true
   },
   "source": [
    "The sqft_basement poses some interesting questions. I think first we want a column to see if there is a basement or not"
   ]
  },
  {
   "cell_type": "code",
   "execution_count": null,
   "id": "f8e236a0",
   "metadata": {
    "hidden": true
   },
   "outputs": [],
   "source": [
    "basement_features = df[['sqft_living', 'sqft_basement']].copy()"
   ]
  },
  {
   "cell_type": "code",
   "execution_count": null,
   "id": "ab1a92a2",
   "metadata": {
    "hidden": true
   },
   "outputs": [],
   "source": [
    "basement_features"
   ]
  },
  {
   "cell_type": "code",
   "execution_count": null,
   "id": "22525fbc",
   "metadata": {
    "hidden": true
   },
   "outputs": [],
   "source": [
    "basement_features['has_basement'] = basement_features.sqft_basement.map(lambda x: 1 if x > 0 else 0)"
   ]
  },
  {
   "cell_type": "code",
   "execution_count": null,
   "id": "fdca88de",
   "metadata": {
    "hidden": true
   },
   "outputs": [],
   "source": [
    "basement_features"
   ]
  },
  {
   "cell_type": "code",
   "execution_count": null,
   "id": "aab4aca4",
   "metadata": {
    "hidden": true
   },
   "outputs": [],
   "source": [
    "def percent_basement(df):\n",
    "    if df.has_basement == False:\n",
    "        return 0\n",
    "    else:\n",
    "        return round(((df.sqft_basement / df.sqft_living) * 100), 2)"
   ]
  },
  {
   "cell_type": "code",
   "execution_count": null,
   "id": "e30774bc",
   "metadata": {
    "hidden": true
   },
   "outputs": [],
   "source": [
    "basement_features['basement_percent'] = basement_features.apply(percent_basement, axis=1)"
   ]
  },
  {
   "cell_type": "code",
   "execution_count": null,
   "id": "feb794e8",
   "metadata": {
    "hidden": true
   },
   "outputs": [],
   "source": [
    "basement_features.has_basement.value_counts(normalize=True)"
   ]
  },
  {
   "cell_type": "code",
   "execution_count": null,
   "id": "7be661e7",
   "metadata": {
    "hidden": true
   },
   "outputs": [],
   "source": [
    "basement_features[basement_features.basement_percent > 0].basement_percent.describe()"
   ]
  },
  {
   "cell_type": "code",
   "execution_count": null,
   "id": "96414722",
   "metadata": {
    "hidden": true
   },
   "outputs": [],
   "source": [
    "sns.histplot(data=basement_features[basement_features.basement_percent > 0], x='basement_percent')"
   ]
  },
  {
   "cell_type": "markdown",
   "id": "5ed8b704",
   "metadata": {
    "hidden": true
   },
   "source": [
    "In our dataset, 60% of homes have no basement at all.\n",
    "\n",
    "Of those that have basements, the above histogram shows the binned percent of sqft_living that is made up of sqft_basement.\n",
    "\n",
    "It looks like we have a case for a feature that will show if the percent of the home that is basement is."
   ]
  },
  {
   "cell_type": "code",
   "execution_count": null,
   "id": "5a697e48",
   "metadata": {
    "hidden": true
   },
   "outputs": [],
   "source": [
    "basement_features.drop(basement_features.iloc[:, 0:3], axis=1, inplace=True)"
   ]
  },
  {
   "cell_type": "code",
   "execution_count": null,
   "id": "139fb351",
   "metadata": {
    "hidden": true
   },
   "outputs": [],
   "source": [
    "basement_features"
   ]
  },
  {
   "cell_type": "markdown",
   "id": "fae89bea",
   "metadata": {
    "hidden": true
   },
   "source": [
    "## Zipcode"
   ]
  },
  {
   "cell_type": "code",
   "execution_count": null,
   "id": "916f3ea7",
   "metadata": {
    "hidden": true
   },
   "outputs": [],
   "source": [
    "zipcode_features = df[['zipcode']].copy()"
   ]
  },
  {
   "cell_type": "markdown",
   "id": "d93f5b79",
   "metadata": {
    "hidden": true
   },
   "source": [
    "There at 70 different zipcode values in our dataset. We want to try and create a new feature that takes zipcodes and matches them up with cities in our area."
   ]
  },
  {
   "cell_type": "code",
   "execution_count": null,
   "id": "c552f193",
   "metadata": {
    "hidden": true
   },
   "outputs": [],
   "source": [
    "# https://zipdatamaps.com/king-wa-county-zipcodes\n",
    "zip_city = pd.read_csv('data\\zip_city.csv')\n",
    "\n",
    "zipcode_features = pd.merge(left=zipcode_features, right=zip_city, on='zipcode', how='left')"
   ]
  },
  {
   "cell_type": "code",
   "execution_count": null,
   "id": "5d7d271d",
   "metadata": {
    "hidden": true
   },
   "outputs": [],
   "source": [
    "zipcode_features"
   ]
  },
  {
   "cell_type": "markdown",
   "id": "40e6cc0e",
   "metadata": {
    "hidden": true
   },
   "source": [
    "zipcode_features can be merged into the larger dataframe to associate a home with a city instead of just a zipcode.\n",
    "\n",
    "Let's explore this a bit more."
   ]
  },
  {
   "cell_type": "code",
   "execution_count": null,
   "id": "4bc46d74",
   "metadata": {
    "hidden": true
   },
   "outputs": [],
   "source": [
    "homes_by_zip = zipcode_features.groupby('city').count()\n",
    "homes_by_zip.reset_index(inplace=True)\n",
    "homes_by_zip.columns = ['city', 'count']"
   ]
  },
  {
   "cell_type": "code",
   "execution_count": null,
   "id": "dcf6c93a",
   "metadata": {
    "hidden": true
   },
   "outputs": [],
   "source": [
    "homes_by_zip"
   ]
  },
  {
   "cell_type": "code",
   "execution_count": null,
   "id": "00489fc7",
   "metadata": {
    "hidden": true
   },
   "outputs": [],
   "source": [
    "homes_by_zip.sort_values(by='count', ascending=False)"
   ]
  },
  {
   "cell_type": "markdown",
   "id": "8ba3a4dd",
   "metadata": {
    "hidden": true
   },
   "source": [
    "So instead of 70 different zipcodes for a feature, we can have 24 different city names."
   ]
  },
  {
   "cell_type": "markdown",
   "id": "1041b475",
   "metadata": {
    "hidden": true
   },
   "source": [
    "Lets put in the features we engineered for renovation, basement, and zipcode"
   ]
  },
  {
   "cell_type": "markdown",
   "id": "d6203044",
   "metadata": {
    "heading_collapsed": true
   },
   "source": [
    "# Model version 2, adding in engineered features"
   ]
  },
  {
   "cell_type": "code",
   "execution_count": null,
   "id": "2af6a512",
   "metadata": {
    "hidden": true
   },
   "outputs": [],
   "source": [
    "df_v2 = pd.concat([df_final, renovation_features, basement_features,\n",
    "                   zipcode_features], axis=1)"
   ]
  },
  {
   "cell_type": "code",
   "execution_count": null,
   "id": "78e02de7",
   "metadata": {
    "hidden": true
   },
   "outputs": [],
   "source": [
    "df_v2.columns"
   ]
  },
  {
   "cell_type": "code",
   "execution_count": null,
   "id": "79239612",
   "metadata": {
    "hidden": true
   },
   "outputs": [],
   "source": [
    "X = df_v2.drop(['date', 'price', 'bathrooms', 'sqft_living', 'floors',\n",
    "                'sqft_above', 'sqft_basement', 'grade', 'sale_year',\n",
    "                'yr_renovated', 'sqft_living15', 'city'], axis=1)\n",
    "y = df_final.price"
   ]
  },
  {
   "cell_type": "code",
   "execution_count": null,
   "id": "e36a5813",
   "metadata": {
    "hidden": true
   },
   "outputs": [],
   "source": [
    "X_train, X_test, y_train, y_test = train_test_split(X, y, test_size=0.2,\n",
    "                                                   random_state=0)\n",
    "\n",
    "model_v2 = LinearRegression()\n",
    "model_v2.fit(X_train,y_train)\n",
    "\n",
    "print('Single model fit score:', model_v1.score(X_test,y_test))\n",
    "\n",
    "splitter = ShuffleSplit(n_splits=5, test_size=0.2, random_state=0)\n",
    "\n",
    "baseline_scores = cross_validate(estimator=model_v2, X=X_train,\n",
    "                                 y=y_train, return_train_score=True, \n",
    "                                 cv=splitter)\n",
    "\n",
    "print('Train score:', baseline_scores['train_score'].mean())\n",
    "print('Test score:', baseline_scores['test_score'].mean())"
   ]
  },
  {
   "cell_type": "markdown",
   "id": "56f4a572",
   "metadata": {
    "heading_collapsed": true
   },
   "source": [
    "# Identify outliers"
   ]
  },
  {
   "cell_type": "markdown",
   "id": "f489dab0",
   "metadata": {
    "hidden": true
   },
   "source": [
    "Assuming we are keeping sqft_living as a feature from 4.1, the box plot during EDA showed lots of outliers. Going to see if we can identify outliers that we can drop."
   ]
  },
  {
   "cell_type": "code",
   "execution_count": null,
   "id": "55a45771",
   "metadata": {
    "hidden": true
   },
   "outputs": [],
   "source": [
    "df_version2 = df_final.copy()"
   ]
  },
  {
   "cell_type": "code",
   "execution_count": null,
   "id": "2772a767",
   "metadata": {
    "hidden": true
   },
   "outputs": [],
   "source": [
    "df_version2"
   ]
  },
  {
   "cell_type": "markdown",
   "id": "9f6f5e05",
   "metadata": {
    "hidden": true
   },
   "source": [
    "We suspect we will have no lower outliers, but we will check both anyway"
   ]
  },
  {
   "cell_type": "code",
   "execution_count": null,
   "id": "cca2ac8e",
   "metadata": {
    "hidden": true
   },
   "outputs": [],
   "source": [
    "upper_limit = df_version2.sqft_living.mean() + 3*df_version2.sqft_living.std()\n",
    "lower_limit = df_version2.sqft_living.mean() - 3*df_version2.sqft_living.std()"
   ]
  },
  {
   "cell_type": "code",
   "execution_count": null,
   "id": "9761158f",
   "metadata": {
    "hidden": true
   },
   "outputs": [],
   "source": [
    "upper_limit"
   ]
  },
  {
   "cell_type": "markdown",
   "id": "9f54c759",
   "metadata": {
    "hidden": true
   },
   "source": [
    "Using z-scores above 3, we will remove all homes with sqft_living over 4834.64"
   ]
  },
  {
   "cell_type": "code",
   "execution_count": null,
   "id": "4fe72025",
   "metadata": {
    "hidden": true
   },
   "outputs": [],
   "source": [
    "df_version2 = df_version2[df_version2.sqft_living < upper_limit].copy()"
   ]
  },
  {
   "cell_type": "code",
   "execution_count": null,
   "id": "aa4336dd",
   "metadata": {
    "hidden": true
   },
   "outputs": [],
   "source": [
    "df_version2"
   ]
  },
  {
   "cell_type": "code",
   "execution_count": null,
   "id": "976f28cb",
   "metadata": {
    "hidden": true
   },
   "outputs": [],
   "source": [
    "df_version2.sqft_living.describe()"
   ]
  },
  {
   "cell_type": "code",
   "execution_count": null,
   "id": "d2d2c068",
   "metadata": {
    "hidden": true
   },
   "outputs": [],
   "source": [
    "len(df_final) - len(df_version2)"
   ]
  },
  {
   "cell_type": "markdown",
   "id": "d667fe88",
   "metadata": {
    "hidden": true
   },
   "source": [
    "248 homes were considered outliers in the sqft_living column"
   ]
  },
  {
   "cell_type": "code",
   "execution_count": null,
   "id": "2d30daaa",
   "metadata": {
    "hidden": true
   },
   "outputs": [],
   "source": [
    "# cannot use datetime object in linear regression. we pulled out the sale\n",
    "# month and year from it as separate features for baseline model\n",
    "X = df_version2.drop(['date', 'price'], axis=1)\n",
    "y = df_version2.price\n",
    "\n",
    "X_train, X_test, y_train, y_test = train_test_split(X, y, test_size=0.2,\n",
    "                                                   random_state=0)\n",
    "\n",
    "model_version2 = LinearRegression()\n",
    "model_version2.fit(X_train,y_train)\n",
    "model_version2.score(X_test,y_test)"
   ]
  },
  {
   "cell_type": "markdown",
   "id": "1dc87c8b",
   "metadata": {
    "hidden": true
   },
   "source": [
    "Also going to try and removing the features identified to have multicollinearity"
   ]
  },
  {
   "cell_type": "code",
   "execution_count": null,
   "id": "0494700d",
   "metadata": {
    "hidden": true
   },
   "outputs": [],
   "source": [
    "df_version2.drop(['sqft_above','grade','sqft_living15','bathrooms'], axis=1,\n",
    "                inplace=True)"
   ]
  },
  {
   "cell_type": "code",
   "execution_count": null,
   "id": "d5b4145a",
   "metadata": {
    "hidden": true
   },
   "outputs": [],
   "source": [
    "# cannot use datetime object in linear regression. we pulled out the sale\n",
    "# month and year from it as separate features for baseline model\n",
    "X = df_version2.drop(['date', 'price'], axis=1)\n",
    "y = df_version2.price\n",
    "\n",
    "X_train, X_test, y_train, y_test = train_test_split(X, y, test_size=0.2,\n",
    "                                                   random_state=0)\n",
    "\n",
    "model_version3 = LinearRegression()\n",
    "model_version3.fit(X_train,y_train)\n",
    "model_version3.score(X_test,y_test)"
   ]
  },
  {
   "cell_type": "code",
   "execution_count": null,
   "id": "f8f3b66a",
   "metadata": {
    "hidden": true
   },
   "outputs": [],
   "source": [
    "df_version2[(df_version2.sale_year - df_version2.yr_renovated) <= 15]"
   ]
  },
  {
   "cell_type": "code",
   "execution_count": null,
   "id": "00a6f3c1",
   "metadata": {
    "hidden": true
   },
   "outputs": [],
   "source": [
    "df_version2[((df_version2.sale_year - df_version2.yr_renovated) > 15) & (df.yr_renovated != 0.0)]"
   ]
  },
  {
   "cell_type": "code",
   "execution_count": null,
   "id": "469be2c7",
   "metadata": {
    "hidden": true
   },
   "outputs": [],
   "source": [
    "df_version2[df_version2.yr_renovated == 0.0]"
   ]
  },
  {
   "cell_type": "code",
   "execution_count": null,
   "id": "4ecf8545",
   "metadata": {
    "hidden": true
   },
   "outputs": [],
   "source": [
    "df_version2['is_renovated'] = 0"
   ]
  },
  {
   "cell_type": "code",
   "execution_count": null,
   "id": "2f91b791",
   "metadata": {
    "hidden": true
   },
   "outputs": [],
   "source": [
    "# df_version2['is_renovated'] = df_version2.is_renovated.map(lambda x: 1 if ((x.sale_year - x.yr_renovated) <= 15))"
   ]
  },
  {
   "cell_type": "code",
   "execution_count": null,
   "id": "50174a08",
   "metadata": {
    "hidden": true
   },
   "outputs": [],
   "source": []
  },
  {
   "cell_type": "code",
   "execution_count": null,
   "id": "8836b336",
   "metadata": {
    "hidden": true
   },
   "outputs": [],
   "source": []
  },
  {
   "cell_type": "code",
   "execution_count": null,
   "id": "374cd113",
   "metadata": {
    "hidden": true
   },
   "outputs": [],
   "source": []
  },
  {
   "cell_type": "code",
   "execution_count": null,
   "id": "6e59e31f",
   "metadata": {
    "hidden": true
   },
   "outputs": [],
   "source": []
  },
  {
   "cell_type": "code",
   "execution_count": null,
   "id": "e9a7b66c",
   "metadata": {
    "hidden": true
   },
   "outputs": [],
   "source": []
  },
  {
   "cell_type": "code",
   "execution_count": null,
   "id": "905b43ca",
   "metadata": {
    "hidden": true
   },
   "outputs": [],
   "source": []
  },
  {
   "cell_type": "code",
   "execution_count": null,
   "id": "c94e07e3",
   "metadata": {
    "hidden": true
   },
   "outputs": [],
   "source": []
  },
  {
   "cell_type": "code",
   "execution_count": null,
   "id": "a628e999",
   "metadata": {
    "hidden": true
   },
   "outputs": [],
   "source": []
  },
  {
   "cell_type": "code",
   "execution_count": null,
   "id": "d7a36c83",
   "metadata": {
    "hidden": true
   },
   "outputs": [],
   "source": []
  },
  {
   "cell_type": "code",
   "execution_count": null,
   "id": "4f413581",
   "metadata": {
    "hidden": true
   },
   "outputs": [],
   "source": []
  },
  {
   "cell_type": "markdown",
   "id": "f13b36f9",
   "metadata": {
    "heading_collapsed": true
   },
   "source": [
    "# Log scaling 'price' feature"
   ]
  },
  {
   "cell_type": "code",
   "execution_count": null,
   "id": "033b451c",
   "metadata": {
    "hidden": true
   },
   "outputs": [],
   "source": [
    "log_price = np.log(df.price)"
   ]
  },
  {
   "cell_type": "code",
   "execution_count": null,
   "id": "7b790ce8",
   "metadata": {
    "hidden": true
   },
   "outputs": [],
   "source": [
    "df_log = pd.DataFrame([])"
   ]
  },
  {
   "cell_type": "code",
   "execution_count": null,
   "id": "ef4903bc",
   "metadata": {
    "hidden": true
   },
   "outputs": [],
   "source": [
    "df_log['log_price'] = np.log(df.price)"
   ]
  },
  {
   "cell_type": "code",
   "execution_count": null,
   "id": "41c0fbcc",
   "metadata": {
    "hidden": true
   },
   "outputs": [],
   "source": [
    "sns.histplot(data=df_log, x='log_price', bins=30);"
   ]
  },
  {
   "cell_type": "code",
   "execution_count": null,
   "id": "4f88f97c",
   "metadata": {
    "hidden": true
   },
   "outputs": [],
   "source": [
    "def normalize(feature):\n",
    "    return (feature - feature.mean()) / feature.std()\n",
    "\n",
    "df_log_final = df_log.apply(normalize)"
   ]
  },
  {
   "cell_type": "code",
   "execution_count": null,
   "id": "73b9a784",
   "metadata": {
    "hidden": true
   },
   "outputs": [],
   "source": [
    "sns.histplot(data=df_log_final, x='log_price', bins=30);"
   ]
  },
  {
   "cell_type": "markdown",
   "id": "79aadaec",
   "metadata": {
    "hidden": true
   },
   "source": [
    "Results from correlated numerical data, focus on exploring how to transform/normalize these 4 (and price)\n",
    "\n",
    "- sqft_living    0.701917\n",
    "- bathrooms      0.525906\n",
    "- bedrooms       0.308787\n",
    "- floors         0.256804"
   ]
  },
  {
   "cell_type": "code",
   "execution_count": null,
   "id": "4644edfc",
   "metadata": {
    "hidden": true
   },
   "outputs": [],
   "source": [
    "df.sqft_living.describe()"
   ]
  },
  {
   "cell_type": "code",
   "execution_count": null,
   "id": "3978cf7c",
   "metadata": {
    "hidden": true
   },
   "outputs": [],
   "source": []
  },
  {
   "cell_type": "code",
   "execution_count": null,
   "id": "bd72099c",
   "metadata": {
    "hidden": true
   },
   "outputs": [],
   "source": []
  },
  {
   "cell_type": "code",
   "execution_count": null,
   "id": "17e8683d",
   "metadata": {
    "hidden": true
   },
   "outputs": [],
   "source": []
  },
  {
   "cell_type": "code",
   "execution_count": null,
   "id": "1150989b",
   "metadata": {
    "hidden": true
   },
   "outputs": [],
   "source": []
  },
  {
   "cell_type": "code",
   "execution_count": null,
   "id": "e960e9cc",
   "metadata": {
    "hidden": true
   },
   "outputs": [],
   "source": []
  },
  {
   "cell_type": "code",
   "execution_count": null,
   "id": "3fb4934b",
   "metadata": {
    "hidden": true
   },
   "outputs": [],
   "source": []
  },
  {
   "cell_type": "code",
   "execution_count": null,
   "id": "5d441b7e",
   "metadata": {
    "hidden": true
   },
   "outputs": [],
   "source": []
  },
  {
   "cell_type": "code",
   "execution_count": null,
   "id": "4011da88",
   "metadata": {
    "hidden": true
   },
   "outputs": [],
   "source": []
  },
  {
   "cell_type": "code",
   "execution_count": null,
   "id": "cb49e484",
   "metadata": {
    "hidden": true
   },
   "outputs": [],
   "source": []
  },
  {
   "cell_type": "code",
   "execution_count": null,
   "id": "2b283150",
   "metadata": {
    "hidden": true
   },
   "outputs": [],
   "source": []
  },
  {
   "cell_type": "code",
   "execution_count": null,
   "id": "fbf6e182",
   "metadata": {
    "hidden": true
   },
   "outputs": [],
   "source": []
  },
  {
   "cell_type": "code",
   "execution_count": null,
   "id": "e4feb3d5",
   "metadata": {
    "hidden": true
   },
   "outputs": [],
   "source": []
  },
  {
   "cell_type": "code",
   "execution_count": null,
   "id": "17869d3b",
   "metadata": {
    "hidden": true
   },
   "outputs": [],
   "source": []
  },
  {
   "cell_type": "code",
   "execution_count": null,
   "id": "98fd6a9c",
   "metadata": {
    "hidden": true
   },
   "outputs": [],
   "source": []
  },
  {
   "cell_type": "code",
   "execution_count": null,
   "id": "3bb15dd1",
   "metadata": {
    "hidden": true
   },
   "outputs": [],
   "source": []
  },
  {
   "cell_type": "code",
   "execution_count": null,
   "id": "1225756c",
   "metadata": {
    "hidden": true
   },
   "outputs": [],
   "source": []
  },
  {
   "cell_type": "code",
   "execution_count": null,
   "id": "18cc7b54",
   "metadata": {
    "hidden": true
   },
   "outputs": [],
   "source": []
  },
  {
   "cell_type": "code",
   "execution_count": null,
   "id": "6f7d2d93",
   "metadata": {
    "hidden": true
   },
   "outputs": [],
   "source": []
  },
  {
   "cell_type": "code",
   "execution_count": null,
   "id": "ef9cdd81",
   "metadata": {
    "hidden": true
   },
   "outputs": [],
   "source": []
  },
  {
   "cell_type": "code",
   "execution_count": null,
   "id": "495f0d49",
   "metadata": {
    "hidden": true
   },
   "outputs": [],
   "source": []
  }
 ],
 "metadata": {
  "kernelspec": {
   "display_name": "Python (learn-env)",
   "language": "python",
   "name": "learn-env"
  },
  "language_info": {
   "codemirror_mode": {
    "name": "ipython",
    "version": 3
   },
   "file_extension": ".py",
   "mimetype": "text/x-python",
   "name": "python",
   "nbconvert_exporter": "python",
   "pygments_lexer": "ipython3",
   "version": "3.8.8"
  },
  "toc": {
   "base_numbering": 1,
   "nav_menu": {},
   "number_sections": true,
   "sideBar": true,
   "skip_h1_title": false,
   "title_cell": "Table of Contents",
   "title_sidebar": "Contents",
   "toc_cell": false,
   "toc_position": {
    "height": "calc(100% - 180px)",
    "left": "10px",
    "top": "150px",
    "width": "345px"
   },
   "toc_section_display": true,
   "toc_window_display": true
  }
 },
 "nbformat": 4,
 "nbformat_minor": 5
}
